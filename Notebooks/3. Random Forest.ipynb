{
 "cells": [
  {
   "cell_type": "code",
   "execution_count": null,
   "metadata": {},
   "outputs": [],
   "source": [
    "!python -VV"
   ]
  },
  {
   "cell_type": "code",
   "execution_count": 4,
   "metadata": {
    "colab": {
     "base_uri": "https://localhost:8080/"
    },
    "executionInfo": {
     "elapsed": 5623,
     "status": "ok",
     "timestamp": 1637483340500,
     "user": {
      "displayName": "xin wei teng",
      "photoUrl": "https://lh3.googleusercontent.com/a/default-user=s64",
      "userId": "04864680443162201318"
     },
     "user_tz": -480
    },
    "id": "qv2_Ij_Xcqvt",
    "outputId": "f584e3d7-8c43-4689-c7da-9d87f9553e46"
   },
   "outputs": [],
   "source": [
    "import pandas as pd\n",
    "from sklearn.feature_extraction.text import TfidfVectorizer\n",
    "from sklearn.model_selection import train_test_split\n",
    "from sklearn.linear_model import LogisticRegression\n",
    "from sklearn.metrics import confusion_matrix\n",
    "from sklearn.metrics import roc_auc_score\n",
    "from sklearn.metrics import f1_score\n",
    "import numpy as np\n",
    "from sklearn.model_selection import GridSearchCV,RandomizedSearchCV,train_test_split\n",
    "from sklearn.ensemble import RandomForestClassifier\n",
    "from sklearn.metrics import accuracy_score,f1_score,precision_score,roc_auc_score,recall_score,confusion_matrix\n"
   ]
  },
  {
   "cell_type": "code",
   "execution_count": null,
   "metadata": {
    "executionInfo": {
     "elapsed": 3805,
     "status": "ok",
     "timestamp": 1637483344300,
     "user": {
      "displayName": "xin wei teng",
      "photoUrl": "https://lh3.googleusercontent.com/a/default-user=s64",
      "userId": "04864680443162201318"
     },
     "user_tz": -480
    },
    "id": "g4ex3roOzDLh"
   },
   "outputs": [],
   "source": [
    "# # Code to read csv file into Colaboratory:\n",
    "# !pip install -U -q PyDrive\n",
    "# from pydrive.auth import GoogleAuth\n",
    "# from pydrive.drive import GoogleDrive\n",
    "# from google.colab import auth\n",
    "# from oauth2client.client import GoogleCredentials\n",
    "# # Authenticate and create the PyDrive client.\n",
    "# auth.authenticate_user()\n",
    "# gauth = GoogleAuth()\n",
    "# gauth.credentials = GoogleCredentials.get_application_default()\n",
    "# drive = GoogleDrive(gauth)"
   ]
  },
  {
   "cell_type": "code",
   "execution_count": null,
   "metadata": {
    "executionInfo": {
     "elapsed": 125806,
     "status": "ok",
     "timestamp": 1637483470101,
     "user": {
      "displayName": "xin wei teng",
      "photoUrl": "https://lh3.googleusercontent.com/a/default-user=s64",
      "userId": "04864680443162201318"
     },
     "user_tz": -480
    },
    "id": "xsVwX6oazVB8"
   },
   "outputs": [],
   "source": [
    "# id_train = '1KS3lICblsyrxxuJ0giEoeG57-3p3yPng'\n",
    "# downloaded_train = drive.CreateFile({'id':id_train}) \n",
    "# downloaded_train.GetContentFile('norm_train_data') \n",
    "# 2mins"
   ]
  },
  {
   "cell_type": "code",
   "execution_count": null,
   "metadata": {
    "executionInfo": {
     "elapsed": 30894,
     "status": "ok",
     "timestamp": 1637483500971,
     "user": {
      "displayName": "xin wei teng",
      "photoUrl": "https://lh3.googleusercontent.com/a/default-user=s64",
      "userId": "04864680443162201318"
     },
     "user_tz": -480
    },
    "id": "EdG-C2UbzVD-"
   },
   "outputs": [],
   "source": [
    "# id_test = '18YCc7R_5kDn_rxovL06ekCGIhO_U15Ty'\n",
    "# downloaded_test = drive.CreateFile({'id':id_test}) \n",
    "# downloaded_test.GetContentFile('norm_test_data')  \n",
    "# 38sec"
   ]
  },
  {
   "cell_type": "code",
   "execution_count": null,
   "metadata": {
    "executionInfo": {
     "elapsed": 15019,
     "status": "ok",
     "timestamp": 1637483515972,
     "user": {
      "displayName": "xin wei teng",
      "photoUrl": "https://lh3.googleusercontent.com/a/default-user=s64",
      "userId": "04864680443162201318"
     },
     "user_tz": -480
    },
    "id": "CxQ4RGESAl1L"
   },
   "outputs": [],
   "source": [
    "# with open(\"norm_train_data\", \"rb\") as fh_train:\n",
    "#   train_data = pickle.load(fh_train)\n",
    "# with open(\"norm_test_data\", \"rb\") as fh_test:\n",
    "#   test_data = pickle.load(fh_test)"
   ]
  },
  {
   "cell_type": "code",
   "execution_count": 5,
   "metadata": {},
   "outputs": [],
   "source": [
    "train_data = pd.read_pickle(\"norm_train_data.uu\")\n",
    "test_data = pd.read_pickle(\"norm_test_data.uu\")"
   ]
  },
  {
   "cell_type": "code",
   "execution_count": 6,
   "metadata": {
    "executionInfo": {
     "elapsed": 26,
     "status": "ok",
     "timestamp": 1637483515973,
     "user": {
      "displayName": "xin wei teng",
      "photoUrl": "https://lh3.googleusercontent.com/a/default-user=s64",
      "userId": "04864680443162201318"
     },
     "user_tz": -480
    },
    "id": "w6pqn-2h7ElV"
   },
   "outputs": [],
   "source": [
    "def metrics(test_data, prediction):\n",
    "  cm = pd.DataFrame(confusion_matrix(test_data, prediction))\n",
    "  cm.columns = ['Predicted Y=0','Predicted Y=1']\n",
    "  cm.index = ['True Y=0','True Y=1']\n",
    "  display(cm)\n",
    "\n",
    "  accuracy = (cm.iloc[0,0]+cm.iloc[1,1])/(cm.iloc[0,0]+cm.iloc[1,1]+cm.iloc[0,1]+cm.iloc[1,0])\n",
    "  print('Accuracy: '+str(accuracy))\n",
    "\n",
    "  # Possible ways to further improve accuracy is to try adjusting the level of significance.\n",
    "\n",
    "  # Calculate Sensitivity (true positive rate)\n",
    "  sensitivity = cm.iloc[1, 1]/(cm.iloc[1, 1] + cm.iloc[1, 0])\n",
    "  print('Sensitivity: '+ str(sensitivity))\n",
    "\n",
    "  # Calculate Specificity (true negative rate)\n",
    "  specificity = cm.iloc[0, 0]/(cm.iloc[0, 0] + cm.iloc[0, 1])\n",
    "  print('Specificity: '+str(specificity))\n",
    "\n",
    "  #Precision\n",
    "  precision = cm.iloc[1,1]/(cm.iloc[1,1]+cm.iloc[0,1])\n",
    "  print('Precision: '+str(precision))\n",
    "\n",
    "  # AUC\n",
    "  print('ROC-AUC:',roc_auc_score(test_data, prediction))\n",
    "\n",
    "  #F1 Score\n",
    "  print(\"F1 score:\", round(f1_score(test_data, prediction), 4))"
   ]
  },
  {
   "cell_type": "markdown",
   "metadata": {
    "id": "ZyiFuPo763y-"
   },
   "source": [
    "# Process data"
   ]
  },
  {
   "cell_type": "code",
   "execution_count": null,
   "metadata": {
    "colab": {
     "base_uri": "https://localhost:8080/"
    },
    "executionInfo": {
     "elapsed": 29,
     "status": "ok",
     "timestamp": 1637468783038,
     "user": {
      "displayName": "xin wei teng",
      "photoUrl": "https://lh3.googleusercontent.com/a/default-user=s64",
      "userId": "04864680443162201318"
     },
     "user_tz": -480
    },
    "id": "SpqlubYylW-l",
    "outputId": "4f0601df-18d5-4be8-8270-6e9858b1a693"
   },
   "outputs": [],
   "source": [
    "print(train_data.shape)\n",
    "print(test_data.shape)"
   ]
  },
  {
   "cell_type": "code",
   "execution_count": null,
   "metadata": {
    "colab": {
     "base_uri": "https://localhost:8080/"
    },
    "executionInfo": {
     "elapsed": 23,
     "status": "ok",
     "timestamp": 1637468783039,
     "user": {
      "displayName": "xin wei teng",
      "photoUrl": "https://lh3.googleusercontent.com/a/default-user=s64",
      "userId": "04864680443162201318"
     },
     "user_tz": -480
    },
    "id": "gCU8hoarjdYi",
    "outputId": "4bf27207-5c74-43a9-c220-5ee44df2b485"
   },
   "outputs": [],
   "source": [
    "train_data.columns"
   ]
  },
  {
   "cell_type": "code",
   "execution_count": null,
   "metadata": {
    "colab": {
     "base_uri": "https://localhost:8080/"
    },
    "executionInfo": {
     "elapsed": 22,
     "status": "ok",
     "timestamp": 1637468783040,
     "user": {
      "displayName": "xin wei teng",
      "photoUrl": "https://lh3.googleusercontent.com/a/default-user=s64",
      "userId": "04864680443162201318"
     },
     "user_tz": -480
    },
    "id": "0O1Gkgntjgcu",
    "outputId": "8727b24b-9830-4d6d-d4bb-54f1ef517f7a"
   },
   "outputs": [],
   "source": [
    "test_data.columns"
   ]
  },
  {
   "cell_type": "code",
   "execution_count": null,
   "metadata": {
    "colab": {
     "base_uri": "https://localhost:8080/"
    },
    "executionInfo": {
     "elapsed": 1077,
     "status": "ok",
     "timestamp": 1637468784098,
     "user": {
      "displayName": "xin wei teng",
      "photoUrl": "https://lh3.googleusercontent.com/a/default-user=s64",
      "userId": "04864680443162201318"
     },
     "user_tz": -480
    },
    "id": "klmuOb52jOe_",
    "outputId": "ff2ca65c-a062-4668-f093-bd8ed836d7f7"
   },
   "outputs": [],
   "source": [
    "print(train_data.isnull().values.any())\n",
    "print(test_data.isnull().values.any())"
   ]
  },
  {
   "cell_type": "code",
   "execution_count": 8,
   "metadata": {
    "executionInfo": {
     "elapsed": 767,
     "status": "ok",
     "timestamp": 1637483517786,
     "user": {
      "displayName": "xin wei teng",
      "photoUrl": "https://lh3.googleusercontent.com/a/default-user=s64",
      "userId": "04864680443162201318"
     },
     "user_tz": -480
    },
    "id": "ZfD1bYZJjWm0"
   },
   "outputs": [],
   "source": [
    "train_data.drop(columns=['parent_comment_sentiment'], inplace = True)"
   ]
  },
  {
   "cell_type": "code",
   "execution_count": null,
   "metadata": {
    "executionInfo": {
     "elapsed": 4,
     "status": "ok",
     "timestamp": 1637468784600,
     "user": {
      "displayName": "xin wei teng",
      "photoUrl": "https://lh3.googleusercontent.com/a/default-user=s64",
      "userId": "04864680443162201318"
     },
     "user_tz": -480
    },
    "id": "9bR7Yv7N7sUM",
    "scrolled": false
   },
   "outputs": [],
   "source": [
    "train_data.head()"
   ]
  },
  {
   "cell_type": "code",
   "execution_count": 7,
   "metadata": {},
   "outputs": [],
   "source": [
    "def sentiment(x):\n",
    "    if x == 'neu':\n",
    "        return 0\n",
    "    elif x == 'pos':\n",
    "        return 1\n",
    "    elif x == 'neg': \n",
    "        return -1\n",
    "\n",
    "train_data['comment_sentiment'] = train_data['comment_sentiment'].apply(sentiment)\n",
    "test_data['comment_sentiment'] = test_data['comment_sentiment'].apply(sentiment)"
   ]
  },
  {
   "cell_type": "code",
   "execution_count": 40,
   "metadata": {
    "scrolled": false
   },
   "outputs": [
    {
     "data": {
      "text/html": [
       "<div>\n",
       "<style scoped>\n",
       "    .dataframe tbody tr th:only-of-type {\n",
       "        vertical-align: middle;\n",
       "    }\n",
       "\n",
       "    .dataframe tbody tr th {\n",
       "        vertical-align: top;\n",
       "    }\n",
       "\n",
       "    .dataframe thead th {\n",
       "        text-align: right;\n",
       "    }\n",
       "</style>\n",
       "<table border=\"1\" class=\"dataframe\">\n",
       "  <thead>\n",
       "    <tr style=\"text-align: right;\">\n",
       "      <th></th>\n",
       "      <th>index</th>\n",
       "      <th>label</th>\n",
       "      <th>comment</th>\n",
       "      <th>author</th>\n",
       "      <th>subreddit</th>\n",
       "      <th>score</th>\n",
       "      <th>ups</th>\n",
       "      <th>downs</th>\n",
       "      <th>date</th>\n",
       "      <th>created_utc</th>\n",
       "      <th>...</th>\n",
       "      <th>clean_parent_comment</th>\n",
       "      <th>lemmatized_clean_comment</th>\n",
       "      <th>clean_lemmatized_parent_comment</th>\n",
       "      <th>vectorized_comment</th>\n",
       "      <th>vectorized_clean_comment</th>\n",
       "      <th>vectorized_parent</th>\n",
       "      <th>vectorized_clean_parent</th>\n",
       "      <th>cosine_similarity_dirty_comments</th>\n",
       "      <th>cosine_similarity_clean_comments</th>\n",
       "      <th>comment_sentiment</th>\n",
       "    </tr>\n",
       "  </thead>\n",
       "  <tbody>\n",
       "    <tr>\n",
       "      <th>0</th>\n",
       "      <td>417033</td>\n",
       "      <td>0</td>\n",
       "      <td>But it could mean a loss</td>\n",
       "      <td>warguy3440</td>\n",
       "      <td>GreenBayPackers</td>\n",
       "      <td>1.0</td>\n",
       "      <td>1.0</td>\n",
       "      <td>0.0</td>\n",
       "      <td>2015-11</td>\n",
       "      <td>2015-02-11 03:44:00</td>\n",
       "      <td>...</td>\n",
       "      <td>We need to take some shots down the field Bein...</td>\n",
       "      <td>But could mean loss</td>\n",
       "      <td>We need take shot field Being way fuck careful...</td>\n",
       "      <td>[-0.23815727, 0.0650364, 0.274105, 0.47422692,...</td>\n",
       "      <td>[-0.22465198, -0.08523826, 0.22933374, 0.56708...</td>\n",
       "      <td>[0.4913653, -0.86889875, 0.6910116, 0.8758221,...</td>\n",
       "      <td>[0.62158334, -0.9648072, 0.6869791, 1.2267407,...</td>\n",
       "      <td>0.538655</td>\n",
       "      <td>0.552133</td>\n",
       "      <td>-1</td>\n",
       "    </tr>\n",
       "    <tr>\n",
       "      <th>1</th>\n",
       "      <td>59081</td>\n",
       "      <td>0</td>\n",
       "      <td>Donald the reality TV star does care about TV ...</td>\n",
       "      <td>rk119</td>\n",
       "      <td>politics</td>\n",
       "      <td>1.0</td>\n",
       "      <td>-1.0</td>\n",
       "      <td>-1.0</td>\n",
       "      <td>2016-10</td>\n",
       "      <td>2016-10-21 15:51:00</td>\n",
       "      <td>...</td>\n",
       "      <td>About 71 million watch final presidential deba...</td>\n",
       "      <td>Donald reality TV star care TV rating</td>\n",
       "      <td>About 71 million watch final presidential deba...</td>\n",
       "      <td>[-0.06878692, 0.64647627, -0.0010952452, 0.650...</td>\n",
       "      <td>[-0.11144994, 0.4386334, -0.11279607, 0.488941...</td>\n",
       "      <td>[0.041787196, -0.3763887, -0.014451511, 0.9660...</td>\n",
       "      <td>[-0.065756515, -0.22653322, -0.20638588, 0.847...</td>\n",
       "      <td>0.582335</td>\n",
       "      <td>0.579743</td>\n",
       "      <td>1</td>\n",
       "    </tr>\n",
       "    <tr>\n",
       "      <th>2</th>\n",
       "      <td>5664</td>\n",
       "      <td>1</td>\n",
       "      <td>me irl</td>\n",
       "      <td>PixelPickaxe</td>\n",
       "      <td>Art</td>\n",
       "      <td>1.0</td>\n",
       "      <td>-1.0</td>\n",
       "      <td>-1.0</td>\n",
       "      <td>2016-11</td>\n",
       "      <td>2016-11-27 18:34:00</td>\n",
       "      <td>...</td>\n",
       "      <td>How much you want to bet that the artist was m...</td>\n",
       "      <td>irl</td>\n",
       "      <td>How much want bet artist make regular tiger fu...</td>\n",
       "      <td>[-0.10693383, 0.044041224, 0.08560472, 0.07766...</td>\n",
       "      <td>[-0.012015545, 0.13237536, 0.031014236, 0.1258...</td>\n",
       "      <td>[0.3451644, -0.49838397, 0.24964134, 0.5616463...</td>\n",
       "      <td>[0.34551588, -0.63334495, 0.33977893, 0.545531...</td>\n",
       "      <td>0.515965</td>\n",
       "      <td>0.510553</td>\n",
       "      <td>0</td>\n",
       "    </tr>\n",
       "    <tr>\n",
       "      <th>3</th>\n",
       "      <td>366838</td>\n",
       "      <td>1</td>\n",
       "      <td>Can't have a discussion on one without the oth...</td>\n",
       "      <td>iownakeytar</td>\n",
       "      <td>badwomensanatomy</td>\n",
       "      <td>55.0</td>\n",
       "      <td>55.0</td>\n",
       "      <td>0.0</td>\n",
       "      <td>2016-03</td>\n",
       "      <td>2016-03-28 16:33:00</td>\n",
       "      <td>...</td>\n",
       "      <td>And of course there are the what about circumc...</td>\n",
       "      <td>Cant discussion one without right</td>\n",
       "      <td>And course circumcision assholes cant thing</td>\n",
       "      <td>[-0.24483381, -0.35850817, 0.5864438, -0.03253...</td>\n",
       "      <td>[-0.54035413, -0.044480685, 0.5084003, 0.08941...</td>\n",
       "      <td>[-0.2357376, -0.49858338, -0.20146894, 0.44658...</td>\n",
       "      <td>[-0.3542063, -0.47738168, -0.24149749, 0.32565...</td>\n",
       "      <td>0.533188</td>\n",
       "      <td>0.423121</td>\n",
       "      <td>0</td>\n",
       "    </tr>\n",
       "    <tr>\n",
       "      <th>4</th>\n",
       "      <td>907940</td>\n",
       "      <td>1</td>\n",
       "      <td>That dude's friend's life is nowhere near as i...</td>\n",
       "      <td>HerkDerpner</td>\n",
       "      <td>rage</td>\n",
       "      <td>1.0</td>\n",
       "      <td>1.0</td>\n",
       "      <td>0.0</td>\n",
       "      <td>2013-03</td>\n",
       "      <td>2013-03-26 02:12:00</td>\n",
       "      <td>...</td>\n",
       "      <td>Maybe he found out that one of his friends lik...</td>\n",
       "      <td>That dudes friend life nowhere near important ...</td>\n",
       "      <td>Maybe find one friend like He doesnt want emba...</td>\n",
       "      <td>[-0.16459303, 0.44265932, 0.76053095, 0.579429...</td>\n",
       "      <td>[-0.3523571, -0.032461423, 0.2875078, 0.775067...</td>\n",
       "      <td>[-0.42899415, 0.1544112, 1.1739204, 1.6521745,...</td>\n",
       "      <td>[-0.54717034, 0.40431726, 1.1967899, 1.6469092...</td>\n",
       "      <td>0.496283</td>\n",
       "      <td>0.471443</td>\n",
       "      <td>-1</td>\n",
       "    </tr>\n",
       "  </tbody>\n",
       "</table>\n",
       "<p>5 rows × 35 columns</p>\n",
       "</div>"
      ],
      "text/plain": [
       "    index  label                                            comment  \\\n",
       "0  417033      0                           But it could mean a loss   \n",
       "1   59081      0  Donald the reality TV star does care about TV ...   \n",
       "2    5664      1                                             me irl   \n",
       "3  366838      1  Can't have a discussion on one without the oth...   \n",
       "4  907940      1  That dude's friend's life is nowhere near as i...   \n",
       "\n",
       "         author         subreddit  score   ups  downs     date  \\\n",
       "0    warguy3440   GreenBayPackers    1.0   1.0    0.0  2015-11   \n",
       "1         rk119          politics    1.0  -1.0   -1.0  2016-10   \n",
       "2  PixelPickaxe               Art    1.0  -1.0   -1.0  2016-11   \n",
       "3   iownakeytar  badwomensanatomy   55.0  55.0    0.0  2016-03   \n",
       "4   HerkDerpner              rage    1.0   1.0    0.0  2013-03   \n",
       "\n",
       "          created_utc  ...                               clean_parent_comment  \\\n",
       "0 2015-02-11 03:44:00  ...  We need to take some shots down the field Bein...   \n",
       "1 2016-10-21 15:51:00  ...  About 71 million watch final presidential deba...   \n",
       "2 2016-11-27 18:34:00  ...  How much you want to bet that the artist was m...   \n",
       "3 2016-03-28 16:33:00  ...  And of course there are the what about circumc...   \n",
       "4 2013-03-26 02:12:00  ...  Maybe he found out that one of his friends lik...   \n",
       "\n",
       "                            lemmatized_clean_comment  \\\n",
       "0                                But could mean loss   \n",
       "1              Donald reality TV star care TV rating   \n",
       "2                                                irl   \n",
       "3                  Cant discussion one without right   \n",
       "4  That dudes friend life nowhere near important ...   \n",
       "\n",
       "                     clean_lemmatized_parent_comment  \\\n",
       "0  We need take shot field Being way fuck careful...   \n",
       "1  About 71 million watch final presidential deba...   \n",
       "2  How much want bet artist make regular tiger fu...   \n",
       "3        And course circumcision assholes cant thing   \n",
       "4  Maybe find one friend like He doesnt want emba...   \n",
       "\n",
       "                                  vectorized_comment  \\\n",
       "0  [-0.23815727, 0.0650364, 0.274105, 0.47422692,...   \n",
       "1  [-0.06878692, 0.64647627, -0.0010952452, 0.650...   \n",
       "2  [-0.10693383, 0.044041224, 0.08560472, 0.07766...   \n",
       "3  [-0.24483381, -0.35850817, 0.5864438, -0.03253...   \n",
       "4  [-0.16459303, 0.44265932, 0.76053095, 0.579429...   \n",
       "\n",
       "                            vectorized_clean_comment  \\\n",
       "0  [-0.22465198, -0.08523826, 0.22933374, 0.56708...   \n",
       "1  [-0.11144994, 0.4386334, -0.11279607, 0.488941...   \n",
       "2  [-0.012015545, 0.13237536, 0.031014236, 0.1258...   \n",
       "3  [-0.54035413, -0.044480685, 0.5084003, 0.08941...   \n",
       "4  [-0.3523571, -0.032461423, 0.2875078, 0.775067...   \n",
       "\n",
       "                                   vectorized_parent  \\\n",
       "0  [0.4913653, -0.86889875, 0.6910116, 0.8758221,...   \n",
       "1  [0.041787196, -0.3763887, -0.014451511, 0.9660...   \n",
       "2  [0.3451644, -0.49838397, 0.24964134, 0.5616463...   \n",
       "3  [-0.2357376, -0.49858338, -0.20146894, 0.44658...   \n",
       "4  [-0.42899415, 0.1544112, 1.1739204, 1.6521745,...   \n",
       "\n",
       "                             vectorized_clean_parent  \\\n",
       "0  [0.62158334, -0.9648072, 0.6869791, 1.2267407,...   \n",
       "1  [-0.065756515, -0.22653322, -0.20638588, 0.847...   \n",
       "2  [0.34551588, -0.63334495, 0.33977893, 0.545531...   \n",
       "3  [-0.3542063, -0.47738168, -0.24149749, 0.32565...   \n",
       "4  [-0.54717034, 0.40431726, 1.1967899, 1.6469092...   \n",
       "\n",
       "   cosine_similarity_dirty_comments  cosine_similarity_clean_comments  \\\n",
       "0                          0.538655                          0.552133   \n",
       "1                          0.582335                          0.579743   \n",
       "2                          0.515965                          0.510553   \n",
       "3                          0.533188                          0.423121   \n",
       "4                          0.496283                          0.471443   \n",
       "\n",
       "   comment_sentiment  \n",
       "0                 -1  \n",
       "1                  1  \n",
       "2                  0  \n",
       "3                  0  \n",
       "4                 -1  \n",
       "\n",
       "[5 rows x 35 columns]"
      ]
     },
     "execution_count": 40,
     "metadata": {},
     "output_type": "execute_result"
    }
   ],
   "source": [
    "train_data.head()"
   ]
  },
  {
   "cell_type": "code",
   "execution_count": null,
   "metadata": {},
   "outputs": [],
   "source": [
    "test_data.head()"
   ]
  },
  {
   "cell_type": "code",
   "execution_count": null,
   "metadata": {
    "scrolled": true
   },
   "outputs": [],
   "source": [
    "print(test_data.shape)\n",
    "print(train_data.shape)"
   ]
  },
  {
   "cell_type": "markdown",
   "metadata": {
    "id": "MbTD0oTFlv_B"
   },
   "source": [
    "# Engineered features"
   ]
  },
  {
   "cell_type": "code",
   "execution_count": null,
   "metadata": {
    "executionInfo": {
     "elapsed": 4,
     "status": "ok",
     "timestamp": 1637468784600,
     "user": {
      "displayName": "xin wei teng",
      "photoUrl": "https://lh3.googleusercontent.com/a/default-user=s64",
      "userId": "04864680443162201318"
     },
     "user_tz": -480
    },
    "id": "BFsF8cEc3cye"
   },
   "outputs": [],
   "source": []
  },
  {
   "cell_type": "code",
   "execution_count": null,
   "metadata": {
    "executionInfo": {
     "elapsed": 5,
     "status": "ok",
     "timestamp": 1637468784601,
     "user": {
      "displayName": "xin wei teng",
      "photoUrl": "https://lh3.googleusercontent.com/a/default-user=s64",
      "userId": "04864680443162201318"
     },
     "user_tz": -480
    },
    "id": "oL_-eouT4wWO"
   },
   "outputs": [],
   "source": [
    "X_train = train_data[['cosine_similarity_dirty_comments','cosine_similarity_clean_comments','word_count','punctuation_count','has_repeated','exclaim_count','qns_mark_count','ellipses_mark_count','interjection_count','laughter_words_count','capitalized_word_count','partial_capital_word_count','emoticon_count']]\n",
    "Y_train = train_data['label']\n",
    "\n",
    "X_test = test_data[['cosine_similarity_dirty_comments','cosine_similarity_clean_comments','word_count','punctuation_count','has_repeated','exclaim_count','qns_mark_count','ellipses_mark_count','interjection_count','laughter_words_count','capitalized_word_count','partial_capital_word_count','emoticon_count']]\n",
    "Y_test = test_data['label']"
   ]
  },
  {
   "cell_type": "code",
   "execution_count": null,
   "metadata": {
    "colab": {
     "base_uri": "https://localhost:8080/",
     "height": 0
    },
    "executionInfo": {
     "elapsed": 20497,
     "status": "error",
     "timestamp": 1637468805093,
     "user": {
      "displayName": "xin wei teng",
      "photoUrl": "https://lh3.googleusercontent.com/a/default-user=s64",
      "userId": "04864680443162201318"
     },
     "user_tz": -480
    },
    "id": "s8tjgrxpqiG7",
    "outputId": "762d8582-40ea-41f5-fedb-a424d7dd777a"
   },
   "outputs": [],
   "source": [
    "rfc = RandomForestClassifier(max_depth=32)\n",
    "\n",
    "rfc.fit(X_train, Y_train)"
   ]
  },
  {
   "cell_type": "code",
   "execution_count": null,
   "metadata": {
    "executionInfo": {
     "elapsed": 27,
     "status": "aborted",
     "timestamp": 1637468804764,
     "user": {
      "displayName": "xin wei teng",
      "photoUrl": "https://lh3.googleusercontent.com/a/default-user=s64",
      "userId": "04864680443162201318"
     },
     "user_tz": -480
    },
    "id": "Tjwq3z0bnZzg"
   },
   "outputs": [],
   "source": [
    "Y_pred = rfc.predict(X_test)"
   ]
  },
  {
   "cell_type": "code",
   "execution_count": null,
   "metadata": {
    "executionInfo": {
     "elapsed": 28,
     "status": "aborted",
     "timestamp": 1637468804766,
     "user": {
      "displayName": "xin wei teng",
      "photoUrl": "https://lh3.googleusercontent.com/a/default-user=s64",
      "userId": "04864680443162201318"
     },
     "user_tz": -480
    },
    "id": "CTNLxrdHyspI"
   },
   "outputs": [],
   "source": [
    "Y_test = np.asarray(Y_test.astype(int))"
   ]
  },
  {
   "cell_type": "code",
   "execution_count": null,
   "metadata": {
    "executionInfo": {
     "elapsed": 27,
     "status": "aborted",
     "timestamp": 1637468804767,
     "user": {
      "displayName": "xin wei teng",
      "photoUrl": "https://lh3.googleusercontent.com/a/default-user=s64",
      "userId": "04864680443162201318"
     },
     "user_tz": -480
    },
    "id": "uEUSD_D1x0l1"
   },
   "outputs": [],
   "source": [
    "metrics(Y_test,Y_pred)"
   ]
  },
  {
   "cell_type": "markdown",
   "metadata": {
    "id": "gCd_zvdr6u-H"
   },
   "source": [
    "# Doc2Vec \n"
   ]
  },
  {
   "cell_type": "code",
   "execution_count": 9,
   "metadata": {
    "executionInfo": {
     "elapsed": 4,
     "status": "ok",
     "timestamp": 1637476851940,
     "user": {
      "displayName": "xin wei teng",
      "photoUrl": "https://lh3.googleusercontent.com/a/default-user=s64",
      "userId": "04864680443162201318"
     },
     "user_tz": -480
    },
    "id": "vjHFIWEA6YxY"
   },
   "outputs": [],
   "source": [
    "# X_train = train_data[['vectorized_clean_comment']]\n",
    "Y_train = train_data['label']\n",
    "\n",
    "# X_test = test_data[['vectorized_clean_comment']]\n",
    "Y_test = test_data['label']"
   ]
  },
  {
   "cell_type": "code",
   "execution_count": null,
   "metadata": {
    "executionInfo": {
     "elapsed": 27,
     "status": "aborted",
     "timestamp": 1637468804768,
     "user": {
      "displayName": "xin wei teng",
      "photoUrl": "https://lh3.googleusercontent.com/a/default-user=s64",
      "userId": "04864680443162201318"
     },
     "user_tz": -480
    },
    "id": "iWIT5nHIAvTh"
   },
   "outputs": [],
   "source": [
    "print(type(Y_train[0]))\n",
    "print(type(Y_test[0]))"
   ]
  },
  {
   "cell_type": "code",
   "execution_count": null,
   "metadata": {
    "executionInfo": {
     "elapsed": 315,
     "status": "ok",
     "timestamp": 1637476119306,
     "user": {
      "displayName": "xin wei teng",
      "photoUrl": "https://lh3.googleusercontent.com/a/default-user=s64",
      "userId": "04864680443162201318"
     },
     "user_tz": -480
    },
    "id": "hf5Cp_rs_maN"
   },
   "outputs": [],
   "source": [
    "# print(type(X_train.iloc[0,:]))\n",
    "# X_train.iloc[0,:][0]"
   ]
  },
  {
   "cell_type": "code",
   "execution_count": null,
   "metadata": {
    "executionInfo": {
     "elapsed": 306,
     "status": "ok",
     "timestamp": 1637476125100,
     "user": {
      "displayName": "xin wei teng",
      "photoUrl": "https://lh3.googleusercontent.com/a/default-user=s64",
      "userId": "04864680443162201318"
     },
     "user_tz": -480
    },
    "id": "xCI0okH-xlBd"
   },
   "outputs": [],
   "source": [
    "# print(type(X_train['vectorized_clean_comment']))\n",
    "# X_train['vectorized_clean_comment'][0]"
   ]
  },
  {
   "cell_type": "markdown",
   "metadata": {
    "id": "62GvLJ9DGCbR"
   },
   "source": [
    "# Vectorized clean comments"
   ]
  },
  {
   "cell_type": "code",
   "execution_count": null,
   "metadata": {
    "colab": {
     "base_uri": "https://localhost:8080/",
     "height": 311
    },
    "executionInfo": {
     "elapsed": 3150,
     "status": "error",
     "timestamp": 1637478436547,
     "user": {
      "displayName": "xin wei teng",
      "photoUrl": "https://lh3.googleusercontent.com/a/default-user=s64",
      "userId": "04864680443162201318"
     },
     "user_tz": -480
    },
    "id": "WENDsLHwN2F2",
    "outputId": "2693bc81-2d8c-431f-9152-5462068bb056"
   },
   "outputs": [],
   "source": [
    "X_train_columns = pd.DataFrame(train_data['vectorized_clean_comment'].tolist())"
   ]
  },
  {
   "cell_type": "code",
   "execution_count": null,
   "metadata": {
    "executionInfo": {
     "elapsed": 6,
     "status": "aborted",
     "timestamp": 1637478436543,
     "user": {
      "displayName": "xin wei teng",
      "photoUrl": "https://lh3.googleusercontent.com/a/default-user=s64",
      "userId": "04864680443162201318"
     },
     "user_tz": -480
    },
    "id": "4DtJMy_K27lM"
   },
   "outputs": [],
   "source": [
    "X_test_columns = pd.DataFrame(test_data['vectorized_clean_comment'].tolist())"
   ]
  },
  {
   "cell_type": "code",
   "execution_count": null,
   "metadata": {
    "executionInfo": {
     "elapsed": 8,
     "status": "aborted",
     "timestamp": 1637478436545,
     "user": {
      "displayName": "xin wei teng",
      "photoUrl": "https://lh3.googleusercontent.com/a/default-user=s64",
      "userId": "04864680443162201318"
     },
     "user_tz": -480
    },
    "id": "zSPdiL9-6y8O"
   },
   "outputs": [],
   "source": [
    "rfc = RandomForestClassifier(max_depth=5)\n",
    "\n",
    "rfc.fit(X_train_columns, Y_train)"
   ]
  },
  {
   "cell_type": "markdown",
   "metadata": {
    "id": "4UmQdwo82iV2"
   },
   "source": [
    "11mins to fit rfc = RandomForestClassifier(max_depth=5)"
   ]
  },
  {
   "cell_type": "code",
   "execution_count": null,
   "metadata": {
    "executionInfo": {
     "elapsed": 8,
     "status": "aborted",
     "timestamp": 1637478436546,
     "user": {
      "displayName": "xin wei teng",
      "photoUrl": "https://lh3.googleusercontent.com/a/default-user=s64",
      "userId": "04864680443162201318"
     },
     "user_tz": -480
    },
    "id": "42zVvEbh0BOC"
   },
   "outputs": [],
   "source": [
    "Y_pred = rfc.predict(X_test_merged)\n",
    "Y_test = np.asarray(Y_test.astype(int))\n",
    "metrics(Y_test,Y_pred)"
   ]
  },
  {
   "cell_type": "markdown",
   "metadata": {
    "id": "81lx4aNCUNL4"
   },
   "source": [
    "# Vectorized clean comments + engineered features"
   ]
  },
  {
   "cell_type": "code",
   "execution_count": null,
   "metadata": {
    "executionInfo": {
     "elapsed": 793,
     "status": "ok",
     "timestamp": 1637474308267,
     "user": {
      "displayName": "xin wei teng",
      "photoUrl": "https://lh3.googleusercontent.com/a/default-user=s64",
      "userId": "04864680443162201318"
     },
     "user_tz": -480
    },
    "id": "ywQPi1-7Cfep"
   },
   "outputs": [],
   "source": [
    "X_train_columns = pd.DataFrame(train_data['vectorized_clean_comment'].tolist())\n",
    "X_train_merged = X_train_columns.join(train_data[['cosine_similarity_dirty_comments','cosine_similarity_clean_comments','word_count','punctuation_count','has_repeated','exclaim_count','qns_mark_count','ellipses_mark_count','interjection_count','laughter_words_count','capitalized_word_count','partial_capital_word_count','emoticon_count']])"
   ]
  },
  {
   "cell_type": "code",
   "execution_count": null,
   "metadata": {
    "id": "oWIf1ewjPlnR"
   },
   "outputs": [],
   "source": []
  },
  {
   "cell_type": "code",
   "execution_count": null,
   "metadata": {
    "executionInfo": {
     "elapsed": 307,
     "status": "ok",
     "timestamp": 1637475986842,
     "user": {
      "displayName": "xin wei teng",
      "photoUrl": "https://lh3.googleusercontent.com/a/default-user=s64",
      "userId": "04864680443162201318"
     },
     "user_tz": -480
    },
    "id": "UgBuXUwhLFHk"
   },
   "outputs": [],
   "source": [
    "X_test_columns = pd.DataFrame(test_data['vectorized_clean_comment'].tolist())\n",
    "X_test_merged = X_test_columns.join(train_data[['cosine_similarity_dirty_comments','cosine_similarity_clean_comments','word_count','punctuation_count','has_repeated','exclaim_count','qns_mark_count','ellipses_mark_count','interjection_count','laughter_words_count','capitalized_word_count','partial_capital_word_count','emoticon_count']])"
   ]
  },
  {
   "cell_type": "code",
   "execution_count": null,
   "metadata": {
    "id": "IahJbipNFqHv"
   },
   "outputs": [],
   "source": [
    "rfc = RandomForestClassifier(max_depth=5, max_features=\"sqrt\")\n",
    "\n",
    "rfc.fit(X_train_merged, Y_train)"
   ]
  },
  {
   "cell_type": "code",
   "execution_count": null,
   "metadata": {
    "id": "i5Bv3dqUFm1-"
   },
   "outputs": [],
   "source": [
    "Y_pred = rfc.predict(X_test_merged)\n",
    "Y_test = np.asarray(Y_test.astype(int))\n",
    "metrics(Y_test,Y_pred)"
   ]
  },
  {
   "cell_type": "markdown",
   "metadata": {
    "id": "FWv3Ugn2UaCD"
   },
   "source": [
    "# Vectorized dirty comments"
   ]
  },
  {
   "cell_type": "code",
   "execution_count": 52,
   "metadata": {
    "id": "GejLjZ2SUivz"
   },
   "outputs": [],
   "source": [
    "X_train_dirty_comments = pd.DataFrame(train_data['vectorized_comment'].tolist())\n",
    "X_test_dirty_comments = pd.DataFrame(test_data['vectorized_comment'].tolist())"
   ]
  },
  {
   "cell_type": "code",
   "execution_count": null,
   "metadata": {},
   "outputs": [],
   "source": [
    "X_train_dirty_comments"
   ]
  },
  {
   "cell_type": "code",
   "execution_count": 53,
   "metadata": {
    "colab": {
     "base_uri": "https://localhost:8080/"
    },
    "executionInfo": {
     "elapsed": 721831,
     "status": "ok",
     "timestamp": 1637479241461,
     "user": {
      "displayName": "xin wei teng",
      "photoUrl": "https://lh3.googleusercontent.com/a/default-user=s64",
      "userId": "04864680443162201318"
     },
     "user_tz": -480
    },
    "id": "2IhVs0VSUrpT",
    "outputId": "2e46a77d-d66e-495a-f70f-243ffd7f970e"
   },
   "outputs": [
    {
     "data": {
      "text/plain": [
       "RandomForestClassifier(random_state=42)"
      ]
     },
     "execution_count": 53,
     "metadata": {},
     "output_type": "execute_result"
    }
   ],
   "source": [
    "rfc1 = RandomForestClassifier(random_state=42)\n",
    "rfc1.fit(X_train_dirty_comments, Y_train)"
   ]
  },
  {
   "cell_type": "code",
   "execution_count": 56,
   "metadata": {
    "colab": {
     "base_uri": "https://localhost:8080/",
     "height": 0
    },
    "executionInfo": {
     "elapsed": 2337,
     "status": "ok",
     "timestamp": 1637479765269,
     "user": {
      "displayName": "xin wei teng",
      "photoUrl": "https://lh3.googleusercontent.com/a/default-user=s64",
      "userId": "04864680443162201318"
     },
     "user_tz": -480
    },
    "id": "poCO0HCQVLxz",
    "outputId": "da12e569-0630-4104-939b-895507154a1d",
    "scrolled": true
   },
   "outputs": [
    {
     "data": {
      "text/html": [
       "<div>\n",
       "<style scoped>\n",
       "    .dataframe tbody tr th:only-of-type {\n",
       "        vertical-align: middle;\n",
       "    }\n",
       "\n",
       "    .dataframe tbody tr th {\n",
       "        vertical-align: top;\n",
       "    }\n",
       "\n",
       "    .dataframe thead th {\n",
       "        text-align: right;\n",
       "    }\n",
       "</style>\n",
       "<table border=\"1\" class=\"dataframe\">\n",
       "  <thead>\n",
       "    <tr style=\"text-align: right;\">\n",
       "      <th></th>\n",
       "      <th>Predicted Y=0</th>\n",
       "      <th>Predicted Y=1</th>\n",
       "    </tr>\n",
       "  </thead>\n",
       "  <tbody>\n",
       "    <tr>\n",
       "      <th>True Y=0</th>\n",
       "      <td>70822</td>\n",
       "      <td>30133</td>\n",
       "    </tr>\n",
       "    <tr>\n",
       "      <th>True Y=1</th>\n",
       "      <td>42700</td>\n",
       "      <td>58511</td>\n",
       "    </tr>\n",
       "  </tbody>\n",
       "</table>\n",
       "</div>"
      ],
      "text/plain": [
       "          Predicted Y=0  Predicted Y=1\n",
       "True Y=0          70822          30133\n",
       "True Y=1          42700          58511"
      ]
     },
     "metadata": {},
     "output_type": "display_data"
    },
    {
     "name": "stdout",
     "output_type": "stream",
     "text": [
      "Accuracy: 0.6397366520582096\n",
      "Sensitivity: 0.5781090988133701\n",
      "Specificity: 0.7015204794215244\n",
      "Precision: 0.6600672352330671\n",
      "ROC-AUC: 0.6398147891174473\n",
      "F1 score: 0.6164\n"
     ]
    }
   ],
   "source": [
    "Y_pred1 = rfc1.predict(X_test_dirty_comments)\n",
    "Y_test = np.asarray(Y_test.astype(int))\n",
    "\n",
    "metrics(Y_test,Y_pred1)"
   ]
  },
  {
   "cell_type": "code",
   "execution_count": null,
   "metadata": {},
   "outputs": [],
   "source": [
    "Y_pred_df1 = pd.DataFrame(Y_pred1)\n",
    "Y_pred_df1.to_pickle(\"./rf_y_pred1\")"
   ]
  },
  {
   "cell_type": "code",
   "execution_count": 55,
   "metadata": {},
   "outputs": [],
   "source": [
    "np.save(\"./rf_y_pred1\",Y_pred1)"
   ]
  },
  {
   "cell_type": "markdown",
   "metadata": {
    "id": "DatSBgxJLfsc"
   },
   "source": [
    "# Vectorized dirty comments + engineered features"
   ]
  },
  {
   "cell_type": "code",
   "execution_count": 10,
   "metadata": {
    "executionInfo": {
     "elapsed": 43966,
     "status": "ok",
     "timestamp": 1637483561735,
     "user": {
      "displayName": "xin wei teng",
      "photoUrl": "https://lh3.googleusercontent.com/a/default-user=s64",
      "userId": "04864680443162201318"
     },
     "user_tz": -480
    },
    "id": "xRCfjVWALjq8"
   },
   "outputs": [],
   "source": [
    "X_train_dirty_expanded_comments = pd.DataFrame(train_data['vectorized_comment'].tolist())\n",
    "X_train_merged = X_train_dirty_expanded_comments.join(train_data[['cosine_similarity_dirty_comments','word_count','punctuation_count','has_repeated','exclaim_count','qns_mark_count','ellipses_mark_count','interjection_count','laughter_words_count','capitalized_word_count','partial_capital_word_count','emoticon_count','comment_sentiment']])"
   ]
  },
  {
   "cell_type": "code",
   "execution_count": 11,
   "metadata": {
    "executionInfo": {
     "elapsed": 10319,
     "status": "ok",
     "timestamp": 1637483572036,
     "user": {
      "displayName": "xin wei teng",
      "photoUrl": "https://lh3.googleusercontent.com/a/default-user=s64",
      "userId": "04864680443162201318"
     },
     "user_tz": -480
    },
    "id": "zHaMPFy7PuQa"
   },
   "outputs": [],
   "source": [
    "X_test_dirty_expanded_comments = pd.DataFrame(test_data['vectorized_comment'].tolist())\n",
    "X_test_merged = X_test_dirty_expanded_comments.join(test_data[['cosine_similarity_dirty_comments','word_count','punctuation_count','has_repeated','exclaim_count','qns_mark_count','ellipses_mark_count','interjection_count','laughter_words_count','capitalized_word_count','partial_capital_word_count','emoticon_count','comment_sentiment']])"
   ]
  },
  {
   "cell_type": "code",
   "execution_count": 65,
   "metadata": {},
   "outputs": [
    {
     "data": {
      "text/html": [
       "<div>\n",
       "<style scoped>\n",
       "    .dataframe tbody tr th:only-of-type {\n",
       "        vertical-align: middle;\n",
       "    }\n",
       "\n",
       "    .dataframe tbody tr th {\n",
       "        vertical-align: top;\n",
       "    }\n",
       "\n",
       "    .dataframe thead th {\n",
       "        text-align: right;\n",
       "    }\n",
       "</style>\n",
       "<table border=\"1\" class=\"dataframe\">\n",
       "  <thead>\n",
       "    <tr style=\"text-align: right;\">\n",
       "      <th></th>\n",
       "      <th>index</th>\n",
       "      <th>label</th>\n",
       "      <th>comment</th>\n",
       "      <th>author</th>\n",
       "      <th>subreddit</th>\n",
       "      <th>score</th>\n",
       "      <th>ups</th>\n",
       "      <th>downs</th>\n",
       "      <th>date</th>\n",
       "      <th>created_utc</th>\n",
       "      <th>...</th>\n",
       "      <th>has_repeated</th>\n",
       "      <th>exclaim_count</th>\n",
       "      <th>qns_mark_count</th>\n",
       "      <th>ellipses_mark_count</th>\n",
       "      <th>interjection_count</th>\n",
       "      <th>laughter_words_count</th>\n",
       "      <th>capitalized_word_count</th>\n",
       "      <th>partial_capital_word_count</th>\n",
       "      <th>emoticon_count</th>\n",
       "      <th>comment_sentiment</th>\n",
       "    </tr>\n",
       "  </thead>\n",
       "  <tbody>\n",
       "    <tr>\n",
       "      <th>0</th>\n",
       "      <td>794682</td>\n",
       "      <td>1</td>\n",
       "      <td>Racist comments are really rare on the interne...</td>\n",
       "      <td>Targash</td>\n",
       "      <td>news</td>\n",
       "      <td>6.0</td>\n",
       "      <td>6.0</td>\n",
       "      <td>0.0</td>\n",
       "      <td>2014-06</td>\n",
       "      <td>11/6/14 16:02</td>\n",
       "      <td>...</td>\n",
       "      <td>0.0</td>\n",
       "      <td>0.0</td>\n",
       "      <td>0.0</td>\n",
       "      <td>0.0000</td>\n",
       "      <td>0.0</td>\n",
       "      <td>0.0</td>\n",
       "      <td>0.0</td>\n",
       "      <td>0.000000</td>\n",
       "      <td>0.0</td>\n",
       "      <td>-1</td>\n",
       "    </tr>\n",
       "    <tr>\n",
       "      <th>1</th>\n",
       "      <td>1003517</td>\n",
       "      <td>0</td>\n",
       "      <td>yes, if good taste is what a cock doodle shoul...</td>\n",
       "      <td>superfusion1</td>\n",
       "      <td>sex</td>\n",
       "      <td>8.0</td>\n",
       "      <td>8.0</td>\n",
       "      <td>0.0</td>\n",
       "      <td>2011-01</td>\n",
       "      <td>19/1/11 15:32</td>\n",
       "      <td>...</td>\n",
       "      <td>0.0</td>\n",
       "      <td>0.0</td>\n",
       "      <td>0.0</td>\n",
       "      <td>0.0000</td>\n",
       "      <td>0.0</td>\n",
       "      <td>0.0</td>\n",
       "      <td>0.0</td>\n",
       "      <td>0.000000</td>\n",
       "      <td>0.0</td>\n",
       "      <td>1</td>\n",
       "    </tr>\n",
       "    <tr>\n",
       "      <th>2</th>\n",
       "      <td>526207</td>\n",
       "      <td>1</td>\n",
       "      <td>Totally not photoshopped...</td>\n",
       "      <td>RB30DETT</td>\n",
       "      <td>funny</td>\n",
       "      <td>11.0</td>\n",
       "      <td>11.0</td>\n",
       "      <td>0.0</td>\n",
       "      <td>2015-12</td>\n",
       "      <td>11/12/15 17:29</td>\n",
       "      <td>...</td>\n",
       "      <td>0.0</td>\n",
       "      <td>0.0</td>\n",
       "      <td>0.0</td>\n",
       "      <td>0.0625</td>\n",
       "      <td>0.0</td>\n",
       "      <td>0.0</td>\n",
       "      <td>0.0</td>\n",
       "      <td>0.000000</td>\n",
       "      <td>0.0</td>\n",
       "      <td>0</td>\n",
       "    </tr>\n",
       "    <tr>\n",
       "      <th>3</th>\n",
       "      <td>169751</td>\n",
       "      <td>1</td>\n",
       "      <td>No, there's too much sexism in those industrie...</td>\n",
       "      <td>randomcombination102</td>\n",
       "      <td>TumblrInAction</td>\n",
       "      <td>50.0</td>\n",
       "      <td>-1.0</td>\n",
       "      <td>-1.0</td>\n",
       "      <td>2016-12</td>\n",
       "      <td>18/12/16 2:17</td>\n",
       "      <td>...</td>\n",
       "      <td>0.0</td>\n",
       "      <td>0.0</td>\n",
       "      <td>0.0</td>\n",
       "      <td>0.0000</td>\n",
       "      <td>0.0</td>\n",
       "      <td>0.0</td>\n",
       "      <td>0.0</td>\n",
       "      <td>0.000000</td>\n",
       "      <td>0.0</td>\n",
       "      <td>-1</td>\n",
       "    </tr>\n",
       "    <tr>\n",
       "      <th>4</th>\n",
       "      <td>585774</td>\n",
       "      <td>0</td>\n",
       "      <td>Maybe they should take a leaf from the lending...</td>\n",
       "      <td>MemorableYetUnique</td>\n",
       "      <td>unitedkingdom</td>\n",
       "      <td>1.0</td>\n",
       "      <td>1.0</td>\n",
       "      <td>0.0</td>\n",
       "      <td>2015-10</td>\n",
       "      <td>19/10/15 20:15</td>\n",
       "      <td>...</td>\n",
       "      <td>0.0</td>\n",
       "      <td>0.0</td>\n",
       "      <td>0.0</td>\n",
       "      <td>0.0625</td>\n",
       "      <td>0.0</td>\n",
       "      <td>0.0</td>\n",
       "      <td>0.0</td>\n",
       "      <td>0.142857</td>\n",
       "      <td>0.0</td>\n",
       "      <td>0</td>\n",
       "    </tr>\n",
       "  </tbody>\n",
       "</table>\n",
       "<p>5 rows × 35 columns</p>\n",
       "</div>"
      ],
      "text/plain": [
       "     index label                                            comment  \\\n",
       "0   794682     1  Racist comments are really rare on the interne...   \n",
       "1  1003517     0  yes, if good taste is what a cock doodle shoul...   \n",
       "2   526207     1                        Totally not photoshopped...   \n",
       "3   169751     1  No, there's too much sexism in those industrie...   \n",
       "4   585774     0  Maybe they should take a leaf from the lending...   \n",
       "\n",
       "                 author       subreddit  score   ups  downs     date  \\\n",
       "0               Targash            news    6.0   6.0    0.0  2014-06   \n",
       "1          superfusion1             sex    8.0   8.0    0.0  2011-01   \n",
       "2              RB30DETT           funny   11.0  11.0    0.0  2015-12   \n",
       "3  randomcombination102  TumblrInAction   50.0  -1.0   -1.0  2016-12   \n",
       "4    MemorableYetUnique   unitedkingdom    1.0   1.0    0.0  2015-10   \n",
       "\n",
       "      created_utc  ... has_repeated exclaim_count qns_mark_count  \\\n",
       "0   11/6/14 16:02  ...          0.0           0.0            0.0   \n",
       "1   19/1/11 15:32  ...          0.0           0.0            0.0   \n",
       "2  11/12/15 17:29  ...          0.0           0.0            0.0   \n",
       "3   18/12/16 2:17  ...          0.0           0.0            0.0   \n",
       "4  19/10/15 20:15  ...          0.0           0.0            0.0   \n",
       "\n",
       "  ellipses_mark_count interjection_count laughter_words_count  \\\n",
       "0              0.0000                0.0                  0.0   \n",
       "1              0.0000                0.0                  0.0   \n",
       "2              0.0625                0.0                  0.0   \n",
       "3              0.0000                0.0                  0.0   \n",
       "4              0.0625                0.0                  0.0   \n",
       "\n",
       "  capitalized_word_count partial_capital_word_count emoticon_count  \\\n",
       "0                    0.0                   0.000000            0.0   \n",
       "1                    0.0                   0.000000            0.0   \n",
       "2                    0.0                   0.000000            0.0   \n",
       "3                    0.0                   0.000000            0.0   \n",
       "4                    0.0                   0.142857            0.0   \n",
       "\n",
       "  comment_sentiment  \n",
       "0                -1  \n",
       "1                 1  \n",
       "2                 0  \n",
       "3                -1  \n",
       "4                 0  \n",
       "\n",
       "[5 rows x 35 columns]"
      ]
     },
     "execution_count": 65,
     "metadata": {},
     "output_type": "execute_result"
    }
   ],
   "source": [
    "test_data.head()"
   ]
  },
  {
   "cell_type": "code",
   "execution_count": 61,
   "metadata": {
    "scrolled": true
   },
   "outputs": [
    {
     "data": {
      "text/html": [
       "<div>\n",
       "<style scoped>\n",
       "    .dataframe tbody tr th:only-of-type {\n",
       "        vertical-align: middle;\n",
       "    }\n",
       "\n",
       "    .dataframe tbody tr th {\n",
       "        vertical-align: top;\n",
       "    }\n",
       "\n",
       "    .dataframe thead th {\n",
       "        text-align: right;\n",
       "    }\n",
       "</style>\n",
       "<table border=\"1\" class=\"dataframe\">\n",
       "  <thead>\n",
       "    <tr style=\"text-align: right;\">\n",
       "      <th></th>\n",
       "      <th>0</th>\n",
       "      <th>1</th>\n",
       "      <th>2</th>\n",
       "      <th>3</th>\n",
       "      <th>4</th>\n",
       "      <th>5</th>\n",
       "      <th>6</th>\n",
       "      <th>7</th>\n",
       "      <th>8</th>\n",
       "      <th>9</th>\n",
       "      <th>...</th>\n",
       "      <th>has_repeated</th>\n",
       "      <th>exclaim_count</th>\n",
       "      <th>qns_mark_count</th>\n",
       "      <th>ellipses_mark_count</th>\n",
       "      <th>interjection_count</th>\n",
       "      <th>laughter_words_count</th>\n",
       "      <th>capitalized_word_count</th>\n",
       "      <th>partial_capital_word_count</th>\n",
       "      <th>emoticon_count</th>\n",
       "      <th>comment_sentiment</th>\n",
       "    </tr>\n",
       "  </thead>\n",
       "  <tbody>\n",
       "    <tr>\n",
       "      <th>0</th>\n",
       "      <td>-0.226046</td>\n",
       "      <td>-0.541148</td>\n",
       "      <td>-0.595608</td>\n",
       "      <td>1.673260</td>\n",
       "      <td>-0.354240</td>\n",
       "      <td>-0.281175</td>\n",
       "      <td>1.068446</td>\n",
       "      <td>0.134239</td>\n",
       "      <td>-0.850743</td>\n",
       "      <td>1.826261</td>\n",
       "      <td>...</td>\n",
       "      <td>0.0</td>\n",
       "      <td>0.0</td>\n",
       "      <td>0.0</td>\n",
       "      <td>0.0000</td>\n",
       "      <td>0.0</td>\n",
       "      <td>0.0</td>\n",
       "      <td>0.000000</td>\n",
       "      <td>0.000000</td>\n",
       "      <td>0.0</td>\n",
       "      <td>-1</td>\n",
       "    </tr>\n",
       "    <tr>\n",
       "      <th>1</th>\n",
       "      <td>-0.773762</td>\n",
       "      <td>0.477466</td>\n",
       "      <td>0.137423</td>\n",
       "      <td>0.185248</td>\n",
       "      <td>-0.715173</td>\n",
       "      <td>-0.111886</td>\n",
       "      <td>0.751004</td>\n",
       "      <td>0.353527</td>\n",
       "      <td>0.306729</td>\n",
       "      <td>-0.228083</td>\n",
       "      <td>...</td>\n",
       "      <td>0.0</td>\n",
       "      <td>0.0</td>\n",
       "      <td>0.0</td>\n",
       "      <td>0.0000</td>\n",
       "      <td>0.0</td>\n",
       "      <td>0.0</td>\n",
       "      <td>0.000000</td>\n",
       "      <td>0.000000</td>\n",
       "      <td>0.0</td>\n",
       "      <td>1</td>\n",
       "    </tr>\n",
       "    <tr>\n",
       "      <th>2</th>\n",
       "      <td>-0.148992</td>\n",
       "      <td>-0.193661</td>\n",
       "      <td>-0.200846</td>\n",
       "      <td>0.687527</td>\n",
       "      <td>-0.207409</td>\n",
       "      <td>0.046413</td>\n",
       "      <td>-0.015980</td>\n",
       "      <td>-0.109896</td>\n",
       "      <td>-0.030504</td>\n",
       "      <td>0.337357</td>\n",
       "      <td>...</td>\n",
       "      <td>0.0</td>\n",
       "      <td>0.0</td>\n",
       "      <td>0.0</td>\n",
       "      <td>0.0625</td>\n",
       "      <td>0.0</td>\n",
       "      <td>0.0</td>\n",
       "      <td>0.000000</td>\n",
       "      <td>0.000000</td>\n",
       "      <td>0.0</td>\n",
       "      <td>0</td>\n",
       "    </tr>\n",
       "    <tr>\n",
       "      <th>3</th>\n",
       "      <td>0.248653</td>\n",
       "      <td>0.740374</td>\n",
       "      <td>0.054494</td>\n",
       "      <td>0.811682</td>\n",
       "      <td>-0.346354</td>\n",
       "      <td>-0.214473</td>\n",
       "      <td>-0.085453</td>\n",
       "      <td>0.560107</td>\n",
       "      <td>-0.513053</td>\n",
       "      <td>0.618158</td>\n",
       "      <td>...</td>\n",
       "      <td>0.0</td>\n",
       "      <td>0.0</td>\n",
       "      <td>0.0</td>\n",
       "      <td>0.0000</td>\n",
       "      <td>0.0</td>\n",
       "      <td>0.0</td>\n",
       "      <td>0.000000</td>\n",
       "      <td>0.000000</td>\n",
       "      <td>0.0</td>\n",
       "      <td>-1</td>\n",
       "    </tr>\n",
       "    <tr>\n",
       "      <th>4</th>\n",
       "      <td>0.022283</td>\n",
       "      <td>0.008267</td>\n",
       "      <td>0.743422</td>\n",
       "      <td>0.859418</td>\n",
       "      <td>-1.184237</td>\n",
       "      <td>0.434313</td>\n",
       "      <td>-0.605785</td>\n",
       "      <td>1.456591</td>\n",
       "      <td>-0.882477</td>\n",
       "      <td>0.837036</td>\n",
       "      <td>...</td>\n",
       "      <td>0.0</td>\n",
       "      <td>0.0</td>\n",
       "      <td>0.0</td>\n",
       "      <td>0.0625</td>\n",
       "      <td>0.0</td>\n",
       "      <td>0.0</td>\n",
       "      <td>0.000000</td>\n",
       "      <td>0.142857</td>\n",
       "      <td>0.0</td>\n",
       "      <td>0</td>\n",
       "    </tr>\n",
       "    <tr>\n",
       "      <th>...</th>\n",
       "      <td>...</td>\n",
       "      <td>...</td>\n",
       "      <td>...</td>\n",
       "      <td>...</td>\n",
       "      <td>...</td>\n",
       "      <td>...</td>\n",
       "      <td>...</td>\n",
       "      <td>...</td>\n",
       "      <td>...</td>\n",
       "      <td>...</td>\n",
       "      <td>...</td>\n",
       "      <td>...</td>\n",
       "      <td>...</td>\n",
       "      <td>...</td>\n",
       "      <td>...</td>\n",
       "      <td>...</td>\n",
       "      <td>...</td>\n",
       "      <td>...</td>\n",
       "      <td>...</td>\n",
       "      <td>...</td>\n",
       "      <td>...</td>\n",
       "    </tr>\n",
       "    <tr>\n",
       "      <th>202161</th>\n",
       "      <td>-0.225338</td>\n",
       "      <td>0.475583</td>\n",
       "      <td>0.775991</td>\n",
       "      <td>0.405247</td>\n",
       "      <td>-0.349968</td>\n",
       "      <td>0.060040</td>\n",
       "      <td>0.095935</td>\n",
       "      <td>-0.085481</td>\n",
       "      <td>-0.464258</td>\n",
       "      <td>0.026965</td>\n",
       "      <td>...</td>\n",
       "      <td>0.0</td>\n",
       "      <td>0.0</td>\n",
       "      <td>0.0</td>\n",
       "      <td>0.0625</td>\n",
       "      <td>0.0</td>\n",
       "      <td>0.0</td>\n",
       "      <td>0.000000</td>\n",
       "      <td>0.000000</td>\n",
       "      <td>0.0</td>\n",
       "      <td>1</td>\n",
       "    </tr>\n",
       "    <tr>\n",
       "      <th>202162</th>\n",
       "      <td>-0.163642</td>\n",
       "      <td>0.070618</td>\n",
       "      <td>-0.027317</td>\n",
       "      <td>0.301575</td>\n",
       "      <td>-0.105552</td>\n",
       "      <td>-0.343681</td>\n",
       "      <td>0.087989</td>\n",
       "      <td>0.310286</td>\n",
       "      <td>0.154339</td>\n",
       "      <td>0.219632</td>\n",
       "      <td>...</td>\n",
       "      <td>0.0</td>\n",
       "      <td>0.0</td>\n",
       "      <td>0.0</td>\n",
       "      <td>0.0000</td>\n",
       "      <td>0.0</td>\n",
       "      <td>0.0</td>\n",
       "      <td>0.002801</td>\n",
       "      <td>0.000000</td>\n",
       "      <td>0.0</td>\n",
       "      <td>-1</td>\n",
       "    </tr>\n",
       "    <tr>\n",
       "      <th>202163</th>\n",
       "      <td>-0.011277</td>\n",
       "      <td>0.092318</td>\n",
       "      <td>0.030089</td>\n",
       "      <td>0.207510</td>\n",
       "      <td>-0.313217</td>\n",
       "      <td>0.112651</td>\n",
       "      <td>0.032029</td>\n",
       "      <td>-0.021094</td>\n",
       "      <td>0.121163</td>\n",
       "      <td>0.012707</td>\n",
       "      <td>...</td>\n",
       "      <td>0.0</td>\n",
       "      <td>0.0</td>\n",
       "      <td>0.0</td>\n",
       "      <td>0.0000</td>\n",
       "      <td>0.0</td>\n",
       "      <td>0.0</td>\n",
       "      <td>0.000000</td>\n",
       "      <td>0.000000</td>\n",
       "      <td>0.0</td>\n",
       "      <td>0</td>\n",
       "    </tr>\n",
       "    <tr>\n",
       "      <th>202164</th>\n",
       "      <td>0.170538</td>\n",
       "      <td>-0.183067</td>\n",
       "      <td>0.086313</td>\n",
       "      <td>0.575852</td>\n",
       "      <td>0.060031</td>\n",
       "      <td>-0.278173</td>\n",
       "      <td>-0.114822</td>\n",
       "      <td>0.156644</td>\n",
       "      <td>-0.325417</td>\n",
       "      <td>0.296305</td>\n",
       "      <td>...</td>\n",
       "      <td>0.0</td>\n",
       "      <td>0.0</td>\n",
       "      <td>0.0</td>\n",
       "      <td>0.0000</td>\n",
       "      <td>0.0</td>\n",
       "      <td>0.0</td>\n",
       "      <td>0.000000</td>\n",
       "      <td>0.000000</td>\n",
       "      <td>0.0</td>\n",
       "      <td>0</td>\n",
       "    </tr>\n",
       "    <tr>\n",
       "      <th>202165</th>\n",
       "      <td>0.040554</td>\n",
       "      <td>0.060742</td>\n",
       "      <td>-0.332255</td>\n",
       "      <td>0.037004</td>\n",
       "      <td>-0.031134</td>\n",
       "      <td>0.047074</td>\n",
       "      <td>0.587381</td>\n",
       "      <td>-0.336972</td>\n",
       "      <td>0.347596</td>\n",
       "      <td>-0.193083</td>\n",
       "      <td>...</td>\n",
       "      <td>0.0</td>\n",
       "      <td>0.0</td>\n",
       "      <td>0.0</td>\n",
       "      <td>0.0000</td>\n",
       "      <td>0.0</td>\n",
       "      <td>0.0</td>\n",
       "      <td>0.000000</td>\n",
       "      <td>0.000000</td>\n",
       "      <td>0.0</td>\n",
       "      <td>0</td>\n",
       "    </tr>\n",
       "  </tbody>\n",
       "</table>\n",
       "<p>202166 rows × 113 columns</p>\n",
       "</div>"
      ],
      "text/plain": [
       "               0         1         2         3         4         5         6  \\\n",
       "0      -0.226046 -0.541148 -0.595608  1.673260 -0.354240 -0.281175  1.068446   \n",
       "1      -0.773762  0.477466  0.137423  0.185248 -0.715173 -0.111886  0.751004   \n",
       "2      -0.148992 -0.193661 -0.200846  0.687527 -0.207409  0.046413 -0.015980   \n",
       "3       0.248653  0.740374  0.054494  0.811682 -0.346354 -0.214473 -0.085453   \n",
       "4       0.022283  0.008267  0.743422  0.859418 -1.184237  0.434313 -0.605785   \n",
       "...          ...       ...       ...       ...       ...       ...       ...   \n",
       "202161 -0.225338  0.475583  0.775991  0.405247 -0.349968  0.060040  0.095935   \n",
       "202162 -0.163642  0.070618 -0.027317  0.301575 -0.105552 -0.343681  0.087989   \n",
       "202163 -0.011277  0.092318  0.030089  0.207510 -0.313217  0.112651  0.032029   \n",
       "202164  0.170538 -0.183067  0.086313  0.575852  0.060031 -0.278173 -0.114822   \n",
       "202165  0.040554  0.060742 -0.332255  0.037004 -0.031134  0.047074  0.587381   \n",
       "\n",
       "               7         8         9  ...  has_repeated  exclaim_count  \\\n",
       "0       0.134239 -0.850743  1.826261  ...           0.0            0.0   \n",
       "1       0.353527  0.306729 -0.228083  ...           0.0            0.0   \n",
       "2      -0.109896 -0.030504  0.337357  ...           0.0            0.0   \n",
       "3       0.560107 -0.513053  0.618158  ...           0.0            0.0   \n",
       "4       1.456591 -0.882477  0.837036  ...           0.0            0.0   \n",
       "...          ...       ...       ...  ...           ...            ...   \n",
       "202161 -0.085481 -0.464258  0.026965  ...           0.0            0.0   \n",
       "202162  0.310286  0.154339  0.219632  ...           0.0            0.0   \n",
       "202163 -0.021094  0.121163  0.012707  ...           0.0            0.0   \n",
       "202164  0.156644 -0.325417  0.296305  ...           0.0            0.0   \n",
       "202165 -0.336972  0.347596 -0.193083  ...           0.0            0.0   \n",
       "\n",
       "        qns_mark_count  ellipses_mark_count  interjection_count  \\\n",
       "0                  0.0               0.0000                 0.0   \n",
       "1                  0.0               0.0000                 0.0   \n",
       "2                  0.0               0.0625                 0.0   \n",
       "3                  0.0               0.0000                 0.0   \n",
       "4                  0.0               0.0625                 0.0   \n",
       "...                ...                  ...                 ...   \n",
       "202161             0.0               0.0625                 0.0   \n",
       "202162             0.0               0.0000                 0.0   \n",
       "202163             0.0               0.0000                 0.0   \n",
       "202164             0.0               0.0000                 0.0   \n",
       "202165             0.0               0.0000                 0.0   \n",
       "\n",
       "        laughter_words_count  capitalized_word_count  \\\n",
       "0                        0.0                0.000000   \n",
       "1                        0.0                0.000000   \n",
       "2                        0.0                0.000000   \n",
       "3                        0.0                0.000000   \n",
       "4                        0.0                0.000000   \n",
       "...                      ...                     ...   \n",
       "202161                   0.0                0.000000   \n",
       "202162                   0.0                0.002801   \n",
       "202163                   0.0                0.000000   \n",
       "202164                   0.0                0.000000   \n",
       "202165                   0.0                0.000000   \n",
       "\n",
       "        partial_capital_word_count  emoticon_count  comment_sentiment  \n",
       "0                         0.000000             0.0                 -1  \n",
       "1                         0.000000             0.0                  1  \n",
       "2                         0.000000             0.0                  0  \n",
       "3                         0.000000             0.0                 -1  \n",
       "4                         0.142857             0.0                  0  \n",
       "...                            ...             ...                ...  \n",
       "202161                    0.000000             0.0                  1  \n",
       "202162                    0.000000             0.0                 -1  \n",
       "202163                    0.000000             0.0                  0  \n",
       "202164                    0.000000             0.0                  0  \n",
       "202165                    0.000000             0.0                  0  \n",
       "\n",
       "[202166 rows x 113 columns]"
      ]
     },
     "execution_count": 61,
     "metadata": {},
     "output_type": "execute_result"
    }
   ],
   "source": [
    "X_test_merged"
   ]
  },
  {
   "cell_type": "code",
   "execution_count": 23,
   "metadata": {
    "executionInfo": {
     "elapsed": 39,
     "status": "ok",
     "timestamp": 1637483572037,
     "user": {
      "displayName": "xin wei teng",
      "photoUrl": "https://lh3.googleusercontent.com/a/default-user=s64",
      "userId": "04864680443162201318"
     },
     "user_tz": -480
    },
    "id": "UuRio4JCjukB"
   },
   "outputs": [],
   "source": [
    "Y_train = train_data['label']\n",
    "Y_test = test_data['label']"
   ]
  },
  {
   "cell_type": "code",
   "execution_count": 21,
   "metadata": {},
   "outputs": [
    {
     "name": "stdout",
     "output_type": "stream",
     "text": [
      "(807647,)\n",
      "(202166,)\n"
     ]
    }
   ],
   "source": [
    "print(Y_train.shape)\n",
    "print(Y_test.shape)"
   ]
  },
  {
   "cell_type": "code",
   "execution_count": 30,
   "metadata": {},
   "outputs": [
    {
     "data": {
      "text/plain": [
       "RandomForestClassifier(random_state=42)"
      ]
     },
     "execution_count": 30,
     "metadata": {},
     "output_type": "execute_result"
    }
   ],
   "source": [
    "# untuned hyperparameters\n",
    "rfc2 = RandomForestClassifier(random_state=42)\n",
    "\n",
    "rfc2.fit(X_train_merged, Y_train)"
   ]
  },
  {
   "cell_type": "code",
   "execution_count": 32,
   "metadata": {},
   "outputs": [
    {
     "data": {
      "text/html": [
       "<div>\n",
       "<style scoped>\n",
       "    .dataframe tbody tr th:only-of-type {\n",
       "        vertical-align: middle;\n",
       "    }\n",
       "\n",
       "    .dataframe tbody tr th {\n",
       "        vertical-align: top;\n",
       "    }\n",
       "\n",
       "    .dataframe thead th {\n",
       "        text-align: right;\n",
       "    }\n",
       "</style>\n",
       "<table border=\"1\" class=\"dataframe\">\n",
       "  <thead>\n",
       "    <tr style=\"text-align: right;\">\n",
       "      <th></th>\n",
       "      <th>Predicted Y=0</th>\n",
       "      <th>Predicted Y=1</th>\n",
       "    </tr>\n",
       "  </thead>\n",
       "  <tbody>\n",
       "    <tr>\n",
       "      <th>True Y=0</th>\n",
       "      <td>74235</td>\n",
       "      <td>26720</td>\n",
       "    </tr>\n",
       "    <tr>\n",
       "      <th>True Y=1</th>\n",
       "      <td>42617</td>\n",
       "      <td>58594</td>\n",
       "    </tr>\n",
       "  </tbody>\n",
       "</table>\n",
       "</div>"
      ],
      "text/plain": [
       "          Predicted Y=0  Predicted Y=1\n",
       "True Y=0          74235          26720\n",
       "True Y=1          42617          58594"
      ]
     },
     "metadata": {},
     "output_type": "display_data"
    },
    {
     "name": "stdout",
     "output_type": "stream",
     "text": [
      "Accuracy: 0.6570293719022982\n",
      "Sensitivity: 0.5789291677782059\n",
      "Specificity: 0.735327621217374\n",
      "Precision: 0.6868040415406615\n",
      "ROC-AUC: 0.65712839449779\n",
      "F1 score: 0.6283\n"
     ]
    }
   ],
   "source": [
    "Y_pred2 = rfc2.predict(X_test_merged)\n",
    "Y_test = np.asarray(Y_test.astype(int))\n",
    "metrics(Y_test,Y_pred2)"
   ]
  },
  {
   "cell_type": "code",
   "execution_count": 37,
   "metadata": {},
   "outputs": [
    {
     "name": "stdout",
     "output_type": "stream",
     "text": [
      "Wall time: 0 ns\n"
     ]
    },
    {
     "data": {
      "text/plain": [
       "3"
      ]
     },
     "execution_count": 37,
     "metadata": {},
     "output_type": "execute_result"
    }
   ],
   "source": [
    "%%time\n",
    "a=3\n",
    "a"
   ]
  },
  {
   "cell_type": "code",
   "execution_count": 18,
   "metadata": {},
   "outputs": [
    {
     "data": {
      "text/html": [
       "<div>\n",
       "<style scoped>\n",
       "    .dataframe tbody tr th:only-of-type {\n",
       "        vertical-align: middle;\n",
       "    }\n",
       "\n",
       "    .dataframe tbody tr th {\n",
       "        vertical-align: top;\n",
       "    }\n",
       "\n",
       "    .dataframe thead th {\n",
       "        text-align: right;\n",
       "    }\n",
       "</style>\n",
       "<table border=\"1\" class=\"dataframe\">\n",
       "  <thead>\n",
       "    <tr style=\"text-align: right;\">\n",
       "      <th></th>\n",
       "      <th>99</th>\n",
       "      <th>cosine_similarity_dirty_comments</th>\n",
       "      <th>word_count</th>\n",
       "      <th>punctuation_count</th>\n",
       "      <th>has_repeated</th>\n",
       "      <th>exclaim_count</th>\n",
       "      <th>qns_mark_count</th>\n",
       "      <th>ellipses_mark_count</th>\n",
       "      <th>interjection_count</th>\n",
       "      <th>laughter_words_count</th>\n",
       "      <th>capitalized_word_count</th>\n",
       "      <th>partial_capital_word_count</th>\n",
       "      <th>emoticon_count</th>\n",
       "      <th>comment_sentiment</th>\n",
       "    </tr>\n",
       "  </thead>\n",
       "  <tbody>\n",
       "    <tr>\n",
       "      <th>0</th>\n",
       "      <td>0.173141</td>\n",
       "      <td>0.538655</td>\n",
       "      <td>0.002251</td>\n",
       "      <td>0.000000</td>\n",
       "      <td>0.0</td>\n",
       "      <td>0.0</td>\n",
       "      <td>0.000000</td>\n",
       "      <td>0.0</td>\n",
       "      <td>0.0</td>\n",
       "      <td>0.000000</td>\n",
       "      <td>0.000000</td>\n",
       "      <td>0.0</td>\n",
       "      <td>0.0</td>\n",
       "      <td>-1</td>\n",
       "    </tr>\n",
       "    <tr>\n",
       "      <th>1</th>\n",
       "      <td>0.126739</td>\n",
       "      <td>0.582335</td>\n",
       "      <td>0.004052</td>\n",
       "      <td>0.000102</td>\n",
       "      <td>0.0</td>\n",
       "      <td>0.0</td>\n",
       "      <td>0.000000</td>\n",
       "      <td>0.0</td>\n",
       "      <td>0.0</td>\n",
       "      <td>0.000000</td>\n",
       "      <td>0.001203</td>\n",
       "      <td>0.0</td>\n",
       "      <td>0.0</td>\n",
       "      <td>1</td>\n",
       "    </tr>\n",
       "    <tr>\n",
       "      <th>2</th>\n",
       "      <td>0.309487</td>\n",
       "      <td>0.515965</td>\n",
       "      <td>0.000450</td>\n",
       "      <td>0.000000</td>\n",
       "      <td>0.0</td>\n",
       "      <td>0.0</td>\n",
       "      <td>0.000000</td>\n",
       "      <td>0.0</td>\n",
       "      <td>0.0</td>\n",
       "      <td>0.000000</td>\n",
       "      <td>0.000000</td>\n",
       "      <td>0.0</td>\n",
       "      <td>0.0</td>\n",
       "      <td>0</td>\n",
       "    </tr>\n",
       "    <tr>\n",
       "      <th>3</th>\n",
       "      <td>0.357538</td>\n",
       "      <td>0.533188</td>\n",
       "      <td>0.004052</td>\n",
       "      <td>0.000306</td>\n",
       "      <td>0.0</td>\n",
       "      <td>0.0</td>\n",
       "      <td>0.111111</td>\n",
       "      <td>0.0</td>\n",
       "      <td>0.0</td>\n",
       "      <td>0.000000</td>\n",
       "      <td>0.000000</td>\n",
       "      <td>0.0</td>\n",
       "      <td>0.0</td>\n",
       "      <td>0</td>\n",
       "    </tr>\n",
       "    <tr>\n",
       "      <th>4</th>\n",
       "      <td>1.202282</td>\n",
       "      <td>0.496283</td>\n",
       "      <td>0.011256</td>\n",
       "      <td>0.000510</td>\n",
       "      <td>0.0</td>\n",
       "      <td>0.0</td>\n",
       "      <td>0.000000</td>\n",
       "      <td>0.0</td>\n",
       "      <td>0.0</td>\n",
       "      <td>0.000000</td>\n",
       "      <td>0.000000</td>\n",
       "      <td>0.0</td>\n",
       "      <td>0.0</td>\n",
       "      <td>-1</td>\n",
       "    </tr>\n",
       "    <tr>\n",
       "      <th>...</th>\n",
       "      <td>...</td>\n",
       "      <td>...</td>\n",
       "      <td>...</td>\n",
       "      <td>...</td>\n",
       "      <td>...</td>\n",
       "      <td>...</td>\n",
       "      <td>...</td>\n",
       "      <td>...</td>\n",
       "      <td>...</td>\n",
       "      <td>...</td>\n",
       "      <td>...</td>\n",
       "      <td>...</td>\n",
       "      <td>...</td>\n",
       "      <td>...</td>\n",
       "    </tr>\n",
       "    <tr>\n",
       "      <th>807642</th>\n",
       "      <td>0.101653</td>\n",
       "      <td>0.456833</td>\n",
       "      <td>0.007654</td>\n",
       "      <td>0.000204</td>\n",
       "      <td>0.0</td>\n",
       "      <td>0.0</td>\n",
       "      <td>0.000000</td>\n",
       "      <td>0.0</td>\n",
       "      <td>0.0</td>\n",
       "      <td>0.000000</td>\n",
       "      <td>0.000601</td>\n",
       "      <td>0.0</td>\n",
       "      <td>0.0</td>\n",
       "      <td>0</td>\n",
       "    </tr>\n",
       "    <tr>\n",
       "      <th>807643</th>\n",
       "      <td>0.855297</td>\n",
       "      <td>0.513966</td>\n",
       "      <td>0.004953</td>\n",
       "      <td>0.000000</td>\n",
       "      <td>0.0</td>\n",
       "      <td>0.0</td>\n",
       "      <td>0.000000</td>\n",
       "      <td>0.0</td>\n",
       "      <td>0.0</td>\n",
       "      <td>0.016667</td>\n",
       "      <td>0.000000</td>\n",
       "      <td>0.0</td>\n",
       "      <td>0.0</td>\n",
       "      <td>1</td>\n",
       "    </tr>\n",
       "    <tr>\n",
       "      <th>807644</th>\n",
       "      <td>-0.175838</td>\n",
       "      <td>0.502867</td>\n",
       "      <td>0.006303</td>\n",
       "      <td>0.000510</td>\n",
       "      <td>0.0</td>\n",
       "      <td>0.0</td>\n",
       "      <td>0.000000</td>\n",
       "      <td>0.0</td>\n",
       "      <td>0.0</td>\n",
       "      <td>0.000000</td>\n",
       "      <td>0.000000</td>\n",
       "      <td>0.0</td>\n",
       "      <td>0.0</td>\n",
       "      <td>0</td>\n",
       "    </tr>\n",
       "    <tr>\n",
       "      <th>807645</th>\n",
       "      <td>0.435818</td>\n",
       "      <td>0.479934</td>\n",
       "      <td>0.007204</td>\n",
       "      <td>0.000102</td>\n",
       "      <td>0.0</td>\n",
       "      <td>0.0</td>\n",
       "      <td>0.000000</td>\n",
       "      <td>0.0</td>\n",
       "      <td>0.0</td>\n",
       "      <td>0.000000</td>\n",
       "      <td>0.000000</td>\n",
       "      <td>0.0</td>\n",
       "      <td>0.0</td>\n",
       "      <td>1</td>\n",
       "    </tr>\n",
       "    <tr>\n",
       "      <th>807646</th>\n",
       "      <td>1.344002</td>\n",
       "      <td>0.559935</td>\n",
       "      <td>0.009455</td>\n",
       "      <td>0.000612</td>\n",
       "      <td>0.0</td>\n",
       "      <td>0.0</td>\n",
       "      <td>0.111111</td>\n",
       "      <td>0.0</td>\n",
       "      <td>0.0</td>\n",
       "      <td>0.000000</td>\n",
       "      <td>0.000000</td>\n",
       "      <td>0.0</td>\n",
       "      <td>0.0</td>\n",
       "      <td>1</td>\n",
       "    </tr>\n",
       "  </tbody>\n",
       "</table>\n",
       "<p>807647 rows × 14 columns</p>\n",
       "</div>"
      ],
      "text/plain": [
       "              99  cosine_similarity_dirty_comments  word_count  \\\n",
       "0       0.173141                          0.538655    0.002251   \n",
       "1       0.126739                          0.582335    0.004052   \n",
       "2       0.309487                          0.515965    0.000450   \n",
       "3       0.357538                          0.533188    0.004052   \n",
       "4       1.202282                          0.496283    0.011256   \n",
       "...          ...                               ...         ...   \n",
       "807642  0.101653                          0.456833    0.007654   \n",
       "807643  0.855297                          0.513966    0.004953   \n",
       "807644 -0.175838                          0.502867    0.006303   \n",
       "807645  0.435818                          0.479934    0.007204   \n",
       "807646  1.344002                          0.559935    0.009455   \n",
       "\n",
       "        punctuation_count  has_repeated  exclaim_count  qns_mark_count  \\\n",
       "0                0.000000           0.0            0.0        0.000000   \n",
       "1                0.000102           0.0            0.0        0.000000   \n",
       "2                0.000000           0.0            0.0        0.000000   \n",
       "3                0.000306           0.0            0.0        0.111111   \n",
       "4                0.000510           0.0            0.0        0.000000   \n",
       "...                   ...           ...            ...             ...   \n",
       "807642           0.000204           0.0            0.0        0.000000   \n",
       "807643           0.000000           0.0            0.0        0.000000   \n",
       "807644           0.000510           0.0            0.0        0.000000   \n",
       "807645           0.000102           0.0            0.0        0.000000   \n",
       "807646           0.000612           0.0            0.0        0.111111   \n",
       "\n",
       "        ellipses_mark_count  interjection_count  laughter_words_count  \\\n",
       "0                       0.0                 0.0              0.000000   \n",
       "1                       0.0                 0.0              0.000000   \n",
       "2                       0.0                 0.0              0.000000   \n",
       "3                       0.0                 0.0              0.000000   \n",
       "4                       0.0                 0.0              0.000000   \n",
       "...                     ...                 ...                   ...   \n",
       "807642                  0.0                 0.0              0.000000   \n",
       "807643                  0.0                 0.0              0.016667   \n",
       "807644                  0.0                 0.0              0.000000   \n",
       "807645                  0.0                 0.0              0.000000   \n",
       "807646                  0.0                 0.0              0.000000   \n",
       "\n",
       "        capitalized_word_count  partial_capital_word_count  emoticon_count  \\\n",
       "0                     0.000000                         0.0             0.0   \n",
       "1                     0.001203                         0.0             0.0   \n",
       "2                     0.000000                         0.0             0.0   \n",
       "3                     0.000000                         0.0             0.0   \n",
       "4                     0.000000                         0.0             0.0   \n",
       "...                        ...                         ...             ...   \n",
       "807642                0.000601                         0.0             0.0   \n",
       "807643                0.000000                         0.0             0.0   \n",
       "807644                0.000000                         0.0             0.0   \n",
       "807645                0.000000                         0.0             0.0   \n",
       "807646                0.000000                         0.0             0.0   \n",
       "\n",
       "        comment_sentiment  \n",
       "0                      -1  \n",
       "1                       1  \n",
       "2                       0  \n",
       "3                       0  \n",
       "4                      -1  \n",
       "...                   ...  \n",
       "807642                  0  \n",
       "807643                  1  \n",
       "807644                  0  \n",
       "807645                  1  \n",
       "807646                  1  \n",
       "\n",
       "[807647 rows x 14 columns]"
      ]
     },
     "execution_count": 18,
     "metadata": {},
     "output_type": "execute_result"
    }
   ],
   "source": [
    "X_train_merged.iloc[:,99:]"
   ]
  },
  {
   "cell_type": "code",
   "execution_count": 35,
   "metadata": {
    "colab": {
     "base_uri": "https://localhost:8080/"
    },
    "executionInfo": {
     "elapsed": 668493,
     "status": "ok",
     "timestamp": 1637477967693,
     "user": {
      "displayName": "xin wei teng",
      "photoUrl": "https://lh3.googleusercontent.com/a/default-user=s64",
      "userId": "04864680443162201318"
     },
     "user_tz": -480
    },
    "id": "S6DpAtO-P46p",
    "outputId": "0e306457-0aca-4184-82f6-a8c928376623"
   },
   "outputs": [
    {
     "data": {
      "text/plain": [
       "RandomForestClassifier(min_samples_leaf=2, min_samples_split=5,\n",
       "                       n_estimators=150, random_state=42)"
      ]
     },
     "execution_count": 35,
     "metadata": {},
     "output_type": "execute_result"
    }
   ],
   "source": [
    "# tuned hyperparameters\n",
    "rfc3 = RandomForestClassifier(n_estimators=150, min_samples_split=5, min_samples_leaf=2, random_state=42)\n",
    "\n",
    "rfc3.fit(X_train_merged, Y_train)"
   ]
  },
  {
   "cell_type": "code",
   "execution_count": 36,
   "metadata": {
    "colab": {
     "base_uri": "https://localhost:8080/",
     "height": 251
    },
    "executionInfo": {
     "elapsed": 2389,
     "status": "ok",
     "timestamp": 1637478137381,
     "user": {
      "displayName": "xin wei teng",
      "photoUrl": "https://lh3.googleusercontent.com/a/default-user=s64",
      "userId": "04864680443162201318"
     },
     "user_tz": -480
    },
    "id": "O4LEEDXAS9aB",
    "outputId": "5a111860-85dc-4214-dcfc-92eabf718bf5",
    "scrolled": false
   },
   "outputs": [
    {
     "data": {
      "text/html": [
       "<div>\n",
       "<style scoped>\n",
       "    .dataframe tbody tr th:only-of-type {\n",
       "        vertical-align: middle;\n",
       "    }\n",
       "\n",
       "    .dataframe tbody tr th {\n",
       "        vertical-align: top;\n",
       "    }\n",
       "\n",
       "    .dataframe thead th {\n",
       "        text-align: right;\n",
       "    }\n",
       "</style>\n",
       "<table border=\"1\" class=\"dataframe\">\n",
       "  <thead>\n",
       "    <tr style=\"text-align: right;\">\n",
       "      <th></th>\n",
       "      <th>Predicted Y=0</th>\n",
       "      <th>Predicted Y=1</th>\n",
       "    </tr>\n",
       "  </thead>\n",
       "  <tbody>\n",
       "    <tr>\n",
       "      <th>True Y=0</th>\n",
       "      <td>74292</td>\n",
       "      <td>26663</td>\n",
       "    </tr>\n",
       "    <tr>\n",
       "      <th>True Y=1</th>\n",
       "      <td>40706</td>\n",
       "      <td>60505</td>\n",
       "    </tr>\n",
       "  </tbody>\n",
       "</table>\n",
       "</div>"
      ],
      "text/plain": [
       "          Predicted Y=0  Predicted Y=1\n",
       "True Y=0          74292          26663\n",
       "True Y=1          40706          60505"
      ]
     },
     "metadata": {},
     "output_type": "display_data"
    },
    {
     "name": "stdout",
     "output_type": "stream",
     "text": [
      "Accuracy: 0.6667639464598399\n",
      "Sensitivity: 0.597810514667378\n",
      "Specificity: 0.7358922292110346\n",
      "Precision: 0.6941194016152716\n",
      "ROC-AUC: 0.6668513719392063\n",
      "F1 score: 0.6424\n"
     ]
    }
   ],
   "source": [
    "Y_pred3 = rfc3.predict(X_test_merged)\n",
    "Y_test = np.asarray(Y_test.astype(int))\n",
    "metrics(Y_test,Y_pred3)"
   ]
  },
  {
   "cell_type": "code",
   "execution_count": 58,
   "metadata": {},
   "outputs": [
    {
     "data": {
      "text/plain": [
       "RandomForestClassifier(max_samples=0.2, min_samples_leaf=2, min_samples_split=5,\n",
       "                       n_estimators=150, random_state=42)"
      ]
     },
     "execution_count": 58,
     "metadata": {},
     "output_type": "execute_result"
    }
   ],
   "source": [
    "rfc4 = RandomForestClassifier(n_estimators=150, min_samples_split=5, min_samples_leaf=2, random_state=42, max_samples=0.2)\n",
    "\n",
    "rfc4.fit(X_train_merged, Y_train)"
   ]
  },
  {
   "cell_type": "code",
   "execution_count": 59,
   "metadata": {},
   "outputs": [
    {
     "data": {
      "text/html": [
       "<div>\n",
       "<style scoped>\n",
       "    .dataframe tbody tr th:only-of-type {\n",
       "        vertical-align: middle;\n",
       "    }\n",
       "\n",
       "    .dataframe tbody tr th {\n",
       "        vertical-align: top;\n",
       "    }\n",
       "\n",
       "    .dataframe thead th {\n",
       "        text-align: right;\n",
       "    }\n",
       "</style>\n",
       "<table border=\"1\" class=\"dataframe\">\n",
       "  <thead>\n",
       "    <tr style=\"text-align: right;\">\n",
       "      <th></th>\n",
       "      <th>Predicted Y=0</th>\n",
       "      <th>Predicted Y=1</th>\n",
       "    </tr>\n",
       "  </thead>\n",
       "  <tbody>\n",
       "    <tr>\n",
       "      <th>True Y=0</th>\n",
       "      <td>73558</td>\n",
       "      <td>27397</td>\n",
       "    </tr>\n",
       "    <tr>\n",
       "      <th>True Y=1</th>\n",
       "      <td>40807</td>\n",
       "      <td>60404</td>\n",
       "    </tr>\n",
       "  </tbody>\n",
       "</table>\n",
       "</div>"
      ],
      "text/plain": [
       "          Predicted Y=0  Predicted Y=1\n",
       "True Y=0          73558          27397\n",
       "True Y=1          40807          60404"
      ]
     },
     "metadata": {},
     "output_type": "display_data"
    },
    {
     "name": "stdout",
     "output_type": "stream",
     "text": [
      "Accuracy: 0.6626336772751106\n",
      "Sensitivity: 0.5968125994210115\n",
      "Specificity: 0.7286216631172304\n",
      "Precision: 0.68796482955775\n",
      "ROC-AUC: 0.6627171312691209\n",
      "F1 score: 0.6392\n"
     ]
    }
   ],
   "source": [
    "Y_pred4 = rfc4.predict(X_test_merged)\n",
    "Y_test = np.asarray(Y_test.astype(int))\n",
    "metrics(Y_test,Y_pred4)"
   ]
  },
  {
   "cell_type": "code",
   "execution_count": null,
   "metadata": {},
   "outputs": [],
   "source": []
  },
  {
   "cell_type": "code",
   "execution_count": 57,
   "metadata": {},
   "outputs": [
    {
     "data": {
      "text/html": [
       "<div>\n",
       "<style scoped>\n",
       "    .dataframe tbody tr th:only-of-type {\n",
       "        vertical-align: middle;\n",
       "    }\n",
       "\n",
       "    .dataframe tbody tr th {\n",
       "        vertical-align: top;\n",
       "    }\n",
       "\n",
       "    .dataframe thead th {\n",
       "        text-align: right;\n",
       "    }\n",
       "</style>\n",
       "<table border=\"1\" class=\"dataframe\">\n",
       "  <thead>\n",
       "    <tr style=\"text-align: right;\">\n",
       "      <th></th>\n",
       "      <th>Predicted Y=0</th>\n",
       "      <th>Predicted Y=1</th>\n",
       "    </tr>\n",
       "  </thead>\n",
       "  <tbody>\n",
       "    <tr>\n",
       "      <th>True Y=0</th>\n",
       "      <td>70822</td>\n",
       "      <td>30133</td>\n",
       "    </tr>\n",
       "    <tr>\n",
       "      <th>True Y=1</th>\n",
       "      <td>42700</td>\n",
       "      <td>58511</td>\n",
       "    </tr>\n",
       "  </tbody>\n",
       "</table>\n",
       "</div>"
      ],
      "text/plain": [
       "          Predicted Y=0  Predicted Y=1\n",
       "True Y=0          70822          30133\n",
       "True Y=1          42700          58511"
      ]
     },
     "metadata": {},
     "output_type": "display_data"
    },
    {
     "name": "stdout",
     "output_type": "stream",
     "text": [
      "Accuracy: 0.6397366520582096\n",
      "Sensitivity: 0.5781090988133701\n",
      "Specificity: 0.7015204794215244\n",
      "Precision: 0.6600672352330671\n",
      "ROC-AUC: 0.6398147891174473\n",
      "F1 score: 0.6164\n"
     ]
    }
   ],
   "source": [
    "metrics(Y_test,Y_pred1)"
   ]
  },
  {
   "cell_type": "code",
   "execution_count": 44,
   "metadata": {
    "scrolled": false
   },
   "outputs": [
    {
     "data": {
      "text/html": [
       "<div>\n",
       "<style scoped>\n",
       "    .dataframe tbody tr th:only-of-type {\n",
       "        vertical-align: middle;\n",
       "    }\n",
       "\n",
       "    .dataframe tbody tr th {\n",
       "        vertical-align: top;\n",
       "    }\n",
       "\n",
       "    .dataframe thead th {\n",
       "        text-align: right;\n",
       "    }\n",
       "</style>\n",
       "<table border=\"1\" class=\"dataframe\">\n",
       "  <thead>\n",
       "    <tr style=\"text-align: right;\">\n",
       "      <th></th>\n",
       "      <th>Predicted Y=0</th>\n",
       "      <th>Predicted Y=1</th>\n",
       "    </tr>\n",
       "  </thead>\n",
       "  <tbody>\n",
       "    <tr>\n",
       "      <th>True Y=0</th>\n",
       "      <td>74235</td>\n",
       "      <td>26720</td>\n",
       "    </tr>\n",
       "    <tr>\n",
       "      <th>True Y=1</th>\n",
       "      <td>42617</td>\n",
       "      <td>58594</td>\n",
       "    </tr>\n",
       "  </tbody>\n",
       "</table>\n",
       "</div>"
      ],
      "text/plain": [
       "          Predicted Y=0  Predicted Y=1\n",
       "True Y=0          74235          26720\n",
       "True Y=1          42617          58594"
      ]
     },
     "metadata": {},
     "output_type": "display_data"
    },
    {
     "name": "stdout",
     "output_type": "stream",
     "text": [
      "Accuracy: 0.6570293719022982\n",
      "Sensitivity: 0.5789291677782059\n",
      "Specificity: 0.735327621217374\n",
      "Precision: 0.6868040415406615\n",
      "ROC-AUC: 0.65712839449779\n",
      "F1 score: 0.6283\n"
     ]
    }
   ],
   "source": [
    "metrics(Y_test,Y_pred2)"
   ]
  },
  {
   "cell_type": "code",
   "execution_count": 47,
   "metadata": {},
   "outputs": [
    {
     "data": {
      "text/html": [
       "<div>\n",
       "<style scoped>\n",
       "    .dataframe tbody tr th:only-of-type {\n",
       "        vertical-align: middle;\n",
       "    }\n",
       "\n",
       "    .dataframe tbody tr th {\n",
       "        vertical-align: top;\n",
       "    }\n",
       "\n",
       "    .dataframe thead th {\n",
       "        text-align: right;\n",
       "    }\n",
       "</style>\n",
       "<table border=\"1\" class=\"dataframe\">\n",
       "  <thead>\n",
       "    <tr style=\"text-align: right;\">\n",
       "      <th></th>\n",
       "      <th>Predicted Y=0</th>\n",
       "      <th>Predicted Y=1</th>\n",
       "    </tr>\n",
       "  </thead>\n",
       "  <tbody>\n",
       "    <tr>\n",
       "      <th>True Y=0</th>\n",
       "      <td>74292</td>\n",
       "      <td>26663</td>\n",
       "    </tr>\n",
       "    <tr>\n",
       "      <th>True Y=1</th>\n",
       "      <td>40706</td>\n",
       "      <td>60505</td>\n",
       "    </tr>\n",
       "  </tbody>\n",
       "</table>\n",
       "</div>"
      ],
      "text/plain": [
       "          Predicted Y=0  Predicted Y=1\n",
       "True Y=0          74292          26663\n",
       "True Y=1          40706          60505"
      ]
     },
     "metadata": {},
     "output_type": "display_data"
    },
    {
     "name": "stdout",
     "output_type": "stream",
     "text": [
      "Accuracy: 0.6667639464598399\n",
      "Sensitivity: 0.597810514667378\n",
      "Specificity: 0.7358922292110346\n",
      "Precision: 0.6941194016152716\n",
      "ROC-AUC: 0.6668513719392063\n",
      "F1 score: 0.6424\n"
     ]
    }
   ],
   "source": [
    "metrics(Y_test,Y_pred3)"
   ]
  },
  {
   "cell_type": "code",
   "execution_count": 48,
   "metadata": {},
   "outputs": [
    {
     "data": {
      "text/plain": [
       "array([1, 0, 1, ..., 0, 0, 0], dtype=int64)"
      ]
     },
     "execution_count": 48,
     "metadata": {},
     "output_type": "execute_result"
    }
   ],
   "source": [
    "Y_pred3"
   ]
  },
  {
   "cell_type": "code",
   "execution_count": 49,
   "metadata": {},
   "outputs": [
    {
     "data": {
      "text/plain": [
       "numpy.ndarray"
      ]
     },
     "execution_count": 49,
     "metadata": {},
     "output_type": "execute_result"
    }
   ],
   "source": [
    "type(Y_pred2)"
   ]
  },
  {
   "cell_type": "code",
   "execution_count": 45,
   "metadata": {},
   "outputs": [],
   "source": [
    "Y_pred_df2 = pd.DataFrame(Y_pred2)\n",
    "Y_pred_df2.to_pickle(\"./rf_y_pred2\")"
   ]
  },
  {
   "cell_type": "code",
   "execution_count": 50,
   "metadata": {},
   "outputs": [],
   "source": [
    "np.save(\"./rf_y_pred2\",Y_pred2)"
   ]
  },
  {
   "cell_type": "code",
   "execution_count": 39,
   "metadata": {},
   "outputs": [],
   "source": [
    "Y_pred_df3 = pd.DataFrame(Y_pred3)\n",
    "Y_pred_df3.to_pickle(\"./rf_y_pred3\")"
   ]
  },
  {
   "cell_type": "code",
   "execution_count": 51,
   "metadata": {},
   "outputs": [],
   "source": [
    "np.save(\"./rf_y_pred3\",Y_pred3)"
   ]
  },
  {
   "cell_type": "code",
   "execution_count": null,
   "metadata": {},
   "outputs": [],
   "source": []
  },
  {
   "cell_type": "markdown",
   "metadata": {
    "id": "sWdtitgucAWI"
   },
   "source": [
    "# Hyperparameter tuning"
   ]
  },
  {
   "cell_type": "code",
   "execution_count": null,
   "metadata": {},
   "outputs": [],
   "source": [
    "X_train_cv = X_train_merged.sample(frac = 0.1, random_state=1)"
   ]
  },
  {
   "cell_type": "code",
   "execution_count": null,
   "metadata": {},
   "outputs": [],
   "source": [
    "X_train_cv.info()"
   ]
  },
  {
   "cell_type": "code",
   "execution_count": null,
   "metadata": {
    "scrolled": true
   },
   "outputs": [],
   "source": [
    "X_train_merged.info()"
   ]
  },
  {
   "cell_type": "code",
   "execution_count": null,
   "metadata": {
    "scrolled": true
   },
   "outputs": [],
   "source": [
    "X_1 = X_train_merged.astype('float16')"
   ]
  },
  {
   "cell_type": "code",
   "execution_count": null,
   "metadata": {},
   "outputs": [],
   "source": [
    "type(X_1)"
   ]
  },
  {
   "cell_type": "code",
   "execution_count": null,
   "metadata": {},
   "outputs": [],
   "source": [
    "X_1.info()"
   ]
  },
  {
   "cell_type": "code",
   "execution_count": null,
   "metadata": {
    "scrolled": true
   },
   "outputs": [],
   "source": [
    "train_data.shape"
   ]
  },
  {
   "cell_type": "code",
   "execution_count": null,
   "metadata": {},
   "outputs": [],
   "source": [
    "train_data.iloc[:,:]"
   ]
  },
  {
   "cell_type": "code",
   "execution_count": null,
   "metadata": {
    "scrolled": true
   },
   "outputs": [],
   "source": [
    "test_data.shape"
   ]
  },
  {
   "cell_type": "code",
   "execution_count": null,
   "metadata": {},
   "outputs": [],
   "source": [
    "X_1.head()"
   ]
  },
  {
   "cell_type": "code",
   "execution_count": null,
   "metadata": {
    "scrolled": true
   },
   "outputs": [],
   "source": [
    "X_train_merged.dtypes"
   ]
  },
  {
   "cell_type": "code",
   "execution_count": null,
   "metadata": {
    "scrolled": false
   },
   "outputs": [],
   "source": [
    "X_train_merged.head()"
   ]
  },
  {
   "cell_type": "code",
   "execution_count": 64,
   "metadata": {
    "colab": {
     "base_uri": "https://localhost:8080/"
    },
    "executionInfo": {
     "elapsed": 37,
     "status": "ok",
     "timestamp": 1637483572038,
     "user": {
      "displayName": "xin wei teng",
      "photoUrl": "https://lh3.googleusercontent.com/a/default-user=s64",
      "userId": "04864680443162201318"
     },
     "user_tz": -480
    },
    "id": "KEGcE1Z9cDpk",
    "outputId": "50133810-27ce-4f8a-825e-af2a3e67cbde"
   },
   "outputs": [
    {
     "name": "stdout",
     "output_type": "stream",
     "text": [
      "{'n_estimators': [100, 110, 120, 130, 140, 150], 'min_samples_split': [2, 5, 10], 'min_samples_leaf': [1, 2, 4]}\n"
     ]
    }
   ],
   "source": [
    "n_estimators = [int(x) for x in np.linspace(start = 100, stop = 150, num = 6)]\n",
    "\n",
    "min_samples_split = [2, 5, 10]\n",
    "\n",
    "min_samples_leaf = [1, 2, 4]\n",
    "\n",
    "random_grid = {'n_estimators': n_estimators,\n",
    "               'min_samples_split': min_samples_split,\n",
    "               'min_samples_leaf': min_samples_leaf}\n",
    "\n",
    "print(random_grid)"
   ]
  },
  {
   "cell_type": "code",
   "execution_count": null,
   "metadata": {
    "executionInfo": {
     "elapsed": 320,
     "status": "ok",
     "timestamp": 1637491652932,
     "user": {
      "displayName": "xin wei teng",
      "photoUrl": "https://lh3.googleusercontent.com/a/default-user=s64",
      "userId": "04864680443162201318"
     },
     "user_tz": -480
    },
    "id": "6D8M55mWgrtO"
   },
   "outputs": [],
   "source": [
    "# 54 possible combinations\n",
    "# choose 27 random comninations to run, choose the combination for the best performing model afterwards\n",
    "rf = RandomForestClassifier()\n",
    "rf_random = RandomizedSearchCV(estimator = rf, param_distributions = random_grid, n_iter = 27, cv = 3, verbose=10, random_state=42, n_jobs=-2)"
   ]
  },
  {
   "cell_type": "code",
   "execution_count": null,
   "metadata": {
    "colab": {
     "base_uri": "https://localhost:8080/"
    },
    "id": "C1B2m-5Thoc6",
    "outputId": "78c43ab4-c3b0-442b-8dda-53470caf801c",
    "scrolled": true
   },
   "outputs": [],
   "source": [
    "rf_random.fit(X_1, Y_train)"
   ]
  },
  {
   "cell_type": "code",
   "execution_count": null,
   "metadata": {},
   "outputs": [],
   "source": [
    "rf_random.best_params_"
   ]
  },
  {
   "cell_type": "markdown",
   "metadata": {
    "id": "XNAYjnBwFSJS"
   },
   "source": [
    "# **TFIDF**"
   ]
  },
  {
   "cell_type": "markdown",
   "metadata": {
    "id": "LnVlDRoydaS-"
   },
   "source": [
    "# clean comments + cosine sim  + all created features"
   ]
  },
  {
   "cell_type": "code",
   "execution_count": null,
   "metadata": {
    "executionInfo": {
     "elapsed": 28,
     "status": "aborted",
     "timestamp": 1637468804770,
     "user": {
      "displayName": "xin wei teng",
      "photoUrl": "https://lh3.googleusercontent.com/a/default-user=s64",
      "userId": "04864680443162201318"
     },
     "user_tz": -480
    },
    "id": "Si4ao4debmna"
   },
   "outputs": [],
   "source": [
    "data_one = data.drop(['author','subreddit','score','ups','downs','parent_comment',\n",
    "                      'comment','lemmatized_comment','lemmatized_parent_comment','clean_parent_comment',\n",
    "                      'clean_lemmatized_parent_comment','vectorized_comment',\n",
    "                      'vectorized_clean_comment',\t'vectorized_parent',\t'vectorized_clean_parent','date',\n",
    "                      'created_utc','lemmatized_clean_comment','cosine_similarity_dirty_comments'], axis = 1)\n",
    "data_one"
   ]
  },
  {
   "cell_type": "markdown",
   "metadata": {
    "id": "mcAaFauaa40E"
   },
   "source": []
  },
  {
   "cell_type": "code",
   "execution_count": null,
   "metadata": {
    "executionInfo": {
     "elapsed": 27,
     "status": "aborted",
     "timestamp": 1637468804770,
     "user": {
      "displayName": "xin wei teng",
      "photoUrl": "https://lh3.googleusercontent.com/a/default-user=s64",
      "userId": "04864680443162201318"
     },
     "user_tz": -480
    },
    "id": "D0rk2ZPJd3jd"
   },
   "outputs": [],
   "source": [
    "def sent(x):\n",
    "    if x == 'neu':\n",
    "        return 0\n",
    "    elif x == 'pos':\n",
    "        return 1\n",
    "    elif x == 'neg': \n",
    "        return -1\n",
    "\n",
    "data_one['comment_sentiment'] = data_one['comment_sentiment'].apply(sent)\n",
    "data_one['parent_comment_sentiment'] = data_one['parent_comment_sentiment'].apply(sent)\n",
    "data_one"
   ]
  },
  {
   "cell_type": "code",
   "execution_count": null,
   "metadata": {
    "executionInfo": {
     "elapsed": 27,
     "status": "aborted",
     "timestamp": 1637468804770,
     "user": {
      "displayName": "xin wei teng",
      "photoUrl": "https://lh3.googleusercontent.com/a/default-user=s64",
      "userId": "04864680443162201318"
     },
     "user_tz": -480
    },
    "id": "JoHQb-YKd_Aa"
   },
   "outputs": [],
   "source": [
    " #split\n",
    "X_train, X_test, y_train, y_test = train_test_split(data_one.drop('label', axis = 1), data_one.label, \n",
    "                                                    stratify=data_one.label, \n",
    "                                                   random_state=42, \n",
    "                                                   test_size=0.2, shuffle=True)\n",
    "\n",
    "X_train"
   ]
  },
  {
   "cell_type": "code",
   "execution_count": null,
   "metadata": {
    "executionInfo": {
     "elapsed": 28,
     "status": "aborted",
     "timestamp": 1637468804771,
     "user": {
      "displayName": "xin wei teng",
      "photoUrl": "https://lh3.googleusercontent.com/a/default-user=s64",
      "userId": "04864680443162201318"
     },
     "user_tz": -480
    },
    "id": "P1BRw2-peK9Y"
   },
   "outputs": [],
   "source": []
  },
  {
   "cell_type": "code",
   "execution_count": null,
   "metadata": {
    "executionInfo": {
     "elapsed": 27,
     "status": "aborted",
     "timestamp": 1637468804771,
     "user": {
      "displayName": "xin wei teng",
      "photoUrl": "https://lh3.googleusercontent.com/a/default-user=s64",
      "userId": "04864680443162201318"
     },
     "user_tz": -480
    },
    "id": "_NZD2MEppfoK"
   },
   "outputs": [],
   "source": [
    "from sklearn.compose import ColumnTransformer\n",
    "from sklearn.pipeline import Pipeline\n",
    "#TODO: tune\n",
    "from sklearn.ensemble import RandomForestClassifier\n",
    "model = RandomForestClassifier(max_depth=5)\n",
    "\n",
    "tfidf_1 = TfidfVectorizer()\n",
    "clmn = ColumnTransformer([(\"tfidf_1\", tfidf_1, \"clean_comment\")\n",
    "                         ],\n",
    "                         remainder=\"passthrough\")\n",
    "\n",
    "pipe = Pipeline([\n",
    "                  ('tfidf', clmn),\n",
    "                  ('classify', model)\n",
    "                ])\n",
    "\n"
   ]
  },
  {
   "cell_type": "code",
   "execution_count": null,
   "metadata": {
    "executionInfo": {
     "elapsed": 28,
     "status": "aborted",
     "timestamp": 1637468804772,
     "user": {
      "displayName": "xin wei teng",
      "photoUrl": "https://lh3.googleusercontent.com/a/default-user=s64",
      "userId": "04864680443162201318"
     },
     "user_tz": -480
    },
    "id": "6Sx9tsK6qmJZ"
   },
   "outputs": [],
   "source": [
    "pipe.fit(X_train,y_train)"
   ]
  },
  {
   "cell_type": "code",
   "execution_count": null,
   "metadata": {
    "executionInfo": {
     "elapsed": 27,
     "status": "aborted",
     "timestamp": 1637468804772,
     "user": {
      "displayName": "xin wei teng",
      "photoUrl": "https://lh3.googleusercontent.com/a/default-user=s64",
      "userId": "04864680443162201318"
     },
     "user_tz": -480
    },
    "id": "zYJT_UhzqnvN"
   },
   "outputs": [],
   "source": [
    "def metrics(test_data, prediction):\n",
    "  cm = pd.DataFrame(confusion_matrix(test_data, prediction))\n",
    "  cm.columns = ['Predicted Y=0','Predicted Y=1']\n",
    "  cm.index = ['True Y=0','True Y=1']\n",
    "  display(cm)\n",
    "\n",
    "  accuracy = (cm.iloc[0,0]+cm.iloc[1,1])/(cm.iloc[0,0]+cm.iloc[1,1]+cm.iloc[0,1]+cm.iloc[1,0])\n",
    "  print('Accuracy: '+str(accuracy))\n",
    "\n",
    "  # Possible ways to further improve accuracy is to try adjusting the level of significance.\n",
    "\n",
    "  # Calculate Sensitivity (true positive rate)\n",
    "  sensitivity = cm.iloc[1, 1]/(cm.iloc[1, 1] + cm.iloc[1, 0])\n",
    "  print('Sensitivity: '+ str(sensitivity))\n",
    "\n",
    "  # Calculate Specificity (true negative rate)\n",
    "  specificity = cm.iloc[0, 0]/(cm.iloc[0, 0] + cm.iloc[0, 1])\n",
    "  print('Specificity: '+str(specificity))\n",
    "\n",
    "  #Precision\n",
    "  precision = cm.iloc[1,1]/(cm.iloc[1,1]+cm.iloc[0,1])\n",
    "  print('Precision: '+str(precision))\n",
    "\n",
    "  # AUC\n",
    "  print('ROC-AUC:',roc_auc_score(test_data, prediction))\n",
    "\n",
    "  #F1 Score\n",
    "  print(\"F1 score:\", round(f1_score(test_data, prediction), 4))"
   ]
  },
  {
   "cell_type": "code",
   "execution_count": null,
   "metadata": {
    "executionInfo": {
     "elapsed": 27,
     "status": "aborted",
     "timestamp": 1637468804772,
     "user": {
      "displayName": "xin wei teng",
      "photoUrl": "https://lh3.googleusercontent.com/a/default-user=s64",
      "userId": "04864680443162201318"
     },
     "user_tz": -480
    },
    "id": "bvkSdmtLqnxj"
   },
   "outputs": [],
   "source": [
    "y_pred = pipe.predict(X_test)\n",
    "metrics(y_test,y_pred)"
   ]
  },
  {
   "cell_type": "code",
   "execution_count": null,
   "metadata": {
    "executionInfo": {
     "elapsed": 28,
     "status": "aborted",
     "timestamp": 1637468804773,
     "user": {
      "displayName": "xin wei teng",
      "photoUrl": "https://lh3.googleusercontent.com/a/default-user=s64",
      "userId": "04864680443162201318"
     },
     "user_tz": -480
    },
    "id": "y02oJ_zFhZv4"
   },
   "outputs": [],
   "source": []
  },
  {
   "cell_type": "markdown",
   "metadata": {
    "id": "Q70IoEjpk1hP"
   },
   "source": [
    "# dirty comments + cosine sim  + all created features"
   ]
  },
  {
   "cell_type": "code",
   "execution_count": null,
   "metadata": {
    "executionInfo": {
     "elapsed": 27,
     "status": "aborted",
     "timestamp": 1637468804773,
     "user": {
      "displayName": "xin wei teng",
      "photoUrl": "https://lh3.googleusercontent.com/a/default-user=s64",
      "userId": "04864680443162201318"
     },
     "user_tz": -480
    },
    "id": "FQEnrulzk1hc"
   },
   "outputs": [],
   "source": [
    "data_two = data.drop(['author','subreddit','score','ups','downs','parent_comment',\n",
    "                      'clean_comment','lemmatized_comment','lemmatized_parent_comment','clean_parent_comment',\n",
    "                      'clean_lemmatized_parent_comment','vectorized_comment',\n",
    "                      'vectorized_clean_comment',\t'vectorized_parent',\t'vectorized_clean_parent','date',\n",
    "                      'created_utc','lemmatized_clean_comment','cosine_similarity_clean_comments'], axis = 1)"
   ]
  },
  {
   "cell_type": "code",
   "execution_count": null,
   "metadata": {
    "executionInfo": {
     "elapsed": 27,
     "status": "aborted",
     "timestamp": 1637468804773,
     "user": {
      "displayName": "xin wei teng",
      "photoUrl": "https://lh3.googleusercontent.com/a/default-user=s64",
      "userId": "04864680443162201318"
     },
     "user_tz": -480
    },
    "id": "Vidg4FO2k1hc"
   },
   "outputs": [],
   "source": [
    "def sent(x):\n",
    "    if x == 'neu':\n",
    "        return 0\n",
    "    elif x == 'pos':\n",
    "        return 1\n",
    "    elif x == 'neg': \n",
    "        return -1\n",
    "\n",
    "data_two['comment_sentiment'] = data_two['comment_sentiment'].apply(sent)\n",
    "data_two['parent_comment_sentiment'] = data_two['parent_comment_sentiment'].apply(sent)\n"
   ]
  },
  {
   "cell_type": "code",
   "execution_count": null,
   "metadata": {
    "executionInfo": {
     "elapsed": 28,
     "status": "aborted",
     "timestamp": 1637468804774,
     "user": {
      "displayName": "xin wei teng",
      "photoUrl": "https://lh3.googleusercontent.com/a/default-user=s64",
      "userId": "04864680443162201318"
     },
     "user_tz": -480
    },
    "id": "v-6nvoa7k1hc"
   },
   "outputs": [],
   "source": [
    " #split\n",
    "X_train, X_test, y_train, y_test = train_test_split(data_two.drop('label', axis = 1), data_two.label, \n",
    "                                                    stratify=data_two.label, \n",
    "                                                   random_state=42, \n",
    "                                                   test_size=0.2, shuffle=True)\n",
    "\n",
    "X_train"
   ]
  },
  {
   "cell_type": "code",
   "execution_count": null,
   "metadata": {
    "executionInfo": {
     "elapsed": 28,
     "status": "aborted",
     "timestamp": 1637468804774,
     "user": {
      "displayName": "xin wei teng",
      "photoUrl": "https://lh3.googleusercontent.com/a/default-user=s64",
      "userId": "04864680443162201318"
     },
     "user_tz": -480
    },
    "id": "VE1a6z2dk1hd"
   },
   "outputs": [],
   "source": [
    "from sklearn.compose import ColumnTransformer\n",
    "from sklearn.pipeline import Pipeline\n",
    "#TODO: tune\n",
    "from sklearn.ensemble import RandomForestClassifier\n",
    "model = RandomForestClassifier(max_depth=5)\n",
    "\n",
    "tfidf_1 = TfidfVectorizer()\n",
    "clmn = ColumnTransformer([(\"tfidf_1\", tfidf_1, \"comment\")\n",
    "                         ],\n",
    "                         remainder=\"passthrough\")\n",
    "\n",
    "pipe = Pipeline([\n",
    "                  ('tfidf', clmn),\n",
    "                  ('classify', model)\n",
    "                ])\n",
    "\n"
   ]
  },
  {
   "cell_type": "code",
   "execution_count": null,
   "metadata": {
    "executionInfo": {
     "elapsed": 27,
     "status": "aborted",
     "timestamp": 1637468804774,
     "user": {
      "displayName": "xin wei teng",
      "photoUrl": "https://lh3.googleusercontent.com/a/default-user=s64",
      "userId": "04864680443162201318"
     },
     "user_tz": -480
    },
    "id": "yJvmHOQok1hd"
   },
   "outputs": [],
   "source": [
    "pipe.fit(X_train,y_train)"
   ]
  },
  {
   "cell_type": "code",
   "execution_count": null,
   "metadata": {
    "executionInfo": {
     "elapsed": 28,
     "status": "aborted",
     "timestamp": 1637468804775,
     "user": {
      "displayName": "xin wei teng",
      "photoUrl": "https://lh3.googleusercontent.com/a/default-user=s64",
      "userId": "04864680443162201318"
     },
     "user_tz": -480
    },
    "id": "OWHA6S5rk1hd"
   },
   "outputs": [],
   "source": [
    "y_pred = pipe.predict(X_test)\n",
    "metrics(y_test,y_pred)"
   ]
  },
  {
   "cell_type": "markdown",
   "metadata": {
    "id": "-Z8xgj58ltw6"
   },
   "source": []
  },
  {
   "cell_type": "markdown",
   "metadata": {
    "id": "57BGOVgQhaFL"
   },
   "source": [
    "# dirty comments and cosine sim dirty"
   ]
  },
  {
   "cell_type": "code",
   "execution_count": null,
   "metadata": {
    "executionInfo": {
     "elapsed": 341,
     "status": "aborted",
     "timestamp": 1637468805088,
     "user": {
      "displayName": "xin wei teng",
      "photoUrl": "https://lh3.googleusercontent.com/a/default-user=s64",
      "userId": "04864680443162201318"
     },
     "user_tz": -480
    },
    "id": "6vArTN5FhmlT"
   },
   "outputs": [],
   "source": [
    "data_three = data[['label','comment','cosine_similarity_dirty_comments']]\n",
    "data_three.head()"
   ]
  },
  {
   "cell_type": "code",
   "execution_count": null,
   "metadata": {
    "executionInfo": {
     "elapsed": 341,
     "status": "aborted",
     "timestamp": 1637468805088,
     "user": {
      "displayName": "xin wei teng",
      "photoUrl": "https://lh3.googleusercontent.com/a/default-user=s64",
      "userId": "04864680443162201318"
     },
     "user_tz": -480
    },
    "id": "7V8C4Wtjhmo5"
   },
   "outputs": [],
   "source": [
    "#CHANGE THIS for different feature subset\n",
    "\n",
    " #split\n",
    "X_train, X_test, y_train, y_test = train_test_split(data_three.drop('label', axis = 1), data_three.label, \n",
    "                                                    stratify=data_three.label, \n",
    "                                                   random_state=42, \n",
    "                                                   test_size=0.2, shuffle=True)\n",
    "\n",
    "X_train"
   ]
  },
  {
   "cell_type": "code",
   "execution_count": null,
   "metadata": {
    "executionInfo": {
     "elapsed": 341,
     "status": "aborted",
     "timestamp": 1637468805089,
     "user": {
      "displayName": "xin wei teng",
      "photoUrl": "https://lh3.googleusercontent.com/a/default-user=s64",
      "userId": "04864680443162201318"
     },
     "user_tz": -480
    },
    "id": "AUiKN-JKhmq6"
   },
   "outputs": [],
   "source": [
    "from sklearn.tree import DecisionTreeClassifier\n",
    "from sklearn.compose import ColumnTransformer\n",
    "from sklearn.pipeline import Pipeline\n",
    "from sklearn.metrics import accuracy_score,f1_score,precision_score,roc_auc_score,recall_score,confusion_matrix\n",
    "\n",
    "model = RandomForestClassifier(max_depth=5)\n",
    "\n",
    "tfidf_1 = TfidfVectorizer()\n",
    "clmn = ColumnTransformer([(\"tfidf_1\", tfidf_1, \"comment\")\n",
    "                    ],\n",
    "                    remainder=\"passthrough\")\n",
    "pipe = Pipeline([\n",
    "              ('tfidf', clmn),\n",
    "              ('classify', model)\n",
    "            ])\n",
    "pipe.fit(X_train, y_train)"
   ]
  },
  {
   "cell_type": "code",
   "execution_count": null,
   "metadata": {
    "executionInfo": {
     "elapsed": 342,
     "status": "aborted",
     "timestamp": 1637468805090,
     "user": {
      "displayName": "xin wei teng",
      "photoUrl": "https://lh3.googleusercontent.com/a/default-user=s64",
      "userId": "04864680443162201318"
     },
     "user_tz": -480
    },
    "id": "r57nXeWQhmsx"
   },
   "outputs": [],
   "source": [
    "y_pred = pipe.predict(X_test)\n",
    "metrics(y_test,y_pred)"
   ]
  },
  {
   "cell_type": "code",
   "execution_count": null,
   "metadata": {
    "executionInfo": {
     "elapsed": 342,
     "status": "aborted",
     "timestamp": 1637468805090,
     "user": {
      "displayName": "xin wei teng",
      "photoUrl": "https://lh3.googleusercontent.com/a/default-user=s64",
      "userId": "04864680443162201318"
     },
     "user_tz": -480
    },
    "id": "6FzOrlhkhmua"
   },
   "outputs": [],
   "source": []
  },
  {
   "cell_type": "markdown",
   "metadata": {
    "id": "dkME3cqrmMk7"
   },
   "source": [
    "# clean comments and cosine sim clean"
   ]
  },
  {
   "cell_type": "code",
   "execution_count": null,
   "metadata": {
    "executionInfo": {
     "elapsed": 343,
     "status": "aborted",
     "timestamp": 1637468805091,
     "user": {
      "displayName": "xin wei teng",
      "photoUrl": "https://lh3.googleusercontent.com/a/default-user=s64",
      "userId": "04864680443162201318"
     },
     "user_tz": -480
    },
    "id": "JNKkaPARmMk7"
   },
   "outputs": [],
   "source": [
    "data_four = data[['label','clean_comment','cosine_similarity_clean_comments']]\n",
    "data_four.head()"
   ]
  },
  {
   "cell_type": "code",
   "execution_count": null,
   "metadata": {
    "executionInfo": {
     "elapsed": 343,
     "status": "aborted",
     "timestamp": 1637468805091,
     "user": {
      "displayName": "xin wei teng",
      "photoUrl": "https://lh3.googleusercontent.com/a/default-user=s64",
      "userId": "04864680443162201318"
     },
     "user_tz": -480
    },
    "id": "OMDOmEX8mMk8"
   },
   "outputs": [],
   "source": [
    "#CHANGE THIS for different feature subset\n",
    "\n",
    " #split\n",
    "X_train, X_test, y_train, y_test = train_test_split(data_four.drop('label', axis = 1), data_four.label, \n",
    "                                                    stratify=data_four.label, \n",
    "                                                   random_state=42, \n",
    "                                                   test_size=0.2, shuffle=True)\n",
    "\n",
    "X_train"
   ]
  },
  {
   "cell_type": "code",
   "execution_count": null,
   "metadata": {
    "executionInfo": {
     "elapsed": 343,
     "status": "aborted",
     "timestamp": 1637468805092,
     "user": {
      "displayName": "xin wei teng",
      "photoUrl": "https://lh3.googleusercontent.com/a/default-user=s64",
      "userId": "04864680443162201318"
     },
     "user_tz": -480
    },
    "id": "ut3bQebQmMk8"
   },
   "outputs": [],
   "source": [
    "from sklearn.tree import DecisionTreeClassifier\n",
    "from sklearn.compose import ColumnTransformer\n",
    "from sklearn.pipeline import Pipeline\n",
    "from sklearn.metrics import accuracy_score,f1_score,precision_score,roc_auc_score,recall_score,confusion_matrix\n",
    "\n",
    "model = RandomForestClassifier(max_depth=5)\n",
    "\n",
    "tfidf_1 = TfidfVectorizer()\n",
    "clmn = ColumnTransformer([(\"tfidf_1\", tfidf_1, \"clean_comment\")\n",
    "                    ],\n",
    "                    remainder=\"passthrough\")\n",
    "pipe = Pipeline([\n",
    "              ('tfidf', clmn),\n",
    "              ('classify', model)\n",
    "            ])\n",
    "pipe.fit(X_train, y_train)"
   ]
  },
  {
   "cell_type": "code",
   "execution_count": null,
   "metadata": {
    "executionInfo": {
     "elapsed": 343,
     "status": "aborted",
     "timestamp": 1637468805092,
     "user": {
      "displayName": "xin wei teng",
      "photoUrl": "https://lh3.googleusercontent.com/a/default-user=s64",
      "userId": "04864680443162201318"
     },
     "user_tz": -480
    },
    "id": "5MwgAAEZmMk8"
   },
   "outputs": [],
   "source": [
    "y_pred = pipe.predict(X_test)\n",
    "metrics(y_test,y_pred)"
   ]
  },
  {
   "cell_type": "code",
   "execution_count": null,
   "metadata": {
    "executionInfo": {
     "elapsed": 344,
     "status": "aborted",
     "timestamp": 1637468805093,
     "user": {
      "displayName": "xin wei teng",
      "photoUrl": "https://lh3.googleusercontent.com/a/default-user=s64",
      "userId": "04864680443162201318"
     },
     "user_tz": -480
    },
    "id": "q7DpAjzahmwY"
   },
   "outputs": [],
   "source": []
  }
 ],
 "metadata": {
  "colab": {
   "collapsed_sections": [
    "MbTD0oTFlv_B",
    "gCd_zvdr6u-H",
    "62GvLJ9DGCbR",
    "81lx4aNCUNL4",
    "FWv3Ugn2UaCD",
    "LnVlDRoydaS-",
    "Q70IoEjpk1hP",
    "57BGOVgQhaFL",
    "dkME3cqrmMk7"
   ],
   "name": "Random forest xw.ipynb",
   "provenance": [
    {
     "file_id": "1H5nLEK8JtjSSyrSvA5V08qSDFeH1sLWI",
     "timestamp": 1637163662085
    }
   ]
  },
  "kernelspec": {
   "display_name": "Python 3",
   "language": "python",
   "name": "python3"
  },
  "language_info": {
   "codemirror_mode": {
    "name": "ipython",
    "version": 3
   },
   "file_extension": ".py",
   "mimetype": "text/x-python",
   "name": "python",
   "nbconvert_exporter": "python",
   "pygments_lexer": "ipython3",
   "version": "3.8.5"
  }
 },
 "nbformat": 4,
 "nbformat_minor": 1
}
