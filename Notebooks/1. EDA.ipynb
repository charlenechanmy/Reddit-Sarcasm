{
 "cells": [
  {
   "cell_type": "code",
   "execution_count": null,
   "metadata": {
    "colab": {
     "base_uri": "https://localhost:8080/"
    },
    "executionInfo": {
     "elapsed": 2862,
     "status": "ok",
     "timestamp": 1634541857880,
     "user": {
      "displayName": "Chris Yew",
      "photoUrl": "https://lh3.googleusercontent.com/a/default-user=s64",
      "userId": "09518424203937384471"
     },
     "user_tz": -480
    },
    "id": "Ma_goE-lRHC5",
    "outputId": "e5875edc-c3c0-4547-b071-8d49677e69e0"
   },
   "outputs": [
    {
     "name": "stdout",
     "output_type": "stream",
     "text": [
      "[nltk_data] Downloading package punkt to /root/nltk_data...\n",
      "[nltk_data]   Unzipping tokenizers/punkt.zip.\n",
      "[nltk_data] Downloading package stopwords to /root/nltk_data...\n",
      "[nltk_data]   Unzipping corpora/stopwords.zip.\n",
      "[nltk_data] Downloading package averaged_perceptron_tagger to\n",
      "[nltk_data]     /root/nltk_data...\n",
      "[nltk_data]   Unzipping taggers/averaged_perceptron_tagger.zip.\n",
      "[nltk_data] Downloading package wordnet to /root/nltk_data...\n",
      "[nltk_data]   Unzipping corpora/wordnet.zip.\n",
      "[nltk_data] Downloading package words to /root/nltk_data...\n",
      "[nltk_data]   Unzipping corpora/words.zip.\n"
     ]
    },
    {
     "data": {
      "text/plain": [
       "True"
      ]
     },
     "execution_count": 1,
     "metadata": {},
     "output_type": "execute_result"
    }
   ],
   "source": [
    "# import packages\n",
    "import numpy as np\n",
    "import pandas as pd\n",
    "import os\n",
    "import datetime as dt\n",
    "import stat\n",
    "from scipy.stats import pointbiserialr\n",
    "from matplotlib import pyplot as plt\n",
    "from wordcloud import WordCloud, STOPWORDS\n",
    "import seaborn as sns\n",
    "import re\n",
    "\n",
    "\n",
    "#for text processing\n",
    "import nltk\n",
    "from nltk.tokenize import word_tokenize\n",
    "nltk.download('punkt')\n",
    "from nltk.corpus import stopwords\n",
    "nltk.download('stopwords')\n",
    "from nltk.stem import PorterStemmer\n",
    "from nltk.stem import WordNetLemmatizer\n",
    "nltk.download('averaged_perceptron_tagger')\n",
    "from nltk.corpus import wordnet\n",
    "nltk.download('wordnet')\n",
    "import string\n",
    "nltk.download('words')\n"
   ]
  },
  {
   "cell_type": "code",
   "execution_count": null,
   "metadata": {
    "id": "Bb6XQLFURXLD"
   },
   "outputs": [],
   "source": [
    "# Code to read csv file into Colaboratory:\n",
    "!pip install -U -q PyDrive\n",
    "from pydrive.auth import GoogleAuth\n",
    "from pydrive.drive import GoogleDrive\n",
    "from google.colab import auth\n",
    "from oauth2client.client import GoogleCredentials\n",
    "# Authenticate and create the PyDrive client.\n",
    "auth.authenticate_user()\n",
    "gauth = GoogleAuth()\n",
    "gauth.credentials = GoogleCredentials.get_application_default()\n",
    "drive = GoogleDrive(gauth)"
   ]
  },
  {
   "cell_type": "code",
   "execution_count": null,
   "metadata": {
    "id": "7baT6w_kGOa5"
   },
   "outputs": [],
   "source": [
    "id = '1tkry63EvDXY_CPSfDomBoa8IbUXZN-2y'"
   ]
  },
  {
   "cell_type": "code",
   "execution_count": null,
   "metadata": {
    "id": "UE6VgFhFGOfg"
   },
   "outputs": [],
   "source": [
    "downloaded = drive.CreateFile({'id':id}) \n",
    "downloaded.GetContentFile('train-balanced-sarcasm.csv')  \n",
    "df = pd.read_csv('train-balanced-sarcasm.csv')\n",
    "# Dataset is now stored in a Pandas Dataframe"
   ]
  },
  {
   "cell_type": "code",
   "execution_count": null,
   "metadata": {
    "colab": {
     "base_uri": "https://localhost:8080/",
     "height": 204
    },
    "executionInfo": {
     "elapsed": 12,
     "status": "ok",
     "timestamp": 1634542482136,
     "user": {
      "displayName": "Chris Yew",
      "photoUrl": "https://lh3.googleusercontent.com/a/default-user=s64",
      "userId": "09518424203937384471"
     },
     "user_tz": -480
    },
    "id": "Rmu3sRDlLwUq",
    "outputId": "3a936ced-2692-4e2a-b05a-4367d997afc7"
   },
   "outputs": [
    {
     "data": {
      "text/html": [
       "<div>\n",
       "<style scoped>\n",
       "    .dataframe tbody tr th:only-of-type {\n",
       "        vertical-align: middle;\n",
       "    }\n",
       "\n",
       "    .dataframe tbody tr th {\n",
       "        vertical-align: top;\n",
       "    }\n",
       "\n",
       "    .dataframe thead th {\n",
       "        text-align: right;\n",
       "    }\n",
       "</style>\n",
       "<table border=\"1\" class=\"dataframe\">\n",
       "  <thead>\n",
       "    <tr style=\"text-align: right;\">\n",
       "      <th></th>\n",
       "      <th>label</th>\n",
       "      <th>comment</th>\n",
       "      <th>author</th>\n",
       "      <th>subreddit</th>\n",
       "      <th>score</th>\n",
       "      <th>ups</th>\n",
       "      <th>downs</th>\n",
       "      <th>date</th>\n",
       "      <th>created_utc</th>\n",
       "      <th>parent_comment</th>\n",
       "    </tr>\n",
       "  </thead>\n",
       "  <tbody>\n",
       "    <tr>\n",
       "      <th>0</th>\n",
       "      <td>0</td>\n",
       "      <td>NC and NH.</td>\n",
       "      <td>Trumpbart</td>\n",
       "      <td>politics</td>\n",
       "      <td>2</td>\n",
       "      <td>-1</td>\n",
       "      <td>-1</td>\n",
       "      <td>2016-10</td>\n",
       "      <td>2016-10-16 23:55:23</td>\n",
       "      <td>Yeah, I get that argument. At this point, I'd ...</td>\n",
       "    </tr>\n",
       "    <tr>\n",
       "      <th>1</th>\n",
       "      <td>0</td>\n",
       "      <td>You do know west teams play against west teams...</td>\n",
       "      <td>Shbshb906</td>\n",
       "      <td>nba</td>\n",
       "      <td>-4</td>\n",
       "      <td>-1</td>\n",
       "      <td>-1</td>\n",
       "      <td>2016-11</td>\n",
       "      <td>2016-11-01 00:24:10</td>\n",
       "      <td>The blazers and Mavericks (The wests 5 and 6 s...</td>\n",
       "    </tr>\n",
       "    <tr>\n",
       "      <th>2</th>\n",
       "      <td>0</td>\n",
       "      <td>They were underdogs earlier today, but since G...</td>\n",
       "      <td>Creepeth</td>\n",
       "      <td>nfl</td>\n",
       "      <td>3</td>\n",
       "      <td>3</td>\n",
       "      <td>0</td>\n",
       "      <td>2016-09</td>\n",
       "      <td>2016-09-22 21:45:37</td>\n",
       "      <td>They're favored to win.</td>\n",
       "    </tr>\n",
       "    <tr>\n",
       "      <th>3</th>\n",
       "      <td>0</td>\n",
       "      <td>This meme isn't funny none of the \"new york ni...</td>\n",
       "      <td>icebrotha</td>\n",
       "      <td>BlackPeopleTwitter</td>\n",
       "      <td>-8</td>\n",
       "      <td>-1</td>\n",
       "      <td>-1</td>\n",
       "      <td>2016-10</td>\n",
       "      <td>2016-10-18 21:03:47</td>\n",
       "      <td>deadass don't kill my buzz</td>\n",
       "    </tr>\n",
       "    <tr>\n",
       "      <th>4</th>\n",
       "      <td>0</td>\n",
       "      <td>I could use one of those tools.</td>\n",
       "      <td>cush2push</td>\n",
       "      <td>MaddenUltimateTeam</td>\n",
       "      <td>6</td>\n",
       "      <td>-1</td>\n",
       "      <td>-1</td>\n",
       "      <td>2016-12</td>\n",
       "      <td>2016-12-30 17:00:13</td>\n",
       "      <td>Yep can confirm I saw the tool they use for th...</td>\n",
       "    </tr>\n",
       "  </tbody>\n",
       "</table>\n",
       "</div>"
      ],
      "text/plain": [
       "   label  ...                                     parent_comment\n",
       "0      0  ...  Yeah, I get that argument. At this point, I'd ...\n",
       "1      0  ...  The blazers and Mavericks (The wests 5 and 6 s...\n",
       "2      0  ...                            They're favored to win.\n",
       "3      0  ...                         deadass don't kill my buzz\n",
       "4      0  ...  Yep can confirm I saw the tool they use for th...\n",
       "\n",
       "[5 rows x 10 columns]"
      ]
     },
     "execution_count": 5,
     "metadata": {},
     "output_type": "execute_result"
    }
   ],
   "source": [
    "df.head()"
   ]
  },
  {
   "cell_type": "code",
   "execution_count": null,
   "metadata": {
    "colab": {
     "base_uri": "https://localhost:8080/"
    },
    "executionInfo": {
     "elapsed": 630,
     "status": "ok",
     "timestamp": 1634542482757,
     "user": {
      "displayName": "Chris Yew",
      "photoUrl": "https://lh3.googleusercontent.com/a/default-user=s64",
      "userId": "09518424203937384471"
     },
     "user_tz": -480
    },
    "id": "2dwIqcI2R5pF",
    "outputId": "2971a5f3-b9cd-4b0c-e1cc-3e35dea43c7d"
   },
   "outputs": [
    {
     "name": "stdout",
     "output_type": "stream",
     "text": [
      "<class 'pandas.core.frame.DataFrame'>\n",
      "RangeIndex: 1010826 entries, 0 to 1010825\n",
      "Data columns (total 10 columns):\n",
      " #   Column          Non-Null Count    Dtype         \n",
      "---  ------          --------------    -----         \n",
      " 0   label           1010826 non-null  int64         \n",
      " 1   comment         1010773 non-null  object        \n",
      " 2   author          1010826 non-null  object        \n",
      " 3   subreddit       1010826 non-null  object        \n",
      " 4   score           1010826 non-null  int64         \n",
      " 5   ups             1010826 non-null  int64         \n",
      " 6   downs           1010826 non-null  int64         \n",
      " 7   date            1010826 non-null  object        \n",
      " 8   created_utc     1010826 non-null  datetime64[ns]\n",
      " 9   parent_comment  1010826 non-null  object        \n",
      "dtypes: datetime64[ns](1), int64(4), object(5)\n",
      "memory usage: 77.1+ MB\n"
     ]
    }
   ],
   "source": [
    "df.created_utc = pd.to_datetime(df.created_utc)\n",
    "df.shape\n",
    "df.info()"
   ]
  },
  {
   "cell_type": "markdown",
   "metadata": {
    "id": "WQr54d8XH7Dn"
   },
   "source": [
    "# Missing comments"
   ]
  },
  {
   "cell_type": "code",
   "execution_count": null,
   "metadata": {
    "colab": {
     "base_uri": "https://localhost:8080/",
     "height": 221
    },
    "executionInfo": {
     "elapsed": 10,
     "status": "ok",
     "timestamp": 1634542482758,
     "user": {
      "displayName": "Chris Yew",
      "photoUrl": "https://lh3.googleusercontent.com/a/default-user=s64",
      "userId": "09518424203937384471"
     },
     "user_tz": -480
    },
    "id": "OmymUQZyR9BF",
    "outputId": "de413db7-c4fa-4db7-828e-aa7a23ec337f"
   },
   "outputs": [
    {
     "name": "stdout",
     "output_type": "stream",
     "text": [
      "1010826\n"
     ]
    },
    {
     "data": {
      "text/html": [
       "<div>\n",
       "<style scoped>\n",
       "    .dataframe tbody tr th:only-of-type {\n",
       "        vertical-align: middle;\n",
       "    }\n",
       "\n",
       "    .dataframe tbody tr th {\n",
       "        vertical-align: top;\n",
       "    }\n",
       "\n",
       "    .dataframe thead th {\n",
       "        text-align: right;\n",
       "    }\n",
       "</style>\n",
       "<table border=\"1\" class=\"dataframe\">\n",
       "  <thead>\n",
       "    <tr style=\"text-align: right;\">\n",
       "      <th></th>\n",
       "      <th>label</th>\n",
       "      <th>comment</th>\n",
       "      <th>author</th>\n",
       "      <th>subreddit</th>\n",
       "      <th>score</th>\n",
       "      <th>ups</th>\n",
       "      <th>downs</th>\n",
       "      <th>date</th>\n",
       "      <th>created_utc</th>\n",
       "      <th>parent_comment</th>\n",
       "    </tr>\n",
       "  </thead>\n",
       "  <tbody>\n",
       "    <tr>\n",
       "      <th>56269</th>\n",
       "      <td>1</td>\n",
       "      <td>NaN</td>\n",
       "      <td>SodokuIRL</td>\n",
       "      <td>leagueoflegends</td>\n",
       "      <td>1</td>\n",
       "      <td>1</td>\n",
       "      <td>0</td>\n",
       "      <td>2016-09</td>\n",
       "      <td>2016-09-28 08:23:04</td>\n",
       "      <td>LPL shitshow, EU LCS shitshow. What isn't a sh...</td>\n",
       "    </tr>\n",
       "    <tr>\n",
       "      <th>68590</th>\n",
       "      <td>1</td>\n",
       "      <td>NaN</td>\n",
       "      <td>TossTheDog</td>\n",
       "      <td>westchesterpa</td>\n",
       "      <td>1</td>\n",
       "      <td>-1</td>\n",
       "      <td>-1</td>\n",
       "      <td>2016-10</td>\n",
       "      <td>2016-10-11 20:25:52</td>\n",
       "      <td>Car fires smell delicious to you? You should p...</td>\n",
       "    </tr>\n",
       "    <tr>\n",
       "      <th>135348</th>\n",
       "      <td>0</td>\n",
       "      <td>NaN</td>\n",
       "      <td>So12rovv</td>\n",
       "      <td>R6STeams</td>\n",
       "      <td>1</td>\n",
       "      <td>-1</td>\n",
       "      <td>-1</td>\n",
       "      <td>2016-12</td>\n",
       "      <td>2016-12-22 17:24:05</td>\n",
       "      <td>Will do. EU or NA?</td>\n",
       "    </tr>\n",
       "    <tr>\n",
       "      <th>199910</th>\n",
       "      <td>0</td>\n",
       "      <td>NaN</td>\n",
       "      <td>Khvostov_7g-02</td>\n",
       "      <td>tf2</td>\n",
       "      <td>1</td>\n",
       "      <td>1</td>\n",
       "      <td>0</td>\n",
       "      <td>2016-05</td>\n",
       "      <td>2016-05-16 05:46:43</td>\n",
       "      <td>woah, thanks.</td>\n",
       "    </tr>\n",
       "    <tr>\n",
       "      <th>258718</th>\n",
       "      <td>1</td>\n",
       "      <td>NaN</td>\n",
       "      <td>PeaceLovePositivity</td>\n",
       "      <td>vaporents</td>\n",
       "      <td>5</td>\n",
       "      <td>5</td>\n",
       "      <td>0</td>\n",
       "      <td>2016-06</td>\n",
       "      <td>2016-06-22 20:37:11</td>\n",
       "      <td>No, doing drugs while forming a fetus (your ki...</td>\n",
       "    </tr>\n",
       "  </tbody>\n",
       "</table>\n",
       "</div>"
      ],
      "text/plain": [
       "        label  ...                                     parent_comment\n",
       "56269       1  ...  LPL shitshow, EU LCS shitshow. What isn't a sh...\n",
       "68590       1  ...  Car fires smell delicious to you? You should p...\n",
       "135348      0  ...                                 Will do. EU or NA?\n",
       "199910      0  ...                                      woah, thanks.\n",
       "258718      1  ...  No, doing drugs while forming a fetus (your ki...\n",
       "\n",
       "[5 rows x 10 columns]"
      ]
     },
     "execution_count": 7,
     "metadata": {},
     "output_type": "execute_result"
    }
   ],
   "source": [
    "print(len(df[\"comment\"]==True))\n",
    "df[pd.isna(df[\"comment\"])==True].head()"
   ]
  },
  {
   "cell_type": "markdown",
   "metadata": {
    "id": "nQiuXj45OGfK"
   },
   "source": [
    "# Check if there are duplicated rows"
   ]
  },
  {
   "cell_type": "code",
   "execution_count": null,
   "metadata": {
    "colab": {
     "base_uri": "https://localhost:8080/"
    },
    "executionInfo": {
     "elapsed": 3164,
     "status": "ok",
     "timestamp": 1634542485917,
     "user": {
      "displayName": "Chris Yew",
      "photoUrl": "https://lh3.googleusercontent.com/a/default-user=s64",
      "userId": "09518424203937384471"
     },
     "user_tz": -480
    },
    "id": "P5e2XStBOTLR",
    "outputId": "611c0472-40e4-4433-a99a-d30d3ea3f888"
   },
   "outputs": [
    {
     "data": {
      "text/plain": [
       "53"
      ]
     },
     "execution_count": 8,
     "metadata": {},
     "output_type": "execute_result"
    }
   ],
   "source": [
    "sum(df.duplicated(keep=False)) "
   ]
  },
  {
   "cell_type": "markdown",
   "metadata": {
    "id": "7uiIv2VbOfy_"
   },
   "source": [
    "There are 53 duplicated rows!"
   ]
  },
  {
   "cell_type": "code",
   "execution_count": null,
   "metadata": {
    "colab": {
     "base_uri": "https://localhost:8080/",
     "height": 1000
    },
    "executionInfo": {
     "elapsed": 2822,
     "status": "ok",
     "timestamp": 1634542488727,
     "user": {
      "displayName": "Chris Yew",
      "photoUrl": "https://lh3.googleusercontent.com/a/default-user=s64",
      "userId": "09518424203937384471"
     },
     "user_tz": -480
    },
    "id": "ZGMDWkFhoCVk",
    "outputId": "78c4ff7b-618d-46a3-8a3b-77e514908813"
   },
   "outputs": [
    {
     "data": {
      "text/html": [
       "<div>\n",
       "<style scoped>\n",
       "    .dataframe tbody tr th:only-of-type {\n",
       "        vertical-align: middle;\n",
       "    }\n",
       "\n",
       "    .dataframe tbody tr th {\n",
       "        vertical-align: top;\n",
       "    }\n",
       "\n",
       "    .dataframe thead th {\n",
       "        text-align: right;\n",
       "    }\n",
       "</style>\n",
       "<table border=\"1\" class=\"dataframe\">\n",
       "  <thead>\n",
       "    <tr style=\"text-align: right;\">\n",
       "      <th></th>\n",
       "      <th>label</th>\n",
       "      <th>comment</th>\n",
       "      <th>author</th>\n",
       "      <th>subreddit</th>\n",
       "      <th>score</th>\n",
       "      <th>ups</th>\n",
       "      <th>downs</th>\n",
       "      <th>date</th>\n",
       "      <th>created_utc</th>\n",
       "      <th>parent_comment</th>\n",
       "    </tr>\n",
       "  </thead>\n",
       "  <tbody>\n",
       "    <tr>\n",
       "      <th>851</th>\n",
       "      <td>1</td>\n",
       "      <td>Said the under 2k post karma guy *expert*</td>\n",
       "      <td>iam4real</td>\n",
       "      <td>youdontsurf</td>\n",
       "      <td>1</td>\n",
       "      <td>-1</td>\n",
       "      <td>-1</td>\n",
       "      <td>2016-11</td>\n",
       "      <td>2016-11-02 10:09:10</td>\n",
       "      <td>This subreddit really does suck.</td>\n",
       "    </tr>\n",
       "    <tr>\n",
       "      <th>23777</th>\n",
       "      <td>1</td>\n",
       "      <td>Said the under 2k post karma guy *expert*</td>\n",
       "      <td>iam4real</td>\n",
       "      <td>youdontsurf</td>\n",
       "      <td>1</td>\n",
       "      <td>-1</td>\n",
       "      <td>-1</td>\n",
       "      <td>2016-11</td>\n",
       "      <td>2016-11-02 10:09:10</td>\n",
       "      <td>This subreddit really does suck.</td>\n",
       "    </tr>\n",
       "    <tr>\n",
       "      <th>66727</th>\n",
       "      <td>1</td>\n",
       "      <td>USE REAL WORDS, DAMN IT</td>\n",
       "      <td>FlameSpartan</td>\n",
       "      <td>TumblrInAction</td>\n",
       "      <td>1</td>\n",
       "      <td>1</td>\n",
       "      <td>0</td>\n",
       "      <td>2016-09</td>\n",
       "      <td>2016-09-07 00:31:39</td>\n",
       "      <td>Yo, that's such a kawai'i level of desu, it ma...</td>\n",
       "    </tr>\n",
       "    <tr>\n",
       "      <th>78313</th>\n",
       "      <td>1</td>\n",
       "      <td>USE REAL WORDS, DAMN IT</td>\n",
       "      <td>FlameSpartan</td>\n",
       "      <td>TumblrInAction</td>\n",
       "      <td>1</td>\n",
       "      <td>1</td>\n",
       "      <td>0</td>\n",
       "      <td>2016-09</td>\n",
       "      <td>2016-09-07 00:31:39</td>\n",
       "      <td>Yo, that's such a kawai'i level of desu, it ma...</td>\n",
       "    </tr>\n",
       "    <tr>\n",
       "      <th>125805</th>\n",
       "      <td>1</td>\n",
       "      <td>Hey you're that one guy who racked in all that...</td>\n",
       "      <td>OG_Phx_Son</td>\n",
       "      <td>pcmasterrace</td>\n",
       "      <td>1</td>\n",
       "      <td>-1</td>\n",
       "      <td>-1</td>\n",
       "      <td>2016-10</td>\n",
       "      <td>2016-10-02 15:56:40</td>\n",
       "      <td>Practice mowing lawns pls</td>\n",
       "    </tr>\n",
       "    <tr>\n",
       "      <th>160906</th>\n",
       "      <td>1</td>\n",
       "      <td>Hey you're that one guy who racked in all that...</td>\n",
       "      <td>OG_Phx_Son</td>\n",
       "      <td>pcmasterrace</td>\n",
       "      <td>1</td>\n",
       "      <td>-1</td>\n",
       "      <td>-1</td>\n",
       "      <td>2016-10</td>\n",
       "      <td>2016-10-02 15:56:40</td>\n",
       "      <td>Practice mowing lawns pls</td>\n",
       "    </tr>\n",
       "    <tr>\n",
       "      <th>185564</th>\n",
       "      <td>1</td>\n",
       "      <td>Well this sub went from 64k to 94k last week s...</td>\n",
       "      <td>TheSergeantWinter</td>\n",
       "      <td>battlefield_one</td>\n",
       "      <td>1</td>\n",
       "      <td>-1</td>\n",
       "      <td>-1</td>\n",
       "      <td>2016-10</td>\n",
       "      <td>2016-10-31 12:05:49</td>\n",
       "      <td>Define \"a lot\", and then tell me how you can j...</td>\n",
       "    </tr>\n",
       "    <tr>\n",
       "      <th>190948</th>\n",
       "      <td>1</td>\n",
       "      <td>Because Sandy Hook, CT and Aurora, CO were so ...</td>\n",
       "      <td>Gogomelo</td>\n",
       "      <td>news</td>\n",
       "      <td>-9</td>\n",
       "      <td>-9</td>\n",
       "      <td>0</td>\n",
       "      <td>2016-07</td>\n",
       "      <td>2016-07-31 11:59:53</td>\n",
       "      <td>Just stay out of ghetto neighborhoods, violent...</td>\n",
       "    </tr>\n",
       "    <tr>\n",
       "      <th>198234</th>\n",
       "      <td>1</td>\n",
       "      <td>Unless your neighbour's face is hidden under a...</td>\n",
       "      <td>deadcat</td>\n",
       "      <td>australia</td>\n",
       "      <td>1</td>\n",
       "      <td>1</td>\n",
       "      <td>0</td>\n",
       "      <td>2016-07</td>\n",
       "      <td>2016-07-04 21:45:37</td>\n",
       "      <td>It's much easier to blindly hate a faceless id...</td>\n",
       "    </tr>\n",
       "    <tr>\n",
       "      <th>201633</th>\n",
       "      <td>1</td>\n",
       "      <td>Because Sandy Hook, CT and Aurora, CO were so ...</td>\n",
       "      <td>Gogomelo</td>\n",
       "      <td>news</td>\n",
       "      <td>-9</td>\n",
       "      <td>-9</td>\n",
       "      <td>0</td>\n",
       "      <td>2016-07</td>\n",
       "      <td>2016-07-31 11:59:53</td>\n",
       "      <td>Just stay out of ghetto neighborhoods, violent...</td>\n",
       "    </tr>\n",
       "    <tr>\n",
       "      <th>212722</th>\n",
       "      <td>1</td>\n",
       "      <td>That's just a player who knows how to get maxi...</td>\n",
       "      <td>Ignitus1</td>\n",
       "      <td>heroesofthestorm</td>\n",
       "      <td>1</td>\n",
       "      <td>1</td>\n",
       "      <td>0</td>\n",
       "      <td>2016-08</td>\n",
       "      <td>2016-08-06 19:40:18</td>\n",
       "      <td>tell that to the murky I played with yesterday...</td>\n",
       "    </tr>\n",
       "    <tr>\n",
       "      <th>223116</th>\n",
       "      <td>1</td>\n",
       "      <td>That's just a player who knows how to get maxi...</td>\n",
       "      <td>Ignitus1</td>\n",
       "      <td>heroesofthestorm</td>\n",
       "      <td>1</td>\n",
       "      <td>1</td>\n",
       "      <td>0</td>\n",
       "      <td>2016-08</td>\n",
       "      <td>2016-08-06 19:40:18</td>\n",
       "      <td>tell that to the murky I played with yesterday...</td>\n",
       "    </tr>\n",
       "    <tr>\n",
       "      <th>249925</th>\n",
       "      <td>1</td>\n",
       "      <td>Im sure players would LOVE to have to fly all ...</td>\n",
       "      <td>pewpewpew52</td>\n",
       "      <td>nfl</td>\n",
       "      <td>2</td>\n",
       "      <td>2</td>\n",
       "      <td>0</td>\n",
       "      <td>2016-07</td>\n",
       "      <td>2016-07-02 05:19:20</td>\n",
       "      <td>London.</td>\n",
       "    </tr>\n",
       "    <tr>\n",
       "      <th>269627</th>\n",
       "      <td>1</td>\n",
       "      <td>What if the velocity of the electricity is pro...</td>\n",
       "      <td>GoldenScarab569</td>\n",
       "      <td>AskReddit</td>\n",
       "      <td>1</td>\n",
       "      <td>1</td>\n",
       "      <td>0</td>\n",
       "      <td>2016-06</td>\n",
       "      <td>2016-06-30 15:10:20</td>\n",
       "      <td>Electricity takes 1/143 of a second to travel ...</td>\n",
       "    </tr>\n",
       "    <tr>\n",
       "      <th>275361</th>\n",
       "      <td>1</td>\n",
       "      <td>Hes got Diaz and GSP lined up Wonderboy will h...</td>\n",
       "      <td>Kgb725</td>\n",
       "      <td>MMA</td>\n",
       "      <td>1</td>\n",
       "      <td>1</td>\n",
       "      <td>0</td>\n",
       "      <td>2016-08</td>\n",
       "      <td>2016-08-01 09:03:45</td>\n",
       "      <td>I feel like if Woodley decides to carry on wit...</td>\n",
       "    </tr>\n",
       "    <tr>\n",
       "      <th>276465</th>\n",
       "      <td>1</td>\n",
       "      <td>Yeah I agree with this sub, fuck you for being...</td>\n",
       "      <td>clipperw2014</td>\n",
       "      <td>hiphopheads</td>\n",
       "      <td>0</td>\n",
       "      <td>0</td>\n",
       "      <td>0</td>\n",
       "      <td>2016-08</td>\n",
       "      <td>2016-08-16 14:43:23</td>\n",
       "      <td>I was born in 2001 and I loved Fairly Odd Pare...</td>\n",
       "    </tr>\n",
       "    <tr>\n",
       "      <th>281522</th>\n",
       "      <td>1</td>\n",
       "      <td>Im sure players would LOVE to have to fly all ...</td>\n",
       "      <td>pewpewpew52</td>\n",
       "      <td>nfl</td>\n",
       "      <td>2</td>\n",
       "      <td>2</td>\n",
       "      <td>0</td>\n",
       "      <td>2016-07</td>\n",
       "      <td>2016-07-02 05:19:20</td>\n",
       "      <td>London.</td>\n",
       "    </tr>\n",
       "    <tr>\n",
       "      <th>297461</th>\n",
       "      <td>1</td>\n",
       "      <td>Only right wing nut jobs worry about that sort...</td>\n",
       "      <td>qemist</td>\n",
       "      <td>Economics</td>\n",
       "      <td>0</td>\n",
       "      <td>0</td>\n",
       "      <td>0</td>\n",
       "      <td>2016-08</td>\n",
       "      <td>2016-08-22 04:46:33</td>\n",
       "      <td>But if society collapses, how am I supposed to...</td>\n",
       "    </tr>\n",
       "    <tr>\n",
       "      <th>300841</th>\n",
       "      <td>1</td>\n",
       "      <td>What if the velocity of the electricity is pro...</td>\n",
       "      <td>GoldenScarab569</td>\n",
       "      <td>AskReddit</td>\n",
       "      <td>1</td>\n",
       "      <td>1</td>\n",
       "      <td>0</td>\n",
       "      <td>2016-06</td>\n",
       "      <td>2016-06-30 15:10:20</td>\n",
       "      <td>Electricity takes 1/143 of a second to travel ...</td>\n",
       "    </tr>\n",
       "    <tr>\n",
       "      <th>306604</th>\n",
       "      <td>1</td>\n",
       "      <td>Hes got Diaz and GSP lined up Wonderboy will h...</td>\n",
       "      <td>Kgb725</td>\n",
       "      <td>MMA</td>\n",
       "      <td>1</td>\n",
       "      <td>1</td>\n",
       "      <td>0</td>\n",
       "      <td>2016-08</td>\n",
       "      <td>2016-08-01 09:03:45</td>\n",
       "      <td>I feel like if Woodley decides to carry on wit...</td>\n",
       "    </tr>\n",
       "    <tr>\n",
       "      <th>307543</th>\n",
       "      <td>1</td>\n",
       "      <td>Only right wing nut jobs worry about that sort...</td>\n",
       "      <td>qemist</td>\n",
       "      <td>Economics</td>\n",
       "      <td>0</td>\n",
       "      <td>0</td>\n",
       "      <td>0</td>\n",
       "      <td>2016-08</td>\n",
       "      <td>2016-08-22 04:46:33</td>\n",
       "      <td>But if society collapses, how am I supposed to...</td>\n",
       "    </tr>\n",
       "    <tr>\n",
       "      <th>313724</th>\n",
       "      <td>1</td>\n",
       "      <td>Unless your neighbour's face is hidden under a...</td>\n",
       "      <td>deadcat</td>\n",
       "      <td>australia</td>\n",
       "      <td>1</td>\n",
       "      <td>1</td>\n",
       "      <td>0</td>\n",
       "      <td>2016-07</td>\n",
       "      <td>2016-07-04 21:45:37</td>\n",
       "      <td>It's much easier to blindly hate a faceless id...</td>\n",
       "    </tr>\n",
       "    <tr>\n",
       "      <th>339097</th>\n",
       "      <td>1</td>\n",
       "      <td>Yeah I agree with this sub, fuck you for being...</td>\n",
       "      <td>clipperw2014</td>\n",
       "      <td>hiphopheads</td>\n",
       "      <td>0</td>\n",
       "      <td>0</td>\n",
       "      <td>0</td>\n",
       "      <td>2016-08</td>\n",
       "      <td>2016-08-16 14:43:23</td>\n",
       "      <td>I was born in 2001 and I loved Fairly Odd Pare...</td>\n",
       "    </tr>\n",
       "    <tr>\n",
       "      <th>343242</th>\n",
       "      <td>1</td>\n",
       "      <td>Well this sub went from 64k to 94k last week s...</td>\n",
       "      <td>TheSergeantWinter</td>\n",
       "      <td>battlefield_one</td>\n",
       "      <td>1</td>\n",
       "      <td>-1</td>\n",
       "      <td>-1</td>\n",
       "      <td>2016-10</td>\n",
       "      <td>2016-10-31 12:05:49</td>\n",
       "      <td>Define \"a lot\", and then tell me how you can j...</td>\n",
       "    </tr>\n",
       "    <tr>\n",
       "      <th>359004</th>\n",
       "      <td>1</td>\n",
       "      <td>Yeah, I hear people tend to listen to you and ...</td>\n",
       "      <td>sashafrank123</td>\n",
       "      <td>SandersForPresident</td>\n",
       "      <td>1</td>\n",
       "      <td>1</td>\n",
       "      <td>0</td>\n",
       "      <td>2016-04</td>\n",
       "      <td>2016-04-20 20:05:26</td>\n",
       "      <td>Those are the same reasons why I support him, ...</td>\n",
       "    </tr>\n",
       "    <tr>\n",
       "      <th>367746</th>\n",
       "      <td>1</td>\n",
       "      <td>\"So I went as sheik's dad.. link\" FTFY</td>\n",
       "      <td>JacobTheButtonMasher</td>\n",
       "      <td>zelda</td>\n",
       "      <td>0</td>\n",
       "      <td>0</td>\n",
       "      <td>0</td>\n",
       "      <td>2016-04</td>\n",
       "      <td>2016-04-08 05:34:23</td>\n",
       "      <td>My daughters choice for Halloween last year. Z...</td>\n",
       "    </tr>\n",
       "    <tr>\n",
       "      <th>368517</th>\n",
       "      <td>1</td>\n",
       "      <td>Yeah, I hear people tend to listen to you and ...</td>\n",
       "      <td>sashafrank123</td>\n",
       "      <td>SandersForPresident</td>\n",
       "      <td>1</td>\n",
       "      <td>1</td>\n",
       "      <td>0</td>\n",
       "      <td>2016-04</td>\n",
       "      <td>2016-04-20 20:05:26</td>\n",
       "      <td>Those are the same reasons why I support him, ...</td>\n",
       "    </tr>\n",
       "    <tr>\n",
       "      <th>380665</th>\n",
       "      <td>1</td>\n",
       "      <td>i swear to god if people are getting paid i am...</td>\n",
       "      <td>Tomauro0115</td>\n",
       "      <td>DestinyClan0bsidian</td>\n",
       "      <td>1</td>\n",
       "      <td>1</td>\n",
       "      <td>0</td>\n",
       "      <td>2016-02</td>\n",
       "      <td>2016-02-15 18:13:38</td>\n",
       "      <td>Once again, get that raise son!</td>\n",
       "    </tr>\n",
       "    <tr>\n",
       "      <th>390072</th>\n",
       "      <td>1</td>\n",
       "      <td>i swear to god if people are getting paid i am...</td>\n",
       "      <td>Tomauro0115</td>\n",
       "      <td>DestinyClan0bsidian</td>\n",
       "      <td>1</td>\n",
       "      <td>1</td>\n",
       "      <td>0</td>\n",
       "      <td>2016-02</td>\n",
       "      <td>2016-02-15 18:13:38</td>\n",
       "      <td>Once again, get that raise son!</td>\n",
       "    </tr>\n",
       "    <tr>\n",
       "      <th>429134</th>\n",
       "      <td>1</td>\n",
       "      <td>*Sigh* What is this the fifth Italian bread po...</td>\n",
       "      <td>CrimzonGryphon</td>\n",
       "      <td>AskReddit</td>\n",
       "      <td>2</td>\n",
       "      <td>2</td>\n",
       "      <td>0</td>\n",
       "      <td>2015-11</td>\n",
       "      <td>2015-11-09 15:14:20</td>\n",
       "      <td>Italian bread bakers of Reddit, what's the str...</td>\n",
       "    </tr>\n",
       "    <tr>\n",
       "      <th>434533</th>\n",
       "      <td>1</td>\n",
       "      <td>\"So I went as sheik's dad.. link\" FTFY</td>\n",
       "      <td>JacobTheButtonMasher</td>\n",
       "      <td>zelda</td>\n",
       "      <td>0</td>\n",
       "      <td>0</td>\n",
       "      <td>0</td>\n",
       "      <td>2016-04</td>\n",
       "      <td>2016-04-08 05:34:23</td>\n",
       "      <td>My daughters choice for Halloween last year. Z...</td>\n",
       "    </tr>\n",
       "    <tr>\n",
       "      <th>438766</th>\n",
       "      <td>1</td>\n",
       "      <td>*Sigh* What is this the fifth Italian bread po...</td>\n",
       "      <td>CrimzonGryphon</td>\n",
       "      <td>AskReddit</td>\n",
       "      <td>2</td>\n",
       "      <td>2</td>\n",
       "      <td>0</td>\n",
       "      <td>2015-11</td>\n",
       "      <td>2015-11-09 15:14:20</td>\n",
       "      <td>Italian bread bakers of Reddit, what's the str...</td>\n",
       "    </tr>\n",
       "    <tr>\n",
       "      <th>444178</th>\n",
       "      <td>1</td>\n",
       "      <td>\"So I went as sheik's dad.. link\" FTFY</td>\n",
       "      <td>JacobTheButtonMasher</td>\n",
       "      <td>zelda</td>\n",
       "      <td>1</td>\n",
       "      <td>1</td>\n",
       "      <td>0</td>\n",
       "      <td>2016-04</td>\n",
       "      <td>2016-04-08 05:34:23</td>\n",
       "      <td>My daughters choice for Halloween last year. Z...</td>\n",
       "    </tr>\n",
       "    <tr>\n",
       "      <th>463024</th>\n",
       "      <td>1</td>\n",
       "      <td>\"So I went as sheik's dad.. link\" FTFY</td>\n",
       "      <td>JacobTheButtonMasher</td>\n",
       "      <td>zelda</td>\n",
       "      <td>0</td>\n",
       "      <td>0</td>\n",
       "      <td>0</td>\n",
       "      <td>2016-04</td>\n",
       "      <td>2016-04-08 05:34:23</td>\n",
       "      <td>My daughters choice for Halloween last year. Z...</td>\n",
       "    </tr>\n",
       "    <tr>\n",
       "      <th>472686</th>\n",
       "      <td>1</td>\n",
       "      <td>Then you attach a video link to their friends ...</td>\n",
       "      <td>CatWizard</td>\n",
       "      <td>PS4</td>\n",
       "      <td>2</td>\n",
       "      <td>2</td>\n",
       "      <td>0</td>\n",
       "      <td>2016-04</td>\n",
       "      <td>2016-04-10 03:54:08</td>\n",
       "      <td>what if the person who owned the account was a...</td>\n",
       "    </tr>\n",
       "    <tr>\n",
       "      <th>482126</th>\n",
       "      <td>1</td>\n",
       "      <td>Then you attach a video link to their friends ...</td>\n",
       "      <td>CatWizard</td>\n",
       "      <td>PS4</td>\n",
       "      <td>2</td>\n",
       "      <td>2</td>\n",
       "      <td>0</td>\n",
       "      <td>2016-04</td>\n",
       "      <td>2016-04-10 03:54:08</td>\n",
       "      <td>what if the person who owned the account was a...</td>\n",
       "    </tr>\n",
       "    <tr>\n",
       "      <th>490289</th>\n",
       "      <td>1</td>\n",
       "      <td>\"So I went as sheik's dad.. link\" FTFY</td>\n",
       "      <td>JacobTheButtonMasher</td>\n",
       "      <td>zelda</td>\n",
       "      <td>0</td>\n",
       "      <td>0</td>\n",
       "      <td>0</td>\n",
       "      <td>2016-04</td>\n",
       "      <td>2016-04-08 05:34:23</td>\n",
       "      <td>My daughters choice for Halloween last year. Z...</td>\n",
       "    </tr>\n",
       "    <tr>\n",
       "      <th>492215</th>\n",
       "      <td>1</td>\n",
       "      <td>Yeah, I hear people tend to listen to you and ...</td>\n",
       "      <td>sashafrank123</td>\n",
       "      <td>SandersForPresident</td>\n",
       "      <td>1</td>\n",
       "      <td>1</td>\n",
       "      <td>0</td>\n",
       "      <td>2016-04</td>\n",
       "      <td>2016-04-20 20:05:26</td>\n",
       "      <td>Those are the same reasons why I support him, ...</td>\n",
       "    </tr>\n",
       "    <tr>\n",
       "      <th>500972</th>\n",
       "      <td>1</td>\n",
       "      <td>\"So I went as sheik's dad.. link\" FTFY</td>\n",
       "      <td>JacobTheButtonMasher</td>\n",
       "      <td>zelda</td>\n",
       "      <td>1</td>\n",
       "      <td>1</td>\n",
       "      <td>0</td>\n",
       "      <td>2016-04</td>\n",
       "      <td>2016-04-08 05:34:23</td>\n",
       "      <td>My daughters choice for Halloween last year. Z...</td>\n",
       "    </tr>\n",
       "    <tr>\n",
       "      <th>532779</th>\n",
       "      <td>1</td>\n",
       "      <td>of course</td>\n",
       "      <td>dumbshit111</td>\n",
       "      <td>tifu</td>\n",
       "      <td>1</td>\n",
       "      <td>1</td>\n",
       "      <td>0</td>\n",
       "      <td>2015-08</td>\n",
       "      <td>2015-08-25 21:23:17</td>\n",
       "      <td>No</td>\n",
       "    </tr>\n",
       "    <tr>\n",
       "      <th>569719</th>\n",
       "      <td>1</td>\n",
       "      <td>of course</td>\n",
       "      <td>dumbshit111</td>\n",
       "      <td>tifu</td>\n",
       "      <td>1</td>\n",
       "      <td>1</td>\n",
       "      <td>0</td>\n",
       "      <td>2015-08</td>\n",
       "      <td>2015-08-25 21:23:17</td>\n",
       "      <td>No</td>\n",
       "    </tr>\n",
       "    <tr>\n",
       "      <th>584154</th>\n",
       "      <td>1</td>\n",
       "      <td>EW GROSS</td>\n",
       "      <td>Vance87</td>\n",
       "      <td>MensRights</td>\n",
       "      <td>1</td>\n",
       "      <td>1</td>\n",
       "      <td>0</td>\n",
       "      <td>2015-09</td>\n",
       "      <td>2015-09-11 19:20:03</td>\n",
       "      <td>Swedish male underwear company starts campain ...</td>\n",
       "    </tr>\n",
       "    <tr>\n",
       "      <th>618987</th>\n",
       "      <td>1</td>\n",
       "      <td>Those old rich white guys are all gmo products...</td>\n",
       "      <td>JumpingJazzJam</td>\n",
       "      <td>politics</td>\n",
       "      <td>1</td>\n",
       "      <td>1</td>\n",
       "      <td>0</td>\n",
       "      <td>2015-08</td>\n",
       "      <td>2015-08-13 04:14:46</td>\n",
       "      <td>Seems dumb. He should have said that it would ...</td>\n",
       "    </tr>\n",
       "    <tr>\n",
       "      <th>620996</th>\n",
       "      <td>1</td>\n",
       "      <td>EW GROSS</td>\n",
       "      <td>Vance87</td>\n",
       "      <td>MensRights</td>\n",
       "      <td>1</td>\n",
       "      <td>1</td>\n",
       "      <td>0</td>\n",
       "      <td>2015-09</td>\n",
       "      <td>2015-09-11 19:20:03</td>\n",
       "      <td>Swedish male underwear company starts campain ...</td>\n",
       "    </tr>\n",
       "    <tr>\n",
       "      <th>638470</th>\n",
       "      <td>1</td>\n",
       "      <td>Those old rich white guys are all gmo products...</td>\n",
       "      <td>JumpingJazzJam</td>\n",
       "      <td>politics</td>\n",
       "      <td>1</td>\n",
       "      <td>1</td>\n",
       "      <td>0</td>\n",
       "      <td>2015-08</td>\n",
       "      <td>2015-08-13 04:14:46</td>\n",
       "      <td>Seems dumb. He should have said that it would ...</td>\n",
       "    </tr>\n",
       "    <tr>\n",
       "      <th>642973</th>\n",
       "      <td>1</td>\n",
       "      <td>What, these people are only improving race rel...</td>\n",
       "      <td>Flakester</td>\n",
       "      <td>news</td>\n",
       "      <td>1</td>\n",
       "      <td>1</td>\n",
       "      <td>0</td>\n",
       "      <td>2015-08</td>\n",
       "      <td>2015-08-11 19:47:33</td>\n",
       "      <td>How to get people to despise and hate you 101.</td>\n",
       "    </tr>\n",
       "    <tr>\n",
       "      <th>652354</th>\n",
       "      <td>1</td>\n",
       "      <td>What, these people are only improving race rel...</td>\n",
       "      <td>Flakester</td>\n",
       "      <td>news</td>\n",
       "      <td>1</td>\n",
       "      <td>1</td>\n",
       "      <td>0</td>\n",
       "      <td>2015-08</td>\n",
       "      <td>2015-08-11 19:47:33</td>\n",
       "      <td>How to get people to despise and hate you 101.</td>\n",
       "    </tr>\n",
       "    <tr>\n",
       "      <th>733484</th>\n",
       "      <td>1</td>\n",
       "      <td>Calm down, that paintball gun isn't coming out...</td>\n",
       "      <td>frumpster</td>\n",
       "      <td>pcgaming</td>\n",
       "      <td>1</td>\n",
       "      <td>1</td>\n",
       "      <td>0</td>\n",
       "      <td>2015-06</td>\n",
       "      <td>2015-06-24 03:31:43</td>\n",
       "      <td>fucking dm17. fucking rail gun platform. fucki...</td>\n",
       "    </tr>\n",
       "    <tr>\n",
       "      <th>733529</th>\n",
       "      <td>1</td>\n",
       "      <td>Yea i bet it will be sooo different</td>\n",
       "      <td>SmilingButtHole</td>\n",
       "      <td>movies</td>\n",
       "      <td>0</td>\n",
       "      <td>0</td>\n",
       "      <td>0</td>\n",
       "      <td>2015-06</td>\n",
       "      <td>2015-06-24 23:17:47</td>\n",
       "      <td>With the lack of an origin story and Tom Holla...</td>\n",
       "    </tr>\n",
       "    <tr>\n",
       "      <th>742095</th>\n",
       "      <td>1</td>\n",
       "      <td>Yea i bet it will be sooo different</td>\n",
       "      <td>SmilingButtHole</td>\n",
       "      <td>movies</td>\n",
       "      <td>0</td>\n",
       "      <td>0</td>\n",
       "      <td>0</td>\n",
       "      <td>2015-06</td>\n",
       "      <td>2015-06-24 23:17:47</td>\n",
       "      <td>With the lack of an origin story and Tom Holla...</td>\n",
       "    </tr>\n",
       "    <tr>\n",
       "      <th>758738</th>\n",
       "      <td>1</td>\n",
       "      <td>Calm down, that paintball gun isn't coming out...</td>\n",
       "      <td>frumpster</td>\n",
       "      <td>pcgaming</td>\n",
       "      <td>1</td>\n",
       "      <td>1</td>\n",
       "      <td>0</td>\n",
       "      <td>2015-06</td>\n",
       "      <td>2015-06-24 03:31:43</td>\n",
       "      <td>fucking dm17. fucking rail gun platform. fucki...</td>\n",
       "    </tr>\n",
       "    <tr>\n",
       "      <th>793018</th>\n",
       "      <td>1</td>\n",
       "      <td>Yeah when people die let's just throw them in ...</td>\n",
       "      <td>Truth_Hurts_</td>\n",
       "      <td>AdviceAnimals</td>\n",
       "      <td>1</td>\n",
       "      <td>1</td>\n",
       "      <td>0</td>\n",
       "      <td>2014-07</td>\n",
       "      <td>2014-07-02 15:46:24</td>\n",
       "      <td>They are dead, they aren't going to get butthu...</td>\n",
       "    </tr>\n",
       "    <tr>\n",
       "      <th>800401</th>\n",
       "      <td>1</td>\n",
       "      <td>Yeah when people die let's just throw them in ...</td>\n",
       "      <td>Truth_Hurts_</td>\n",
       "      <td>AdviceAnimals</td>\n",
       "      <td>1</td>\n",
       "      <td>1</td>\n",
       "      <td>0</td>\n",
       "      <td>2014-07</td>\n",
       "      <td>2014-07-02 15:46:24</td>\n",
       "      <td>They are dead, they aren't going to get butthu...</td>\n",
       "    </tr>\n",
       "  </tbody>\n",
       "</table>\n",
       "</div>"
      ],
      "text/plain": [
       "        label  ...                                     parent_comment\n",
       "851         1  ...                   This subreddit really does suck.\n",
       "23777       1  ...                   This subreddit really does suck.\n",
       "66727       1  ...  Yo, that's such a kawai'i level of desu, it ma...\n",
       "78313       1  ...  Yo, that's such a kawai'i level of desu, it ma...\n",
       "125805      1  ...                          Practice mowing lawns pls\n",
       "160906      1  ...                          Practice mowing lawns pls\n",
       "185564      1  ...  Define \"a lot\", and then tell me how you can j...\n",
       "190948      1  ...  Just stay out of ghetto neighborhoods, violent...\n",
       "198234      1  ...  It's much easier to blindly hate a faceless id...\n",
       "201633      1  ...  Just stay out of ghetto neighborhoods, violent...\n",
       "212722      1  ...  tell that to the murky I played with yesterday...\n",
       "223116      1  ...  tell that to the murky I played with yesterday...\n",
       "249925      1  ...                                            London.\n",
       "269627      1  ...  Electricity takes 1/143 of a second to travel ...\n",
       "275361      1  ...  I feel like if Woodley decides to carry on wit...\n",
       "276465      1  ...  I was born in 2001 and I loved Fairly Odd Pare...\n",
       "281522      1  ...                                            London.\n",
       "297461      1  ...  But if society collapses, how am I supposed to...\n",
       "300841      1  ...  Electricity takes 1/143 of a second to travel ...\n",
       "306604      1  ...  I feel like if Woodley decides to carry on wit...\n",
       "307543      1  ...  But if society collapses, how am I supposed to...\n",
       "313724      1  ...  It's much easier to blindly hate a faceless id...\n",
       "339097      1  ...  I was born in 2001 and I loved Fairly Odd Pare...\n",
       "343242      1  ...  Define \"a lot\", and then tell me how you can j...\n",
       "359004      1  ...  Those are the same reasons why I support him, ...\n",
       "367746      1  ...  My daughters choice for Halloween last year. Z...\n",
       "368517      1  ...  Those are the same reasons why I support him, ...\n",
       "380665      1  ...                    Once again, get that raise son!\n",
       "390072      1  ...                    Once again, get that raise son!\n",
       "429134      1  ...  Italian bread bakers of Reddit, what's the str...\n",
       "434533      1  ...  My daughters choice for Halloween last year. Z...\n",
       "438766      1  ...  Italian bread bakers of Reddit, what's the str...\n",
       "444178      1  ...  My daughters choice for Halloween last year. Z...\n",
       "463024      1  ...  My daughters choice for Halloween last year. Z...\n",
       "472686      1  ...  what if the person who owned the account was a...\n",
       "482126      1  ...  what if the person who owned the account was a...\n",
       "490289      1  ...  My daughters choice for Halloween last year. Z...\n",
       "492215      1  ...  Those are the same reasons why I support him, ...\n",
       "500972      1  ...  My daughters choice for Halloween last year. Z...\n",
       "532779      1  ...                                                 No\n",
       "569719      1  ...                                                 No\n",
       "584154      1  ...  Swedish male underwear company starts campain ...\n",
       "618987      1  ...  Seems dumb. He should have said that it would ...\n",
       "620996      1  ...  Swedish male underwear company starts campain ...\n",
       "638470      1  ...  Seems dumb. He should have said that it would ...\n",
       "642973      1  ...     How to get people to despise and hate you 101.\n",
       "652354      1  ...     How to get people to despise and hate you 101.\n",
       "733484      1  ...  fucking dm17. fucking rail gun platform. fucki...\n",
       "733529      1  ...  With the lack of an origin story and Tom Holla...\n",
       "742095      1  ...  With the lack of an origin story and Tom Holla...\n",
       "758738      1  ...  fucking dm17. fucking rail gun platform. fucki...\n",
       "793018      1  ...  They are dead, they aren't going to get butthu...\n",
       "800401      1  ...  They are dead, they aren't going to get butthu...\n",
       "\n",
       "[53 rows x 10 columns]"
      ]
     },
     "execution_count": 9,
     "metadata": {},
     "output_type": "execute_result"
    }
   ],
   "source": [
    "wdwdf[df.duplicated(keep=False)]"
   ]
  },
  {
   "cell_type": "code",
   "execution_count": null,
   "metadata": {
    "colab": {
     "base_uri": "https://localhost:8080/",
     "height": 204
    },
    "executionInfo": {
     "elapsed": 3227,
     "status": "ok",
     "timestamp": 1634542491947,
     "user": {
      "displayName": "Chris Yew",
      "photoUrl": "https://lh3.googleusercontent.com/a/default-user=s64",
      "userId": "09518424203937384471"
     },
     "user_tz": -480
    },
    "id": "JQE_pi7YOlst",
    "outputId": "f7f65305-ca92-4fe1-ef59-60cb20aeddfb"
   },
   "outputs": [
    {
     "data": {
      "text/html": [
       "<div>\n",
       "<style scoped>\n",
       "    .dataframe tbody tr th:only-of-type {\n",
       "        vertical-align: middle;\n",
       "    }\n",
       "\n",
       "    .dataframe tbody tr th {\n",
       "        vertical-align: top;\n",
       "    }\n",
       "\n",
       "    .dataframe thead th {\n",
       "        text-align: right;\n",
       "    }\n",
       "</style>\n",
       "<table border=\"1\" class=\"dataframe\">\n",
       "  <thead>\n",
       "    <tr style=\"text-align: right;\">\n",
       "      <th></th>\n",
       "      <th>label</th>\n",
       "      <th>comment</th>\n",
       "      <th>author</th>\n",
       "      <th>subreddit</th>\n",
       "      <th>score</th>\n",
       "      <th>ups</th>\n",
       "      <th>downs</th>\n",
       "      <th>date</th>\n",
       "      <th>created_utc</th>\n",
       "      <th>parent_comment</th>\n",
       "    </tr>\n",
       "  </thead>\n",
       "  <tbody>\n",
       "    <tr>\n",
       "      <th>851</th>\n",
       "      <td>1</td>\n",
       "      <td>Said the under 2k post karma guy *expert*</td>\n",
       "      <td>iam4real</td>\n",
       "      <td>youdontsurf</td>\n",
       "      <td>1</td>\n",
       "      <td>-1</td>\n",
       "      <td>-1</td>\n",
       "      <td>2016-11</td>\n",
       "      <td>2016-11-02 10:09:10</td>\n",
       "      <td>This subreddit really does suck.</td>\n",
       "    </tr>\n",
       "    <tr>\n",
       "      <th>23777</th>\n",
       "      <td>1</td>\n",
       "      <td>Said the under 2k post karma guy *expert*</td>\n",
       "      <td>iam4real</td>\n",
       "      <td>youdontsurf</td>\n",
       "      <td>1</td>\n",
       "      <td>-1</td>\n",
       "      <td>-1</td>\n",
       "      <td>2016-11</td>\n",
       "      <td>2016-11-02 10:09:10</td>\n",
       "      <td>This subreddit really does suck.</td>\n",
       "    </tr>\n",
       "    <tr>\n",
       "      <th>66727</th>\n",
       "      <td>1</td>\n",
       "      <td>USE REAL WORDS, DAMN IT</td>\n",
       "      <td>FlameSpartan</td>\n",
       "      <td>TumblrInAction</td>\n",
       "      <td>1</td>\n",
       "      <td>1</td>\n",
       "      <td>0</td>\n",
       "      <td>2016-09</td>\n",
       "      <td>2016-09-07 00:31:39</td>\n",
       "      <td>Yo, that's such a kawai'i level of desu, it ma...</td>\n",
       "    </tr>\n",
       "    <tr>\n",
       "      <th>78313</th>\n",
       "      <td>1</td>\n",
       "      <td>USE REAL WORDS, DAMN IT</td>\n",
       "      <td>FlameSpartan</td>\n",
       "      <td>TumblrInAction</td>\n",
       "      <td>1</td>\n",
       "      <td>1</td>\n",
       "      <td>0</td>\n",
       "      <td>2016-09</td>\n",
       "      <td>2016-09-07 00:31:39</td>\n",
       "      <td>Yo, that's such a kawai'i level of desu, it ma...</td>\n",
       "    </tr>\n",
       "    <tr>\n",
       "      <th>125805</th>\n",
       "      <td>1</td>\n",
       "      <td>Hey you're that one guy who racked in all that...</td>\n",
       "      <td>OG_Phx_Son</td>\n",
       "      <td>pcmasterrace</td>\n",
       "      <td>1</td>\n",
       "      <td>-1</td>\n",
       "      <td>-1</td>\n",
       "      <td>2016-10</td>\n",
       "      <td>2016-10-02 15:56:40</td>\n",
       "      <td>Practice mowing lawns pls</td>\n",
       "    </tr>\n",
       "  </tbody>\n",
       "</table>\n",
       "</div>"
      ],
      "text/plain": [
       "        label  ...                                     parent_comment\n",
       "851         1  ...                   This subreddit really does suck.\n",
       "23777       1  ...                   This subreddit really does suck.\n",
       "66727       1  ...  Yo, that's such a kawai'i level of desu, it ma...\n",
       "78313       1  ...  Yo, that's such a kawai'i level of desu, it ma...\n",
       "125805      1  ...                          Practice mowing lawns pls\n",
       "\n",
       "[5 rows x 10 columns]"
      ]
     },
     "execution_count": 10,
     "metadata": {},
     "output_type": "execute_result"
    }
   ],
   "source": [
    "df[df.duplicated(keep=False)].head()"
   ]
  },
  {
   "cell_type": "code",
   "execution_count": null,
   "metadata": {
    "colab": {
     "base_uri": "https://localhost:8080/",
     "height": 419
    },
    "executionInfo": {
     "elapsed": 1875,
     "status": "ok",
     "timestamp": 1634542494226,
     "user": {
      "displayName": "Chris Yew",
      "photoUrl": "https://lh3.googleusercontent.com/a/default-user=s64",
      "userId": "09518424203937384471"
     },
     "user_tz": -480
    },
    "id": "7Cy8TzCNPwT1",
    "outputId": "4a80c157-45e4-4219-facf-8016d306a705"
   },
   "outputs": [
    {
     "data": {
      "text/html": [
       "<div>\n",
       "<style scoped>\n",
       "    .dataframe tbody tr th:only-of-type {\n",
       "        vertical-align: middle;\n",
       "    }\n",
       "\n",
       "    .dataframe tbody tr th {\n",
       "        vertical-align: top;\n",
       "    }\n",
       "\n",
       "    .dataframe thead th {\n",
       "        text-align: right;\n",
       "    }\n",
       "</style>\n",
       "<table border=\"1\" class=\"dataframe\">\n",
       "  <thead>\n",
       "    <tr style=\"text-align: right;\">\n",
       "      <th></th>\n",
       "      <th>label</th>\n",
       "      <th>comment</th>\n",
       "      <th>author</th>\n",
       "      <th>subreddit</th>\n",
       "      <th>score</th>\n",
       "      <th>ups</th>\n",
       "      <th>downs</th>\n",
       "      <th>date</th>\n",
       "      <th>created_utc</th>\n",
       "      <th>parent_comment</th>\n",
       "    </tr>\n",
       "  </thead>\n",
       "  <tbody>\n",
       "    <tr>\n",
       "      <th>10185</th>\n",
       "      <td>1</td>\n",
       "      <td>Shocking</td>\n",
       "      <td>Clyde_Died</td>\n",
       "      <td>todayilearned</td>\n",
       "      <td>2</td>\n",
       "      <td>2</td>\n",
       "      <td>0</td>\n",
       "      <td>2016-09</td>\n",
       "      <td>2016-09-29 17:53:07</td>\n",
       "      <td>TIL materials needed to produce a pair of $199...</td>\n",
       "    </tr>\n",
       "    <tr>\n",
       "      <th>12357</th>\n",
       "      <td>1</td>\n",
       "      <td>Said the under 2k post karma guy *expert*</td>\n",
       "      <td>iam4real</td>\n",
       "      <td>youdontsurf</td>\n",
       "      <td>0</td>\n",
       "      <td>-1</td>\n",
       "      <td>-1</td>\n",
       "      <td>2016-11</td>\n",
       "      <td>2016-11-02 10:09:10</td>\n",
       "      <td>This subreddit really does suck.</td>\n",
       "    </tr>\n",
       "    <tr>\n",
       "      <th>15649</th>\n",
       "      <td>1</td>\n",
       "      <td>I am very surprised that there is more than 1 ...</td>\n",
       "      <td>PianoRainMelody</td>\n",
       "      <td>ClashRoyale</td>\n",
       "      <td>4</td>\n",
       "      <td>-1</td>\n",
       "      <td>-1</td>\n",
       "      <td>2016-12</td>\n",
       "      <td>2016-12-30 22:47:58</td>\n",
       "      <td>CONGRATS! YOU ARE AN INSPIRATION!</td>\n",
       "    </tr>\n",
       "    <tr>\n",
       "      <th>23777</th>\n",
       "      <td>1</td>\n",
       "      <td>Said the under 2k post karma guy *expert*</td>\n",
       "      <td>iam4real</td>\n",
       "      <td>youdontsurf</td>\n",
       "      <td>1</td>\n",
       "      <td>-1</td>\n",
       "      <td>-1</td>\n",
       "      <td>2016-11</td>\n",
       "      <td>2016-11-02 10:09:10</td>\n",
       "      <td>This subreddit really does suck.</td>\n",
       "    </tr>\n",
       "    <tr>\n",
       "      <th>40133</th>\n",
       "      <td>0</td>\n",
       "      <td>F</td>\n",
       "      <td>Leoleomeomeo</td>\n",
       "      <td>The_Donald</td>\n",
       "      <td>6</td>\n",
       "      <td>-1</td>\n",
       "      <td>-1</td>\n",
       "      <td>2016-12</td>\n",
       "      <td>2016-12-08 01:23:58</td>\n",
       "      <td>F</td>\n",
       "    </tr>\n",
       "    <tr>\n",
       "      <th>...</th>\n",
       "      <td>...</td>\n",
       "      <td>...</td>\n",
       "      <td>...</td>\n",
       "      <td>...</td>\n",
       "      <td>...</td>\n",
       "      <td>...</td>\n",
       "      <td>...</td>\n",
       "      <td>...</td>\n",
       "      <td>...</td>\n",
       "      <td>...</td>\n",
       "    </tr>\n",
       "    <tr>\n",
       "      <th>1008663</th>\n",
       "      <td>0</td>\n",
       "      <td>OK</td>\n",
       "      <td>db2</td>\n",
       "      <td>atheism</td>\n",
       "      <td>1</td>\n",
       "      <td>1</td>\n",
       "      <td>0</td>\n",
       "      <td>2011-03</td>\n",
       "      <td>2011-03-08 02:21:40</td>\n",
       "      <td>STOP YELLING</td>\n",
       "    </tr>\n",
       "    <tr>\n",
       "      <th>1009033</th>\n",
       "      <td>1</td>\n",
       "      <td>He is going to go to each state, be elected ki...</td>\n",
       "      <td>cheney_healthcare</td>\n",
       "      <td>politics</td>\n",
       "      <td>3</td>\n",
       "      <td>3</td>\n",
       "      <td>0</td>\n",
       "      <td>2011-01</td>\n",
       "      <td>2011-01-27 13:49:57</td>\n",
       "      <td>What?</td>\n",
       "    </tr>\n",
       "    <tr>\n",
       "      <th>1009401</th>\n",
       "      <td>1</td>\n",
       "      <td>Yea, it's rare that you turn on the news and s...</td>\n",
       "      <td>haiduz</td>\n",
       "      <td>IAmA</td>\n",
       "      <td>5</td>\n",
       "      <td>5</td>\n",
       "      <td>0</td>\n",
       "      <td>2011-07</td>\n",
       "      <td>2011-07-27 21:23:41</td>\n",
       "      <td>Really, CNN could use any publicity it could g...</td>\n",
       "    </tr>\n",
       "    <tr>\n",
       "      <th>1010325</th>\n",
       "      <td>1</td>\n",
       "      <td>Probably not without our hero, Sara Palin, bei...</td>\n",
       "      <td>sirjoebob</td>\n",
       "      <td>pics</td>\n",
       "      <td>5</td>\n",
       "      <td>5</td>\n",
       "      <td>0</td>\n",
       "      <td>2009-08</td>\n",
       "      <td>2009-08-17 15:58:06</td>\n",
       "      <td>When can we start hunting them from helicopters?</td>\n",
       "    </tr>\n",
       "    <tr>\n",
       "      <th>1010775</th>\n",
       "      <td>1</td>\n",
       "      <td>Making it a Bad Thing, by definition.</td>\n",
       "      <td>graphictruth</td>\n",
       "      <td>pics</td>\n",
       "      <td>1</td>\n",
       "      <td>1</td>\n",
       "      <td>0</td>\n",
       "      <td>2009-09</td>\n",
       "      <td>2009-09-10 23:26:46</td>\n",
       "      <td>If no one is aware, multi culturalism is solel...</td>\n",
       "    </tr>\n",
       "  </tbody>\n",
       "</table>\n",
       "<p>256 rows × 10 columns</p>\n",
       "</div>"
      ],
      "text/plain": [
       "         label  ...                                     parent_comment\n",
       "10185        1  ...  TIL materials needed to produce a pair of $199...\n",
       "12357        1  ...                   This subreddit really does suck.\n",
       "15649        1  ...                  CONGRATS! YOU ARE AN INSPIRATION!\n",
       "23777        1  ...                   This subreddit really does suck.\n",
       "40133        0  ...                                                  F\n",
       "...        ...  ...                                                ...\n",
       "1008663      0  ...                                       STOP YELLING\n",
       "1009033      1  ...                                              What?\n",
       "1009401      1  ...  Really, CNN could use any publicity it could g...\n",
       "1010325      1  ...   When can we start hunting them from helicopters?\n",
       "1010775      1  ...  If no one is aware, multi culturalism is solel...\n",
       "\n",
       "[256 rows x 10 columns]"
      ]
     },
     "execution_count": 11,
     "metadata": {},
     "output_type": "execute_result"
    }
   ],
   "source": [
    "df[df.duplicated(subset=['comment','author','subreddit','parent_comment'])]"
   ]
  },
  {
   "cell_type": "markdown",
   "metadata": {
    "id": "QPYRkErbVm6K"
   },
   "source": [
    "There are 256 rows with duplicated comments\n"
   ]
  },
  {
   "cell_type": "code",
   "execution_count": null,
   "metadata": {
    "colab": {
     "base_uri": "https://localhost:8080/",
     "height": 419
    },
    "executionInfo": {
     "elapsed": 2781,
     "status": "ok",
     "timestamp": 1634542497001,
     "user": {
      "displayName": "Chris Yew",
      "photoUrl": "https://lh3.googleusercontent.com/a/default-user=s64",
      "userId": "09518424203937384471"
     },
     "user_tz": -480
    },
    "id": "qRCWTkpOQUxp",
    "outputId": "3036f3a3-8e01-4270-b7c3-f7de3aad249f"
   },
   "outputs": [
    {
     "data": {
      "text/html": [
       "<div>\n",
       "<style scoped>\n",
       "    .dataframe tbody tr th:only-of-type {\n",
       "        vertical-align: middle;\n",
       "    }\n",
       "\n",
       "    .dataframe tbody tr th {\n",
       "        vertical-align: top;\n",
       "    }\n",
       "\n",
       "    .dataframe thead th {\n",
       "        text-align: right;\n",
       "    }\n",
       "</style>\n",
       "<table border=\"1\" class=\"dataframe\">\n",
       "  <thead>\n",
       "    <tr style=\"text-align: right;\">\n",
       "      <th></th>\n",
       "      <th>label</th>\n",
       "      <th>comment</th>\n",
       "      <th>author</th>\n",
       "      <th>subreddit</th>\n",
       "      <th>score</th>\n",
       "      <th>ups</th>\n",
       "      <th>downs</th>\n",
       "      <th>date</th>\n",
       "      <th>created_utc</th>\n",
       "      <th>parent_comment</th>\n",
       "    </tr>\n",
       "  </thead>\n",
       "  <tbody>\n",
       "    <tr>\n",
       "      <th>0</th>\n",
       "      <td>0</td>\n",
       "      <td>NC and NH.</td>\n",
       "      <td>Trumpbart</td>\n",
       "      <td>politics</td>\n",
       "      <td>2</td>\n",
       "      <td>-1</td>\n",
       "      <td>-1</td>\n",
       "      <td>2016-10</td>\n",
       "      <td>2016-10-16 23:55:23</td>\n",
       "      <td>Yeah, I get that argument. At this point, I'd ...</td>\n",
       "    </tr>\n",
       "    <tr>\n",
       "      <th>1</th>\n",
       "      <td>0</td>\n",
       "      <td>You do know west teams play against west teams...</td>\n",
       "      <td>Shbshb906</td>\n",
       "      <td>nba</td>\n",
       "      <td>-4</td>\n",
       "      <td>-1</td>\n",
       "      <td>-1</td>\n",
       "      <td>2016-11</td>\n",
       "      <td>2016-11-01 00:24:10</td>\n",
       "      <td>The blazers and Mavericks (The wests 5 and 6 s...</td>\n",
       "    </tr>\n",
       "    <tr>\n",
       "      <th>2</th>\n",
       "      <td>0</td>\n",
       "      <td>They were underdogs earlier today, but since G...</td>\n",
       "      <td>Creepeth</td>\n",
       "      <td>nfl</td>\n",
       "      <td>3</td>\n",
       "      <td>3</td>\n",
       "      <td>0</td>\n",
       "      <td>2016-09</td>\n",
       "      <td>2016-09-22 21:45:37</td>\n",
       "      <td>They're favored to win.</td>\n",
       "    </tr>\n",
       "    <tr>\n",
       "      <th>3</th>\n",
       "      <td>0</td>\n",
       "      <td>This meme isn't funny none of the \"new york ni...</td>\n",
       "      <td>icebrotha</td>\n",
       "      <td>BlackPeopleTwitter</td>\n",
       "      <td>-8</td>\n",
       "      <td>-1</td>\n",
       "      <td>-1</td>\n",
       "      <td>2016-10</td>\n",
       "      <td>2016-10-18 21:03:47</td>\n",
       "      <td>deadass don't kill my buzz</td>\n",
       "    </tr>\n",
       "    <tr>\n",
       "      <th>4</th>\n",
       "      <td>0</td>\n",
       "      <td>I could use one of those tools.</td>\n",
       "      <td>cush2push</td>\n",
       "      <td>MaddenUltimateTeam</td>\n",
       "      <td>6</td>\n",
       "      <td>-1</td>\n",
       "      <td>-1</td>\n",
       "      <td>2016-12</td>\n",
       "      <td>2016-12-30 17:00:13</td>\n",
       "      <td>Yep can confirm I saw the tool they use for th...</td>\n",
       "    </tr>\n",
       "    <tr>\n",
       "      <th>...</th>\n",
       "      <td>...</td>\n",
       "      <td>...</td>\n",
       "      <td>...</td>\n",
       "      <td>...</td>\n",
       "      <td>...</td>\n",
       "      <td>...</td>\n",
       "      <td>...</td>\n",
       "      <td>...</td>\n",
       "      <td>...</td>\n",
       "      <td>...</td>\n",
       "    </tr>\n",
       "    <tr>\n",
       "      <th>1010821</th>\n",
       "      <td>1</td>\n",
       "      <td>I'm sure that Iran and N. Korea have the techn...</td>\n",
       "      <td>TwarkMain</td>\n",
       "      <td>reddit.com</td>\n",
       "      <td>2</td>\n",
       "      <td>2</td>\n",
       "      <td>0</td>\n",
       "      <td>2009-04</td>\n",
       "      <td>2009-04-25 00:47:52</td>\n",
       "      <td>No one is calling this an engineered pathogen,...</td>\n",
       "    </tr>\n",
       "    <tr>\n",
       "      <th>1010822</th>\n",
       "      <td>1</td>\n",
       "      <td>whatever you do, don't vote green!</td>\n",
       "      <td>BCHarvey</td>\n",
       "      <td>climate</td>\n",
       "      <td>1</td>\n",
       "      <td>1</td>\n",
       "      <td>0</td>\n",
       "      <td>2009-05</td>\n",
       "      <td>2009-05-14 22:27:40</td>\n",
       "      <td>In a move typical of their recent do-nothing a...</td>\n",
       "    </tr>\n",
       "    <tr>\n",
       "      <th>1010823</th>\n",
       "      <td>1</td>\n",
       "      <td>Perhaps this is an atheist conspiracy to make ...</td>\n",
       "      <td>rebelcommander</td>\n",
       "      <td>atheism</td>\n",
       "      <td>1</td>\n",
       "      <td>1</td>\n",
       "      <td>0</td>\n",
       "      <td>2009-01</td>\n",
       "      <td>2009-01-11 00:22:57</td>\n",
       "      <td>Screw the Disabled--I've got to get to Church ...</td>\n",
       "    </tr>\n",
       "    <tr>\n",
       "      <th>1010824</th>\n",
       "      <td>1</td>\n",
       "      <td>The Slavs got their own country - it is called...</td>\n",
       "      <td>catsi</td>\n",
       "      <td>worldnews</td>\n",
       "      <td>1</td>\n",
       "      <td>1</td>\n",
       "      <td>0</td>\n",
       "      <td>2009-01</td>\n",
       "      <td>2009-01-23 21:12:49</td>\n",
       "      <td>I've always been unsettled by that. I hear a l...</td>\n",
       "    </tr>\n",
       "    <tr>\n",
       "      <th>1010825</th>\n",
       "      <td>1</td>\n",
       "      <td>values, as in capitalism .. there is good mone...</td>\n",
       "      <td>frogking</td>\n",
       "      <td>politics</td>\n",
       "      <td>2</td>\n",
       "      <td>2</td>\n",
       "      <td>0</td>\n",
       "      <td>2009-01</td>\n",
       "      <td>2009-01-24 06:20:14</td>\n",
       "      <td>Why do the people who make our laws seem unabl...</td>\n",
       "    </tr>\n",
       "  </tbody>\n",
       "</table>\n",
       "<p>1010570 rows × 10 columns</p>\n",
       "</div>"
      ],
      "text/plain": [
       "         label  ...                                     parent_comment\n",
       "0            0  ...  Yeah, I get that argument. At this point, I'd ...\n",
       "1            0  ...  The blazers and Mavericks (The wests 5 and 6 s...\n",
       "2            0  ...                            They're favored to win.\n",
       "3            0  ...                         deadass don't kill my buzz\n",
       "4            0  ...  Yep can confirm I saw the tool they use for th...\n",
       "...        ...  ...                                                ...\n",
       "1010821      1  ...  No one is calling this an engineered pathogen,...\n",
       "1010822      1  ...  In a move typical of their recent do-nothing a...\n",
       "1010823      1  ...  Screw the Disabled--I've got to get to Church ...\n",
       "1010824      1  ...  I've always been unsettled by that. I hear a l...\n",
       "1010825      1  ...  Why do the people who make our laws seem unabl...\n",
       "\n",
       "[1010570 rows x 10 columns]"
      ]
     },
     "execution_count": 12,
     "metadata": {},
     "output_type": "execute_result"
    }
   ],
   "source": [
    "df = df.drop_duplicates(subset=['comment','author','subreddit','parent_comment'],keep='last')\n",
    "df"
   ]
  },
  {
   "cell_type": "markdown",
   "metadata": {
    "id": "pm-JMyISQzPh"
   },
   "source": [
    "We are left with 1010570 rows."
   ]
  },
  {
   "cell_type": "markdown",
   "metadata": {
    "id": "s6o1-KN53ZrO"
   },
   "source": [
    "# Comments == Parent comments analysis\n"
   ]
  },
  {
   "cell_type": "code",
   "execution_count": null,
   "metadata": {
    "colab": {
     "base_uri": "https://localhost:8080/"
    },
    "executionInfo": {
     "elapsed": 19,
     "status": "ok",
     "timestamp": 1634542497002,
     "user": {
      "displayName": "Chris Yew",
      "photoUrl": "https://lh3.googleusercontent.com/a/default-user=s64",
      "userId": "09518424203937384471"
     },
     "user_tz": -480
    },
    "id": "efuiiQB8cq8L",
    "outputId": "b527fce2-8339-4d08-fe49-79906e0f00ed"
   },
   "outputs": [
    {
     "data": {
      "text/plain": [
       "0"
      ]
     },
     "execution_count": 13,
     "metadata": {},
     "output_type": "execute_result"
    }
   ],
   "source": [
    "sum(pd.isna(df[\"parent_comment\"])) ## no parent comment is missing"
   ]
  },
  {
   "cell_type": "markdown",
   "metadata": {
    "id": "qc-TW5Qg0Tx9"
   },
   "source": [
    "No parent comment is missing\n"
   ]
  },
  {
   "cell_type": "code",
   "execution_count": null,
   "metadata": {
    "colab": {
     "base_uri": "https://localhost:8080/"
    },
    "executionInfo": {
     "elapsed": 15,
     "status": "ok",
     "timestamp": 1634542497003,
     "user": {
      "displayName": "Chris Yew",
      "photoUrl": "https://lh3.googleusercontent.com/a/default-user=s64",
      "userId": "09518424203937384471"
     },
     "user_tz": -480
    },
    "id": "K2rMuibOc5ad",
    "outputId": "9295b58e-fbf0-40f1-8792-8bc70add36c5"
   },
   "outputs": [
    {
     "data": {
      "text/plain": [
       "546"
      ]
     },
     "execution_count": 14,
     "metadata": {},
     "output_type": "execute_result"
    }
   ],
   "source": [
    "op_comment = df[df[\"comment\"]==df[\"parent_comment\"]]\n",
    "len(op_comment) #546"
   ]
  },
  {
   "cell_type": "code",
   "execution_count": null,
   "metadata": {
    "colab": {
     "base_uri": "https://localhost:8080/"
    },
    "executionInfo": {
     "elapsed": 16,
     "status": "ok",
     "timestamp": 1634542497004,
     "user": {
      "displayName": "Chris Yew",
      "photoUrl": "https://lh3.googleusercontent.com/a/default-user=s64",
      "userId": "09518424203937384471"
     },
     "user_tz": -480
    },
    "id": "mvaAJClUWMYv",
    "outputId": "dd5b8689-c983-47e7-8bd2-3215488c12c9"
   },
   "outputs": [
    {
     "data": {
      "text/plain": [
       "540"
      ]
     },
     "execution_count": 15,
     "metadata": {},
     "output_type": "execute_result"
    }
   ],
   "source": [
    "len(op_comment[\"author\"].unique())"
   ]
  },
  {
   "cell_type": "code",
   "execution_count": null,
   "metadata": {
    "colab": {
     "base_uri": "https://localhost:8080/",
     "height": 421
    },
    "executionInfo": {
     "elapsed": 16,
     "status": "ok",
     "timestamp": 1634542497005,
     "user": {
      "displayName": "Chris Yew",
      "photoUrl": "https://lh3.googleusercontent.com/a/default-user=s64",
      "userId": "09518424203937384471"
     },
     "user_tz": -480
    },
    "id": "eZNE_kZiaw23",
    "outputId": "22f40859-76e6-4b2e-9ab0-5cb4c052d818"
   },
   "outputs": [
    {
     "data": {
      "text/html": [
       "<div>\n",
       "<style scoped>\n",
       "    .dataframe tbody tr th:only-of-type {\n",
       "        vertical-align: middle;\n",
       "    }\n",
       "\n",
       "    .dataframe tbody tr th {\n",
       "        vertical-align: top;\n",
       "    }\n",
       "\n",
       "    .dataframe thead th {\n",
       "        text-align: right;\n",
       "    }\n",
       "</style>\n",
       "<table border=\"1\" class=\"dataframe\">\n",
       "  <thead>\n",
       "    <tr style=\"text-align: right;\">\n",
       "      <th></th>\n",
       "      <th>label</th>\n",
       "      <th>comment</th>\n",
       "      <th>author</th>\n",
       "      <th>subreddit</th>\n",
       "      <th>score</th>\n",
       "      <th>ups</th>\n",
       "      <th>downs</th>\n",
       "      <th>date</th>\n",
       "      <th>created_utc</th>\n",
       "      <th>parent_comment</th>\n",
       "    </tr>\n",
       "  </thead>\n",
       "  <tbody>\n",
       "    <tr>\n",
       "      <th>163012</th>\n",
       "      <td>0</td>\n",
       "      <td>Cat.</td>\n",
       "      <td>george_s_4</td>\n",
       "      <td>CatsStandingUp</td>\n",
       "      <td>6</td>\n",
       "      <td>-1</td>\n",
       "      <td>-1</td>\n",
       "      <td>2016-10</td>\n",
       "      <td>2016-10-28 16:20:19</td>\n",
       "      <td>Cat.</td>\n",
       "    </tr>\n",
       "    <tr>\n",
       "      <th>175008</th>\n",
       "      <td>0</td>\n",
       "      <td>Cat.</td>\n",
       "      <td>nPrimo</td>\n",
       "      <td>CatsStandingUp</td>\n",
       "      <td>5</td>\n",
       "      <td>-1</td>\n",
       "      <td>-1</td>\n",
       "      <td>2016-11</td>\n",
       "      <td>2016-11-25 21:45:47</td>\n",
       "      <td>Cat.</td>\n",
       "    </tr>\n",
       "    <tr>\n",
       "      <th>175009</th>\n",
       "      <td>0</td>\n",
       "      <td>Kitty.</td>\n",
       "      <td>nPrimo</td>\n",
       "      <td>kitty</td>\n",
       "      <td>1</td>\n",
       "      <td>-1</td>\n",
       "      <td>-1</td>\n",
       "      <td>2016-10</td>\n",
       "      <td>2016-10-31 02:43:53</td>\n",
       "      <td>Kitty.</td>\n",
       "    </tr>\n",
       "    <tr>\n",
       "      <th>219920</th>\n",
       "      <td>0</td>\n",
       "      <td>cat.</td>\n",
       "      <td>roastsGently</td>\n",
       "      <td>catssittingdown</td>\n",
       "      <td>1</td>\n",
       "      <td>1</td>\n",
       "      <td>0</td>\n",
       "      <td>2016-07</td>\n",
       "      <td>2016-07-09 22:03:33</td>\n",
       "      <td>cat.</td>\n",
       "    </tr>\n",
       "    <tr>\n",
       "      <th>240839</th>\n",
       "      <td>0</td>\n",
       "      <td>Cat.</td>\n",
       "      <td>roastsGently</td>\n",
       "      <td>CatsStandingUp</td>\n",
       "      <td>7</td>\n",
       "      <td>7</td>\n",
       "      <td>0</td>\n",
       "      <td>2016-07</td>\n",
       "      <td>2016-07-16 18:14:36</td>\n",
       "      <td>Cat.</td>\n",
       "    </tr>\n",
       "    <tr>\n",
       "      <th>271397</th>\n",
       "      <td>0</td>\n",
       "      <td>Cat.</td>\n",
       "      <td>george_s_4</td>\n",
       "      <td>aww</td>\n",
       "      <td>-3</td>\n",
       "      <td>-3</td>\n",
       "      <td>0</td>\n",
       "      <td>2016-07</td>\n",
       "      <td>2016-07-29 15:47:36</td>\n",
       "      <td>Cat.</td>\n",
       "    </tr>\n",
       "    <tr>\n",
       "      <th>363851</th>\n",
       "      <td>0</td>\n",
       "      <td>Kitty.</td>\n",
       "      <td>saphirayne</td>\n",
       "      <td>kitty</td>\n",
       "      <td>3</td>\n",
       "      <td>3</td>\n",
       "      <td>0</td>\n",
       "      <td>2016-04</td>\n",
       "      <td>2016-04-03 15:06:09</td>\n",
       "      <td>Kitty.</td>\n",
       "    </tr>\n",
       "    <tr>\n",
       "      <th>618387</th>\n",
       "      <td>0</td>\n",
       "      <td>Cat.</td>\n",
       "      <td>saphirayne</td>\n",
       "      <td>CatsStandingUp</td>\n",
       "      <td>3</td>\n",
       "      <td>3</td>\n",
       "      <td>0</td>\n",
       "      <td>2015-08</td>\n",
       "      <td>2015-08-01 08:16:02</td>\n",
       "      <td>Cat.</td>\n",
       "    </tr>\n",
       "    <tr>\n",
       "      <th>796799</th>\n",
       "      <td>0</td>\n",
       "      <td>?</td>\n",
       "      <td>AdmiralAkbar1</td>\n",
       "      <td>AdviceAnimals</td>\n",
       "      <td>30</td>\n",
       "      <td>30</td>\n",
       "      <td>0</td>\n",
       "      <td>2014-06</td>\n",
       "      <td>2014-06-19 12:21:36</td>\n",
       "      <td>?</td>\n",
       "    </tr>\n",
       "    <tr>\n",
       "      <th>861837</th>\n",
       "      <td>0</td>\n",
       "      <td>I am Groot.</td>\n",
       "      <td>AdmiralAkbar1</td>\n",
       "      <td>AskReddit</td>\n",
       "      <td>1</td>\n",
       "      <td>1</td>\n",
       "      <td>0</td>\n",
       "      <td>2014-09</td>\n",
       "      <td>2014-09-01 22:57:19</td>\n",
       "      <td>I am Groot.</td>\n",
       "    </tr>\n",
       "    <tr>\n",
       "      <th>871659</th>\n",
       "      <td>0</td>\n",
       "      <td>[](/cm)</td>\n",
       "      <td>notadeadperson</td>\n",
       "      <td>magicskyfairy</td>\n",
       "      <td>3</td>\n",
       "      <td>3</td>\n",
       "      <td>0</td>\n",
       "      <td>2014-01</td>\n",
       "      <td>2014-01-05 16:13:04</td>\n",
       "      <td>[](/cm)</td>\n",
       "    </tr>\n",
       "    <tr>\n",
       "      <th>877589</th>\n",
       "      <td>0</td>\n",
       "      <td>Cat.</td>\n",
       "      <td>notadeadperson</td>\n",
       "      <td>SubredditDrama</td>\n",
       "      <td>2</td>\n",
       "      <td>2</td>\n",
       "      <td>0</td>\n",
       "      <td>2014-06</td>\n",
       "      <td>2014-06-07 06:20:59</td>\n",
       "      <td>Cat.</td>\n",
       "    </tr>\n",
       "  </tbody>\n",
       "</table>\n",
       "</div>"
      ],
      "text/plain": [
       "        label      comment  ...         created_utc parent_comment\n",
       "163012      0         Cat.  ... 2016-10-28 16:20:19           Cat.\n",
       "175008      0         Cat.  ... 2016-11-25 21:45:47           Cat.\n",
       "175009      0       Kitty.  ... 2016-10-31 02:43:53         Kitty.\n",
       "219920      0         cat.  ... 2016-07-09 22:03:33           cat.\n",
       "240839      0         Cat.  ... 2016-07-16 18:14:36           Cat.\n",
       "271397      0         Cat.  ... 2016-07-29 15:47:36           Cat.\n",
       "363851      0       Kitty.  ... 2016-04-03 15:06:09         Kitty.\n",
       "618387      0         Cat.  ... 2015-08-01 08:16:02           Cat.\n",
       "796799      0            ?  ... 2014-06-19 12:21:36              ?\n",
       "861837      0  I am Groot.  ... 2014-09-01 22:57:19    I am Groot.\n",
       "871659      0      [](/cm)  ... 2014-01-05 16:13:04        [](/cm)\n",
       "877589      0         Cat.  ... 2014-06-07 06:20:59           Cat.\n",
       "\n",
       "[12 rows x 10 columns]"
      ]
     },
     "execution_count": 16,
     "metadata": {},
     "output_type": "execute_result"
    }
   ],
   "source": [
    "op_comment[op_comment.duplicated(\"author\",keep=False)]"
   ]
  },
  {
   "cell_type": "markdown",
   "metadata": {
    "id": "ll2npKxVa8v_"
   },
   "source": [
    "6 authors in op_comment seems to like to post cat\n"
   ]
  },
  {
   "cell_type": "code",
   "execution_count": null,
   "metadata": {
    "colab": {
     "base_uri": "https://localhost:8080/",
     "height": 419
    },
    "executionInfo": {
     "elapsed": 15,
     "status": "ok",
     "timestamp": 1634542497006,
     "user": {
      "displayName": "Chris Yew",
      "photoUrl": "https://lh3.googleusercontent.com/a/default-user=s64",
      "userId": "09518424203937384471"
     },
     "user_tz": -480
    },
    "id": "WJ_kDrxabZza",
    "outputId": "bc1b76a6-3651-420b-bc14-a88878db29be"
   },
   "outputs": [
    {
     "data": {
      "text/html": [
       "<div>\n",
       "<style scoped>\n",
       "    .dataframe tbody tr th:only-of-type {\n",
       "        vertical-align: middle;\n",
       "    }\n",
       "\n",
       "    .dataframe tbody tr th {\n",
       "        vertical-align: top;\n",
       "    }\n",
       "\n",
       "    .dataframe thead th {\n",
       "        text-align: right;\n",
       "    }\n",
       "</style>\n",
       "<table border=\"1\" class=\"dataframe\">\n",
       "  <thead>\n",
       "    <tr style=\"text-align: right;\">\n",
       "      <th></th>\n",
       "      <th>label</th>\n",
       "      <th>comment</th>\n",
       "      <th>author</th>\n",
       "      <th>subreddit</th>\n",
       "      <th>score</th>\n",
       "      <th>ups</th>\n",
       "      <th>downs</th>\n",
       "      <th>date</th>\n",
       "      <th>created_utc</th>\n",
       "      <th>parent_comment</th>\n",
       "    </tr>\n",
       "  </thead>\n",
       "  <tbody>\n",
       "    <tr>\n",
       "      <th>3205</th>\n",
       "      <td>0</td>\n",
       "      <td>Sleep tight Tucker</td>\n",
       "      <td>Smithy7777</td>\n",
       "      <td>The_Donald</td>\n",
       "      <td>2</td>\n",
       "      <td>-1</td>\n",
       "      <td>-1</td>\n",
       "      <td>2016-11</td>\n",
       "      <td>2016-11-23 05:37:23</td>\n",
       "      <td>Sleep tight Tucker</td>\n",
       "    </tr>\n",
       "    <tr>\n",
       "      <th>4332</th>\n",
       "      <td>0</td>\n",
       "      <td>F</td>\n",
       "      <td>notDarksta</td>\n",
       "      <td>2007scape</td>\n",
       "      <td>1</td>\n",
       "      <td>-1</td>\n",
       "      <td>-1</td>\n",
       "      <td>2016-11</td>\n",
       "      <td>2016-11-15 22:12:11</td>\n",
       "      <td>F</td>\n",
       "    </tr>\n",
       "    <tr>\n",
       "      <th>4532</th>\n",
       "      <td>0</td>\n",
       "      <td>Kitty.</td>\n",
       "      <td>wawa09</td>\n",
       "      <td>kitty</td>\n",
       "      <td>6</td>\n",
       "      <td>-1</td>\n",
       "      <td>-1</td>\n",
       "      <td>2016-10</td>\n",
       "      <td>2016-10-05 17:25:16</td>\n",
       "      <td>Kitty.</td>\n",
       "    </tr>\n",
       "    <tr>\n",
       "      <th>5411</th>\n",
       "      <td>0</td>\n",
       "      <td>Cat.</td>\n",
       "      <td>UncleSweaty</td>\n",
       "      <td>aww</td>\n",
       "      <td>5</td>\n",
       "      <td>-1</td>\n",
       "      <td>-1</td>\n",
       "      <td>2016-11</td>\n",
       "      <td>2016-11-24 15:20:59</td>\n",
       "      <td>Cat.</td>\n",
       "    </tr>\n",
       "    <tr>\n",
       "      <th>5839</th>\n",
       "      <td>0</td>\n",
       "      <td>Cat.</td>\n",
       "      <td>cat_with_a_fez</td>\n",
       "      <td>CatsStandingUp</td>\n",
       "      <td>10</td>\n",
       "      <td>-1</td>\n",
       "      <td>-1</td>\n",
       "      <td>2016-11</td>\n",
       "      <td>2016-11-29 15:55:06</td>\n",
       "      <td>Cat.</td>\n",
       "    </tr>\n",
       "    <tr>\n",
       "      <th>...</th>\n",
       "      <td>...</td>\n",
       "      <td>...</td>\n",
       "      <td>...</td>\n",
       "      <td>...</td>\n",
       "      <td>...</td>\n",
       "      <td>...</td>\n",
       "      <td>...</td>\n",
       "      <td>...</td>\n",
       "      <td>...</td>\n",
       "      <td>...</td>\n",
       "    </tr>\n",
       "    <tr>\n",
       "      <th>886561</th>\n",
       "      <td>0</td>\n",
       "      <td>Cat.</td>\n",
       "      <td>vkashen</td>\n",
       "      <td>CatsStandingUp</td>\n",
       "      <td>4</td>\n",
       "      <td>4</td>\n",
       "      <td>0</td>\n",
       "      <td>2014-05</td>\n",
       "      <td>2014-05-30 00:45:03</td>\n",
       "      <td>Cat.</td>\n",
       "    </tr>\n",
       "    <tr>\n",
       "      <th>892066</th>\n",
       "      <td>0</td>\n",
       "      <td>added</td>\n",
       "      <td>nagrom7</td>\n",
       "      <td>friendsafari</td>\n",
       "      <td>1</td>\n",
       "      <td>1</td>\n",
       "      <td>0</td>\n",
       "      <td>2014-07</td>\n",
       "      <td>2014-07-17 13:49:41</td>\n",
       "      <td>added</td>\n",
       "    </tr>\n",
       "    <tr>\n",
       "      <th>915613</th>\n",
       "      <td>0</td>\n",
       "      <td>Tom Cruise</td>\n",
       "      <td>imgregharrison</td>\n",
       "      <td>AskReddit</td>\n",
       "      <td>1</td>\n",
       "      <td>1</td>\n",
       "      <td>0</td>\n",
       "      <td>2012-10</td>\n",
       "      <td>2012-10-18 23:40:03</td>\n",
       "      <td>Tom Cruise</td>\n",
       "    </tr>\n",
       "    <tr>\n",
       "      <th>916238</th>\n",
       "      <td>0</td>\n",
       "      <td>Cat.</td>\n",
       "      <td>bicolorskydiver</td>\n",
       "      <td>CatsStandingUp</td>\n",
       "      <td>7</td>\n",
       "      <td>7</td>\n",
       "      <td>0</td>\n",
       "      <td>2013-12</td>\n",
       "      <td>2013-12-03 02:20:26</td>\n",
       "      <td>Cat.</td>\n",
       "    </tr>\n",
       "    <tr>\n",
       "      <th>939866</th>\n",
       "      <td>0</td>\n",
       "      <td>aye</td>\n",
       "      <td>Erephnex</td>\n",
       "      <td>AskReddit</td>\n",
       "      <td>4</td>\n",
       "      <td>4</td>\n",
       "      <td>0</td>\n",
       "      <td>2013-10</td>\n",
       "      <td>2013-10-12 23:09:30</td>\n",
       "      <td>aye</td>\n",
       "    </tr>\n",
       "  </tbody>\n",
       "</table>\n",
       "<p>279 rows × 10 columns</p>\n",
       "</div>"
      ],
      "text/plain": [
       "        label             comment  ...         created_utc      parent_comment\n",
       "3205        0  Sleep tight Tucker  ... 2016-11-23 05:37:23  Sleep tight Tucker\n",
       "4332        0                   F  ... 2016-11-15 22:12:11                   F\n",
       "4532        0              Kitty.  ... 2016-10-05 17:25:16              Kitty.\n",
       "5411        0                Cat.  ... 2016-11-24 15:20:59                Cat.\n",
       "5839        0                Cat.  ... 2016-11-29 15:55:06                Cat.\n",
       "...       ...                 ...  ...                 ...                 ...\n",
       "886561      0                Cat.  ... 2014-05-30 00:45:03                Cat.\n",
       "892066      0               added  ... 2014-07-17 13:49:41               added\n",
       "915613      0          Tom Cruise  ... 2012-10-18 23:40:03          Tom Cruise\n",
       "916238      0                Cat.  ... 2013-12-03 02:20:26                Cat.\n",
       "939866      0                 aye  ... 2013-10-12 23:09:30                 aye\n",
       "\n",
       "[279 rows x 10 columns]"
      ]
     },
     "execution_count": 17,
     "metadata": {},
     "output_type": "execute_result"
    }
   ],
   "source": [
    "op_comment[op_comment.duplicated(\"comment\",keep=False)]"
   ]
  },
  {
   "cell_type": "markdown",
   "metadata": {
    "id": "nxUNFHlobcGT"
   },
   "source": [
    "279 comments (about half) are repeated in these op_comments, provided by different authors and in different subreddits. Perhaps we should remove these.\n"
   ]
  },
  {
   "cell_type": "markdown",
   "metadata": {
    "id": "j10InAJq8NtX"
   },
   "source": [
    "# Are there sarcasm-only authors?"
   ]
  },
  {
   "cell_type": "code",
   "execution_count": null,
   "metadata": {
    "id": "jUsHnnfM8WWT"
   },
   "outputs": [],
   "source": [
    "author_df = df.groupby(\"author\").label.mean().reset_index().rename(columns={'label':'ratio'})"
   ]
  },
  {
   "cell_type": "code",
   "execution_count": null,
   "metadata": {
    "colab": {
     "base_uri": "https://localhost:8080/",
     "height": 419
    },
    "executionInfo": {
     "elapsed": 16,
     "status": "ok",
     "timestamp": 1634542498298,
     "user": {
      "displayName": "Chris Yew",
      "photoUrl": "https://lh3.googleusercontent.com/a/default-user=s64",
      "userId": "09518424203937384471"
     },
     "user_tz": -480
    },
    "id": "x5bemJ_1dSTL",
    "outputId": "2013501e-1e70-4e5f-87de-3f437ad5ca9f"
   },
   "outputs": [
    {
     "data": {
      "text/html": [
       "<div>\n",
       "<style scoped>\n",
       "    .dataframe tbody tr th:only-of-type {\n",
       "        vertical-align: middle;\n",
       "    }\n",
       "\n",
       "    .dataframe tbody tr th {\n",
       "        vertical-align: top;\n",
       "    }\n",
       "\n",
       "    .dataframe thead th {\n",
       "        text-align: right;\n",
       "    }\n",
       "</style>\n",
       "<table border=\"1\" class=\"dataframe\">\n",
       "  <thead>\n",
       "    <tr style=\"text-align: right;\">\n",
       "      <th></th>\n",
       "      <th>author</th>\n",
       "      <th>ratio</th>\n",
       "    </tr>\n",
       "  </thead>\n",
       "  <tbody>\n",
       "    <tr>\n",
       "      <th>0</th>\n",
       "      <td>---</td>\n",
       "      <td>0.5</td>\n",
       "    </tr>\n",
       "    <tr>\n",
       "      <th>1</th>\n",
       "      <td>--------__--------</td>\n",
       "      <td>0.5</td>\n",
       "    </tr>\n",
       "    <tr>\n",
       "      <th>2</th>\n",
       "      <td>------___--___------</td>\n",
       "      <td>0.5</td>\n",
       "    </tr>\n",
       "    <tr>\n",
       "      <th>3</th>\n",
       "      <td>-----BroAway-----</td>\n",
       "      <td>0.5</td>\n",
       "    </tr>\n",
       "    <tr>\n",
       "      <th>4</th>\n",
       "      <td>----_____----</td>\n",
       "      <td>0.5</td>\n",
       "    </tr>\n",
       "    <tr>\n",
       "      <th>...</th>\n",
       "      <td>...</td>\n",
       "      <td>...</td>\n",
       "    </tr>\n",
       "    <tr>\n",
       "      <th>256556</th>\n",
       "      <td>zzztyu</td>\n",
       "      <td>0.5</td>\n",
       "    </tr>\n",
       "    <tr>\n",
       "      <th>256557</th>\n",
       "      <td>zzzxxc1</td>\n",
       "      <td>0.5</td>\n",
       "    </tr>\n",
       "    <tr>\n",
       "      <th>256558</th>\n",
       "      <td>zzzzz94</td>\n",
       "      <td>0.5</td>\n",
       "    </tr>\n",
       "    <tr>\n",
       "      <th>256559</th>\n",
       "      <td>zzzzzzzzzzzzzzdz</td>\n",
       "      <td>0.5</td>\n",
       "    </tr>\n",
       "    <tr>\n",
       "      <th>256560</th>\n",
       "      <td>zzzzzzzzzzzzzzzzspaf</td>\n",
       "      <td>0.5</td>\n",
       "    </tr>\n",
       "  </tbody>\n",
       "</table>\n",
       "<p>256561 rows × 2 columns</p>\n",
       "</div>"
      ],
      "text/plain": [
       "                      author  ratio\n",
       "0                        ---    0.5\n",
       "1         --------__--------    0.5\n",
       "2       ------___--___------    0.5\n",
       "3          -----BroAway-----    0.5\n",
       "4              ----_____----    0.5\n",
       "...                      ...    ...\n",
       "256556                zzztyu    0.5\n",
       "256557               zzzxxc1    0.5\n",
       "256558               zzzzz94    0.5\n",
       "256559      zzzzzzzzzzzzzzdz    0.5\n",
       "256560  zzzzzzzzzzzzzzzzspaf    0.5\n",
       "\n",
       "[256561 rows x 2 columns]"
      ]
     },
     "execution_count": 19,
     "metadata": {},
     "output_type": "execute_result"
    }
   ],
   "source": [
    "author_df"
   ]
  },
  {
   "cell_type": "code",
   "execution_count": null,
   "metadata": {
    "colab": {
     "base_uri": "https://localhost:8080/",
     "height": 142
    },
    "executionInfo": {
     "elapsed": 14,
     "status": "ok",
     "timestamp": 1634542498298,
     "user": {
      "displayName": "Chris Yew",
      "photoUrl": "https://lh3.googleusercontent.com/a/default-user=s64",
      "userId": "09518424203937384471"
     },
     "user_tz": -480
    },
    "id": "PI9qynHJwpiq",
    "outputId": "203b5374-f49d-4b77-e2c5-553d90dcff5d"
   },
   "outputs": [
    {
     "data": {
      "text/html": [
       "<div>\n",
       "<style scoped>\n",
       "    .dataframe tbody tr th:only-of-type {\n",
       "        vertical-align: middle;\n",
       "    }\n",
       "\n",
       "    .dataframe tbody tr th {\n",
       "        vertical-align: top;\n",
       "    }\n",
       "\n",
       "    .dataframe thead th {\n",
       "        text-align: right;\n",
       "    }\n",
       "</style>\n",
       "<table border=\"1\" class=\"dataframe\">\n",
       "  <thead>\n",
       "    <tr style=\"text-align: right;\">\n",
       "      <th></th>\n",
       "      <th>label</th>\n",
       "      <th>comment</th>\n",
       "      <th>author</th>\n",
       "      <th>subreddit</th>\n",
       "      <th>score</th>\n",
       "      <th>ups</th>\n",
       "      <th>downs</th>\n",
       "      <th>date</th>\n",
       "      <th>created_utc</th>\n",
       "      <th>parent_comment</th>\n",
       "    </tr>\n",
       "  </thead>\n",
       "  <tbody>\n",
       "    <tr>\n",
       "      <th>307501</th>\n",
       "      <td>0</td>\n",
       "      <td>This just makes me want a 3DS 2.5D Metroid eve...</td>\n",
       "      <td>-Anguscr4p-</td>\n",
       "      <td>Metroid</td>\n",
       "      <td>1</td>\n",
       "      <td>1</td>\n",
       "      <td>0</td>\n",
       "      <td>2016-08</td>\n",
       "      <td>2016-08-12 15:54:57</td>\n",
       "      <td>3D Metroid FullHD/60Fps gameplay in 3DNes emul...</td>\n",
       "    </tr>\n",
       "    <tr>\n",
       "      <th>939191</th>\n",
       "      <td>0</td>\n",
       "      <td>Holy crap someone else says brotato!</td>\n",
       "      <td>-Anguscr4p-</td>\n",
       "      <td>nfl</td>\n",
       "      <td>13</td>\n",
       "      <td>13</td>\n",
       "      <td>0</td>\n",
       "      <td>2013-07</td>\n",
       "      <td>2013-07-02 21:13:45</td>\n",
       "      <td>Just you wait, brotato. We're earning those go...</td>\n",
       "    </tr>\n",
       "    <tr>\n",
       "      <th>972154</th>\n",
       "      <td>1</td>\n",
       "      <td>*obviously*</td>\n",
       "      <td>-Anguscr4p-</td>\n",
       "      <td>nfl</td>\n",
       "      <td>1</td>\n",
       "      <td>1</td>\n",
       "      <td>0</td>\n",
       "      <td>2013-02</td>\n",
       "      <td>2013-02-24 19:46:46</td>\n",
       "      <td>so Flacco's the best QB ?</td>\n",
       "    </tr>\n",
       "  </tbody>\n",
       "</table>\n",
       "</div>"
      ],
      "text/plain": [
       "        label  ...                                     parent_comment\n",
       "307501      0  ...  3D Metroid FullHD/60Fps gameplay in 3DNes emul...\n",
       "939191      0  ...  Just you wait, brotato. We're earning those go...\n",
       "972154      1  ...                          so Flacco's the best QB ?\n",
       "\n",
       "[3 rows x 10 columns]"
      ]
     },
     "execution_count": 20,
     "metadata": {},
     "output_type": "execute_result"
    }
   ],
   "source": [
    "df[df[\"author\"]=='-Anguscr4p-']\t"
   ]
  },
  {
   "cell_type": "code",
   "execution_count": null,
   "metadata": {
    "colab": {
     "base_uri": "https://localhost:8080/",
     "height": 419
    },
    "executionInfo": {
     "elapsed": 13,
     "status": "ok",
     "timestamp": 1634542498299,
     "user": {
      "displayName": "Chris Yew",
      "photoUrl": "https://lh3.googleusercontent.com/a/default-user=s64",
      "userId": "09518424203937384471"
     },
     "user_tz": -480
    },
    "id": "I1d_X2-JwSdj",
    "outputId": "645e7215-5236-4362-e632-b8f7a69df9f4"
   },
   "outputs": [
    {
     "data": {
      "text/html": [
       "<div>\n",
       "<style scoped>\n",
       "    .dataframe tbody tr th:only-of-type {\n",
       "        vertical-align: middle;\n",
       "    }\n",
       "\n",
       "    .dataframe tbody tr th {\n",
       "        vertical-align: top;\n",
       "    }\n",
       "\n",
       "    .dataframe thead th {\n",
       "        text-align: right;\n",
       "    }\n",
       "</style>\n",
       "<table border=\"1\" class=\"dataframe\">\n",
       "  <thead>\n",
       "    <tr style=\"text-align: right;\">\n",
       "      <th></th>\n",
       "      <th>author</th>\n",
       "      <th>ratio</th>\n",
       "    </tr>\n",
       "  </thead>\n",
       "  <tbody>\n",
       "    <tr>\n",
       "      <th>40</th>\n",
       "      <td>--o</td>\n",
       "      <td>0.473684</td>\n",
       "    </tr>\n",
       "    <tr>\n",
       "      <th>51</th>\n",
       "      <td>-311-</td>\n",
       "      <td>1.000000</td>\n",
       "    </tr>\n",
       "    <tr>\n",
       "      <th>74</th>\n",
       "      <td>-Anguscr4p-</td>\n",
       "      <td>0.333333</td>\n",
       "    </tr>\n",
       "    <tr>\n",
       "      <th>198</th>\n",
       "      <td>-InterestingTimes-</td>\n",
       "      <td>1.000000</td>\n",
       "    </tr>\n",
       "    <tr>\n",
       "      <th>255</th>\n",
       "      <td>-Miss-Ann-Thrope-</td>\n",
       "      <td>1.000000</td>\n",
       "    </tr>\n",
       "    <tr>\n",
       "      <th>...</th>\n",
       "      <td>...</td>\n",
       "      <td>...</td>\n",
       "    </tr>\n",
       "    <tr>\n",
       "      <th>256425</th>\n",
       "      <td>zulugolftangovictor</td>\n",
       "      <td>1.000000</td>\n",
       "    </tr>\n",
       "    <tr>\n",
       "      <th>256448</th>\n",
       "      <td>zuzutmc</td>\n",
       "      <td>1.000000</td>\n",
       "    </tr>\n",
       "    <tr>\n",
       "      <th>256505</th>\n",
       "      <td>zymurgistical</td>\n",
       "      <td>1.000000</td>\n",
       "    </tr>\n",
       "    <tr>\n",
       "      <th>256507</th>\n",
       "      <td>zynthesis</td>\n",
       "      <td>0.428571</td>\n",
       "    </tr>\n",
       "    <tr>\n",
       "      <th>256553</th>\n",
       "      <td>zzzev</td>\n",
       "      <td>0.333333</td>\n",
       "    </tr>\n",
       "  </tbody>\n",
       "</table>\n",
       "<p>4867 rows × 2 columns</p>\n",
       "</div>"
      ],
      "text/plain": [
       "                     author     ratio\n",
       "40                      --o  0.473684\n",
       "51                    -311-  1.000000\n",
       "74              -Anguscr4p-  0.333333\n",
       "198      -InterestingTimes-  1.000000\n",
       "255       -Miss-Ann-Thrope-  1.000000\n",
       "...                     ...       ...\n",
       "256425  zulugolftangovictor  1.000000\n",
       "256448              zuzutmc  1.000000\n",
       "256505        zymurgistical  1.000000\n",
       "256507            zynthesis  0.428571\n",
       "256553                zzzev  0.333333\n",
       "\n",
       "[4867 rows x 2 columns]"
      ]
     },
     "execution_count": 21,
     "metadata": {},
     "output_type": "execute_result"
    }
   ],
   "source": [
    "author_df[author_df[\"ratio\"]!=0.5]"
   ]
  },
  {
   "cell_type": "code",
   "execution_count": null,
   "metadata": {
    "colab": {
     "base_uri": "https://localhost:8080/"
    },
    "executionInfo": {
     "elapsed": 13,
     "status": "ok",
     "timestamp": 1634542498300,
     "user": {
      "displayName": "Chris Yew",
      "photoUrl": "https://lh3.googleusercontent.com/a/default-user=s64",
      "userId": "09518424203937384471"
     },
     "user_tz": -480
    },
    "id": "GeZOgJRvdusa",
    "outputId": "ec6c78c5-f86b-4d81-e4e9-e08c2e2c5c7e"
   },
   "outputs": [
    {
     "data": {
      "text/plain": [
       "4867"
      ]
     },
     "execution_count": 22,
     "metadata": {},
     "output_type": "execute_result"
    }
   ],
   "source": [
    "len(author_df[author_df[\"ratio\"]!=0.5])"
   ]
  },
  {
   "cell_type": "code",
   "execution_count": null,
   "metadata": {
    "colab": {
     "base_uri": "https://localhost:8080/"
    },
    "executionInfo": {
     "elapsed": 12,
     "status": "ok",
     "timestamp": 1634542498300,
     "user": {
      "displayName": "Chris Yew",
      "photoUrl": "https://lh3.googleusercontent.com/a/default-user=s64",
      "userId": "09518424203937384471"
     },
     "user_tz": -480
    },
    "id": "qCRNABndd0ck",
    "outputId": "350b5614-cf0c-4c7f-bc42-c544904ebeec"
   },
   "outputs": [
    {
     "data": {
      "text/plain": [
       "0.01897014745031396"
      ]
     },
     "execution_count": 23,
     "metadata": {},
     "output_type": "execute_result"
    }
   ],
   "source": [
    "4867/256561"
   ]
  },
  {
   "cell_type": "markdown",
   "metadata": {
    "id": "-RMVcF0Rd4rK"
   },
   "source": [
    "Only 0.02% of authors have non 0.5 ratio of sarcasm vs number of comments"
   ]
  },
  {
   "cell_type": "code",
   "execution_count": null,
   "metadata": {
    "colab": {
     "base_uri": "https://localhost:8080/"
    },
    "executionInfo": {
     "elapsed": 13,
     "status": "ok",
     "timestamp": 1634542498301,
     "user": {
      "displayName": "Chris Yew",
      "photoUrl": "https://lh3.googleusercontent.com/a/default-user=s64",
      "userId": "09518424203937384471"
     },
     "user_tz": -480
    },
    "id": "aatCWckbd7Ix",
    "outputId": "47f48fb8-ac09-4237-d39a-512484cc9c0e"
   },
   "outputs": [
    {
     "data": {
      "text/plain": [
       "count    4867.000000\n",
       "mean        0.674723\n",
       "std         0.319322\n",
       "min         0.000000\n",
       "25%         0.400000\n",
       "50%         0.486486\n",
       "75%         1.000000\n",
       "max         1.000000\n",
       "Name: ratio, dtype: float64"
      ]
     },
     "execution_count": 24,
     "metadata": {},
     "output_type": "execute_result"
    }
   ],
   "source": [
    "author_df[author_df[\"ratio\"]!=0.5][\"ratio\"].describe()"
   ]
  },
  {
   "cell_type": "code",
   "execution_count": null,
   "metadata": {
    "id": "LpOzUCq4d-0v"
   },
   "outputs": [],
   "source": [
    "author_df2 = df.groupby('author').count()"
   ]
  },
  {
   "cell_type": "code",
   "execution_count": null,
   "metadata": {
    "colab": {
     "base_uri": "https://localhost:8080/"
    },
    "executionInfo": {
     "elapsed": 6,
     "status": "ok",
     "timestamp": 1634542499420,
     "user": {
      "displayName": "Chris Yew",
      "photoUrl": "https://lh3.googleusercontent.com/a/default-user=s64",
      "userId": "09518424203937384471"
     },
     "user_tz": -480
    },
    "id": "eI9GSSCAjDat",
    "outputId": "f7c81ab2-f316-408f-d368-a375bd6df40b"
   },
   "outputs": [
    {
     "data": {
      "text/plain": [
       "count    256561.000000\n",
       "mean          3.938701\n",
       "std           6.052870\n",
       "min           0.000000\n",
       "25%           2.000000\n",
       "50%           2.000000\n",
       "75%           4.000000\n",
       "max         845.000000\n",
       "Name: comment, dtype: float64"
      ]
     },
     "execution_count": 26,
     "metadata": {},
     "output_type": "execute_result"
    }
   ],
   "source": [
    "author_df2.comment.describe()"
   ]
  },
  {
   "cell_type": "markdown",
   "metadata": {
    "id": "T-mNbfK5jqGH"
   },
   "source": [
    "Mean of comments from a single author is about 4. Perhaps if we don't consider the single time comments the ratio will be 0. And there is a single author with 845 comments, so median might be better to use than mean."
   ]
  },
  {
   "cell_type": "code",
   "execution_count": null,
   "metadata": {
    "id": "sOTyC6HGjo3O"
   },
   "outputs": [],
   "source": [
    "author_list = author_df2[author_df2[\"comment\"]>=2].index"
   ]
  },
  {
   "cell_type": "code",
   "execution_count": null,
   "metadata": {
    "colab": {
     "base_uri": "https://localhost:8080/"
    },
    "executionInfo": {
     "elapsed": 1742,
     "status": "ok",
     "timestamp": 1634542501159,
     "user": {
      "displayName": "Chris Yew",
      "photoUrl": "https://lh3.googleusercontent.com/a/default-user=s64",
      "userId": "09518424203937384471"
     },
     "user_tz": -480
    },
    "id": "QgXFjcNDkJ43",
    "outputId": "5b17a1d2-6956-46f8-a1fc-5801f8dd8613"
   },
   "outputs": [
    {
     "data": {
      "text/plain": [
       "count    2441.000000\n",
       "mean        0.409617\n",
       "std         0.086625\n",
       "min         0.000000\n",
       "25%         0.333333\n",
       "50%         0.400000\n",
       "75%         0.454545\n",
       "max         1.000000\n",
       "Name: ratio, dtype: float64"
      ]
     },
     "execution_count": 28,
     "metadata": {},
     "output_type": "execute_result"
    }
   ],
   "source": [
    "author_df3 = df[df['author'].isin(author_list)]\n",
    "author_df3 = author_df3.groupby(\"author\").label.mean().reset_index().rename(columns={'label':'ratio'})\n",
    "author_df3[author_df3[\"ratio\"]!=0.5][\"ratio\"].describe()"
   ]
  },
  {
   "cell_type": "code",
   "execution_count": null,
   "metadata": {
    "colab": {
     "base_uri": "https://localhost:8080/"
    },
    "executionInfo": {
     "elapsed": 6,
     "status": "ok",
     "timestamp": 1634542501159,
     "user": {
      "displayName": "Chris Yew",
      "photoUrl": "https://lh3.googleusercontent.com/a/default-user=s64",
      "userId": "09518424203937384471"
     },
     "user_tz": -480
    },
    "id": "Dx5xbmO5lYS8",
    "outputId": "98a3a00e-37ae-421e-861c-ed9b3089689c"
   },
   "outputs": [
    {
     "data": {
      "text/plain": [
       "0.009514306539185613"
      ]
     },
     "execution_count": 29,
     "metadata": {},
     "output_type": "execute_result"
    }
   ],
   "source": [
    "2441/256561 "
   ]
  },
  {
   "cell_type": "markdown",
   "metadata": {
    "id": "kPdvx198lpj_"
   },
   "source": [
    "Even after filtering comments>2, only 0.01 percent of authors have ratio!=0.5. We can conclude author is quite useless in detecting sarcasm.\n",
    "\n"
   ]
  },
  {
   "cell_type": "markdown",
   "metadata": {
    "id": "fsIgQgG6EjOb"
   },
   "source": [
    "#  Check on outlier authors\n"
   ]
  },
  {
   "cell_type": "code",
   "execution_count": null,
   "metadata": {
    "id": "z5PecRzaEzbE"
   },
   "outputs": [],
   "source": [
    "author_list2 = author_df2[author_df2[\"comment\"]>=(3.93+2*6.05)].index ## not sure 2 standard deviation is reasonable"
   ]
  },
  {
   "cell_type": "code",
   "execution_count": null,
   "metadata": {
    "colab": {
     "base_uri": "https://localhost:8080/"
    },
    "executionInfo": {
     "elapsed": 348,
     "status": "ok",
     "timestamp": 1634542501503,
     "user": {
      "displayName": "Chris Yew",
      "photoUrl": "https://lh3.googleusercontent.com/a/default-user=s64",
      "userId": "09518424203937384471"
     },
     "user_tz": -480
    },
    "id": "QJsPIdItnHLe",
    "outputId": "5e78477a-c749-43ad-8120-a2d4f5b9fd74"
   },
   "outputs": [
    {
     "data": {
      "text/html": [
       "<div>\n",
       "<style scoped>\n",
       "    .dataframe tbody tr th:only-of-type {\n",
       "        vertical-align: middle;\n",
       "    }\n",
       "\n",
       "    .dataframe tbody tr th {\n",
       "        vertical-align: top;\n",
       "    }\n",
       "\n",
       "    .dataframe thead th {\n",
       "        text-align: right;\n",
       "    }\n",
       "</style>\n",
       "<table border=\"1\" class=\"dataframe\">\n",
       "  <thead>\n",
       "    <tr style=\"text-align: right;\">\n",
       "      <th></th>\n",
       "      <th>label</th>\n",
       "      <th>comment</th>\n",
       "      <th>author</th>\n",
       "      <th>subreddit</th>\n",
       "      <th>score</th>\n",
       "      <th>ups</th>\n",
       "      <th>downs</th>\n",
       "      <th>date</th>\n",
       "      <th>created_utc</th>\n",
       "      <th>parent_comment</th>\n",
       "    </tr>\n",
       "  </thead>\n",
       "  <tbody>\n",
       "    <tr>\n",
       "      <th>5</th>\n",
       "      <td>0</td>\n",
       "      <td>I don't pay attention to her, but as long as s...</td>\n",
       "      <td>only7inches</td>\n",
       "      <td>AskReddit</td>\n",
       "      <td>0</td>\n",
       "      <td>0</td>\n",
       "      <td>0</td>\n",
       "      <td>2016-09</td>\n",
       "      <td>2016-09-02 10:35:08</td>\n",
       "      <td>do you find ariana grande sexy ?</td>\n",
       "    </tr>\n",
       "    <tr>\n",
       "      <th>6</th>\n",
       "      <td>0</td>\n",
       "      <td>Trick or treating in general is just weird...</td>\n",
       "      <td>only7inches</td>\n",
       "      <td>AskReddit</td>\n",
       "      <td>1</td>\n",
       "      <td>-1</td>\n",
       "      <td>-1</td>\n",
       "      <td>2016-10</td>\n",
       "      <td>2016-10-23 21:43:03</td>\n",
       "      <td>What's your weird or unsettling Trick or Treat...</td>\n",
       "    </tr>\n",
       "    <tr>\n",
       "      <th>8</th>\n",
       "      <td>0</td>\n",
       "      <td>You don't have to, you have a good build, buy ...</td>\n",
       "      <td>SoupToPots</td>\n",
       "      <td>pcmasterrace</td>\n",
       "      <td>1</td>\n",
       "      <td>-1</td>\n",
       "      <td>-1</td>\n",
       "      <td>2016-10</td>\n",
       "      <td>2016-10-27 19:11:06</td>\n",
       "      <td>What to upgrade? I have $500 to spend (mainly ...</td>\n",
       "    </tr>\n",
       "    <tr>\n",
       "      <th>12</th>\n",
       "      <td>0</td>\n",
       "      <td>They have an agenda.</td>\n",
       "      <td>Readbooks6</td>\n",
       "      <td>exmormon</td>\n",
       "      <td>4</td>\n",
       "      <td>-1</td>\n",
       "      <td>-1</td>\n",
       "      <td>2016-10</td>\n",
       "      <td>2016-10-15 01:14:03</td>\n",
       "      <td>There's no time to worry about leaks when they...</td>\n",
       "    </tr>\n",
       "    <tr>\n",
       "      <th>13</th>\n",
       "      <td>0</td>\n",
       "      <td>Great idea!</td>\n",
       "      <td>pieman2005</td>\n",
       "      <td>fantasyfootball</td>\n",
       "      <td>1</td>\n",
       "      <td>-1</td>\n",
       "      <td>-1</td>\n",
       "      <td>2016-10</td>\n",
       "      <td>2016-10-06 23:27:53</td>\n",
       "      <td>Team Specific Threads No matter how many artic...</td>\n",
       "    </tr>\n",
       "    <tr>\n",
       "      <th>...</th>\n",
       "      <td>...</td>\n",
       "      <td>...</td>\n",
       "      <td>...</td>\n",
       "      <td>...</td>\n",
       "      <td>...</td>\n",
       "      <td>...</td>\n",
       "      <td>...</td>\n",
       "      <td>...</td>\n",
       "      <td>...</td>\n",
       "      <td>...</td>\n",
       "    </tr>\n",
       "    <tr>\n",
       "      <th>1010695</th>\n",
       "      <td>1</td>\n",
       "      <td>See what socialized medicine forces people to do.</td>\n",
       "      <td>plbogen</td>\n",
       "      <td>gadgets</td>\n",
       "      <td>0</td>\n",
       "      <td>0</td>\n",
       "      <td>0</td>\n",
       "      <td>2009-08</td>\n",
       "      <td>2009-08-17 01:46:24</td>\n",
       "      <td>the satellite was used for the dramatic 1999 b...</td>\n",
       "    </tr>\n",
       "    <tr>\n",
       "      <th>1010742</th>\n",
       "      <td>1</td>\n",
       "      <td>That was a very thorough analysis of the article.</td>\n",
       "      <td>luster</td>\n",
       "      <td>business</td>\n",
       "      <td>2</td>\n",
       "      <td>2</td>\n",
       "      <td>0</td>\n",
       "      <td>2009-05</td>\n",
       "      <td>2009-05-28 15:40:49</td>\n",
       "      <td>Bullshit.</td>\n",
       "    </tr>\n",
       "    <tr>\n",
       "      <th>1010775</th>\n",
       "      <td>1</td>\n",
       "      <td>Making it a Bad Thing, by definition.</td>\n",
       "      <td>graphictruth</td>\n",
       "      <td>pics</td>\n",
       "      <td>1</td>\n",
       "      <td>1</td>\n",
       "      <td>0</td>\n",
       "      <td>2009-09</td>\n",
       "      <td>2009-09-10 23:26:46</td>\n",
       "      <td>If no one is aware, multi culturalism is solel...</td>\n",
       "    </tr>\n",
       "    <tr>\n",
       "      <th>1010811</th>\n",
       "      <td>1</td>\n",
       "      <td>Thank you unions.</td>\n",
       "      <td>boot20</td>\n",
       "      <td>politics</td>\n",
       "      <td>2</td>\n",
       "      <td>2</td>\n",
       "      <td>0</td>\n",
       "      <td>2009-05</td>\n",
       "      <td>2009-05-28 05:18:11</td>\n",
       "      <td>No wonder California is broke - The $350K Nurs...</td>\n",
       "    </tr>\n",
       "    <tr>\n",
       "      <th>1010818</th>\n",
       "      <td>1</td>\n",
       "      <td>OH SWEET ANOTHER GUITAR HERO CLONE</td>\n",
       "      <td>Mulsanne</td>\n",
       "      <td>gaming</td>\n",
       "      <td>1</td>\n",
       "      <td>1</td>\n",
       "      <td>0</td>\n",
       "      <td>2009-04</td>\n",
       "      <td>2009-04-04 16:38:07</td>\n",
       "      <td>Brutal Legend Screenshots Will Rock Your Face</td>\n",
       "    </tr>\n",
       "  </tbody>\n",
       "</table>\n",
       "<p>174592 rows × 10 columns</p>\n",
       "</div>"
      ],
      "text/plain": [
       "         label  ...                                     parent_comment\n",
       "5            0  ...                   do you find ariana grande sexy ?\n",
       "6            0  ...  What's your weird or unsettling Trick or Treat...\n",
       "8            0  ...  What to upgrade? I have $500 to spend (mainly ...\n",
       "12           0  ...  There's no time to worry about leaks when they...\n",
       "13           0  ...  Team Specific Threads No matter how many artic...\n",
       "...        ...  ...                                                ...\n",
       "1010695      1  ...  the satellite was used for the dramatic 1999 b...\n",
       "1010742      1  ...                                          Bullshit.\n",
       "1010775      1  ...  If no one is aware, multi culturalism is solel...\n",
       "1010811      1  ...  No wonder California is broke - The $350K Nurs...\n",
       "1010818      1  ...      Brutal Legend Screenshots Will Rock Your Face\n",
       "\n",
       "[174592 rows x 10 columns]"
      ]
     },
     "execution_count": 31,
     "metadata": {},
     "output_type": "execute_result"
    }
   ],
   "source": [
    "outlier_author = df[df['author'].isin(author_list2)]\n",
    "outlier_author"
   ]
  },
  {
   "cell_type": "code",
   "execution_count": null,
   "metadata": {
    "id": "s-7DXz3Dnbge"
   },
   "outputs": [],
   "source": [
    "outlier_author2 = outlier_author.groupby(\"author\").label.mean().reset_index().rename(columns={'label':'ratio'})"
   ]
  },
  {
   "cell_type": "code",
   "execution_count": null,
   "metadata": {
    "colab": {
     "base_uri": "https://localhost:8080/"
    },
    "executionInfo": {
     "elapsed": 9,
     "status": "ok",
     "timestamp": 1634542501505,
     "user": {
      "displayName": "Chris Yew",
      "photoUrl": "https://lh3.googleusercontent.com/a/default-user=s64",
      "userId": "09518424203937384471"
     },
     "user_tz": -480
    },
    "id": "FN0_ipUgnmMn",
    "outputId": "494a32f1-3aee-45cd-f755-59c7ee1147a5"
   },
   "outputs": [
    {
     "data": {
      "text/html": [
       "<div>\n",
       "<style scoped>\n",
       "    .dataframe tbody tr th:only-of-type {\n",
       "        vertical-align: middle;\n",
       "    }\n",
       "\n",
       "    .dataframe tbody tr th {\n",
       "        vertical-align: top;\n",
       "    }\n",
       "\n",
       "    .dataframe thead th {\n",
       "        text-align: right;\n",
       "    }\n",
       "</style>\n",
       "<table border=\"1\" class=\"dataframe\">\n",
       "  <thead>\n",
       "    <tr style=\"text-align: right;\">\n",
       "      <th></th>\n",
       "      <th>author</th>\n",
       "      <th>ratio</th>\n",
       "    </tr>\n",
       "  </thead>\n",
       "  <tbody>\n",
       "    <tr>\n",
       "      <th>0</th>\n",
       "      <td>--------__--------</td>\n",
       "      <td>0.500000</td>\n",
       "    </tr>\n",
       "    <tr>\n",
       "      <th>1</th>\n",
       "      <td>---Earth---</td>\n",
       "      <td>0.500000</td>\n",
       "    </tr>\n",
       "    <tr>\n",
       "      <th>2</th>\n",
       "      <td>--TaCo--</td>\n",
       "      <td>0.500000</td>\n",
       "    </tr>\n",
       "    <tr>\n",
       "      <th>3</th>\n",
       "      <td>--o</td>\n",
       "      <td>0.473684</td>\n",
       "    </tr>\n",
       "    <tr>\n",
       "      <th>4</th>\n",
       "      <td>-Deadzone-</td>\n",
       "      <td>0.500000</td>\n",
       "    </tr>\n",
       "    <tr>\n",
       "      <th>...</th>\n",
       "      <td>...</td>\n",
       "      <td>...</td>\n",
       "    </tr>\n",
       "    <tr>\n",
       "      <th>5645</th>\n",
       "      <td>zwiebelsaft</td>\n",
       "      <td>0.500000</td>\n",
       "    </tr>\n",
       "    <tr>\n",
       "      <th>5646</th>\n",
       "      <td>zwind</td>\n",
       "      <td>0.500000</td>\n",
       "    </tr>\n",
       "    <tr>\n",
       "      <th>5647</th>\n",
       "      <td>zxcvb94105</td>\n",
       "      <td>0.500000</td>\n",
       "    </tr>\n",
       "    <tr>\n",
       "      <th>5648</th>\n",
       "      <td>zzMojaveExpress</td>\n",
       "      <td>0.500000</td>\n",
       "    </tr>\n",
       "    <tr>\n",
       "      <th>5649</th>\n",
       "      <td>zzephyrus</td>\n",
       "      <td>0.500000</td>\n",
       "    </tr>\n",
       "  </tbody>\n",
       "</table>\n",
       "<p>5650 rows × 2 columns</p>\n",
       "</div>"
      ],
      "text/plain": [
       "                  author     ratio\n",
       "0     --------__--------  0.500000\n",
       "1            ---Earth---  0.500000\n",
       "2               --TaCo--  0.500000\n",
       "3                    --o  0.473684\n",
       "4             -Deadzone-  0.500000\n",
       "...                  ...       ...\n",
       "5645         zwiebelsaft  0.500000\n",
       "5646               zwind  0.500000\n",
       "5647          zxcvb94105  0.500000\n",
       "5648     zzMojaveExpress  0.500000\n",
       "5649           zzephyrus  0.500000\n",
       "\n",
       "[5650 rows x 2 columns]"
      ]
     },
     "execution_count": 33,
     "metadata": {},
     "output_type": "execute_result"
    }
   ],
   "source": [
    "outlier_author2"
   ]
  },
  {
   "cell_type": "markdown",
   "metadata": {
    "id": "3VY2NMclnqKj"
   },
   "source": [
    "There are 5650 outlier authors\n"
   ]
  },
  {
   "cell_type": "code",
   "execution_count": null,
   "metadata": {
    "colab": {
     "base_uri": "https://localhost:8080/"
    },
    "executionInfo": {
     "elapsed": 9,
     "status": "ok",
     "timestamp": 1634542501506,
     "user": {
      "displayName": "Chris Yew",
      "photoUrl": "https://lh3.googleusercontent.com/a/default-user=s64",
      "userId": "09518424203937384471"
     },
     "user_tz": -480
    },
    "id": "h29bOsVyovK-",
    "outputId": "1c3492a2-1dd4-4046-a699-a064e07ca632"
   },
   "outputs": [
    {
     "data": {
      "text/plain": [
       "count    5650.000000\n",
       "mean        0.498793\n",
       "std         0.007318\n",
       "min         0.095238\n",
       "25%         0.500000\n",
       "50%         0.500000\n",
       "75%         0.500000\n",
       "max         0.521739\n",
       "Name: ratio, dtype: float64"
      ]
     },
     "execution_count": 34,
     "metadata": {},
     "output_type": "execute_result"
    }
   ],
   "source": [
    "outlier_author2.ratio.describe()"
   ]
  },
  {
   "cell_type": "markdown",
   "metadata": {
    "id": "JvsJOg7Soxpp"
   },
   "source": [
    "As expected, even among outlier authors, the ratio of sarcasm is also about 0.5.\n"
   ]
  },
  {
   "cell_type": "markdown",
   "metadata": {
    "id": "JVOyprMXh37Y"
   },
   "source": [
    "## Balanced dataset"
   ]
  },
  {
   "cell_type": "code",
   "execution_count": null,
   "metadata": {
    "colab": {
     "base_uri": "https://localhost:8080/"
    },
    "executionInfo": {
     "elapsed": 492,
     "status": "ok",
     "timestamp": 1634542501990,
     "user": {
      "displayName": "Chris Yew",
      "photoUrl": "https://lh3.googleusercontent.com/a/default-user=s64",
      "userId": "09518424203937384471"
     },
     "user_tz": -480
    },
    "id": "qYhrXC5Kh2-u",
    "outputId": "8ed6e903-042c-417d-cf44-157083a71b66"
   },
   "outputs": [
    {
     "data": {
      "text/plain": [
       "505399"
      ]
     },
     "execution_count": 35,
     "metadata": {},
     "output_type": "execute_result"
    }
   ],
   "source": [
    "sum(df[\"label\"]==1) #505171\n",
    "sum(df[\"label\"]==0) #505399 "
   ]
  },
  {
   "cell_type": "markdown",
   "metadata": {
    "id": "SY_eADSEuEna"
   },
   "source": [
    "Dataset is slightly skewed\n",
    "\n"
   ]
  },
  {
   "cell_type": "markdown",
   "metadata": {
    "id": "96f45256"
   },
   "source": [
    "## Relationship between Label & Numerical Variable"
   ]
  },
  {
   "cell_type": "code",
   "execution_count": null,
   "metadata": {
    "id": "MrRVxXPGuOgo"
   },
   "outputs": [],
   "source": [
    "import math\n",
    "df[\"net_votes\"] = df[\"ups\"] + df[\"downs\"]\n",
    "df[\"new_ratio\"] = (abs(df['ups'])+1)/(abs(df['downs'])+1)"
   ]
  },
  {
   "cell_type": "code",
   "execution_count": null,
   "metadata": {
    "colab": {
     "base_uri": "https://localhost:8080/"
    },
    "executionInfo": {
     "elapsed": 11,
     "status": "ok",
     "timestamp": 1634542501992,
     "user": {
      "displayName": "Chris Yew",
      "photoUrl": "https://lh3.googleusercontent.com/a/default-user=s64",
      "userId": "09518424203937384471"
     },
     "user_tz": -480
    },
    "id": "xTpx3mVp0gr8",
    "outputId": "66b8f970-b9a5-40be-9833-974861790e1f"
   },
   "outputs": [
    {
     "data": {
      "text/plain": [
       "0          1.0\n",
       "1          1.0\n",
       "2          4.0\n",
       "3          1.0\n",
       "4          1.0\n",
       "          ... \n",
       "1010821    3.0\n",
       "1010822    2.0\n",
       "1010823    2.0\n",
       "1010824    2.0\n",
       "1010825    3.0\n",
       "Name: new_ratio, Length: 1010570, dtype: float64"
      ]
     },
     "execution_count": 37,
     "metadata": {},
     "output_type": "execute_result"
    }
   ],
   "source": [
    "df[\"new_ratio\"]"
   ]
  },
  {
   "cell_type": "code",
   "execution_count": null,
   "metadata": {
    "colab": {
     "base_uri": "https://localhost:8080/"
    },
    "executionInfo": {
     "elapsed": 12,
     "status": "ok",
     "timestamp": 1634542501994,
     "user": {
      "displayName": "Chris Yew",
      "photoUrl": "https://lh3.googleusercontent.com/a/default-user=s64",
      "userId": "09518424203937384471"
     },
     "user_tz": -480
    },
    "id": "1bLsJb1R0o-8",
    "outputId": "92b32e9e-7701-46a0-e6d9-62986e83ad8f"
   },
   "outputs": [
    {
     "data": {
      "text/html": [
       "<div>\n",
       "<style scoped>\n",
       "    .dataframe tbody tr th:only-of-type {\n",
       "        vertical-align: middle;\n",
       "    }\n",
       "\n",
       "    .dataframe tbody tr th {\n",
       "        vertical-align: top;\n",
       "    }\n",
       "\n",
       "    .dataframe thead th {\n",
       "        text-align: right;\n",
       "    }\n",
       "</style>\n",
       "<table border=\"1\" class=\"dataframe\">\n",
       "  <thead>\n",
       "    <tr style=\"text-align: right;\">\n",
       "      <th></th>\n",
       "      <th>label</th>\n",
       "      <th>comment</th>\n",
       "      <th>author</th>\n",
       "      <th>subreddit</th>\n",
       "      <th>score</th>\n",
       "      <th>ups</th>\n",
       "      <th>downs</th>\n",
       "      <th>date</th>\n",
       "      <th>created_utc</th>\n",
       "      <th>parent_comment</th>\n",
       "      <th>net_votes</th>\n",
       "      <th>new_ratio</th>\n",
       "    </tr>\n",
       "  </thead>\n",
       "  <tbody>\n",
       "    <tr>\n",
       "      <th>0</th>\n",
       "      <td>0</td>\n",
       "      <td>NC and NH.</td>\n",
       "      <td>Trumpbart</td>\n",
       "      <td>politics</td>\n",
       "      <td>2</td>\n",
       "      <td>-1</td>\n",
       "      <td>-1</td>\n",
       "      <td>2016-10</td>\n",
       "      <td>2016-10-16 23:55:23</td>\n",
       "      <td>Yeah, I get that argument. At this point, I'd ...</td>\n",
       "      <td>-2</td>\n",
       "      <td>1.0</td>\n",
       "    </tr>\n",
       "    <tr>\n",
       "      <th>1</th>\n",
       "      <td>0</td>\n",
       "      <td>You do know west teams play against west teams...</td>\n",
       "      <td>Shbshb906</td>\n",
       "      <td>nba</td>\n",
       "      <td>-4</td>\n",
       "      <td>-1</td>\n",
       "      <td>-1</td>\n",
       "      <td>2016-11</td>\n",
       "      <td>2016-11-01 00:24:10</td>\n",
       "      <td>The blazers and Mavericks (The wests 5 and 6 s...</td>\n",
       "      <td>-2</td>\n",
       "      <td>1.0</td>\n",
       "    </tr>\n",
       "    <tr>\n",
       "      <th>2</th>\n",
       "      <td>0</td>\n",
       "      <td>They were underdogs earlier today, but since G...</td>\n",
       "      <td>Creepeth</td>\n",
       "      <td>nfl</td>\n",
       "      <td>3</td>\n",
       "      <td>3</td>\n",
       "      <td>0</td>\n",
       "      <td>2016-09</td>\n",
       "      <td>2016-09-22 21:45:37</td>\n",
       "      <td>They're favored to win.</td>\n",
       "      <td>3</td>\n",
       "      <td>4.0</td>\n",
       "    </tr>\n",
       "    <tr>\n",
       "      <th>3</th>\n",
       "      <td>0</td>\n",
       "      <td>This meme isn't funny none of the \"new york ni...</td>\n",
       "      <td>icebrotha</td>\n",
       "      <td>BlackPeopleTwitter</td>\n",
       "      <td>-8</td>\n",
       "      <td>-1</td>\n",
       "      <td>-1</td>\n",
       "      <td>2016-10</td>\n",
       "      <td>2016-10-18 21:03:47</td>\n",
       "      <td>deadass don't kill my buzz</td>\n",
       "      <td>-2</td>\n",
       "      <td>1.0</td>\n",
       "    </tr>\n",
       "    <tr>\n",
       "      <th>4</th>\n",
       "      <td>0</td>\n",
       "      <td>I could use one of those tools.</td>\n",
       "      <td>cush2push</td>\n",
       "      <td>MaddenUltimateTeam</td>\n",
       "      <td>6</td>\n",
       "      <td>-1</td>\n",
       "      <td>-1</td>\n",
       "      <td>2016-12</td>\n",
       "      <td>2016-12-30 17:00:13</td>\n",
       "      <td>Yep can confirm I saw the tool they use for th...</td>\n",
       "      <td>-2</td>\n",
       "      <td>1.0</td>\n",
       "    </tr>\n",
       "  </tbody>\n",
       "</table>\n",
       "</div>"
      ],
      "text/plain": [
       "   label  ... new_ratio\n",
       "0      0  ...       1.0\n",
       "1      0  ...       1.0\n",
       "2      0  ...       4.0\n",
       "3      0  ...       1.0\n",
       "4      0  ...       1.0\n",
       "\n",
       "[5 rows x 12 columns]"
      ]
     },
     "execution_count": 38,
     "metadata": {},
     "output_type": "execute_result"
    }
   ],
   "source": [
    "df.head()"
   ]
  },
  {
   "cell_type": "code",
   "execution_count": null,
   "metadata": {
    "colab": {
     "base_uri": "https://localhost:8080/"
    },
    "executionInfo": {
     "elapsed": 2483,
     "status": "ok",
     "timestamp": 1634542504467,
     "user": {
      "displayName": "Chris Yew",
      "photoUrl": "https://lh3.googleusercontent.com/a/default-user=s64",
      "userId": "09518424203937384471"
     },
     "user_tz": -480
    },
    "id": "379b7803",
    "outputId": "3b405553-a975-414e-969c-57ae9fe55bf3"
   },
   "outputs": [
    {
     "name": "stdout",
     "output_type": "stream",
     "text": [
      "[-0.010001924870522882, -0.006671373956508205, 0.05758103164324234, -0.006175346676670784, -0.002017980795963008]\n"
     ]
    }
   ],
   "source": [
    "# creating a table of biserial correlation between label and numerical\n",
    "\n",
    "num_data = df[['score', 'ups','downs','net_votes','new_ratio']]\n",
    "corr_list = []\n",
    "y = df['label'].astype(float)\n",
    "\n",
    "for column in num_data:\n",
    "    x = num_data[column]\n",
    "    corr = pointbiserialr(list(x), list(y))\n",
    "    corr_list.append(corr[0])\n",
    "\n",
    "print(corr_list)"
   ]
  },
  {
   "cell_type": "markdown",
   "metadata": {
    "id": "WUmmp80duJ67"
   },
   "source": [
    "Sarcasm doesnt seem to have any relationship with scores and votes\n",
    "\n"
   ]
  },
  {
   "cell_type": "markdown",
   "metadata": {
    "id": "7466cd6b"
   },
   "source": [
    "## Relationship between numerical variables\n"
   ]
  },
  {
   "cell_type": "code",
   "execution_count": null,
   "metadata": {
    "colab": {
     "base_uri": "https://localhost:8080/"
    },
    "executionInfo": {
     "elapsed": 965,
     "status": "ok",
     "timestamp": 1634542505428,
     "user": {
      "displayName": "Chris Yew",
      "photoUrl": "https://lh3.googleusercontent.com/a/default-user=s64",
      "userId": "09518424203937384471"
     },
     "user_tz": -480
    },
    "id": "3d6a97dc",
    "outputId": "41afcc03-b246-4563-e1e5-c571f77ffb84"
   },
   "outputs": [
    {
     "data": {
      "text/plain": [
       "Text(0.5, 1.0, 'Correlation Heatmap')"
      ]
     },
     "execution_count": 40,
     "metadata": {},
     "output_type": "execute_result"
    },
    {
     "data": {
      "image/png": "[encoded data removed]",
      "text/plain": [
       "<Figure size 2304x864 with 2 Axes>"
      ]
     },
     "metadata": {
      "needs_background": "light"
     },
     "output_type": "display_data"
    }
   ],
   "source": [
    "plt.figure(figsize=(32,12))\n",
    "corrMatrix = num_data.corr()\n",
    "\n",
    "heatmap = sns.heatmap(corrMatrix, annot=True, annot_kws={\"size\": 20}, cmap=\"crest\")\n",
    "heatmap.set_xticklabels(heatmap.get_xmajorticklabels(), fontsize = 18, rotation=90)\n",
    "heatmap.set_yticklabels(heatmap.get_ymajorticklabels(), fontsize = 18)\n",
    "heatmap.set_title('Correlation Heatmap', fontdict={'fontsize':20}, pad=12)"
   ]
  },
  {
   "cell_type": "code",
   "execution_count": null,
   "metadata": {
    "id": "li8uHofzu-VP"
   },
   "outputs": [],
   "source": [
    "#we can drop the column with high correlation\n",
    "df = df.drop(columns=['ups','net_votes'], axis = 1)"
   ]
  },
  {
   "cell_type": "markdown",
   "metadata": {
    "id": "023429ca"
   },
   "source": [
    "## Boxplot relationship between Numerical Variables"
   ]
  },
  {
   "cell_type": "code",
   "execution_count": null,
   "metadata": {
    "colab": {
     "base_uri": "https://localhost:8080/"
    },
    "executionInfo": {
     "elapsed": 11615,
     "status": "ok",
     "timestamp": 1634542517038,
     "user": {
      "displayName": "Chris Yew",
      "photoUrl": "https://lh3.googleusercontent.com/a/default-user=s64",
      "userId": "09518424203937384471"
     },
     "user_tz": -480
    },
    "id": "bbed2b20",
    "outputId": "32a64361-3a2c-42c7-b234-b6111b982e1a",
    "scrolled": true
   },
   "outputs": [
    {
     "name": "stderr",
     "output_type": "stream",
     "text": [
      "/usr/local/lib/python3.7/dist-packages/seaborn/axisgrid.py:670: UserWarning: Using the boxplot function without specifying `order` is likely to produce an incorrect plot.\n",
      "  warnings.warn(warning)\n"
     ]
    },
    {
     "data": {
      "text/plain": [
       "<seaborn.axisgrid.FacetGrid at 0x7fa720295e90>"
      ]
     },
     "execution_count": 42,
     "metadata": {},
     "output_type": "execute_result"
    },
    {
     "data": {
      "image/png": "[encoded data removed]",
      "text/plain": [
       "<Figure size 648x216 with 2 Axes>"
      ]
     },
     "metadata": {
      "needs_background": "light"
     },
     "output_type": "display_data"
    }
   ],
   "source": [
    "cols = ['score','downs']\n",
    "temp = df[cols]\n",
    "temp = df.melt(id_vars=['label'])\n",
    "grid = sns.axisgrid.FacetGrid(temp[temp.variable.isin(cols)], col='variable', sharey=False, col_wrap=3)\n",
    "grid.map(sns.boxplot, 'label','value', palette=\"Set3\")"
   ]
  },
  {
   "cell_type": "markdown",
   "metadata": {
    "id": "hvWtoxnzvZQw"
   },
   "source": [
    "Labels have seem to have a slightly different relationship with score, but not for downs\n"
   ]
  },
  {
   "cell_type": "markdown",
   "metadata": {
    "id": "zq-YfMgkU2UF"
   },
   "source": [
    "## Which subreedit has most sarcasm?"
   ]
  },
  {
   "cell_type": "code",
   "execution_count": null,
   "metadata": {
    "id": "0_fUm1CDVBM2"
   },
   "outputs": [],
   "source": [
    "def c_ratio(df):\n",
    "  no_sarcasm = sum(df[\"label\"]==0)\n",
    "  sarcasm = sum(df[\"label\"]==1)\n",
    "  return sarcasm/(sarcasm + no_sarcasm)\n",
    "sub_df = df.groupby(\"subreddit\").apply(c_ratio).reset_index(name='ratio')"
   ]
  },
  {
   "cell_type": "code",
   "execution_count": null,
   "metadata": {
    "colab": {
     "base_uri": "https://localhost:8080/"
    },
    "executionInfo": {
     "elapsed": 25,
     "status": "ok",
     "timestamp": 1634542523406,
     "user": {
      "displayName": "Chris Yew",
      "photoUrl": "https://lh3.googleusercontent.com/a/default-user=s64",
      "userId": "09518424203937384471"
     },
     "user_tz": -480
    },
    "id": "RLM0Gwy_XEAZ",
    "outputId": "e77592ab-fb28-4ca2-a365-dfd8750f5520"
   },
   "outputs": [
    {
     "data": {
      "text/html": [
       "<div>\n",
       "<style scoped>\n",
       "    .dataframe tbody tr th:only-of-type {\n",
       "        vertical-align: middle;\n",
       "    }\n",
       "\n",
       "    .dataframe tbody tr th {\n",
       "        vertical-align: top;\n",
       "    }\n",
       "\n",
       "    .dataframe thead th {\n",
       "        text-align: right;\n",
       "    }\n",
       "</style>\n",
       "<table border=\"1\" class=\"dataframe\">\n",
       "  <thead>\n",
       "    <tr style=\"text-align: right;\">\n",
       "      <th></th>\n",
       "      <th>subreddit</th>\n",
       "      <th>ratio</th>\n",
       "    </tr>\n",
       "  </thead>\n",
       "  <tbody>\n",
       "    <tr>\n",
       "      <th>3269</th>\n",
       "      <td>HighEndStreetwear</td>\n",
       "      <td>1.0</td>\n",
       "    </tr>\n",
       "    <tr>\n",
       "      <th>11411</th>\n",
       "      <td>liveaboard</td>\n",
       "      <td>1.0</td>\n",
       "    </tr>\n",
       "    <tr>\n",
       "      <th>3311</th>\n",
       "      <td>HomeDecorating</td>\n",
       "      <td>1.0</td>\n",
       "    </tr>\n",
       "    <tr>\n",
       "      <th>8525</th>\n",
       "      <td>bayareagraffiti</td>\n",
       "      <td>1.0</td>\n",
       "    </tr>\n",
       "    <tr>\n",
       "      <th>3321</th>\n",
       "      <td>Homeshake</td>\n",
       "      <td>1.0</td>\n",
       "    </tr>\n",
       "    <tr>\n",
       "      <th>...</th>\n",
       "      <td>...</td>\n",
       "      <td>...</td>\n",
       "    </tr>\n",
       "    <tr>\n",
       "      <th>6878</th>\n",
       "      <td>Tgifs</td>\n",
       "      <td>0.0</td>\n",
       "    </tr>\n",
       "    <tr>\n",
       "      <th>6873</th>\n",
       "      <td>TexasCHL</td>\n",
       "      <td>0.0</td>\n",
       "    </tr>\n",
       "    <tr>\n",
       "      <th>6866</th>\n",
       "      <td>TerrariaExchange</td>\n",
       "      <td>0.0</td>\n",
       "    </tr>\n",
       "    <tr>\n",
       "      <th>6864</th>\n",
       "      <td>TerrainBuilding</td>\n",
       "      <td>0.0</td>\n",
       "    </tr>\n",
       "    <tr>\n",
       "      <th>7439</th>\n",
       "      <td>UnpopularOpinions</td>\n",
       "      <td>0.0</td>\n",
       "    </tr>\n",
       "  </tbody>\n",
       "</table>\n",
       "<p>14878 rows × 2 columns</p>\n",
       "</div>"
      ],
      "text/plain": [
       "               subreddit  ratio\n",
       "3269   HighEndStreetwear    1.0\n",
       "11411         liveaboard    1.0\n",
       "3311      HomeDecorating    1.0\n",
       "8525     bayareagraffiti    1.0\n",
       "3321           Homeshake    1.0\n",
       "...                  ...    ...\n",
       "6878               Tgifs    0.0\n",
       "6873            TexasCHL    0.0\n",
       "6866    TerrariaExchange    0.0\n",
       "6864     TerrainBuilding    0.0\n",
       "7439   UnpopularOpinions    0.0\n",
       "\n",
       "[14878 rows x 2 columns]"
      ]
     },
     "execution_count": 44,
     "metadata": {},
     "output_type": "execute_result"
    }
   ],
   "source": [
    "sub_df2 = sub_df.sort_values(by=['ratio'],ascending=False)\n",
    "sub_df2"
   ]
  },
  {
   "cell_type": "code",
   "execution_count": null,
   "metadata": {
    "colab": {
     "base_uri": "https://localhost:8080/"
    },
    "executionInfo": {
     "elapsed": 21,
     "status": "ok",
     "timestamp": 1634542523407,
     "user": {
      "displayName": "Chris Yew",
      "photoUrl": "https://lh3.googleusercontent.com/a/default-user=s64",
      "userId": "09518424203937384471"
     },
     "user_tz": -480
    },
    "id": "vb3FfU8wY3r1",
    "outputId": "607581a9-cd42-4d0a-b271-9644b5bd9fc6"
   },
   "outputs": [
    {
     "data": {
      "text/plain": [
       "<matplotlib.axes._subplots.AxesSubplot at 0x7fa705d3fcd0>"
      ]
     },
     "execution_count": 45,
     "metadata": {},
     "output_type": "execute_result"
    },
    {
     "data": {
      "image/png": "[encoded data removed]",
      "text/plain": [
       "<Figure size 432x288 with 1 Axes>"
      ]
     },
     "metadata": {
      "needs_background": "light"
     },
     "output_type": "display_data"
    }
   ],
   "source": [
    "sns.barplot(data=sub_df2.iloc[0:10,], y=\"subreddit\", x='ratio')"
   ]
  },
  {
   "cell_type": "code",
   "execution_count": null,
   "metadata": {
    "colab": {
     "base_uri": "https://localhost:8080/"
    },
    "executionInfo": {
     "elapsed": 1121,
     "status": "ok",
     "timestamp": 1634542524509,
     "user": {
      "displayName": "Chris Yew",
      "photoUrl": "https://lh3.googleusercontent.com/a/default-user=s64",
      "userId": "09518424203937384471"
     },
     "user_tz": -480
    },
    "id": "3F9mzd9Cabez",
    "outputId": "5d2d7ebf-8316-4861-d9cf-d6037b6e4302"
   },
   "outputs": [
    {
     "name": "stdout",
     "output_type": "stream",
     "text": [
      "1\n",
      "1\n",
      "1\n",
      "1\n",
      "1\n",
      "1\n",
      "5\n",
      "1\n",
      "1\n",
      "1\n"
     ]
    }
   ],
   "source": [
    "for i in sub_df2.iloc[0:10,][\"subreddit\"]:\n",
    "  print(sum(df[\"subreddit\"]==i))  ## Majority of these subreddit have only 1 comment, thus ratio=1"
   ]
  },
  {
   "cell_type": "code",
   "execution_count": null,
   "metadata": {
    "colab": {
     "base_uri": "https://localhost:8080/"
    },
    "executionInfo": {
     "elapsed": 1116,
     "status": "ok",
     "timestamp": 1634542525622,
     "user": {
      "displayName": "Chris Yew",
      "photoUrl": "https://lh3.googleusercontent.com/a/default-user=s64",
      "userId": "09518424203937384471"
     },
     "user_tz": -480
    },
    "id": "bqJkdjldggXs",
    "outputId": "de3d4aa8-8f3f-4925-e997-364ff213f74d"
   },
   "outputs": [
    {
     "data": {
      "text/plain": [
       "count    67.92378\n",
       "dtype: float64"
      ]
     },
     "execution_count": 47,
     "metadata": {},
     "output_type": "execute_result"
    }
   ],
   "source": [
    "np.mean(df.groupby(\"subreddit\").apply(len).reset_index(name='count')) # mean of subreddit counts"
   ]
  },
  {
   "cell_type": "code",
   "execution_count": null,
   "metadata": {
    "colab": {
     "base_uri": "https://localhost:8080/"
    },
    "executionInfo": {
     "elapsed": 1361,
     "status": "ok",
     "timestamp": 1634542526981,
     "user": {
      "displayName": "Chris Yew",
      "photoUrl": "https://lh3.googleusercontent.com/a/default-user=s64",
      "userId": "09518424203937384471"
     },
     "user_tz": -480
    },
    "id": "7kydu8T4a-ch",
    "outputId": "265b53d0-8307-4936-e367-fb44b227177b"
   },
   "outputs": [
    {
     "data": {
      "text/html": [
       "<div>\n",
       "<style scoped>\n",
       "    .dataframe tbody tr th:only-of-type {\n",
       "        vertical-align: middle;\n",
       "    }\n",
       "\n",
       "    .dataframe tbody tr th {\n",
       "        vertical-align: top;\n",
       "    }\n",
       "\n",
       "    .dataframe thead th {\n",
       "        text-align: right;\n",
       "    }\n",
       "</style>\n",
       "<table border=\"1\" class=\"dataframe\">\n",
       "  <thead>\n",
       "    <tr style=\"text-align: right;\">\n",
       "      <th></th>\n",
       "      <th>subreddit</th>\n",
       "      <th>count</th>\n",
       "    </tr>\n",
       "  </thead>\n",
       "  <tbody>\n",
       "    <tr>\n",
       "      <th>0</th>\n",
       "      <td>07Scape</td>\n",
       "      <td>1</td>\n",
       "    </tr>\n",
       "    <tr>\n",
       "      <th>1</th>\n",
       "      <td>0x10c</td>\n",
       "      <td>2</td>\n",
       "    </tr>\n",
       "    <tr>\n",
       "      <th>2</th>\n",
       "      <td>0x3642</td>\n",
       "      <td>1</td>\n",
       "    </tr>\n",
       "    <tr>\n",
       "      <th>3</th>\n",
       "      <td>100DaysofKeto</td>\n",
       "      <td>3</td>\n",
       "    </tr>\n",
       "    <tr>\n",
       "      <th>4</th>\n",
       "      <td>100pushups</td>\n",
       "      <td>1</td>\n",
       "    </tr>\n",
       "    <tr>\n",
       "      <th>...</th>\n",
       "      <td>...</td>\n",
       "      <td>...</td>\n",
       "    </tr>\n",
       "    <tr>\n",
       "      <th>14873</th>\n",
       "      <td>zoophilia</td>\n",
       "      <td>1</td>\n",
       "    </tr>\n",
       "    <tr>\n",
       "      <th>14874</th>\n",
       "      <td>zootopia</td>\n",
       "      <td>75</td>\n",
       "    </tr>\n",
       "    <tr>\n",
       "      <th>14875</th>\n",
       "      <td>zweiteliga</td>\n",
       "      <td>1</td>\n",
       "    </tr>\n",
       "    <tr>\n",
       "      <th>14876</th>\n",
       "      <td>zyramains</td>\n",
       "      <td>5</td>\n",
       "    </tr>\n",
       "    <tr>\n",
       "      <th>14877</th>\n",
       "      <td>zyzz</td>\n",
       "      <td>4</td>\n",
       "    </tr>\n",
       "  </tbody>\n",
       "</table>\n",
       "<p>14878 rows × 2 columns</p>\n",
       "</div>"
      ],
      "text/plain": [
       "           subreddit  count\n",
       "0            07Scape      1\n",
       "1              0x10c      2\n",
       "2             0x3642      1\n",
       "3      100DaysofKeto      3\n",
       "4         100pushups      1\n",
       "...              ...    ...\n",
       "14873      zoophilia      1\n",
       "14874       zootopia     75\n",
       "14875     zweiteliga      1\n",
       "14876      zyramains      5\n",
       "14877           zyzz      4\n",
       "\n",
       "[14878 rows x 2 columns]"
      ]
     },
     "execution_count": 48,
     "metadata": {},
     "output_type": "execute_result"
    }
   ],
   "source": [
    "sub_df3 = df.groupby(\"subreddit\").apply(len).reset_index(name='count')\n",
    "sub_df3"
   ]
  },
  {
   "cell_type": "code",
   "execution_count": null,
   "metadata": {
    "id": "rUTzQmQ5bl51"
   },
   "outputs": [],
   "source": [
    "sub_df3 = sub_df3[sub_df3[\"count\"]>=68]"
   ]
  },
  {
   "cell_type": "code",
   "execution_count": null,
   "metadata": {
    "id": "BiEHyg0hb0Cm"
   },
   "outputs": [],
   "source": [
    "subs = sub_df3[\"subreddit\"]\n",
    "sub_df3 = df[df[\"subreddit\"].isin(subs)]"
   ]
  },
  {
   "cell_type": "code",
   "execution_count": null,
   "metadata": {
    "colab": {
     "base_uri": "https://localhost:8080/"
    },
    "executionInfo": {
     "elapsed": 10,
     "status": "ok",
     "timestamp": 1634542526984,
     "user": {
      "displayName": "Chris Yew",
      "photoUrl": "https://lh3.googleusercontent.com/a/default-user=s64",
      "userId": "09518424203937384471"
     },
     "user_tz": -480
    },
    "id": "ZFsh_Q63fWu8",
    "outputId": "01c0666e-6b45-4caa-b31a-0973fea3281f"
   },
   "outputs": [
    {
     "data": {
      "text/plain": [
       "921328"
      ]
     },
     "execution_count": 51,
     "metadata": {},
     "output_type": "execute_result"
    }
   ],
   "source": [
    "len(sub_df3)"
   ]
  },
  {
   "cell_type": "code",
   "execution_count": null,
   "metadata": {
    "colab": {
     "base_uri": "https://localhost:8080/"
    },
    "executionInfo": {
     "elapsed": 1838,
     "status": "ok",
     "timestamp": 1634542528814,
     "user": {
      "displayName": "Chris Yew",
      "photoUrl": "https://lh3.googleusercontent.com/a/default-user=s64",
      "userId": "09518424203937384471"
     },
     "user_tz": -480
    },
    "id": "x73NOiCufgr1",
    "outputId": "f0fba061-fe24-4e0d-afc6-fc6b42d28657"
   },
   "outputs": [
    {
     "data": {
      "text/plain": [
       "<matplotlib.axes._subplots.AxesSubplot at 0x7fa6f559d590>"
      ]
     },
     "execution_count": 52,
     "metadata": {},
     "output_type": "execute_result"
    },
    {
     "data": {
      "image/png": "[encoded data removed]",
      "text/plain": [
       "<Figure size 432x288 with 1 Axes>"
      ]
     },
     "metadata": {
      "needs_background": "light"
     },
     "output_type": "display_data"
    }
   ],
   "source": [
    "sub_df3 = sub_df3.groupby(\"subreddit\").apply(c_ratio).reset_index(name='ratio')\n",
    "sub_df3 = sub_df3.sort_values(by=['ratio'],ascending=False)\n",
    "sns.barplot(data=sub_df3.iloc[0:10,], y=\"subreddit\", x='ratio')\n",
    "## reasonable result after filtering subreddits that have > 68 comments"
   ]
  },
  {
   "cell_type": "markdown",
   "metadata": {
    "id": "MrCPH6gaVVWt"
   },
   "source": [
    "plot of subreddits topics that have high sarcastic comment: total comment ratio and have more than 68 comments per subreddit"
   ]
  },
  {
   "cell_type": "markdown",
   "metadata": {
    "id": "ZFMY52ovmzXq"
   },
   "source": [
    "## Length of comment and sarcasm"
   ]
  },
  {
   "cell_type": "code",
   "execution_count": null,
   "metadata": {
    "id": "BH0uyqpTm4dU"
   },
   "outputs": [],
   "source": [
    "sarcasm = df[df[\"label\"]==1]\n",
    "non_sarcasm = df[df[\"label\"]==0]"
   ]
  },
  {
   "cell_type": "code",
   "execution_count": null,
   "metadata": {
    "colab": {
     "base_uri": "https://localhost:8080/"
    },
    "executionInfo": {
     "elapsed": 2940,
     "status": "ok",
     "timestamp": 1634542532306,
     "user": {
      "displayName": "Chris Yew",
      "photoUrl": "https://lh3.googleusercontent.com/a/default-user=s64",
      "userId": "09518424203937384471"
     },
     "user_tz": -480
    },
    "id": "n9R7-H9ln26O",
    "outputId": "3d13aee5-a229-4f53-cce8-cea23f98601c"
   },
   "outputs": [
    {
     "name": "stderr",
     "output_type": "stream",
     "text": [
      "/usr/local/lib/python3.7/dist-packages/ipykernel_launcher.py:3: SettingWithCopyWarning: \n",
      "A value is trying to be set on a copy of a slice from a DataFrame.\n",
      "Try using .loc[row_indexer,col_indexer] = value instead\n",
      "\n",
      "See the caveats in the documentation: https://pandas.pydata.org/pandas-docs/stable/user_guide/indexing.html#returning-a-view-versus-a-copy\n",
      "  This is separate from the ipykernel package so we can avoid doing imports until\n",
      "/usr/local/lib/python3.7/dist-packages/ipykernel_launcher.py:4: SettingWithCopyWarning: \n",
      "A value is trying to be set on a copy of a slice from a DataFrame.\n",
      "Try using .loc[row_indexer,col_indexer] = value instead\n",
      "\n",
      "See the caveats in the documentation: https://pandas.pydata.org/pandas-docs/stable/user_guide/indexing.html#returning-a-view-versus-a-copy\n",
      "  after removing the cwd from sys.path.\n"
     ]
    }
   ],
   "source": [
    "def word_count(df):\n",
    "  return len(df[\"comment\"])\n",
    "sarcasm[\"word_count\"] = sarcasm['comment'].str.split().str.len()\n",
    "non_sarcasm[\"word_count\"] = non_sarcasm['comment'].str.split().str.len()"
   ]
  },
  {
   "cell_type": "code",
   "execution_count": null,
   "metadata": {
    "colab": {
     "base_uri": "https://localhost:8080/"
    },
    "executionInfo": {
     "elapsed": 15,
     "status": "ok",
     "timestamp": 1634542532307,
     "user": {
      "displayName": "Chris Yew",
      "photoUrl": "https://lh3.googleusercontent.com/a/default-user=s64",
      "userId": "09518424203937384471"
     },
     "user_tz": -480
    },
    "id": "jmK_y1pforws",
    "outputId": "9346adfc-a649-40a8-da86-fea21fd67ab3"
   },
   "outputs": [
    {
     "data": {
      "text/html": [
       "<div>\n",
       "<style scoped>\n",
       "    .dataframe tbody tr th:only-of-type {\n",
       "        vertical-align: middle;\n",
       "    }\n",
       "\n",
       "    .dataframe tbody tr th {\n",
       "        vertical-align: top;\n",
       "    }\n",
       "\n",
       "    .dataframe thead th {\n",
       "        text-align: right;\n",
       "    }\n",
       "</style>\n",
       "<table border=\"1\" class=\"dataframe\">\n",
       "  <thead>\n",
       "    <tr style=\"text-align: right;\">\n",
       "      <th></th>\n",
       "      <th>label</th>\n",
       "      <th>comment</th>\n",
       "      <th>author</th>\n",
       "      <th>subreddit</th>\n",
       "      <th>score</th>\n",
       "      <th>downs</th>\n",
       "      <th>date</th>\n",
       "      <th>created_utc</th>\n",
       "      <th>parent_comment</th>\n",
       "      <th>new_ratio</th>\n",
       "      <th>word_count</th>\n",
       "    </tr>\n",
       "  </thead>\n",
       "  <tbody>\n",
       "    <tr>\n",
       "      <th>0</th>\n",
       "      <td>0</td>\n",
       "      <td>NC and NH.</td>\n",
       "      <td>Trumpbart</td>\n",
       "      <td>politics</td>\n",
       "      <td>2</td>\n",
       "      <td>-1</td>\n",
       "      <td>2016-10</td>\n",
       "      <td>2016-10-16 23:55:23</td>\n",
       "      <td>Yeah, I get that argument. At this point, I'd ...</td>\n",
       "      <td>1.0</td>\n",
       "      <td>3.0</td>\n",
       "    </tr>\n",
       "    <tr>\n",
       "      <th>1</th>\n",
       "      <td>0</td>\n",
       "      <td>You do know west teams play against west teams...</td>\n",
       "      <td>Shbshb906</td>\n",
       "      <td>nba</td>\n",
       "      <td>-4</td>\n",
       "      <td>-1</td>\n",
       "      <td>2016-11</td>\n",
       "      <td>2016-11-01 00:24:10</td>\n",
       "      <td>The blazers and Mavericks (The wests 5 and 6 s...</td>\n",
       "      <td>1.0</td>\n",
       "      <td>14.0</td>\n",
       "    </tr>\n",
       "    <tr>\n",
       "      <th>2</th>\n",
       "      <td>0</td>\n",
       "      <td>They were underdogs earlier today, but since G...</td>\n",
       "      <td>Creepeth</td>\n",
       "      <td>nfl</td>\n",
       "      <td>3</td>\n",
       "      <td>0</td>\n",
       "      <td>2016-09</td>\n",
       "      <td>2016-09-22 21:45:37</td>\n",
       "      <td>They're favored to win.</td>\n",
       "      <td>4.0</td>\n",
       "      <td>19.0</td>\n",
       "    </tr>\n",
       "    <tr>\n",
       "      <th>3</th>\n",
       "      <td>0</td>\n",
       "      <td>This meme isn't funny none of the \"new york ni...</td>\n",
       "      <td>icebrotha</td>\n",
       "      <td>BlackPeopleTwitter</td>\n",
       "      <td>-8</td>\n",
       "      <td>-1</td>\n",
       "      <td>2016-10</td>\n",
       "      <td>2016-10-18 21:03:47</td>\n",
       "      <td>deadass don't kill my buzz</td>\n",
       "      <td>1.0</td>\n",
       "      <td>12.0</td>\n",
       "    </tr>\n",
       "    <tr>\n",
       "      <th>4</th>\n",
       "      <td>0</td>\n",
       "      <td>I could use one of those tools.</td>\n",
       "      <td>cush2push</td>\n",
       "      <td>MaddenUltimateTeam</td>\n",
       "      <td>6</td>\n",
       "      <td>-1</td>\n",
       "      <td>2016-12</td>\n",
       "      <td>2016-12-30 17:00:13</td>\n",
       "      <td>Yep can confirm I saw the tool they use for th...</td>\n",
       "      <td>1.0</td>\n",
       "      <td>7.0</td>\n",
       "    </tr>\n",
       "  </tbody>\n",
       "</table>\n",
       "</div>"
      ],
      "text/plain": [
       "   label  ... word_count\n",
       "0      0  ...        3.0\n",
       "1      0  ...       14.0\n",
       "2      0  ...       19.0\n",
       "3      0  ...       12.0\n",
       "4      0  ...        7.0\n",
       "\n",
       "[5 rows x 11 columns]"
      ]
     },
     "execution_count": 55,
     "metadata": {},
     "output_type": "execute_result"
    }
   ],
   "source": [
    "non_sarcasm.head()"
   ]
  },
  {
   "cell_type": "code",
   "execution_count": null,
   "metadata": {
    "colab": {
     "base_uri": "https://localhost:8080/"
    },
    "executionInfo": {
     "elapsed": 7703,
     "status": "ok",
     "timestamp": 1634542539997,
     "user": {
      "displayName": "Chris Yew",
      "photoUrl": "https://lh3.googleusercontent.com/a/default-user=s64",
      "userId": "09518424203937384471"
     },
     "user_tz": -480
    },
    "id": "aqswp4ourop_",
    "outputId": "a7dbf920-aa5b-4a82-c2ea-dd35b665e639"
   },
   "outputs": [
    {
     "data": {
      "text/plain": [
       "Text(0.5, 1.0, 'Non Sarcasm comments word count')"
      ]
     },
     "execution_count": 56,
     "metadata": {},
     "output_type": "execute_result"
    },
    {
     "data": {
      "image/png": "[encoded data removed]",
      "text/plain": [
       "<Figure size 432x288 with 2 Axes>"
      ]
     },
     "metadata": {
      "needs_background": "light"
     },
     "output_type": "display_data"
    }
   ],
   "source": [
    "plt.subplot(1,2,1)\n",
    "sns.kdeplot(data=sarcasm,x='word_count')\n",
    "plt.title(\"Sarcasm comments word count\")\n",
    "\n",
    "plt.subplot(1,2,2)\n",
    "sns.kdeplot(data=non_sarcasm,x='word_count')\n",
    "plt.title(\"Non Sarcasm comments word count\")  ## need to filter exceptionally great word count\n"
   ]
  },
  {
   "cell_type": "code",
   "execution_count": null,
   "metadata": {
    "colab": {
     "base_uri": "https://localhost:8080/"
    },
    "executionInfo": {
     "elapsed": 7714,
     "status": "ok",
     "timestamp": 1634542547698,
     "user": {
      "displayName": "Chris Yew",
      "photoUrl": "https://lh3.googleusercontent.com/a/default-user=s64",
      "userId": "09518424203937384471"
     },
     "user_tz": -480
    },
    "id": "7E95kDwhxzOO",
    "outputId": "213eae2b-a59f-4ce3-f43d-ce6284c89ea8"
   },
   "outputs": [
    {
     "data": {
      "text/plain": [
       "Text(0.5, 1.0, 'Non Sarcasm comments word count')"
      ]
     },
     "execution_count": 57,
     "metadata": {},
     "output_type": "execute_result"
    },
    {
     "data": {
      "image/png": "[encoded data removed]",
      "text/plain": [
       "<Figure size 432x288 with 2 Axes>"
      ]
     },
     "metadata": {
      "needs_background": "light"
     },
     "output_type": "display_data"
    }
   ],
   "source": [
    "## Since comments are generally short, we'll try to filter word_count<150\n",
    "non_sarcasm2 = non_sarcasm[non_sarcasm[\"word_count\"]<=150]\n",
    "sarcasm2 = sarcasm[sarcasm[\"word_count\"]<=150]\n",
    "\n",
    "plt.subplot(1,2,1)\n",
    "sns.kdeplot(data=sarcasm2,x='word_count')\n",
    "plt.title(\"Sarcasm comments word count\")\n",
    "\n",
    "plt.subplot(1,2,2)\n",
    "sns.kdeplot(data=non_sarcasm2,x='word_count')\n",
    "plt.title(\"Non Sarcasm comments word count\")   "
   ]
  },
  {
   "cell_type": "markdown",
   "metadata": {
    "id": "5eZS4DMZye1o"
   },
   "source": [
    "Word count actually seems to have the same distribution between sarcasm and non sarcasm comments."
   ]
  },
  {
   "cell_type": "markdown",
   "metadata": {
    "id": "ozy0IJ328OGQ"
   },
   "source": [
    "## Punctuations and sarcasm\n"
   ]
  },
  {
   "cell_type": "code",
   "execution_count": null,
   "metadata": {
    "colab": {
     "base_uri": "https://localhost:8080/"
    },
    "executionInfo": {
     "elapsed": 5744,
     "status": "ok",
     "timestamp": 1634542553428,
     "user": {
      "displayName": "Chris Yew",
      "photoUrl": "https://lh3.googleusercontent.com/a/default-user=s64",
      "userId": "09518424203937384471"
     },
     "user_tz": -480
    },
    "id": "F0LVKv1Z8ReP",
    "outputId": "22f644bc-ed21-45c6-fccf-1c8bc4845cb1"
   },
   "outputs": [
    {
     "name": "stderr",
     "output_type": "stream",
     "text": [
      "/usr/local/lib/python3.7/dist-packages/ipykernel_launcher.py:1: SettingWithCopyWarning: \n",
      "A value is trying to be set on a copy of a slice from a DataFrame.\n",
      "Try using .loc[row_indexer,col_indexer] = value instead\n",
      "\n",
      "See the caveats in the documentation: https://pandas.pydata.org/pandas-docs/stable/user_guide/indexing.html#returning-a-view-versus-a-copy\n",
      "  \"\"\"Entry point for launching an IPython kernel.\n",
      "/usr/local/lib/python3.7/dist-packages/ipykernel_launcher.py:2: SettingWithCopyWarning: \n",
      "A value is trying to be set on a copy of a slice from a DataFrame.\n",
      "Try using .loc[row_indexer,col_indexer] = value instead\n",
      "\n",
      "See the caveats in the documentation: https://pandas.pydata.org/pandas-docs/stable/user_guide/indexing.html#returning-a-view-versus-a-copy\n",
      "  \n"
     ]
    }
   ],
   "source": [
    "sarcasm['punctuation_count'] = sarcasm['comment'].apply(lambda x: len([c for c in str(x) if c in string.punctuation]))\n",
    "non_sarcasm['punctuation_count'] = non_sarcasm['comment'].apply(lambda x: len([c for c in str(x) if c in string.punctuation]))\n"
   ]
  },
  {
   "cell_type": "code",
   "execution_count": null,
   "metadata": {
    "colab": {
     "base_uri": "https://localhost:8080/"
    },
    "executionInfo": {
     "elapsed": 6771,
     "status": "ok",
     "timestamp": 1634542560185,
     "user": {
      "displayName": "Chris Yew",
      "photoUrl": "https://lh3.googleusercontent.com/a/default-user=s64",
      "userId": "09518424203937384471"
     },
     "user_tz": -480
    },
    "id": "6KDtjpM8-3Mj",
    "outputId": "c248b8e2-9be0-4261-c541-35168e499387"
   },
   "outputs": [
    {
     "name": "stderr",
     "output_type": "stream",
     "text": [
      "/usr/local/lib/python3.7/dist-packages/seaborn/distributions.py:2619: FutureWarning: `distplot` is a deprecated function and will be removed in a future version. Please adapt your code to use either `displot` (a figure-level function with similar flexibility) or `histplot` (an axes-level function for histograms).\n",
      "  warnings.warn(msg, FutureWarning)\n",
      "/usr/local/lib/python3.7/dist-packages/seaborn/distributions.py:2619: FutureWarning: `distplot` is a deprecated function and will be removed in a future version. Please adapt your code to use either `displot` (a figure-level function with similar flexibility) or `histplot` (an axes-level function for histograms).\n",
      "  warnings.warn(msg, FutureWarning)\n"
     ]
    },
    {
     "data": {
      "text/plain": [
       "<matplotlib.axes._subplots.AxesSubplot at 0x7fa6dfb3ecd0>"
      ]
     },
     "execution_count": 59,
     "metadata": {},
     "output_type": "execute_result"
    },
    {
     "data": {
      "image/png": "[encoded data removed]",
      "text/plain": [
       "<Figure size 720x360 with 2 Axes>"
      ]
     },
     "metadata": {
      "needs_background": "light"
     },
     "output_type": "display_data"
    }
   ],
   "source": [
    "fig,(ax1,ax2)=plt.subplots(1,2,figsize=(10,5))\n",
    "sns.distplot(sarcasm[\"punctuation_count\"], ax=ax1)\n",
    "sns.distplot(non_sarcasm[\"punctuation_count\"], ax=ax2)       \n",
    "# need to filter away extreme punctuation in sarcasm comments"
   ]
  },
  {
   "cell_type": "code",
   "execution_count": null,
   "metadata": {
    "id": "ogyX0F_S0AO6"
   },
   "outputs": [],
   "source": [
    "sarcasm[sarcasm[\"punctuation_count\"]>500]\n",
    "sarcasm_less = sarcasm[sarcasm[\"punctuation_count\"]<=500]\n",
    "## there is only 1 sarcasm comment with >500 punctuations\n",
    "\n",
    "non_sarcasm[non_sarcasm[\"punctuation_count\"]>500]\n",
    "non_sarcasm_less = non_sarcasm[non_sarcasm[\"punctuation_count\"]<=500]\n",
    "## there is only 1 non_sarcasm comment with >500 punctuations\n"
   ]
  },
  {
   "cell_type": "code",
   "execution_count": null,
   "metadata": {
    "colab": {
     "base_uri": "https://localhost:8080/"
    },
    "executionInfo": {
     "elapsed": 7286,
     "status": "ok",
     "timestamp": 1634542567432,
     "user": {
      "displayName": "Chris Yew",
      "photoUrl": "https://lh3.googleusercontent.com/a/default-user=s64",
      "userId": "09518424203937384471"
     },
     "user_tz": -480
    },
    "id": "IUAvQ1510iaq",
    "outputId": "3d0cfeb1-54e0-40b7-8e2d-1e4b9fc5022b"
   },
   "outputs": [
    {
     "data": {
      "text/plain": [
       "<matplotlib.axes._subplots.AxesSubplot at 0x7fa6dd275bd0>"
      ]
     },
     "execution_count": 61,
     "metadata": {},
     "output_type": "execute_result"
    },
    {
     "data": {
      "image/png": "[encoded data removed]",
      "text/plain": [
       "<Figure size 720x360 with 2 Axes>"
      ]
     },
     "metadata": {
      "needs_background": "light"
     },
     "output_type": "display_data"
    }
   ],
   "source": [
    "fig,(ax1,ax2)=plt.subplots(1,2,figsize=(10,5))\n",
    "sns.kdeplot(sarcasm_less[\"punctuation_count\"], ax=ax1)\n",
    "sns.kdeplot(non_sarcasm_less[\"punctuation_count\"], ax=ax2)       "
   ]
  },
  {
   "cell_type": "markdown",
   "metadata": {
    "id": "aoqrGoZ31hZM"
   },
   "source": [
    "The punctuations count seem to be quite similar between sarcasm and non sarcasm comments. Perhaps punctuations are not important\n",
    "\n"
   ]
  },
  {
   "cell_type": "markdown",
   "metadata": {
    "id": "lvDLlffF60Yn"
   },
   "source": [
    "# Check for air quotes"
   ]
  },
  {
   "cell_type": "code",
   "execution_count": null,
   "metadata": {
    "colab": {
     "base_uri": "https://localhost:8080/"
    },
    "executionInfo": {
     "elapsed": 13,
     "status": "ok",
     "timestamp": 1634542567433,
     "user": {
      "displayName": "Chris Yew",
      "photoUrl": "https://lh3.googleusercontent.com/a/default-user=s64",
      "userId": "09518424203937384471"
     },
     "user_tz": -480
    },
    "id": "ysaMvKtyLdMJ",
    "outputId": "fa6cacce-afeb-42fe-aa97-58a1edce1634"
   },
   "outputs": [
    {
     "data": {
      "application/vnd.google.colaboratory.intrinsic+json": {
       "type": "string"
      },
      "text/plain": [
       "'wow it is totally unreasonable to assume that the agency that covered up Bush war crimes because \"muh republican party\" would be partisan as fuck'"
      ]
     },
     "execution_count": 62,
     "metadata": {},
     "output_type": "execute_result"
    }
   ],
   "source": [
    "comment = sarcasm.iloc[1, sarcasm.columns.get_loc('comment')]\n",
    "comment"
   ]
  },
  {
   "cell_type": "code",
   "execution_count": null,
   "metadata": {
    "colab": {
     "base_uri": "https://localhost:8080/"
    },
    "executionInfo": {
     "elapsed": 12,
     "status": "ok",
     "timestamp": 1634542567434,
     "user": {
      "displayName": "Chris Yew",
      "photoUrl": "https://lh3.googleusercontent.com/a/default-user=s64",
      "userId": "09518424203937384471"
     },
     "user_tz": -480
    },
    "id": "8HsRc2L3LdV9",
    "outputId": "be5ff317-0afc-45ac-d2af-fe3b07a4c00d"
   },
   "outputs": [
    {
     "data": {
      "text/plain": [
       "['muh republican party']"
      ]
     },
     "execution_count": 63,
     "metadata": {},
     "output_type": "execute_result"
    }
   ],
   "source": [
    "re.findall('\"([^\"]*)\"', comment)"
   ]
  },
  {
   "cell_type": "code",
   "execution_count": null,
   "metadata": {
    "colab": {
     "base_uri": "https://localhost:8080/"
    },
    "executionInfo": {
     "elapsed": 30099,
     "status": "ok",
     "timestamp": 1634542597522,
     "user": {
      "displayName": "Chris Yew",
      "photoUrl": "https://lh3.googleusercontent.com/a/default-user=s64",
      "userId": "09518424203937384471"
     },
     "user_tz": -480
    },
    "id": "ALiW6lwubwBB",
    "outputId": "39819025-9850-4505-ab78-c62ae3d7d915"
   },
   "outputs": [
    {
     "name": "stderr",
     "output_type": "stream",
     "text": [
      "IOPub data rate exceeded.\n",
      "The notebook server will temporarily stop sending output\n",
      "to the client in order to avoid crashing it.\n",
      "To change this limit, set the config variable\n",
      "`--NotebookApp.iopub_data_rate_limit`.\n",
      "\n",
      "Current values:\n",
      "NotebookApp.iopub_data_rate_limit=1000000.0 (bytes/sec)\n",
      "NotebookApp.rate_limit_window=3.0 (secs)\n",
      "\n"
     ]
    }
   ],
   "source": [
    "df['comment']=df['comment'].apply(str)\n",
    "quotation_mark = []\n",
    "for i in range(0,1010570):\n",
    "  comment = df.iloc[i, df.columns.get_loc('comment')]\n",
    "  if len(re.findall('\"([^\"]*)\"', comment)) == 0:\n",
    "    quotation_mark.append(0)\n",
    "  else:\n",
    "    quotation_mark.append(1)\n",
    "print(quotation_mark)\n",
    "\n",
    "#binary output"
   ]
  },
  {
   "cell_type": "code",
   "execution_count": null,
   "metadata": {
    "colab": {
     "base_uri": "https://localhost:8080/"
    },
    "executionInfo": {
     "elapsed": 605,
     "status": "ok",
     "timestamp": 1634542598114,
     "user": {
      "displayName": "Chris Yew",
      "photoUrl": "https://lh3.googleusercontent.com/a/default-user=s64",
      "userId": "09518424203937384471"
     },
     "user_tz": -480
    },
    "id": "e2hoOAePdqdo",
    "outputId": "a4bc0439-ac55-4d26-81d6-b7486721a393"
   },
   "outputs": [
    {
     "data": {
      "text/plain": [
       "(-0.03628952441822562, 1.4433198684382123e-291)"
      ]
     },
     "execution_count": 65,
     "metadata": {},
     "output_type": "execute_result"
    }
   ],
   "source": [
    "from scipy import stats\n",
    "stats.pearsonr(quotation_mark,df['label'].tolist() )"
   ]
  },
  {
   "cell_type": "markdown",
   "metadata": {
    "id": "GSAl7Qeue6p5"
   },
   "source": [
    "quotation mark and sarcasm not v correlated? idk need more analysis"
   ]
  },
  {
   "cell_type": "markdown",
   "metadata": {
    "id": "wG5vDK41LfDm"
   },
   "source": [
    "#Any comments that are only 1 word"
   ]
  },
  {
   "cell_type": "code",
   "execution_count": null,
   "metadata": {
    "colab": {
     "base_uri": "https://localhost:8080/"
    },
    "executionInfo": {
     "elapsed": 7,
     "status": "ok",
     "timestamp": 1634542598115,
     "user": {
      "displayName": "Chris Yew",
      "photoUrl": "https://lh3.googleusercontent.com/a/default-user=s64",
      "userId": "09518424203937384471"
     },
     "user_tz": -480
    },
    "id": "TRjQB2sDKrx0",
    "outputId": "8dbe83e5-4f66-4cf1-916d-7175bd7afa0a"
   },
   "outputs": [
    {
     "data": {
      "text/plain": [
       "(1010570, 10)"
      ]
     },
     "execution_count": 66,
     "metadata": {},
     "output_type": "execute_result"
    }
   ],
   "source": [
    "df.head()\n",
    "df.shape"
   ]
  },
  {
   "cell_type": "code",
   "execution_count": null,
   "metadata": {
    "id": "lPJ2k5mMKr33"
   },
   "outputs": [],
   "source": [
    "words = set(nltk.corpus.words.words())"
   ]
  },
  {
   "cell_type": "code",
   "execution_count": null,
   "metadata": {
    "id": "9R8Dr1coWd4v"
   },
   "outputs": [],
   "source": [
    "df['comment']=df['comment'].apply(str)"
   ]
  },
  {
   "cell_type": "code",
   "execution_count": null,
   "metadata": {
    "id": "ST1CzbfkRbqa"
   },
   "outputs": [],
   "source": [
    "length_comment = []\n",
    "\n",
    "for i in range(0,1010570):\n",
    "  comment = word_tokenize(df.iloc[i, df.columns.get_loc('comment')])\n",
    "  length_comment.append(len(comment))\n"
   ]
  },
  {
   "cell_type": "code",
   "execution_count": null,
   "metadata": {
    "colab": {
     "base_uri": "https://localhost:8080/",
     "height": 204
    },
    "executionInfo": {
     "elapsed": 18,
     "status": "ok",
     "timestamp": 1634542770819,
     "user": {
      "displayName": "Chris Yew",
      "photoUrl": "https://lh3.googleusercontent.com/a/default-user=s64",
      "userId": "09518424203937384471"
     },
     "user_tz": -480
    },
    "id": "aciRTBCLXTFE",
    "outputId": "839cf838-2bda-477a-84b6-465e4d51875c"
   },
   "outputs": [
    {
     "data": {
      "text/html": [
       "<div>\n",
       "<style scoped>\n",
       "    .dataframe tbody tr th:only-of-type {\n",
       "        vertical-align: middle;\n",
       "    }\n",
       "\n",
       "    .dataframe tbody tr th {\n",
       "        vertical-align: top;\n",
       "    }\n",
       "\n",
       "    .dataframe thead th {\n",
       "        text-align: right;\n",
       "    }\n",
       "</style>\n",
       "<table border=\"1\" class=\"dataframe\">\n",
       "  <thead>\n",
       "    <tr style=\"text-align: right;\">\n",
       "      <th></th>\n",
       "      <th>label</th>\n",
       "      <th>comment</th>\n",
       "      <th>author</th>\n",
       "      <th>subreddit</th>\n",
       "      <th>score</th>\n",
       "      <th>downs</th>\n",
       "      <th>date</th>\n",
       "      <th>created_utc</th>\n",
       "      <th>parent_comment</th>\n",
       "      <th>new_ratio</th>\n",
       "      <th>length</th>\n",
       "    </tr>\n",
       "  </thead>\n",
       "  <tbody>\n",
       "    <tr>\n",
       "      <th>0</th>\n",
       "      <td>0</td>\n",
       "      <td>NC and NH.</td>\n",
       "      <td>Trumpbart</td>\n",
       "      <td>politics</td>\n",
       "      <td>2</td>\n",
       "      <td>-1</td>\n",
       "      <td>2016-10</td>\n",
       "      <td>2016-10-16 23:55:23</td>\n",
       "      <td>Yeah, I get that argument. At this point, I'd ...</td>\n",
       "      <td>1.0</td>\n",
       "      <td>4</td>\n",
       "    </tr>\n",
       "    <tr>\n",
       "      <th>1</th>\n",
       "      <td>0</td>\n",
       "      <td>You do know west teams play against west teams...</td>\n",
       "      <td>Shbshb906</td>\n",
       "      <td>nba</td>\n",
       "      <td>-4</td>\n",
       "      <td>-1</td>\n",
       "      <td>2016-11</td>\n",
       "      <td>2016-11-01 00:24:10</td>\n",
       "      <td>The blazers and Mavericks (The wests 5 and 6 s...</td>\n",
       "      <td>1.0</td>\n",
       "      <td>15</td>\n",
       "    </tr>\n",
       "    <tr>\n",
       "      <th>2</th>\n",
       "      <td>0</td>\n",
       "      <td>They were underdogs earlier today, but since G...</td>\n",
       "      <td>Creepeth</td>\n",
       "      <td>nfl</td>\n",
       "      <td>3</td>\n",
       "      <td>0</td>\n",
       "      <td>2016-09</td>\n",
       "      <td>2016-09-22 21:45:37</td>\n",
       "      <td>They're favored to win.</td>\n",
       "      <td>4.0</td>\n",
       "      <td>22</td>\n",
       "    </tr>\n",
       "    <tr>\n",
       "      <th>3</th>\n",
       "      <td>0</td>\n",
       "      <td>This meme isn't funny none of the \"new york ni...</td>\n",
       "      <td>icebrotha</td>\n",
       "      <td>BlackPeopleTwitter</td>\n",
       "      <td>-8</td>\n",
       "      <td>-1</td>\n",
       "      <td>2016-10</td>\n",
       "      <td>2016-10-18 21:03:47</td>\n",
       "      <td>deadass don't kill my buzz</td>\n",
       "      <td>1.0</td>\n",
       "      <td>16</td>\n",
       "    </tr>\n",
       "    <tr>\n",
       "      <th>4</th>\n",
       "      <td>0</td>\n",
       "      <td>I could use one of those tools.</td>\n",
       "      <td>cush2push</td>\n",
       "      <td>MaddenUltimateTeam</td>\n",
       "      <td>6</td>\n",
       "      <td>-1</td>\n",
       "      <td>2016-12</td>\n",
       "      <td>2016-12-30 17:00:13</td>\n",
       "      <td>Yep can confirm I saw the tool they use for th...</td>\n",
       "      <td>1.0</td>\n",
       "      <td>8</td>\n",
       "    </tr>\n",
       "  </tbody>\n",
       "</table>\n",
       "</div>"
      ],
      "text/plain": [
       "   label                                            comment  ... new_ratio length\n",
       "0      0                                         NC and NH.  ...       1.0      4\n",
       "1      0  You do know west teams play against west teams...  ...       1.0     15\n",
       "2      0  They were underdogs earlier today, but since G...  ...       4.0     22\n",
       "3      0  This meme isn't funny none of the \"new york ni...  ...       1.0     16\n",
       "4      0                    I could use one of those tools.  ...       1.0      8\n",
       "\n",
       "[5 rows x 11 columns]"
      ]
     },
     "execution_count": 70,
     "metadata": {},
     "output_type": "execute_result"
    }
   ],
   "source": [
    "df['length'] = length_comment\n",
    "df.head()"
   ]
  },
  {
   "cell_type": "code",
   "execution_count": null,
   "metadata": {
    "colab": {
     "base_uri": "https://localhost:8080/",
     "height": 419
    },
    "executionInfo": {
     "elapsed": 614,
     "status": "ok",
     "timestamp": 1634542771419,
     "user": {
      "displayName": "Chris Yew",
      "photoUrl": "https://lh3.googleusercontent.com/a/default-user=s64",
      "userId": "09518424203937384471"
     },
     "user_tz": -480
    },
    "id": "p1HXBdyfXTQ8",
    "outputId": "5ce3f1d4-52ba-4694-d480-3533aa50f348"
   },
   "outputs": [
    {
     "data": {
      "text/html": [
       "<div>\n",
       "<style scoped>\n",
       "    .dataframe tbody tr th:only-of-type {\n",
       "        vertical-align: middle;\n",
       "    }\n",
       "\n",
       "    .dataframe tbody tr th {\n",
       "        vertical-align: top;\n",
       "    }\n",
       "\n",
       "    .dataframe thead th {\n",
       "        text-align: right;\n",
       "    }\n",
       "</style>\n",
       "<table border=\"1\" class=\"dataframe\">\n",
       "  <thead>\n",
       "    <tr style=\"text-align: right;\">\n",
       "      <th></th>\n",
       "      <th>label</th>\n",
       "      <th>comment</th>\n",
       "      <th>author</th>\n",
       "      <th>subreddit</th>\n",
       "      <th>score</th>\n",
       "      <th>downs</th>\n",
       "      <th>date</th>\n",
       "      <th>created_utc</th>\n",
       "      <th>parent_comment</th>\n",
       "      <th>new_ratio</th>\n",
       "      <th>length</th>\n",
       "    </tr>\n",
       "  </thead>\n",
       "  <tbody>\n",
       "    <tr>\n",
       "      <th>25</th>\n",
       "      <td>0</td>\n",
       "      <td>466</td>\n",
       "      <td>Cogman117</td>\n",
       "      <td>Overwatch</td>\n",
       "      <td>5</td>\n",
       "      <td>-1</td>\n",
       "      <td>2016-11</td>\n",
       "      <td>2016-11-03 00:20:04</td>\n",
       "      <td>467 A lovely way!</td>\n",
       "      <td>1.0</td>\n",
       "      <td>1</td>\n",
       "    </tr>\n",
       "    <tr>\n",
       "      <th>30</th>\n",
       "      <td>0</td>\n",
       "      <td>New</td>\n",
       "      <td>KingAetherrr</td>\n",
       "      <td>ClashRoyale</td>\n",
       "      <td>3</td>\n",
       "      <td>-1</td>\n",
       "      <td>2016-11</td>\n",
       "      <td>2016-11-15 04:42:47</td>\n",
       "      <td>but what format</td>\n",
       "      <td>1.0</td>\n",
       "      <td>1</td>\n",
       "    </tr>\n",
       "    <tr>\n",
       "      <th>35</th>\n",
       "      <td>0</td>\n",
       "      <td>r/fuckyouididthemath</td>\n",
       "      <td>xVamplify</td>\n",
       "      <td>videos</td>\n",
       "      <td>3</td>\n",
       "      <td>-1</td>\n",
       "      <td>2016-12</td>\n",
       "      <td>2016-12-31 16:37:40</td>\n",
       "      <td>This is a great response! Too bad about the la...</td>\n",
       "      <td>1.0</td>\n",
       "      <td>1</td>\n",
       "    </tr>\n",
       "    <tr>\n",
       "      <th>42</th>\n",
       "      <td>0</td>\n",
       "      <td>1571049</td>\n",
       "      <td>RandomRedditorWithNo</td>\n",
       "      <td>counting</td>\n",
       "      <td>1</td>\n",
       "      <td>-1</td>\n",
       "      <td>2016-12</td>\n",
       "      <td>2016-12-17 06:56:28</td>\n",
       "      <td>1,571,048</td>\n",
       "      <td>1.0</td>\n",
       "      <td>1</td>\n",
       "    </tr>\n",
       "    <tr>\n",
       "      <th>95</th>\n",
       "      <td>0</td>\n",
       "      <td>1,512,798</td>\n",
       "      <td>Tamerlane-1</td>\n",
       "      <td>counting</td>\n",
       "      <td>1</td>\n",
       "      <td>-1</td>\n",
       "      <td>2016-11</td>\n",
       "      <td>2016-11-18 20:26:43</td>\n",
       "      <td>1,512,797</td>\n",
       "      <td>1.0</td>\n",
       "      <td>1</td>\n",
       "    </tr>\n",
       "    <tr>\n",
       "      <th>...</th>\n",
       "      <td>...</td>\n",
       "      <td>...</td>\n",
       "      <td>...</td>\n",
       "      <td>...</td>\n",
       "      <td>...</td>\n",
       "      <td>...</td>\n",
       "      <td>...</td>\n",
       "      <td>...</td>\n",
       "      <td>...</td>\n",
       "      <td>...</td>\n",
       "      <td>...</td>\n",
       "    </tr>\n",
       "    <tr>\n",
       "      <th>1010304</th>\n",
       "      <td>1</td>\n",
       "      <td>NOOOOOOOOOOOOOOOOOOOOOOOOOOOOOOOOOOOOOOOOOOOOO...</td>\n",
       "      <td>geeeeoffff</td>\n",
       "      <td>business</td>\n",
       "      <td>-2</td>\n",
       "      <td>0</td>\n",
       "      <td>2009-01</td>\n",
       "      <td>2009-01-17 01:25:20</td>\n",
       "      <td>Circuit City to be liquidated</td>\n",
       "      <td>3.0</td>\n",
       "      <td>1</td>\n",
       "    </tr>\n",
       "    <tr>\n",
       "      <th>1010358</th>\n",
       "      <td>1</td>\n",
       "      <td>Xhosa</td>\n",
       "      <td>BravelyBraveSirRobin</td>\n",
       "      <td>AskReddit</td>\n",
       "      <td>1</td>\n",
       "      <td>0</td>\n",
       "      <td>2009-08</td>\n",
       "      <td>2009-08-16 02:58:31</td>\n",
       "      <td>I was asked, \"What culture do you identify wit...</td>\n",
       "      <td>2.0</td>\n",
       "      <td>1</td>\n",
       "    </tr>\n",
       "    <tr>\n",
       "      <th>1010599</th>\n",
       "      <td>1</td>\n",
       "      <td>nan</td>\n",
       "      <td>YouForgotThis</td>\n",
       "      <td>AskReddit</td>\n",
       "      <td>1</td>\n",
       "      <td>0</td>\n",
       "      <td>2009-06</td>\n",
       "      <td>2009-06-05 11:52:31</td>\n",
       "      <td>You're definitely an intolerant homophobe. Jud...</td>\n",
       "      <td>2.0</td>\n",
       "      <td>1</td>\n",
       "    </tr>\n",
       "    <tr>\n",
       "      <th>1010702</th>\n",
       "      <td>1</td>\n",
       "      <td>Pray</td>\n",
       "      <td>derekaw</td>\n",
       "      <td>atheism</td>\n",
       "      <td>2</td>\n",
       "      <td>0</td>\n",
       "      <td>2009-06</td>\n",
       "      <td>2009-06-08 02:26:39</td>\n",
       "      <td>Atheism: The only summer job I could find was ...</td>\n",
       "      <td>3.0</td>\n",
       "      <td>1</td>\n",
       "    </tr>\n",
       "    <tr>\n",
       "      <th>1010779</th>\n",
       "      <td>0</td>\n",
       "      <td>Hi</td>\n",
       "      <td>mercurysquad</td>\n",
       "      <td>AskReddit</td>\n",
       "      <td>3</td>\n",
       "      <td>0</td>\n",
       "      <td>2009-03</td>\n",
       "      <td>2009-03-14 14:22:17</td>\n",
       "      <td>I don't really need a notifier. The envelope i...</td>\n",
       "      <td>4.0</td>\n",
       "      <td>1</td>\n",
       "    </tr>\n",
       "  </tbody>\n",
       "</table>\n",
       "<p>23097 rows × 11 columns</p>\n",
       "</div>"
      ],
      "text/plain": [
       "         label  ... length\n",
       "25           0  ...      1\n",
       "30           0  ...      1\n",
       "35           0  ...      1\n",
       "42           0  ...      1\n",
       "95           0  ...      1\n",
       "...        ...  ...    ...\n",
       "1010304      1  ...      1\n",
       "1010358      1  ...      1\n",
       "1010599      1  ...      1\n",
       "1010702      1  ...      1\n",
       "1010779      0  ...      1\n",
       "\n",
       "[23097 rows x 11 columns]"
      ]
     },
     "execution_count": 71,
     "metadata": {},
     "output_type": "execute_result"
    }
   ],
   "source": [
    "df[df['length'] == 1]"
   ]
  },
  {
   "cell_type": "markdown",
   "metadata": {
    "id": "zGOQX2TpXrjp"
   },
   "source": [
    "23097 rows with 1 word-comment"
   ]
  },
  {
   "cell_type": "code",
   "execution_count": null,
   "metadata": {
    "colab": {
     "base_uri": "https://localhost:8080/",
     "height": 419
    },
    "executionInfo": {
     "elapsed": 33,
     "status": "ok",
     "timestamp": 1634542771421,
     "user": {
      "displayName": "Chris Yew",
      "photoUrl": "https://lh3.googleusercontent.com/a/default-user=s64",
      "userId": "09518424203937384471"
     },
     "user_tz": -480
    },
    "id": "DRAXYivhXdGy",
    "outputId": "fd57a3f7-49cf-4872-c13a-0237af5ca344"
   },
   "outputs": [
    {
     "data": {
      "text/html": [
       "<div>\n",
       "<style scoped>\n",
       "    .dataframe tbody tr th:only-of-type {\n",
       "        vertical-align: middle;\n",
       "    }\n",
       "\n",
       "    .dataframe tbody tr th {\n",
       "        vertical-align: top;\n",
       "    }\n",
       "\n",
       "    .dataframe thead th {\n",
       "        text-align: right;\n",
       "    }\n",
       "</style>\n",
       "<table border=\"1\" class=\"dataframe\">\n",
       "  <thead>\n",
       "    <tr style=\"text-align: right;\">\n",
       "      <th></th>\n",
       "      <th>label</th>\n",
       "      <th>comment</th>\n",
       "      <th>author</th>\n",
       "      <th>subreddit</th>\n",
       "      <th>score</th>\n",
       "      <th>downs</th>\n",
       "      <th>date</th>\n",
       "      <th>created_utc</th>\n",
       "      <th>parent_comment</th>\n",
       "      <th>new_ratio</th>\n",
       "      <th>length</th>\n",
       "    </tr>\n",
       "  </thead>\n",
       "  <tbody>\n",
       "    <tr>\n",
       "      <th>575</th>\n",
       "      <td>1</td>\n",
       "      <td>Vayne</td>\n",
       "      <td>Onam3000</td>\n",
       "      <td>leagueoflegends</td>\n",
       "      <td>0</td>\n",
       "      <td>-1</td>\n",
       "      <td>2016-11</td>\n",
       "      <td>2016-11-01 22:00:13</td>\n",
       "      <td>So now every ability deals true damage. Who is...</td>\n",
       "      <td>1.0</td>\n",
       "      <td>1</td>\n",
       "    </tr>\n",
       "    <tr>\n",
       "      <th>1399</th>\n",
       "      <td>1</td>\n",
       "      <td>Greek</td>\n",
       "      <td>Stainkee</td>\n",
       "      <td>Smite</td>\n",
       "      <td>1</td>\n",
       "      <td>-1</td>\n",
       "      <td>2016-11</td>\n",
       "      <td>2016-11-03 14:01:39</td>\n",
       "      <td>What pantheon do you want to see more of? I re...</td>\n",
       "      <td>1.0</td>\n",
       "      <td>1</td>\n",
       "    </tr>\n",
       "    <tr>\n",
       "      <th>1417</th>\n",
       "      <td>1</td>\n",
       "      <td>No</td>\n",
       "      <td>Mediego19</td>\n",
       "      <td>nonononoyes</td>\n",
       "      <td>22</td>\n",
       "      <td>-1</td>\n",
       "      <td>2016-11</td>\n",
       "      <td>2016-11-03 14:56:08</td>\n",
       "      <td>is this sarcasm</td>\n",
       "      <td>1.0</td>\n",
       "      <td>1</td>\n",
       "    </tr>\n",
       "    <tr>\n",
       "      <th>1586</th>\n",
       "      <td>1</td>\n",
       "      <td>HAHAHAHHAHAHAHAHAHAHAHAHAHAHAHAHAHAHAHAHAHAHAH...</td>\n",
       "      <td>CanCanCanYouDoThe</td>\n",
       "      <td>halifax</td>\n",
       "      <td>4</td>\n",
       "      <td>-1</td>\n",
       "      <td>2016-11</td>\n",
       "      <td>2016-11-03 21:44:21</td>\n",
       "      <td>Try Ralphs?</td>\n",
       "      <td>1.0</td>\n",
       "      <td>1</td>\n",
       "    </tr>\n",
       "    <tr>\n",
       "      <th>1686</th>\n",
       "      <td>1</td>\n",
       "      <td>Obviously</td>\n",
       "      <td>jasonblank713</td>\n",
       "      <td>nfl</td>\n",
       "      <td>1</td>\n",
       "      <td>-1</td>\n",
       "      <td>2016-11</td>\n",
       "      <td>2016-11-04 02:30:42</td>\n",
       "      <td>I guess that settles it, everyone is out to ge...</td>\n",
       "      <td>1.0</td>\n",
       "      <td>1</td>\n",
       "    </tr>\n",
       "    <tr>\n",
       "      <th>...</th>\n",
       "      <td>...</td>\n",
       "      <td>...</td>\n",
       "      <td>...</td>\n",
       "      <td>...</td>\n",
       "      <td>...</td>\n",
       "      <td>...</td>\n",
       "      <td>...</td>\n",
       "      <td>...</td>\n",
       "      <td>...</td>\n",
       "      <td>...</td>\n",
       "      <td>...</td>\n",
       "    </tr>\n",
       "    <tr>\n",
       "      <th>1010222</th>\n",
       "      <td>1</td>\n",
       "      <td>awwwwwwwwwwwwwwwwwwwwwwwwwwwwwwwwwwwwwwwwwwwww...</td>\n",
       "      <td>drewantarctic</td>\n",
       "      <td>reddit.com</td>\n",
       "      <td>-7</td>\n",
       "      <td>0</td>\n",
       "      <td>2009-06</td>\n",
       "      <td>2009-06-19 21:49:58</td>\n",
       "      <td>Hey reddit, I just setup a puppy cam to watch ...</td>\n",
       "      <td>8.0</td>\n",
       "      <td>1</td>\n",
       "    </tr>\n",
       "    <tr>\n",
       "      <th>1010304</th>\n",
       "      <td>1</td>\n",
       "      <td>NOOOOOOOOOOOOOOOOOOOOOOOOOOOOOOOOOOOOOOOOOOOOO...</td>\n",
       "      <td>geeeeoffff</td>\n",
       "      <td>business</td>\n",
       "      <td>-2</td>\n",
       "      <td>0</td>\n",
       "      <td>2009-01</td>\n",
       "      <td>2009-01-17 01:25:20</td>\n",
       "      <td>Circuit City to be liquidated</td>\n",
       "      <td>3.0</td>\n",
       "      <td>1</td>\n",
       "    </tr>\n",
       "    <tr>\n",
       "      <th>1010358</th>\n",
       "      <td>1</td>\n",
       "      <td>Xhosa</td>\n",
       "      <td>BravelyBraveSirRobin</td>\n",
       "      <td>AskReddit</td>\n",
       "      <td>1</td>\n",
       "      <td>0</td>\n",
       "      <td>2009-08</td>\n",
       "      <td>2009-08-16 02:58:31</td>\n",
       "      <td>I was asked, \"What culture do you identify wit...</td>\n",
       "      <td>2.0</td>\n",
       "      <td>1</td>\n",
       "    </tr>\n",
       "    <tr>\n",
       "      <th>1010599</th>\n",
       "      <td>1</td>\n",
       "      <td>nan</td>\n",
       "      <td>YouForgotThis</td>\n",
       "      <td>AskReddit</td>\n",
       "      <td>1</td>\n",
       "      <td>0</td>\n",
       "      <td>2009-06</td>\n",
       "      <td>2009-06-05 11:52:31</td>\n",
       "      <td>You're definitely an intolerant homophobe. Jud...</td>\n",
       "      <td>2.0</td>\n",
       "      <td>1</td>\n",
       "    </tr>\n",
       "    <tr>\n",
       "      <th>1010702</th>\n",
       "      <td>1</td>\n",
       "      <td>Pray</td>\n",
       "      <td>derekaw</td>\n",
       "      <td>atheism</td>\n",
       "      <td>2</td>\n",
       "      <td>0</td>\n",
       "      <td>2009-06</td>\n",
       "      <td>2009-06-08 02:26:39</td>\n",
       "      <td>Atheism: The only summer job I could find was ...</td>\n",
       "      <td>3.0</td>\n",
       "      <td>1</td>\n",
       "    </tr>\n",
       "  </tbody>\n",
       "</table>\n",
       "<p>5949 rows × 11 columns</p>\n",
       "</div>"
      ],
      "text/plain": [
       "         label  ... length\n",
       "575          1  ...      1\n",
       "1399         1  ...      1\n",
       "1417         1  ...      1\n",
       "1586         1  ...      1\n",
       "1686         1  ...      1\n",
       "...        ...  ...    ...\n",
       "1010222      1  ...      1\n",
       "1010304      1  ...      1\n",
       "1010358      1  ...      1\n",
       "1010599      1  ...      1\n",
       "1010702      1  ...      1\n",
       "\n",
       "[5949 rows x 11 columns]"
      ]
     },
     "execution_count": 72,
     "metadata": {},
     "output_type": "execute_result"
    }
   ],
   "source": [
    "sarcastic_oneword = df[(df['length'] == 1) & (df['label'] == 1)]\n",
    "sarcastic_oneword"
   ]
  },
  {
   "cell_type": "markdown",
   "metadata": {
    "id": "mGic2ZA6YPDX"
   },
   "source": [
    "5949 rows of sarcastic comments that have 1 word"
   ]
  },
  {
   "cell_type": "code",
   "execution_count": null,
   "metadata": {
    "id": "3K_vpFpuXdNx"
   },
   "outputs": [],
   "source": [
    "#comment out if u wanna download the excel file\n",
    "\n",
    "#from google.colab import files\n",
    "\n",
    "#sarcastic_oneword.to_excel(\"sarcastic_oneword.xlsx\") \n",
    "#files.download('sarcastic_oneword.xlsx')\n"
   ]
  },
  {
   "cell_type": "markdown",
   "metadata": {
    "id": "ffMMgKq6i-qh"
   },
   "source": [
    "How to deal with these comments"
   ]
  },
  {
   "cell_type": "code",
   "execution_count": null,
   "metadata": {
    "colab": {
     "base_uri": "https://localhost:8080/"
    },
    "executionInfo": {
     "elapsed": 33,
     "status": "ok",
     "timestamp": 1634542771424,
     "user": {
      "displayName": "Chris Yew",
      "photoUrl": "https://lh3.googleusercontent.com/a/default-user=s64",
      "userId": "09518424203937384471"
     },
     "user_tz": -480
    },
    "id": "H4oCcBq0mjmW",
    "outputId": "a4efdec5-053a-4148-e5a1-b241a1db155b"
   },
   "outputs": [
    {
     "data": {
      "text/plain": [
       "3838"
      ]
     },
     "execution_count": 74,
     "metadata": {},
     "output_type": "execute_result"
    }
   ],
   "source": [
    "len(sarcastic_oneword['comment'].unique())"
   ]
  },
  {
   "cell_type": "code",
   "execution_count": null,
   "metadata": {
    "colab": {
     "base_uri": "https://localhost:8080/"
    },
    "executionInfo": {
     "elapsed": 31,
     "status": "ok",
     "timestamp": 1634542771425,
     "user": {
      "displayName": "Chris Yew",
      "photoUrl": "https://lh3.googleusercontent.com/a/default-user=s64",
      "userId": "09518424203937384471"
     },
     "user_tz": -480
    },
    "id": "7ZX6kembnzOO",
    "outputId": "1e6d9f30-970a-4c79-feaa-29b23ea87837"
   },
   "outputs": [
    {
     "data": {
      "text/plain": [
       "(5949, 11)"
      ]
     },
     "execution_count": 75,
     "metadata": {},
     "output_type": "execute_result"
    }
   ],
   "source": [
    "sarcastic_oneword.shape"
   ]
  },
  {
   "cell_type": "code",
   "execution_count": null,
   "metadata": {
    "id": "Y3MQ4CRPnDmm"
   },
   "outputs": [],
   "source": [
    "#presence of duplicated words"
   ]
  },
  {
   "cell_type": "markdown",
   "metadata": {
    "id": "GkAiPjY5RosQ"
   },
   "source": [
    "# Text preprocessing"
   ]
  },
  {
   "cell_type": "code",
   "execution_count": null,
   "metadata": {
    "colab": {
     "base_uri": "https://localhost:8080/",
     "height": 204
    },
    "executionInfo": {
     "elapsed": 412,
     "status": "ok",
     "timestamp": 1634545990338,
     "user": {
      "displayName": "Chris Yew",
      "photoUrl": "https://lh3.googleusercontent.com/a/default-user=s64",
      "userId": "09518424203937384471"
     },
     "user_tz": -480
    },
    "id": "__CihXQsSOOv",
    "outputId": "2ea8f318-c696-41a9-ef03-7be68e243fef"
   },
   "outputs": [
    {
     "data": {
      "text/html": [
       "<div>\n",
       "<style scoped>\n",
       "    .dataframe tbody tr th:only-of-type {\n",
       "        vertical-align: middle;\n",
       "    }\n",
       "\n",
       "    .dataframe tbody tr th {\n",
       "        vertical-align: top;\n",
       "    }\n",
       "\n",
       "    .dataframe thead th {\n",
       "        text-align: right;\n",
       "    }\n",
       "</style>\n",
       "<table border=\"1\" class=\"dataframe\">\n",
       "  <thead>\n",
       "    <tr style=\"text-align: right;\">\n",
       "      <th></th>\n",
       "      <th>label</th>\n",
       "      <th>comment</th>\n",
       "      <th>author</th>\n",
       "      <th>subreddit</th>\n",
       "      <th>score</th>\n",
       "      <th>downs</th>\n",
       "      <th>date</th>\n",
       "      <th>created_utc</th>\n",
       "      <th>parent_comment</th>\n",
       "      <th>new_ratio</th>\n",
       "      <th>length</th>\n",
       "    </tr>\n",
       "  </thead>\n",
       "  <tbody>\n",
       "    <tr>\n",
       "      <th>0</th>\n",
       "      <td>0</td>\n",
       "      <td>NC and NH.</td>\n",
       "      <td>Trumpbart</td>\n",
       "      <td>politics</td>\n",
       "      <td>2</td>\n",
       "      <td>-1</td>\n",
       "      <td>2016-10</td>\n",
       "      <td>2016-10-16 23:55:23</td>\n",
       "      <td>Yeah, I get that argument. At this point, I'd ...</td>\n",
       "      <td>1.0</td>\n",
       "      <td>4</td>\n",
       "    </tr>\n",
       "    <tr>\n",
       "      <th>1</th>\n",
       "      <td>0</td>\n",
       "      <td>You do know west teams play against west teams...</td>\n",
       "      <td>Shbshb906</td>\n",
       "      <td>nba</td>\n",
       "      <td>-4</td>\n",
       "      <td>-1</td>\n",
       "      <td>2016-11</td>\n",
       "      <td>2016-11-01 00:24:10</td>\n",
       "      <td>The blazers and Mavericks (The wests 5 and 6 s...</td>\n",
       "      <td>1.0</td>\n",
       "      <td>15</td>\n",
       "    </tr>\n",
       "    <tr>\n",
       "      <th>2</th>\n",
       "      <td>0</td>\n",
       "      <td>They were underdogs earlier today, but since G...</td>\n",
       "      <td>Creepeth</td>\n",
       "      <td>nfl</td>\n",
       "      <td>3</td>\n",
       "      <td>0</td>\n",
       "      <td>2016-09</td>\n",
       "      <td>2016-09-22 21:45:37</td>\n",
       "      <td>They're favored to win.</td>\n",
       "      <td>4.0</td>\n",
       "      <td>22</td>\n",
       "    </tr>\n",
       "    <tr>\n",
       "      <th>3</th>\n",
       "      <td>0</td>\n",
       "      <td>This meme isn't funny none of the \"new york ni...</td>\n",
       "      <td>icebrotha</td>\n",
       "      <td>BlackPeopleTwitter</td>\n",
       "      <td>-8</td>\n",
       "      <td>-1</td>\n",
       "      <td>2016-10</td>\n",
       "      <td>2016-10-18 21:03:47</td>\n",
       "      <td>deadass don't kill my buzz</td>\n",
       "      <td>1.0</td>\n",
       "      <td>16</td>\n",
       "    </tr>\n",
       "    <tr>\n",
       "      <th>4</th>\n",
       "      <td>0</td>\n",
       "      <td>I could use one of those tools.</td>\n",
       "      <td>cush2push</td>\n",
       "      <td>MaddenUltimateTeam</td>\n",
       "      <td>6</td>\n",
       "      <td>-1</td>\n",
       "      <td>2016-12</td>\n",
       "      <td>2016-12-30 17:00:13</td>\n",
       "      <td>Yep can confirm I saw the tool they use for th...</td>\n",
       "      <td>1.0</td>\n",
       "      <td>8</td>\n",
       "    </tr>\n",
       "  </tbody>\n",
       "</table>\n",
       "</div>"
      ],
      "text/plain": [
       "   label                                            comment  ... new_ratio length\n",
       "0      0                                         NC and NH.  ...       1.0      4\n",
       "1      0  You do know west teams play against west teams...  ...       1.0     15\n",
       "2      0  They were underdogs earlier today, but since G...  ...       4.0     22\n",
       "3      0  This meme isn't funny none of the \"new york ni...  ...       1.0     16\n",
       "4      0                    I could use one of those tools.  ...       1.0      8\n",
       "\n",
       "[5 rows x 11 columns]"
      ]
     },
     "execution_count": 78,
     "metadata": {},
     "output_type": "execute_result"
    }
   ],
   "source": [
    "df.head()"
   ]
  },
  {
   "cell_type": "code",
   "execution_count": null,
   "metadata": {
    "id": "bpejgaq9lB6-"
   },
   "outputs": [],
   "source": [
    "#Tokenisation\n",
    "\n",
    "\n",
    "comment = df.comment.str.cat(sep = ' ')\n",
    "#comment[0:50]\n",
    "\n",
    "#function to split text into word\n",
    "tokens = word_tokenize(comment)"
   ]
  },
  {
   "cell_type": "code",
   "execution_count": null,
   "metadata": {
    "id": "6Iq9CAGIj6Pu"
   },
   "outputs": [],
   "source": []
  }
 ],
 "metadata": {
  "colab": {
   "collapsed_sections": [
    "s6o1-KN53ZrO",
    "j10InAJq8NtX",
    "fsIgQgG6EjOb",
    "JVOyprMXh37Y",
    "96f45256",
    "7466cd6b",
    "023429ca",
    "zq-YfMgkU2UF",
    "ZFMY52ovmzXq",
    "ozy0IJ328OGQ",
    "lvDLlffF60Yn"
   ],
   "name": "1. EDA.ipynb",
   "provenance": []
  },
  "kernelspec": {
   "display_name": "Python 3 (ipykernel)",
   "language": "python",
   "name": "python3"
  },
  "language_info": {
   "codemirror_mode": {
    "name": "ipython",
    "version": 3
   },
   "file_extension": ".py",
   "mimetype": "text/x-python",
   "name": "python",
   "nbconvert_exporter": "python",
   "pygments_lexer": "ipython3",
   "version": "3.8.2"
  }
 },
 "nbformat": 4,
 "nbformat_minor": 1
}
