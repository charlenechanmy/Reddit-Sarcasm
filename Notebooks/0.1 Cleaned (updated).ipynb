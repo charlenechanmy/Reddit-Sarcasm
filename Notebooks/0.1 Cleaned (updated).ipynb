{
 "cells": [
  {
   "cell_type": "code",
   "execution_count": 3,
   "metadata": {
    "colab": {
     "base_uri": "https://localhost:8080/"
    },
    "executionInfo": {
     "elapsed": 441,
     "status": "ok",
     "timestamp": 1636304417139,
     "user": {
      "displayName": "Chris Yew",
      "photoUrl": "https://lh3.googleusercontent.com/a/default-user=s64",
      "userId": "09518424203937384471"
     },
     "user_tz": -480
    },
    "id": "2WcD5Imz0DoM",
    "outputId": "42e39ae0-b744-4a10-8f9c-7c7283814303"
   },
   "outputs": [
    {
     "name": "stdout",
     "output_type": "stream",
     "text": [
      "[nltk_data] Downloading package punkt to /root/nltk_data...\n",
      "[nltk_data]   Package punkt is already up-to-date!\n",
      "[nltk_data] Downloading package stopwords to /root/nltk_data...\n",
      "[nltk_data]   Package stopwords is already up-to-date!\n",
      "[nltk_data] Downloading package averaged_perceptron_tagger to\n",
      "[nltk_data]     /root/nltk_data...\n",
      "[nltk_data]   Package averaged_perceptron_tagger is already up-to-\n",
      "[nltk_data]       date!\n",
      "[nltk_data] Downloading package wordnet to /root/nltk_data...\n",
      "[nltk_data]   Package wordnet is already up-to-date!\n",
      "[nltk_data] Downloading package words to /root/nltk_data...\n",
      "[nltk_data]   Package words is already up-to-date!\n"
     ]
    },
    {
     "data": {
      "text/plain": [
       "True"
      ]
     },
     "execution_count": 3,
     "metadata": {},
     "output_type": "execute_result"
    }
   ],
   "source": [
    "# import packages\n",
    "import numpy as np\n",
    "import pandas as pd\n",
    "import os\n",
    "import datetime as dt\n",
    "import stat\n",
    "from scipy.stats import pointbiserialr\n",
    "from matplotlib import pyplot as plt\n",
    "from wordcloud import WordCloud, STOPWORDS\n",
    "import seaborn as sns\n",
    "import re\n",
    "\n",
    "\n",
    "#for text processing\n",
    "import nltk\n",
    "from nltk.tokenize import word_tokenize\n",
    "nltk.download('punkt')\n",
    "from nltk.corpus import stopwords\n",
    "nltk.download('stopwords')\n",
    "from nltk.stem import PorterStemmer\n",
    "from nltk.stem import WordNetLemmatizer\n",
    "nltk.download('averaged_perceptron_tagger')\n",
    "from nltk.corpus import wordnet\n",
    "nltk.download('wordnet')\n",
    "import string\n",
    "nltk.download('words')\n"
   ]
  },
  {
   "cell_type": "code",
   "execution_count": 5,
   "metadata": {
    "executionInfo": {
     "elapsed": 24243,
     "status": "ok",
     "timestamp": 1636304471735,
     "user": {
      "displayName": "Chris Yew",
      "photoUrl": "https://lh3.googleusercontent.com/a/default-user=s64",
      "userId": "09518424203937384471"
     },
     "user_tz": -480
    },
    "id": "HsGZPrlGWEvG"
   },
   "outputs": [],
   "source": [
    "# Code to read csv file into Colaboratory:\n",
    "!pip install -U -q PyDrive\n",
    "from pydrive.auth import GoogleAuth\n",
    "from pydrive.drive import GoogleDrive\n",
    "from google.colab import auth\n",
    "from oauth2client.client import GoogleCredentials\n",
    "# Authenticate and create the PyDrive client.\n",
    "auth.authenticate_user()\n",
    "gauth = GoogleAuth()\n",
    "gauth.credentials = GoogleCredentials.get_application_default()\n",
    "drive = GoogleDrive(gauth)"
   ]
  },
  {
   "cell_type": "code",
   "execution_count": 6,
   "metadata": {
    "executionInfo": {
     "elapsed": 420,
     "status": "ok",
     "timestamp": 1636304508518,
     "user": {
      "displayName": "Chris Yew",
      "photoUrl": "https://lh3.googleusercontent.com/a/default-user=s64",
      "userId": "09518424203937384471"
     },
     "user_tz": -480
    },
    "id": "7baT6w_kGOa5"
   },
   "outputs": [],
   "source": [
    "id = '1tkry63EvDXY_CPSfDomBoa8IbUXZN-2y'"
   ]
  },
  {
   "cell_type": "code",
   "execution_count": 7,
   "metadata": {
    "executionInfo": {
     "elapsed": 24366,
     "status": "ok",
     "timestamp": 1636304533480,
     "user": {
      "displayName": "Chris Yew",
      "photoUrl": "https://lh3.googleusercontent.com/a/default-user=s64",
      "userId": "09518424203937384471"
     },
     "user_tz": -480
    },
    "id": "UE6VgFhFGOfg"
   },
   "outputs": [],
   "source": [
    "downloaded = drive.CreateFile({'id':id}) \n",
    "downloaded.GetContentFile('train-balanced-sarcasm.csv')  \n",
    "df = pd.read_csv('train-balanced-sarcasm.csv')\n",
    "# Dataset is now stored in a Pandas Dataframe"
   ]
  },
  {
   "cell_type": "code",
   "execution_count": 8,
   "metadata": {
    "colab": {
     "base_uri": "https://localhost:8080/"
    },
    "executionInfo": {
     "elapsed": 28,
     "status": "ok",
     "timestamp": 1636304533481,
     "user": {
      "displayName": "Chris Yew",
      "photoUrl": "https://lh3.googleusercontent.com/a/default-user=s64",
      "userId": "09518424203937384471"
     },
     "user_tz": -480
    },
    "id": "8wF4GGx8KEoP",
    "outputId": "48777e8f-7dc2-4c83-a6ee-cdbc4e1e6b3e"
   },
   "outputs": [
    {
     "data": {
      "text/plain": [
       "(1010826, 10)"
      ]
     },
     "execution_count": 8,
     "metadata": {},
     "output_type": "execute_result"
    }
   ],
   "source": [
    "df.shape"
   ]
  },
  {
   "cell_type": "markdown",
   "metadata": {
    "id": "WQr54d8XH7Dn"
   },
   "source": [
    "# 1.Missing comments"
   ]
  },
  {
   "cell_type": "code",
   "execution_count": 9,
   "metadata": {
    "colab": {
     "base_uri": "https://localhost:8080/"
    },
    "executionInfo": {
     "elapsed": 25,
     "status": "ok",
     "timestamp": 1636304533481,
     "user": {
      "displayName": "Chris Yew",
      "photoUrl": "https://lh3.googleusercontent.com/a/default-user=s64",
      "userId": "09518424203937384471"
     },
     "user_tz": -480
    },
    "id": "OmymUQZyR9BF",
    "outputId": "e02a3898-9bf7-4930-b77f-bf6d0e0284d8"
   },
   "outputs": [
    {
     "data": {
      "text/plain": [
       "5"
      ]
     },
     "execution_count": 9,
     "metadata": {},
     "output_type": "execute_result"
    }
   ],
   "source": [
    "len(df[pd.isna(df[\"comment\"])==True].head())"
   ]
  },
  {
   "cell_type": "code",
   "execution_count": 10,
   "metadata": {
    "colab": {
     "base_uri": "https://localhost:8080/"
    },
    "executionInfo": {
     "elapsed": 599,
     "status": "ok",
     "timestamp": 1636304534060,
     "user": {
      "displayName": "Chris Yew",
      "photoUrl": "https://lh3.googleusercontent.com/a/default-user=s64",
      "userId": "09518424203937384471"
     },
     "user_tz": -480
    },
    "id": "S-ZPpMTfKmJT",
    "outputId": "10181916-0130-42c8-8f98-bd13b85bdef9"
   },
   "outputs": [
    {
     "data": {
      "text/plain": [
       "label             0\n",
       "comment           0\n",
       "author            0\n",
       "subreddit         0\n",
       "score             0\n",
       "ups               0\n",
       "downs             0\n",
       "date              0\n",
       "created_utc       0\n",
       "parent_comment    0\n",
       "dtype: int64"
      ]
     },
     "execution_count": 10,
     "metadata": {},
     "output_type": "execute_result"
    }
   ],
   "source": [
    "#drop rows that has missing comments\n",
    "df = df.dropna(subset=['comment'])\n",
    "df.isnull().sum()"
   ]
  },
  {
   "cell_type": "markdown",
   "metadata": {
    "id": "nQiuXj45OGfK"
   },
   "source": [
    "# 2. Drop duplicated comments"
   ]
  },
  {
   "cell_type": "code",
   "execution_count": 11,
   "metadata": {
    "colab": {
     "base_uri": "https://localhost:8080/"
    },
    "executionInfo": {
     "elapsed": 2522,
     "status": "ok",
     "timestamp": 1636304536577,
     "user": {
      "displayName": "Chris Yew",
      "photoUrl": "https://lh3.googleusercontent.com/a/default-user=s64",
      "userId": "09518424203937384471"
     },
     "user_tz": -480
    },
    "id": "P5e2XStBOTLR",
    "outputId": "298557b1-ec44-4587-988e-40bb2e7ca0ad"
   },
   "outputs": [
    {
     "data": {
      "text/plain": [
       "53"
      ]
     },
     "execution_count": 11,
     "metadata": {},
     "output_type": "execute_result"
    }
   ],
   "source": [
    "sum(df.duplicated(keep=False)) "
   ]
  },
  {
   "cell_type": "markdown",
   "metadata": {
    "id": "7uiIv2VbOfy_"
   },
   "source": [
    "There are 53 duplicated rows!"
   ]
  },
  {
   "cell_type": "code",
   "execution_count": 12,
   "metadata": {
    "executionInfo": {
     "elapsed": 14,
     "status": "ok",
     "timestamp": 1636304536578,
     "user": {
      "displayName": "Chris Yew",
      "photoUrl": "https://lh3.googleusercontent.com/a/default-user=s64",
      "userId": "09518424203937384471"
     },
     "user_tz": -480
    },
    "id": "ZGMDWkFhoCVk"
   },
   "outputs": [],
   "source": [
    "#df[df.duplicated(keep=False)]"
   ]
  },
  {
   "cell_type": "code",
   "execution_count": 13,
   "metadata": {
    "executionInfo": {
     "elapsed": 13,
     "status": "ok",
     "timestamp": 1636304536578,
     "user": {
      "displayName": "Chris Yew",
      "photoUrl": "https://lh3.googleusercontent.com/a/default-user=s64",
      "userId": "09518424203937384471"
     },
     "user_tz": -480
    },
    "id": "JQE_pi7YOlst"
   },
   "outputs": [],
   "source": [
    "#df[df.duplicated(keep=False)].head()"
   ]
  },
  {
   "cell_type": "code",
   "execution_count": 14,
   "metadata": {
    "colab": {
     "base_uri": "https://localhost:8080/",
     "height": 419
    },
    "executionInfo": {
     "elapsed": 2341,
     "status": "ok",
     "timestamp": 1636304538907,
     "user": {
      "displayName": "Chris Yew",
      "photoUrl": "https://lh3.googleusercontent.com/a/default-user=s64",
      "userId": "09518424203937384471"
     },
     "user_tz": -480
    },
    "id": "7Cy8TzCNPwT1",
    "outputId": "f39ecf6f-cf23-4015-c1a2-25477ec56e55"
   },
   "outputs": [
    {
     "data": {
      "text/html": [
       "<div>\n",
       "<style scoped>\n",
       "    .dataframe tbody tr th:only-of-type {\n",
       "        vertical-align: middle;\n",
       "    }\n",
       "\n",
       "    .dataframe tbody tr th {\n",
       "        vertical-align: top;\n",
       "    }\n",
       "\n",
       "    .dataframe thead th {\n",
       "        text-align: right;\n",
       "    }\n",
       "</style>\n",
       "<table border=\"1\" class=\"dataframe\">\n",
       "  <thead>\n",
       "    <tr style=\"text-align: right;\">\n",
       "      <th></th>\n",
       "      <th>label</th>\n",
       "      <th>comment</th>\n",
       "      <th>author</th>\n",
       "      <th>subreddit</th>\n",
       "      <th>score</th>\n",
       "      <th>ups</th>\n",
       "      <th>downs</th>\n",
       "      <th>date</th>\n",
       "      <th>created_utc</th>\n",
       "      <th>parent_comment</th>\n",
       "    </tr>\n",
       "  </thead>\n",
       "  <tbody>\n",
       "    <tr>\n",
       "      <th>10185</th>\n",
       "      <td>1</td>\n",
       "      <td>Shocking</td>\n",
       "      <td>Clyde_Died</td>\n",
       "      <td>todayilearned</td>\n",
       "      <td>2</td>\n",
       "      <td>2</td>\n",
       "      <td>0</td>\n",
       "      <td>2016-09</td>\n",
       "      <td>2016-09-29 17:53:07</td>\n",
       "      <td>TIL materials needed to produce a pair of $199...</td>\n",
       "    </tr>\n",
       "    <tr>\n",
       "      <th>12357</th>\n",
       "      <td>1</td>\n",
       "      <td>Said the under 2k post karma guy *expert*</td>\n",
       "      <td>iam4real</td>\n",
       "      <td>youdontsurf</td>\n",
       "      <td>0</td>\n",
       "      <td>-1</td>\n",
       "      <td>-1</td>\n",
       "      <td>2016-11</td>\n",
       "      <td>2016-11-02 10:09:10</td>\n",
       "      <td>This subreddit really does suck.</td>\n",
       "    </tr>\n",
       "    <tr>\n",
       "      <th>15649</th>\n",
       "      <td>1</td>\n",
       "      <td>I am very surprised that there is more than 1 ...</td>\n",
       "      <td>PianoRainMelody</td>\n",
       "      <td>ClashRoyale</td>\n",
       "      <td>4</td>\n",
       "      <td>-1</td>\n",
       "      <td>-1</td>\n",
       "      <td>2016-12</td>\n",
       "      <td>2016-12-30 22:47:58</td>\n",
       "      <td>CONGRATS! YOU ARE AN INSPIRATION!</td>\n",
       "    </tr>\n",
       "    <tr>\n",
       "      <th>23777</th>\n",
       "      <td>1</td>\n",
       "      <td>Said the under 2k post karma guy *expert*</td>\n",
       "      <td>iam4real</td>\n",
       "      <td>youdontsurf</td>\n",
       "      <td>1</td>\n",
       "      <td>-1</td>\n",
       "      <td>-1</td>\n",
       "      <td>2016-11</td>\n",
       "      <td>2016-11-02 10:09:10</td>\n",
       "      <td>This subreddit really does suck.</td>\n",
       "    </tr>\n",
       "    <tr>\n",
       "      <th>40133</th>\n",
       "      <td>0</td>\n",
       "      <td>F</td>\n",
       "      <td>Leoleomeomeo</td>\n",
       "      <td>The_Donald</td>\n",
       "      <td>6</td>\n",
       "      <td>-1</td>\n",
       "      <td>-1</td>\n",
       "      <td>2016-12</td>\n",
       "      <td>2016-12-08 01:23:58</td>\n",
       "      <td>F</td>\n",
       "    </tr>\n",
       "    <tr>\n",
       "      <th>...</th>\n",
       "      <td>...</td>\n",
       "      <td>...</td>\n",
       "      <td>...</td>\n",
       "      <td>...</td>\n",
       "      <td>...</td>\n",
       "      <td>...</td>\n",
       "      <td>...</td>\n",
       "      <td>...</td>\n",
       "      <td>...</td>\n",
       "      <td>...</td>\n",
       "    </tr>\n",
       "    <tr>\n",
       "      <th>1008663</th>\n",
       "      <td>0</td>\n",
       "      <td>OK</td>\n",
       "      <td>db2</td>\n",
       "      <td>atheism</td>\n",
       "      <td>1</td>\n",
       "      <td>1</td>\n",
       "      <td>0</td>\n",
       "      <td>2011-03</td>\n",
       "      <td>2011-03-08 02:21:40</td>\n",
       "      <td>STOP YELLING</td>\n",
       "    </tr>\n",
       "    <tr>\n",
       "      <th>1009033</th>\n",
       "      <td>1</td>\n",
       "      <td>He is going to go to each state, be elected ki...</td>\n",
       "      <td>cheney_healthcare</td>\n",
       "      <td>politics</td>\n",
       "      <td>3</td>\n",
       "      <td>3</td>\n",
       "      <td>0</td>\n",
       "      <td>2011-01</td>\n",
       "      <td>2011-01-27 13:49:57</td>\n",
       "      <td>What?</td>\n",
       "    </tr>\n",
       "    <tr>\n",
       "      <th>1009401</th>\n",
       "      <td>1</td>\n",
       "      <td>Yea, it's rare that you turn on the news and s...</td>\n",
       "      <td>haiduz</td>\n",
       "      <td>IAmA</td>\n",
       "      <td>5</td>\n",
       "      <td>5</td>\n",
       "      <td>0</td>\n",
       "      <td>2011-07</td>\n",
       "      <td>2011-07-27 21:23:41</td>\n",
       "      <td>Really, CNN could use any publicity it could g...</td>\n",
       "    </tr>\n",
       "    <tr>\n",
       "      <th>1010325</th>\n",
       "      <td>1</td>\n",
       "      <td>Probably not without our hero, Sara Palin, bei...</td>\n",
       "      <td>sirjoebob</td>\n",
       "      <td>pics</td>\n",
       "      <td>5</td>\n",
       "      <td>5</td>\n",
       "      <td>0</td>\n",
       "      <td>2009-08</td>\n",
       "      <td>2009-08-17 15:58:06</td>\n",
       "      <td>When can we start hunting them from helicopters?</td>\n",
       "    </tr>\n",
       "    <tr>\n",
       "      <th>1010775</th>\n",
       "      <td>1</td>\n",
       "      <td>Making it a Bad Thing, by definition.</td>\n",
       "      <td>graphictruth</td>\n",
       "      <td>pics</td>\n",
       "      <td>1</td>\n",
       "      <td>1</td>\n",
       "      <td>0</td>\n",
       "      <td>2009-09</td>\n",
       "      <td>2009-09-10 23:26:46</td>\n",
       "      <td>If no one is aware, multi culturalism is solel...</td>\n",
       "    </tr>\n",
       "  </tbody>\n",
       "</table>\n",
       "<p>256 rows × 10 columns</p>\n",
       "</div>"
      ],
      "text/plain": [
       "         label  ...                                     parent_comment\n",
       "10185        1  ...  TIL materials needed to produce a pair of $199...\n",
       "12357        1  ...                   This subreddit really does suck.\n",
       "15649        1  ...                  CONGRATS! YOU ARE AN INSPIRATION!\n",
       "23777        1  ...                   This subreddit really does suck.\n",
       "40133        0  ...                                                  F\n",
       "...        ...  ...                                                ...\n",
       "1008663      0  ...                                       STOP YELLING\n",
       "1009033      1  ...                                              What?\n",
       "1009401      1  ...  Really, CNN could use any publicity it could g...\n",
       "1010325      1  ...   When can we start hunting them from helicopters?\n",
       "1010775      1  ...  If no one is aware, multi culturalism is solel...\n",
       "\n",
       "[256 rows x 10 columns]"
      ]
     },
     "execution_count": 14,
     "metadata": {},
     "output_type": "execute_result"
    }
   ],
   "source": [
    "df[df.duplicated(subset=['comment','author','subreddit','parent_comment'])]"
   ]
  },
  {
   "cell_type": "markdown",
   "metadata": {
    "id": "QPYRkErbVm6K"
   },
   "source": [
    "There are 256 rows with duplicated comments\n"
   ]
  },
  {
   "cell_type": "code",
   "execution_count": 15,
   "metadata": {
    "colab": {
     "base_uri": "https://localhost:8080/",
     "height": 419
    },
    "executionInfo": {
     "elapsed": 2122,
     "status": "ok",
     "timestamp": 1636304541018,
     "user": {
      "displayName": "Chris Yew",
      "photoUrl": "https://lh3.googleusercontent.com/a/default-user=s64",
      "userId": "09518424203937384471"
     },
     "user_tz": -480
    },
    "id": "qRCWTkpOQUxp",
    "outputId": "64f876ba-793b-41dd-fc95-74936b47e78f"
   },
   "outputs": [
    {
     "data": {
      "text/html": [
       "<div>\n",
       "<style scoped>\n",
       "    .dataframe tbody tr th:only-of-type {\n",
       "        vertical-align: middle;\n",
       "    }\n",
       "\n",
       "    .dataframe tbody tr th {\n",
       "        vertical-align: top;\n",
       "    }\n",
       "\n",
       "    .dataframe thead th {\n",
       "        text-align: right;\n",
       "    }\n",
       "</style>\n",
       "<table border=\"1\" class=\"dataframe\">\n",
       "  <thead>\n",
       "    <tr style=\"text-align: right;\">\n",
       "      <th></th>\n",
       "      <th>label</th>\n",
       "      <th>comment</th>\n",
       "      <th>author</th>\n",
       "      <th>subreddit</th>\n",
       "      <th>score</th>\n",
       "      <th>ups</th>\n",
       "      <th>downs</th>\n",
       "      <th>date</th>\n",
       "      <th>created_utc</th>\n",
       "      <th>parent_comment</th>\n",
       "    </tr>\n",
       "  </thead>\n",
       "  <tbody>\n",
       "    <tr>\n",
       "      <th>0</th>\n",
       "      <td>0</td>\n",
       "      <td>NC and NH.</td>\n",
       "      <td>Trumpbart</td>\n",
       "      <td>politics</td>\n",
       "      <td>2</td>\n",
       "      <td>-1</td>\n",
       "      <td>-1</td>\n",
       "      <td>2016-10</td>\n",
       "      <td>2016-10-16 23:55:23</td>\n",
       "      <td>Yeah, I get that argument. At this point, I'd ...</td>\n",
       "    </tr>\n",
       "    <tr>\n",
       "      <th>1</th>\n",
       "      <td>0</td>\n",
       "      <td>You do know west teams play against west teams...</td>\n",
       "      <td>Shbshb906</td>\n",
       "      <td>nba</td>\n",
       "      <td>-4</td>\n",
       "      <td>-1</td>\n",
       "      <td>-1</td>\n",
       "      <td>2016-11</td>\n",
       "      <td>2016-11-01 00:24:10</td>\n",
       "      <td>The blazers and Mavericks (The wests 5 and 6 s...</td>\n",
       "    </tr>\n",
       "    <tr>\n",
       "      <th>2</th>\n",
       "      <td>0</td>\n",
       "      <td>They were underdogs earlier today, but since G...</td>\n",
       "      <td>Creepeth</td>\n",
       "      <td>nfl</td>\n",
       "      <td>3</td>\n",
       "      <td>3</td>\n",
       "      <td>0</td>\n",
       "      <td>2016-09</td>\n",
       "      <td>2016-09-22 21:45:37</td>\n",
       "      <td>They're favored to win.</td>\n",
       "    </tr>\n",
       "    <tr>\n",
       "      <th>3</th>\n",
       "      <td>0</td>\n",
       "      <td>This meme isn't funny none of the \"new york ni...</td>\n",
       "      <td>icebrotha</td>\n",
       "      <td>BlackPeopleTwitter</td>\n",
       "      <td>-8</td>\n",
       "      <td>-1</td>\n",
       "      <td>-1</td>\n",
       "      <td>2016-10</td>\n",
       "      <td>2016-10-18 21:03:47</td>\n",
       "      <td>deadass don't kill my buzz</td>\n",
       "    </tr>\n",
       "    <tr>\n",
       "      <th>4</th>\n",
       "      <td>0</td>\n",
       "      <td>I could use one of those tools.</td>\n",
       "      <td>cush2push</td>\n",
       "      <td>MaddenUltimateTeam</td>\n",
       "      <td>6</td>\n",
       "      <td>-1</td>\n",
       "      <td>-1</td>\n",
       "      <td>2016-12</td>\n",
       "      <td>2016-12-30 17:00:13</td>\n",
       "      <td>Yep can confirm I saw the tool they use for th...</td>\n",
       "    </tr>\n",
       "    <tr>\n",
       "      <th>...</th>\n",
       "      <td>...</td>\n",
       "      <td>...</td>\n",
       "      <td>...</td>\n",
       "      <td>...</td>\n",
       "      <td>...</td>\n",
       "      <td>...</td>\n",
       "      <td>...</td>\n",
       "      <td>...</td>\n",
       "      <td>...</td>\n",
       "      <td>...</td>\n",
       "    </tr>\n",
       "    <tr>\n",
       "      <th>1010821</th>\n",
       "      <td>1</td>\n",
       "      <td>I'm sure that Iran and N. Korea have the techn...</td>\n",
       "      <td>TwarkMain</td>\n",
       "      <td>reddit.com</td>\n",
       "      <td>2</td>\n",
       "      <td>2</td>\n",
       "      <td>0</td>\n",
       "      <td>2009-04</td>\n",
       "      <td>2009-04-25 00:47:52</td>\n",
       "      <td>No one is calling this an engineered pathogen,...</td>\n",
       "    </tr>\n",
       "    <tr>\n",
       "      <th>1010822</th>\n",
       "      <td>1</td>\n",
       "      <td>whatever you do, don't vote green!</td>\n",
       "      <td>BCHarvey</td>\n",
       "      <td>climate</td>\n",
       "      <td>1</td>\n",
       "      <td>1</td>\n",
       "      <td>0</td>\n",
       "      <td>2009-05</td>\n",
       "      <td>2009-05-14 22:27:40</td>\n",
       "      <td>In a move typical of their recent do-nothing a...</td>\n",
       "    </tr>\n",
       "    <tr>\n",
       "      <th>1010823</th>\n",
       "      <td>1</td>\n",
       "      <td>Perhaps this is an atheist conspiracy to make ...</td>\n",
       "      <td>rebelcommander</td>\n",
       "      <td>atheism</td>\n",
       "      <td>1</td>\n",
       "      <td>1</td>\n",
       "      <td>0</td>\n",
       "      <td>2009-01</td>\n",
       "      <td>2009-01-11 00:22:57</td>\n",
       "      <td>Screw the Disabled--I've got to get to Church ...</td>\n",
       "    </tr>\n",
       "    <tr>\n",
       "      <th>1010824</th>\n",
       "      <td>1</td>\n",
       "      <td>The Slavs got their own country - it is called...</td>\n",
       "      <td>catsi</td>\n",
       "      <td>worldnews</td>\n",
       "      <td>1</td>\n",
       "      <td>1</td>\n",
       "      <td>0</td>\n",
       "      <td>2009-01</td>\n",
       "      <td>2009-01-23 21:12:49</td>\n",
       "      <td>I've always been unsettled by that. I hear a l...</td>\n",
       "    </tr>\n",
       "    <tr>\n",
       "      <th>1010825</th>\n",
       "      <td>1</td>\n",
       "      <td>values, as in capitalism .. there is good mone...</td>\n",
       "      <td>frogking</td>\n",
       "      <td>politics</td>\n",
       "      <td>2</td>\n",
       "      <td>2</td>\n",
       "      <td>0</td>\n",
       "      <td>2009-01</td>\n",
       "      <td>2009-01-24 06:20:14</td>\n",
       "      <td>Why do the people who make our laws seem unabl...</td>\n",
       "    </tr>\n",
       "  </tbody>\n",
       "</table>\n",
       "<p>1010517 rows × 10 columns</p>\n",
       "</div>"
      ],
      "text/plain": [
       "         label  ...                                     parent_comment\n",
       "0            0  ...  Yeah, I get that argument. At this point, I'd ...\n",
       "1            0  ...  The blazers and Mavericks (The wests 5 and 6 s...\n",
       "2            0  ...                            They're favored to win.\n",
       "3            0  ...                         deadass don't kill my buzz\n",
       "4            0  ...  Yep can confirm I saw the tool they use for th...\n",
       "...        ...  ...                                                ...\n",
       "1010821      1  ...  No one is calling this an engineered pathogen,...\n",
       "1010822      1  ...  In a move typical of their recent do-nothing a...\n",
       "1010823      1  ...  Screw the Disabled--I've got to get to Church ...\n",
       "1010824      1  ...  I've always been unsettled by that. I hear a l...\n",
       "1010825      1  ...  Why do the people who make our laws seem unabl...\n",
       "\n",
       "[1010517 rows x 10 columns]"
      ]
     },
     "execution_count": 15,
     "metadata": {},
     "output_type": "execute_result"
    }
   ],
   "source": [
    "df = df.drop_duplicates(subset=['comment','author','subreddit','parent_comment'],keep='last')\n",
    "df"
   ]
  },
  {
   "cell_type": "markdown",
   "metadata": {
    "id": "pm-JMyISQzPh"
   },
   "source": [
    "We are left with 1010517 rows."
   ]
  },
  {
   "cell_type": "code",
   "execution_count": 16,
   "metadata": {
    "executionInfo": {
     "elapsed": 18,
     "status": "ok",
     "timestamp": 1636304541019,
     "user": {
      "displayName": "Chris Yew",
      "photoUrl": "https://lh3.googleusercontent.com/a/default-user=s64",
      "userId": "09518424203937384471"
     },
     "user_tz": -480
    },
    "id": "UEaojPlT8ok_"
   },
   "outputs": [],
   "source": [
    "#df['comment'].dropna"
   ]
  },
  {
   "cell_type": "code",
   "execution_count": 17,
   "metadata": {
    "executionInfo": {
     "elapsed": 658,
     "status": "ok",
     "timestamp": 1636304541660,
     "user": {
      "displayName": "Chris Yew",
      "photoUrl": "https://lh3.googleusercontent.com/a/default-user=s64",
      "userId": "09518424203937384471"
     },
     "user_tz": -480
    },
    "id": "hzeMyxzcIJqg"
   },
   "outputs": [],
   "source": [
    "df['comment'] = df['comment'].astype(str)"
   ]
  },
  {
   "cell_type": "code",
   "execution_count": 18,
   "metadata": {
    "colab": {
     "base_uri": "https://localhost:8080/",
     "height": 589
    },
    "executionInfo": {
     "elapsed": 18,
     "status": "ok",
     "timestamp": 1636304541662,
     "user": {
      "displayName": "Chris Yew",
      "photoUrl": "https://lh3.googleusercontent.com/a/default-user=s64",
      "userId": "09518424203937384471"
     },
     "user_tz": -480
    },
    "id": "p6b9kN8RIcPQ",
    "outputId": "b1cd735b-3e4b-4d37-85a4-4f5893db8fdf"
   },
   "outputs": [
    {
     "data": {
      "text/html": [
       "<div>\n",
       "<style scoped>\n",
       "    .dataframe tbody tr th:only-of-type {\n",
       "        vertical-align: middle;\n",
       "    }\n",
       "\n",
       "    .dataframe tbody tr th {\n",
       "        vertical-align: top;\n",
       "    }\n",
       "\n",
       "    .dataframe thead th {\n",
       "        text-align: right;\n",
       "    }\n",
       "</style>\n",
       "<table border=\"1\" class=\"dataframe\">\n",
       "  <thead>\n",
       "    <tr style=\"text-align: right;\">\n",
       "      <th></th>\n",
       "      <th>label</th>\n",
       "      <th>comment</th>\n",
       "      <th>author</th>\n",
       "      <th>subreddit</th>\n",
       "      <th>score</th>\n",
       "      <th>ups</th>\n",
       "      <th>downs</th>\n",
       "      <th>date</th>\n",
       "      <th>created_utc</th>\n",
       "      <th>parent_comment</th>\n",
       "      <th>og_comment</th>\n",
       "      <th>og_parentcomment</th>\n",
       "    </tr>\n",
       "  </thead>\n",
       "  <tbody>\n",
       "    <tr>\n",
       "      <th>0</th>\n",
       "      <td>0</td>\n",
       "      <td>NC and NH.</td>\n",
       "      <td>Trumpbart</td>\n",
       "      <td>politics</td>\n",
       "      <td>2</td>\n",
       "      <td>-1</td>\n",
       "      <td>-1</td>\n",
       "      <td>2016-10</td>\n",
       "      <td>2016-10-16 23:55:23</td>\n",
       "      <td>Yeah, I get that argument. At this point, I'd ...</td>\n",
       "      <td>NC and NH.</td>\n",
       "      <td>Yeah, I get that argument. At this point, I'd ...</td>\n",
       "    </tr>\n",
       "    <tr>\n",
       "      <th>1</th>\n",
       "      <td>0</td>\n",
       "      <td>You do know west teams play against west teams...</td>\n",
       "      <td>Shbshb906</td>\n",
       "      <td>nba</td>\n",
       "      <td>-4</td>\n",
       "      <td>-1</td>\n",
       "      <td>-1</td>\n",
       "      <td>2016-11</td>\n",
       "      <td>2016-11-01 00:24:10</td>\n",
       "      <td>The blazers and Mavericks (The wests 5 and 6 s...</td>\n",
       "      <td>You do know west teams play against west teams...</td>\n",
       "      <td>The blazers and Mavericks (The wests 5 and 6 s...</td>\n",
       "    </tr>\n",
       "    <tr>\n",
       "      <th>2</th>\n",
       "      <td>0</td>\n",
       "      <td>They were underdogs earlier today, but since G...</td>\n",
       "      <td>Creepeth</td>\n",
       "      <td>nfl</td>\n",
       "      <td>3</td>\n",
       "      <td>3</td>\n",
       "      <td>0</td>\n",
       "      <td>2016-09</td>\n",
       "      <td>2016-09-22 21:45:37</td>\n",
       "      <td>They're favored to win.</td>\n",
       "      <td>They were underdogs earlier today, but since G...</td>\n",
       "      <td>They're favored to win.</td>\n",
       "    </tr>\n",
       "    <tr>\n",
       "      <th>3</th>\n",
       "      <td>0</td>\n",
       "      <td>This meme isn't funny none of the \"new york ni...</td>\n",
       "      <td>icebrotha</td>\n",
       "      <td>BlackPeopleTwitter</td>\n",
       "      <td>-8</td>\n",
       "      <td>-1</td>\n",
       "      <td>-1</td>\n",
       "      <td>2016-10</td>\n",
       "      <td>2016-10-18 21:03:47</td>\n",
       "      <td>deadass don't kill my buzz</td>\n",
       "      <td>This meme isn't funny none of the \"new york ni...</td>\n",
       "      <td>deadass don't kill my buzz</td>\n",
       "    </tr>\n",
       "    <tr>\n",
       "      <th>4</th>\n",
       "      <td>0</td>\n",
       "      <td>I could use one of those tools.</td>\n",
       "      <td>cush2push</td>\n",
       "      <td>MaddenUltimateTeam</td>\n",
       "      <td>6</td>\n",
       "      <td>-1</td>\n",
       "      <td>-1</td>\n",
       "      <td>2016-12</td>\n",
       "      <td>2016-12-30 17:00:13</td>\n",
       "      <td>Yep can confirm I saw the tool they use for th...</td>\n",
       "      <td>I could use one of those tools.</td>\n",
       "      <td>Yep can confirm I saw the tool they use for th...</td>\n",
       "    </tr>\n",
       "    <tr>\n",
       "      <th>...</th>\n",
       "      <td>...</td>\n",
       "      <td>...</td>\n",
       "      <td>...</td>\n",
       "      <td>...</td>\n",
       "      <td>...</td>\n",
       "      <td>...</td>\n",
       "      <td>...</td>\n",
       "      <td>...</td>\n",
       "      <td>...</td>\n",
       "      <td>...</td>\n",
       "      <td>...</td>\n",
       "      <td>...</td>\n",
       "    </tr>\n",
       "    <tr>\n",
       "      <th>1010821</th>\n",
       "      <td>1</td>\n",
       "      <td>I'm sure that Iran and N. Korea have the techn...</td>\n",
       "      <td>TwarkMain</td>\n",
       "      <td>reddit.com</td>\n",
       "      <td>2</td>\n",
       "      <td>2</td>\n",
       "      <td>0</td>\n",
       "      <td>2009-04</td>\n",
       "      <td>2009-04-25 00:47:52</td>\n",
       "      <td>No one is calling this an engineered pathogen,...</td>\n",
       "      <td>I'm sure that Iran and N. Korea have the techn...</td>\n",
       "      <td>No one is calling this an engineered pathogen,...</td>\n",
       "    </tr>\n",
       "    <tr>\n",
       "      <th>1010822</th>\n",
       "      <td>1</td>\n",
       "      <td>whatever you do, don't vote green!</td>\n",
       "      <td>BCHarvey</td>\n",
       "      <td>climate</td>\n",
       "      <td>1</td>\n",
       "      <td>1</td>\n",
       "      <td>0</td>\n",
       "      <td>2009-05</td>\n",
       "      <td>2009-05-14 22:27:40</td>\n",
       "      <td>In a move typical of their recent do-nothing a...</td>\n",
       "      <td>whatever you do, don't vote green!</td>\n",
       "      <td>In a move typical of their recent do-nothing a...</td>\n",
       "    </tr>\n",
       "    <tr>\n",
       "      <th>1010823</th>\n",
       "      <td>1</td>\n",
       "      <td>Perhaps this is an atheist conspiracy to make ...</td>\n",
       "      <td>rebelcommander</td>\n",
       "      <td>atheism</td>\n",
       "      <td>1</td>\n",
       "      <td>1</td>\n",
       "      <td>0</td>\n",
       "      <td>2009-01</td>\n",
       "      <td>2009-01-11 00:22:57</td>\n",
       "      <td>Screw the Disabled--I've got to get to Church ...</td>\n",
       "      <td>Perhaps this is an atheist conspiracy to make ...</td>\n",
       "      <td>Screw the Disabled--I've got to get to Church ...</td>\n",
       "    </tr>\n",
       "    <tr>\n",
       "      <th>1010824</th>\n",
       "      <td>1</td>\n",
       "      <td>The Slavs got their own country - it is called...</td>\n",
       "      <td>catsi</td>\n",
       "      <td>worldnews</td>\n",
       "      <td>1</td>\n",
       "      <td>1</td>\n",
       "      <td>0</td>\n",
       "      <td>2009-01</td>\n",
       "      <td>2009-01-23 21:12:49</td>\n",
       "      <td>I've always been unsettled by that. I hear a l...</td>\n",
       "      <td>The Slavs got their own country - it is called...</td>\n",
       "      <td>I've always been unsettled by that. I hear a l...</td>\n",
       "    </tr>\n",
       "    <tr>\n",
       "      <th>1010825</th>\n",
       "      <td>1</td>\n",
       "      <td>values, as in capitalism .. there is good mone...</td>\n",
       "      <td>frogking</td>\n",
       "      <td>politics</td>\n",
       "      <td>2</td>\n",
       "      <td>2</td>\n",
       "      <td>0</td>\n",
       "      <td>2009-01</td>\n",
       "      <td>2009-01-24 06:20:14</td>\n",
       "      <td>Why do the people who make our laws seem unabl...</td>\n",
       "      <td>values, as in capitalism .. there is good mone...</td>\n",
       "      <td>Why do the people who make our laws seem unabl...</td>\n",
       "    </tr>\n",
       "  </tbody>\n",
       "</table>\n",
       "<p>1010517 rows × 12 columns</p>\n",
       "</div>"
      ],
      "text/plain": [
       "         label  ...                                   og_parentcomment\n",
       "0            0  ...  Yeah, I get that argument. At this point, I'd ...\n",
       "1            0  ...  The blazers and Mavericks (The wests 5 and 6 s...\n",
       "2            0  ...                            They're favored to win.\n",
       "3            0  ...                         deadass don't kill my buzz\n",
       "4            0  ...  Yep can confirm I saw the tool they use for th...\n",
       "...        ...  ...                                                ...\n",
       "1010821      1  ...  No one is calling this an engineered pathogen,...\n",
       "1010822      1  ...  In a move typical of their recent do-nothing a...\n",
       "1010823      1  ...  Screw the Disabled--I've got to get to Church ...\n",
       "1010824      1  ...  I've always been unsettled by that. I hear a l...\n",
       "1010825      1  ...  Why do the people who make our laws seem unabl...\n",
       "\n",
       "[1010517 rows x 12 columns]"
      ]
     },
     "execution_count": 18,
     "metadata": {},
     "output_type": "execute_result"
    }
   ],
   "source": [
    "df['parent_comment'] = df['parent_comment'].astype(str)\n",
    "df['og_comment'] = df['comment']\n",
    "df['og_parentcomment'] = df['parent_comment']\n",
    "df"
   ]
  },
  {
   "cell_type": "markdown",
   "metadata": {
    "id": "r4vaAmv91B3u"
   },
   "source": [
    "# Text preprocessing (for both comment and parent comment)"
   ]
  },
  {
   "cell_type": "code",
   "execution_count": 19,
   "metadata": {
    "colab": {
     "base_uri": "https://localhost:8080/"
    },
    "executionInfo": {
     "elapsed": 390,
     "status": "ok",
     "timestamp": 1636304542035,
     "user": {
      "displayName": "Chris Yew",
      "photoUrl": "https://lh3.googleusercontent.com/a/default-user=s64",
      "userId": "09518424203937384471"
     },
     "user_tz": -480
    },
    "id": "Jo-KQXWkVuoT",
    "outputId": "7a1e05b3-0e4c-4ad7-f80f-cbd0b0fc08d4"
   },
   "outputs": [
    {
     "name": "stdout",
     "output_type": "stream",
     "text": [
      "0 0\n"
     ]
    }
   ],
   "source": [
    "print(len(df[pd.isna(df[\"comment\"])]),len(df[pd.isna(df[\"parent_comment\"])]))\n"
   ]
  },
  {
   "cell_type": "code",
   "execution_count": 20,
   "metadata": {
    "executionInfo": {
     "elapsed": 1465,
     "status": "ok",
     "timestamp": 1636304543498,
     "user": {
      "displayName": "Chris Yew",
      "photoUrl": "https://lh3.googleusercontent.com/a/default-user=s64",
      "userId": "09518424203937384471"
     },
     "user_tz": -480
    },
    "id": "cF_fQifezVFn"
   },
   "outputs": [],
   "source": [
    "# 3.Lower case\n",
    "df['comment'] = df['comment'].str.lower()\n",
    "df['parent_comment'] = df['parent_comment'].str.lower()"
   ]
  },
  {
   "cell_type": "code",
   "execution_count": 21,
   "metadata": {
    "colab": {
     "base_uri": "https://localhost:8080/",
     "height": 35
    },
    "executionInfo": {
     "elapsed": 9,
     "status": "ok",
     "timestamp": 1636304543500,
     "user": {
      "displayName": "Chris Yew",
      "photoUrl": "https://lh3.googleusercontent.com/a/default-user=s64",
      "userId": "09518424203937384471"
     },
     "user_tz": -480
    },
    "id": "K5PKIWraYXaS",
    "outputId": "d26a14a3-9f24-4e0b-a607-bac7ef026151"
   },
   "outputs": [
    {
     "data": {
      "application/vnd.google.colaboratory.intrinsic+json": {
       "type": "string"
      },
      "text/plain": [
       "'they should have asked'"
      ]
     },
     "execution_count": 21,
     "metadata": {},
     "output_type": "execute_result"
    }
   ],
   "source": [
    "contractions = { \n",
    "\"ain't\":  \"is not\",\n",
    "\"aren't\": \"are not\",\n",
    "\"can't\": \"cannot\",\n",
    "\"can't've\": \"cannot have\",\n",
    "\"'cause\": \"because\",\n",
    "\"could've\": \"could have\",\n",
    "\"couldn't\": \"could not\",\n",
    "\"couldn't've\": \"could not have\",\n",
    "\"didn't\": \"did not\",\n",
    "\"doesn't\": \"does not\",\n",
    "\"don't\": \"do not\",\n",
    "\"hadn't\": \"had not\",\n",
    "\"hadn't've\": \"had not have\",\n",
    "\"hasn't\": \"has not\",\n",
    "\"haven't\": \"have not\",\n",
    "\"he'd\": \"he had\",\n",
    "\"he'd've\": \"he would have\",\n",
    "\"he'll\": \"he will\",\n",
    "\"he'll've\": \"he will have\",\n",
    "\"he's\": \"he is\",\n",
    "\"how'd\": \"how did\",\n",
    "\"how'd'y\": \"how do you\",\n",
    "\"how'll\": \"how will\",\n",
    "\"how's\": \"how is\",\n",
    "\"I'd\": \"I had\",\n",
    "\"I'd've\": \"I would have\",\n",
    "\"I'll\": \"I will\",\n",
    "\"I'll've\": \"I will have\",\n",
    "\"I'm\": \"I am\",\n",
    "\"I've\": \"I have\",\n",
    "\"isn't\": \"is not\",\n",
    "\"it'd\": \"it would\",\n",
    "\"it'd've\": \"it would have\",\n",
    "\"it'll\": \"it will\",\n",
    "\"it'll've\": \"it will have\",\n",
    "\"it's\": \"it is\",\n",
    "\"let's\": \"let us\",\n",
    "\"ma'am\": \"madam\",\n",
    "\"mayn't\": \"may not\",\n",
    "\"might've\": \"might have\",\n",
    "\"mightn't\": \"might not\",\n",
    "\"mightn't've\": \"might not have\",\n",
    "\"must've\": \"must have\",\n",
    "\"mustn't\": \"must not\",\n",
    "\"mustn't've\": \"must not have\",\n",
    "\"needn't\": \"need not\",\n",
    "\"needn't've\": \"need not have\",\n",
    "\"o'clock\": \"of the clock\",\n",
    "\"oughtn't\": \"ought not\",\n",
    "\"oughtn't've\": \"ought not have\",\n",
    "\"shan't\": \"shall not\",\n",
    "\"sha'n't\": \"shall not\",\n",
    "\"shan't've\": \"shall not have\",\n",
    "\"she'd\": \"she had\",\n",
    "\"she'd've\": \"she would have\",\n",
    "\"she'll\": \"she will\",\n",
    "\"she'll've\": \"she will have\",\n",
    "\"she's\": \"she is\",\n",
    "\"should've\": \"should have\",\n",
    "\"shouldn't\": \"should not\",\n",
    "\"shouldn't've\": \"should not have\",\n",
    "\"so've\": \"so have\",\n",
    "\"so's\": \"so is\",\n",
    "\"that'd\": \"that had\",\n",
    "\"that'd've\": \"that would have\",\n",
    "\"that's\": \"that is\",\n",
    "\"there'd\": \"there would\",\n",
    "\"there'd've\": \"there would have\",\n",
    "\"there's\": \"there is\",\n",
    "\"they'd\": \"they had\",\n",
    "\"they'd've\": \"they would have\",\n",
    "\"they'll\": \"they will\",\n",
    "\"they'll've\": \"they will have\",\n",
    "\"they're\": \"they are\",\n",
    "\"they've\": \"they have\",\n",
    "\"to've\": \"to have\",\n",
    "\"wasn't\": \"was not\",\n",
    "\"we'd\": \"we had\",\n",
    "\"we'd've\": \"we would have\",\n",
    "\"we'll\": \"we will\",\n",
    "\"we'll've\": \"we will have\",\n",
    "\"we're\": \"we are\",\n",
    "\"we've\": \"we have\",\n",
    "\"weren't\": \"were not\",\n",
    "\"what'll\": \"what will\",\n",
    "\"what'll've\": \"what will have\",\n",
    "\"what're\": \"what are\",\n",
    "\"what's\": \"what is\",\n",
    "\"what've\": \"what have\",\n",
    "\"when's\": \"when is\",\n",
    "\"when've\": \"when have\",\n",
    "\"where'd\": \"where did\",\n",
    "\"where's\": \"where is\",\n",
    "\"where've\": \"where have\",\n",
    "\"who'll\": \"who will\",\n",
    "\"who'll've\": \"who will have\",\n",
    "\"who's\": \"who is\",\n",
    "\"who've\": \"who have\",\n",
    "\"why's\": \"why is\",\n",
    "\"why've\": \"why have\",\n",
    "\"will've\": \"will have\",\n",
    "\"won't\": \"will not\",\n",
    "\"won't've\": \"will not have\",\n",
    "\"would've\": \"would have\",\n",
    "\"wouldn't\": \"would not\",\n",
    "\"wouldn't've\": \"would not have\",\n",
    "\"y'all\": \"you all\",\n",
    "\"y'all'd\": \"you all would\",\n",
    "\"y'all'd've\": \"you all would have\",\n",
    "\"y'all're\": \"you all are\",\n",
    "\"y'all've\": \"you all have\",\n",
    "\"you'd\": \"you had\",\n",
    "\"you'd've\": \"you would have\",\n",
    "\"you'll\": \"you will\",\n",
    "\"you'll've\": \"you will have\",\n",
    "\"you're\": \"you are\",\n",
    "\"you've\": \"you have\"\n",
    "}\n",
    "def expandContractions(sentence):\n",
    "  if type(sentence) == float:\n",
    "    quit()\n",
    "  text = sentence.split()\n",
    "  new_text = []\n",
    "  for word in text:\n",
    "    if word in contractions:\n",
    "      new_text.append(contractions[word])\n",
    "    else:\n",
    "      new_text.append(word)\n",
    "    text = \" \".join(new_text)\n",
    "  return text\n",
    "expandContractions(\"they should've asked\" )\n"
   ]
  },
  {
   "cell_type": "code",
   "execution_count": 22,
   "metadata": {
    "executionInfo": {
     "elapsed": 32432,
     "status": "ok",
     "timestamp": 1636304575926,
     "user": {
      "displayName": "Chris Yew",
      "photoUrl": "https://lh3.googleusercontent.com/a/default-user=s64",
      "userId": "09518424203937384471"
     },
     "user_tz": -480
    },
    "id": "YET6MYReYegX"
   },
   "outputs": [],
   "source": [
    "df['comment'] = df['comment'].apply(expandContractions)\n",
    "df['parent_comment'] = df['parent_comment'].apply(expandContractions)"
   ]
  },
  {
   "cell_type": "code",
   "execution_count": 23,
   "metadata": {
    "colab": {
     "base_uri": "https://localhost:8080/"
    },
    "executionInfo": {
     "elapsed": 20,
     "status": "ok",
     "timestamp": 1636304575928,
     "user": {
      "displayName": "Chris Yew",
      "photoUrl": "https://lh3.googleusercontent.com/a/default-user=s64",
      "userId": "09518424203937384471"
     },
     "user_tz": -480
    },
    "id": "g8lDx6aVVuoY",
    "outputId": "1c2f496d-d5cc-4214-f5f4-ab6d15b63017"
   },
   "outputs": [
    {
     "name": "stdout",
     "output_type": "stream",
     "text": [
      "0 0\n"
     ]
    }
   ],
   "source": [
    "print(len(df[pd.isna(df[\"comment\"])]),len(df[pd.isna(df[\"parent_comment\"])]))\n"
   ]
  },
  {
   "cell_type": "code",
   "execution_count": 24,
   "metadata": {
    "executionInfo": {
     "elapsed": 81361,
     "status": "ok",
     "timestamp": 1636304657273,
     "user": {
      "displayName": "Chris Yew",
      "photoUrl": "https://lh3.googleusercontent.com/a/default-user=s64",
      "userId": "09518424203937384471"
     },
     "user_tz": -480
    },
    "id": "hZAlMnkSEKSb"
   },
   "outputs": [],
   "source": [
    "# 4.removing stop words\n",
    "stop = stopwords.words('english')\n",
    "df['comment'] = df['comment'].apply(lambda x: ' '.join([word for word in x.split() if word not in (stop)]))\n",
    "df['parent_comment'] = df['parent_comment'].apply(lambda x: ' '.join([word for word in x.split() if word not in (stop)]))\n"
   ]
  },
  {
   "cell_type": "code",
   "execution_count": 25,
   "metadata": {
    "colab": {
     "base_uri": "https://localhost:8080/"
    },
    "executionInfo": {
     "elapsed": 18,
     "status": "ok",
     "timestamp": 1636304657273,
     "user": {
      "displayName": "Chris Yew",
      "photoUrl": "https://lh3.googleusercontent.com/a/default-user=s64",
      "userId": "09518424203937384471"
     },
     "user_tz": -480
    },
    "id": "Pt3o1OqIVuoY",
    "outputId": "64c2a176-4fcc-4d8d-87eb-946229a03426"
   },
   "outputs": [
    {
     "name": "stdout",
     "output_type": "stream",
     "text": [
      "0 0\n"
     ]
    }
   ],
   "source": [
    "print(len(df[pd.isna(df[\"comment\"])]),len(df[pd.isna(df[\"parent_comment\"])]))\n"
   ]
  },
  {
   "cell_type": "code",
   "execution_count": 26,
   "metadata": {
    "executionInfo": {
     "elapsed": 3239,
     "status": "ok",
     "timestamp": 1636304660497,
     "user": {
      "displayName": "Chris Yew",
      "photoUrl": "https://lh3.googleusercontent.com/a/default-user=s64",
      "userId": "09518424203937384471"
     },
     "user_tz": -480
    },
    "id": "irwFsmhNEKYi"
   },
   "outputs": [],
   "source": [
    "# 5.remove punctuations (dont remove punctuations if extracting emojis)\n",
    "df['comment'] = df['comment'].str.replace('[{}]'.format(string.punctuation), '')\n",
    "df['parent_comment'] = df['parent_comment'].str.replace('[{}]'.format(string.punctuation), '')"
   ]
  },
  {
   "cell_type": "code",
   "execution_count": 27,
   "metadata": {
    "colab": {
     "base_uri": "https://localhost:8080/"
    },
    "executionInfo": {
     "elapsed": 17,
     "status": "ok",
     "timestamp": 1636304660971,
     "user": {
      "displayName": "Chris Yew",
      "photoUrl": "https://lh3.googleusercontent.com/a/default-user=s64",
      "userId": "09518424203937384471"
     },
     "user_tz": -480
    },
    "id": "3NeQLxwFVuoZ",
    "outputId": "c6cc21bc-1242-4f59-960b-c3f3446b245f"
   },
   "outputs": [
    {
     "name": "stdout",
     "output_type": "stream",
     "text": [
      "0 0\n"
     ]
    }
   ],
   "source": [
    "print(len(df[pd.isna(df[\"comment\"])]),len(df[pd.isna(df[\"parent_comment\"])]))\n"
   ]
  },
  {
   "cell_type": "code",
   "execution_count": 28,
   "metadata": {
    "colab": {
     "base_uri": "https://localhost:8080/"
    },
    "executionInfo": {
     "elapsed": 2417,
     "status": "ok",
     "timestamp": 1636304663372,
     "user": {
      "displayName": "Chris Yew",
      "photoUrl": "https://lh3.googleusercontent.com/a/default-user=s64",
      "userId": "09518424203937384471"
     },
     "user_tz": -480
    },
    "id": "kQPASvP2EKcn",
    "outputId": "a40896eb-0525-4dfc-dc6b-9a9f07e9635f"
   },
   "outputs": [
    {
     "name": "stdout",
     "output_type": "stream",
     "text": [
      "['n', 'c', ' ', 'n', 'h']\n"
     ]
    }
   ],
   "source": [
    "# 6.removing single character  (only applicable for tf-idf, not sure about doc2vec)\n",
    "def split(word):\n",
    "    return [char for char in word]\n",
    "\n",
    "comment = 'nc nh'\n",
    "print(split(comment))\n",
    "\n",
    "def checkingSingle(comment):\n",
    "    if type(comment) == float:\n",
    "      quit()\n",
    "    if len(split(comment)) == 1:\n",
    "        return 1\n",
    "    else:\n",
    "        return comment\n",
    "\n",
    "df['comment'] = df['comment'].apply(checkingSingle)"
   ]
  },
  {
   "cell_type": "code",
   "execution_count": 29,
   "metadata": {
    "executionInfo": {
     "elapsed": 16,
     "status": "ok",
     "timestamp": 1636304663372,
     "user": {
      "displayName": "Chris Yew",
      "photoUrl": "https://lh3.googleusercontent.com/a/default-user=s64",
      "userId": "09518424203937384471"
     },
     "user_tz": -480
    },
    "id": "DUlZgdRFJsbV"
   },
   "outputs": [],
   "source": [
    "#df[df['comment'] == 1]"
   ]
  },
  {
   "cell_type": "code",
   "execution_count": 30,
   "metadata": {
    "executionInfo": {
     "elapsed": 16,
     "status": "ok",
     "timestamp": 1636304663373,
     "user": {
      "displayName": "Chris Yew",
      "photoUrl": "https://lh3.googleusercontent.com/a/default-user=s64",
      "userId": "09518424203937384471"
     },
     "user_tz": -480
    },
    "id": "bPynj0MvJsdX"
   },
   "outputs": [],
   "source": [
    "#removing 1313 single charcter comments\n",
    "df = df[df['comment'] != 1]\n"
   ]
  },
  {
   "cell_type": "code",
   "execution_count": 31,
   "metadata": {
    "colab": {
     "base_uri": "https://localhost:8080/"
    },
    "executionInfo": {
     "elapsed": 624,
     "status": "ok",
     "timestamp": 1636304663981,
     "user": {
      "displayName": "Chris Yew",
      "photoUrl": "https://lh3.googleusercontent.com/a/default-user=s64",
      "userId": "09518424203937384471"
     },
     "user_tz": -480
    },
    "id": "S-I3XG4rVuoZ",
    "outputId": "0ba5a25e-5826-4daf-b164-7e2e1de95905"
   },
   "outputs": [
    {
     "name": "stdout",
     "output_type": "stream",
     "text": [
      "0 0\n"
     ]
    }
   ],
   "source": [
    "print(len(df[pd.isna(df[\"comment\"])]),len(df[pd.isna(df[\"parent_comment\"])]))\n"
   ]
  },
  {
   "cell_type": "code",
   "execution_count": 32,
   "metadata": {
    "executionInfo": {
     "elapsed": 11,
     "status": "ok",
     "timestamp": 1636304663982,
     "user": {
      "displayName": "Chris Yew",
      "photoUrl": "https://lh3.googleusercontent.com/a/default-user=s64",
      "userId": "09518424203937384471"
     },
     "user_tz": -480
    },
    "id": "2hLHS2C8f3cH"
   },
   "outputs": [],
   "source": [
    "#7. Lemmatization \n",
    "# change, chaging, changed, changes => change \n",
    "lemmatizer = WordNetLemmatizer()"
   ]
  },
  {
   "cell_type": "code",
   "execution_count": 33,
   "metadata": {
    "colab": {
     "base_uri": "https://localhost:8080/",
     "height": 289
    },
    "executionInfo": {
     "elapsed": 13,
     "status": "ok",
     "timestamp": 1636304663984,
     "user": {
      "displayName": "Chris Yew",
      "photoUrl": "https://lh3.googleusercontent.com/a/default-user=s64",
      "userId": "09518424203937384471"
     },
     "user_tz": -480
    },
    "id": "FDZecDIfVuoa",
    "outputId": "7ac8a979-638a-418f-ff98-a3bbfb269fda"
   },
   "outputs": [
    {
     "data": {
      "text/html": [
       "<div>\n",
       "<style scoped>\n",
       "    .dataframe tbody tr th:only-of-type {\n",
       "        vertical-align: middle;\n",
       "    }\n",
       "\n",
       "    .dataframe tbody tr th {\n",
       "        vertical-align: top;\n",
       "    }\n",
       "\n",
       "    .dataframe thead th {\n",
       "        text-align: right;\n",
       "    }\n",
       "</style>\n",
       "<table border=\"1\" class=\"dataframe\">\n",
       "  <thead>\n",
       "    <tr style=\"text-align: right;\">\n",
       "      <th></th>\n",
       "      <th>label</th>\n",
       "      <th>comment</th>\n",
       "      <th>author</th>\n",
       "      <th>subreddit</th>\n",
       "      <th>score</th>\n",
       "      <th>ups</th>\n",
       "      <th>downs</th>\n",
       "      <th>date</th>\n",
       "      <th>created_utc</th>\n",
       "      <th>parent_comment</th>\n",
       "      <th>og_comment</th>\n",
       "      <th>og_parentcomment</th>\n",
       "    </tr>\n",
       "  </thead>\n",
       "  <tbody>\n",
       "    <tr>\n",
       "      <th>0</th>\n",
       "      <td>0</td>\n",
       "      <td>nc nh</td>\n",
       "      <td>Trumpbart</td>\n",
       "      <td>politics</td>\n",
       "      <td>2</td>\n",
       "      <td>-1</td>\n",
       "      <td>-1</td>\n",
       "      <td>2016-10</td>\n",
       "      <td>2016-10-16 23:55:23</td>\n",
       "      <td>yeah get argument point id prefer lived nc well</td>\n",
       "      <td>NC and NH.</td>\n",
       "      <td>Yeah, I get that argument. At this point, I'd ...</td>\n",
       "    </tr>\n",
       "    <tr>\n",
       "      <th>1</th>\n",
       "      <td>0</td>\n",
       "      <td>know west teams play west teams east teams right</td>\n",
       "      <td>Shbshb906</td>\n",
       "      <td>nba</td>\n",
       "      <td>-4</td>\n",
       "      <td>-1</td>\n",
       "      <td>-1</td>\n",
       "      <td>2016-11</td>\n",
       "      <td>2016-11-01 00:24:10</td>\n",
       "      <td>blazers mavericks the wests 5 6 seed even carr...</td>\n",
       "      <td>You do know west teams play against west teams...</td>\n",
       "      <td>The blazers and Mavericks (The wests 5 and 6 s...</td>\n",
       "    </tr>\n",
       "    <tr>\n",
       "      <th>2</th>\n",
       "      <td>0</td>\n",
       "      <td>underdogs earlier today since gronks announcem...</td>\n",
       "      <td>Creepeth</td>\n",
       "      <td>nfl</td>\n",
       "      <td>3</td>\n",
       "      <td>3</td>\n",
       "      <td>0</td>\n",
       "      <td>2016-09</td>\n",
       "      <td>2016-09-22 21:45:37</td>\n",
       "      <td>favored win</td>\n",
       "      <td>They were underdogs earlier today, but since G...</td>\n",
       "      <td>They're favored to win.</td>\n",
       "    </tr>\n",
       "    <tr>\n",
       "      <th>3</th>\n",
       "      <td>0</td>\n",
       "      <td>meme funny none new york nigga ones are</td>\n",
       "      <td>icebrotha</td>\n",
       "      <td>BlackPeopleTwitter</td>\n",
       "      <td>-8</td>\n",
       "      <td>-1</td>\n",
       "      <td>-1</td>\n",
       "      <td>2016-10</td>\n",
       "      <td>2016-10-18 21:03:47</td>\n",
       "      <td>deadass kill buzz</td>\n",
       "      <td>This meme isn't funny none of the \"new york ni...</td>\n",
       "      <td>deadass don't kill my buzz</td>\n",
       "    </tr>\n",
       "    <tr>\n",
       "      <th>4</th>\n",
       "      <td>0</td>\n",
       "      <td>could use one tools</td>\n",
       "      <td>cush2push</td>\n",
       "      <td>MaddenUltimateTeam</td>\n",
       "      <td>6</td>\n",
       "      <td>-1</td>\n",
       "      <td>-1</td>\n",
       "      <td>2016-12</td>\n",
       "      <td>2016-12-30 17:00:13</td>\n",
       "      <td>yep confirm saw tool use that made boy easport...</td>\n",
       "      <td>I could use one of those tools.</td>\n",
       "      <td>Yep can confirm I saw the tool they use for th...</td>\n",
       "    </tr>\n",
       "  </tbody>\n",
       "</table>\n",
       "</div>"
      ],
      "text/plain": [
       "   label  ...                                   og_parentcomment\n",
       "0      0  ...  Yeah, I get that argument. At this point, I'd ...\n",
       "1      0  ...  The blazers and Mavericks (The wests 5 and 6 s...\n",
       "2      0  ...                            They're favored to win.\n",
       "3      0  ...                         deadass don't kill my buzz\n",
       "4      0  ...  Yep can confirm I saw the tool they use for th...\n",
       "\n",
       "[5 rows x 12 columns]"
      ]
     },
     "execution_count": 33,
     "metadata": {},
     "output_type": "execute_result"
    }
   ],
   "source": [
    "df.head()"
   ]
  },
  {
   "cell_type": "code",
   "execution_count": 34,
   "metadata": {
    "colab": {
     "base_uri": "https://localhost:8080/"
    },
    "executionInfo": {
     "elapsed": 90100,
     "status": "ok",
     "timestamp": 1636304754072,
     "user": {
      "displayName": "Chris Yew",
      "photoUrl": "https://lh3.googleusercontent.com/a/default-user=s64",
      "userId": "09518424203937384471"
     },
     "user_tz": -480
    },
    "id": "JI1SeMABgblC",
    "outputId": "5dce5ac6-5bdb-4f11-abbd-dcac765e0200"
   },
   "outputs": [
    {
     "name": "stderr",
     "output_type": "stream",
     "text": [
      "/usr/local/lib/python3.7/dist-packages/ipykernel_launcher.py:1: SettingWithCopyWarning: \n",
      "A value is trying to be set on a copy of a slice from a DataFrame.\n",
      "Try using .loc[row_indexer,col_indexer] = value instead\n",
      "\n",
      "See the caveats in the documentation: https://pandas.pydata.org/pandas-docs/stable/user_guide/indexing.html#returning-a-view-versus-a-copy\n",
      "  \"\"\"Entry point for launching an IPython kernel.\n",
      "/usr/local/lib/python3.7/dist-packages/ipykernel_launcher.py:2: SettingWithCopyWarning: \n",
      "A value is trying to be set on a copy of a slice from a DataFrame.\n",
      "Try using .loc[row_indexer,col_indexer] = value instead\n",
      "\n",
      "See the caveats in the documentation: https://pandas.pydata.org/pandas-docs/stable/user_guide/indexing.html#returning-a-view-versus-a-copy\n",
      "  \n"
     ]
    }
   ],
   "source": [
    "df['comment'] = df[\"comment\"].apply(lambda x: ' '.join([lemmatizer.lemmatize(word)  for word in x.split()]))\n",
    "df['parent_comment'] = df[\"parent_comment\"].apply(lambda x: ' '.join([lemmatizer.lemmatize(word)  for word in x.split()]))"
   ]
  },
  {
   "cell_type": "code",
   "execution_count": 35,
   "metadata": {
    "colab": {
     "base_uri": "https://localhost:8080/"
    },
    "executionInfo": {
     "elapsed": 23,
     "status": "ok",
     "timestamp": 1636304754073,
     "user": {
      "displayName": "Chris Yew",
      "photoUrl": "https://lh3.googleusercontent.com/a/default-user=s64",
      "userId": "09518424203937384471"
     },
     "user_tz": -480
    },
    "id": "YkZi2zTqVuoa",
    "outputId": "91956fa7-f284-4caf-fae9-1f11d7cf0085"
   },
   "outputs": [
    {
     "name": "stdout",
     "output_type": "stream",
     "text": [
      "0 0\n"
     ]
    }
   ],
   "source": [
    "print(len(df[pd.isna(df[\"comment\"])]),len(df[pd.isna(df[\"parent_comment\"])]))\n"
   ]
  },
  {
   "cell_type": "markdown",
   "metadata": {
    "id": "bptDyPhMVor8"
   },
   "source": [
    "# Feature extraction"
   ]
  },
  {
   "cell_type": "code",
   "execution_count": 37,
   "metadata": {
    "colab": {
     "base_uri": "https://localhost:8080/"
    },
    "executionInfo": {
     "elapsed": 3550,
     "status": "ok",
     "timestamp": 1636304855158,
     "user": {
      "displayName": "Chris Yew",
      "photoUrl": "https://lh3.googleusercontent.com/a/default-user=s64",
      "userId": "09518424203937384471"
     },
     "user_tz": -480
    },
    "id": "L2cMasALXnDC",
    "outputId": "f3bcc2a8-dc56-4eb6-f329-f8a2f8077b0e"
   },
   "outputs": [
    {
     "name": "stdout",
     "output_type": "stream",
     "text": [
      "Collecting emot\n",
      "  Downloading emot-3.1-py3-none-any.whl (61 kB)\n",
      "\u001b[?25l\r",
      "\u001b[K     |█████▎                          | 10 kB 26.7 MB/s eta 0:00:01\r",
      "\u001b[K     |██████████▋                     | 20 kB 31.9 MB/s eta 0:00:01\r",
      "\u001b[K     |████████████████                | 30 kB 36.3 MB/s eta 0:00:01\r",
      "\u001b[K     |█████████████████████▎          | 40 kB 31.4 MB/s eta 0:00:01\r",
      "\u001b[K     |██████████████████████████▋     | 51 kB 19.1 MB/s eta 0:00:01\r",
      "\u001b[K     |████████████████████████████████| 61 kB 12.5 MB/s eta 0:00:01\r",
      "\u001b[K     |████████████████████████████████| 61 kB 18 kB/s \n",
      "\u001b[?25hInstalling collected packages: emot\n",
      "Successfully installed emot-3.1\n"
     ]
    }
   ],
   "source": [
    "!pip install emot"
   ]
  },
  {
   "cell_type": "code",
   "execution_count": 38,
   "metadata": {
    "executionInfo": {
     "elapsed": 563,
     "status": "ok",
     "timestamp": 1636304860458,
     "user": {
      "displayName": "Chris Yew",
      "photoUrl": "https://lh3.googleusercontent.com/a/default-user=s64",
      "userId": "09518424203937384471"
     },
     "user_tz": -480
    },
    "id": "pd30-vhoKNOH"
   },
   "outputs": [],
   "source": [
    "#7. Extracting emojis\n",
    "\n",
    "#counting the number of emojis\n",
    "# Sarcastic Emoji are ones sometimes used with sarcastic or ironical statements (e.g., \":P\").\n",
    "#!pip install emot\n",
    "from emot.emo_unicode import EMOTICONS_EMO\n",
    "all_emoticons = list(EMOTICONS_EMO.keys())"
   ]
  },
  {
   "cell_type": "code",
   "execution_count": 39,
   "metadata": {
    "executionInfo": {
     "elapsed": 4,
     "status": "ok",
     "timestamp": 1636304860949,
     "user": {
      "displayName": "Chris Yew",
      "photoUrl": "https://lh3.googleusercontent.com/a/default-user=s64",
      "userId": "09518424203937384471"
     },
     "user_tz": -480
    },
    "id": "rrIkmkg1KNMA"
   },
   "outputs": [],
   "source": [
    "def emoji_counter(sentence):\n",
    "    count = 0\n",
    "    for word in sentence.split():\n",
    "        if word in all_emoticons:\n",
    "            count += 1\n",
    "    return count\n",
    "    "
   ]
  },
  {
   "cell_type": "code",
   "execution_count": 40,
   "metadata": {
    "colab": {
     "base_uri": "https://localhost:8080/"
    },
    "executionInfo": {
     "elapsed": 38571,
     "status": "ok",
     "timestamp": 1636304899515,
     "user": {
      "displayName": "Chris Yew",
      "photoUrl": "https://lh3.googleusercontent.com/a/default-user=s64",
      "userId": "09518424203937384471"
     },
     "user_tz": -480
    },
    "id": "Kwg5PF3qUQiB",
    "outputId": "be7d13c3-f02c-4edb-bd8a-8b18badb98f1"
   },
   "outputs": [
    {
     "name": "stderr",
     "output_type": "stream",
     "text": [
      "/usr/local/lib/python3.7/dist-packages/ipykernel_launcher.py:1: SettingWithCopyWarning: \n",
      "A value is trying to be set on a copy of a slice from a DataFrame.\n",
      "Try using .loc[row_indexer,col_indexer] = value instead\n",
      "\n",
      "See the caveats in the documentation: https://pandas.pydata.org/pandas-docs/stable/user_guide/indexing.html#returning-a-view-versus-a-copy\n",
      "  \"\"\"Entry point for launching an IPython kernel.\n"
     ]
    }
   ],
   "source": [
    "df['emoticon_count'] = df['og_comment'].apply(lambda x: emoji_counter(x))"
   ]
  },
  {
   "cell_type": "code",
   "execution_count": 41,
   "metadata": {
    "colab": {
     "base_uri": "https://localhost:8080/"
    },
    "executionInfo": {
     "elapsed": 14,
     "status": "ok",
     "timestamp": 1636304899516,
     "user": {
      "displayName": "Chris Yew",
      "photoUrl": "https://lh3.googleusercontent.com/a/default-user=s64",
      "userId": "09518424203937384471"
     },
     "user_tz": -480
    },
    "id": "1H6JEayNei4Q",
    "outputId": "404f0ca1-58eb-4eea-c92b-3706e50a2182"
   },
   "outputs": [
    {
     "name": "stdout",
     "output_type": "stream",
     "text": [
      "proportion of sarcastic comments among all comments that contain emojis: 0.20370782350760103\n"
     ]
    },
    {
     "data": {
      "text/plain": [
       "175305"
      ]
     },
     "execution_count": 41,
     "metadata": {},
     "output_type": "execute_result"
    }
   ],
   "source": [
    "#check proportion of comments with emojis that are labelled 1\n",
    "proportion = df.loc[(df['emoticon_count'] > 0) & (df['label'] == 1)].size / df.loc[df['emoticon_count'] > 0].size\n",
    "print(f'proportion of sarcastic comments among all comments that contain emojis: {proportion}')\n",
    "df.loc[df['emoticon_count'] > 0].size"
   ]
  },
  {
   "cell_type": "code",
   "execution_count": 42,
   "metadata": {
    "colab": {
     "base_uri": "https://localhost:8080/"
    },
    "executionInfo": {
     "elapsed": 1508,
     "status": "ok",
     "timestamp": 1636304901012,
     "user": {
      "displayName": "Chris Yew",
      "photoUrl": "https://lh3.googleusercontent.com/a/default-user=s64",
      "userId": "09518424203937384471"
     },
     "user_tz": -480
    },
    "id": "KmDUd_mBei4Q",
    "outputId": "25ac1496-a1fc-48d2-a9f3-2bdbb4eee540"
   },
   "outputs": [
    {
     "data": {
      "text/plain": [
       "[(';)', 495),\n",
       " (':(', 487),\n",
       " (':)', 464),\n",
       " (':D', 318),\n",
       " (':P', 224),\n",
       " ('XD', 201),\n",
       " (':/', 119),\n",
       " (':O', 71),\n",
       " (\":'(\", 62),\n",
       " ('XP', 54),\n",
       " ('D:', 49),\n",
       " (':^)', 44),\n",
       " (':-)', 40),\n",
       " (':3', 31),\n",
       " (':o', 23),\n",
       " (':c', 18),\n",
       " (\":')\", 17),\n",
       " (';_;', 16),\n",
       " (':-(', 15),\n",
       " ('=)', 13),\n",
       " ('QQ', 13),\n",
       " (':|', 12),\n",
       " (':)))', 9),\n",
       " ('=D', 9),\n",
       " (';D', 9),\n",
       " (';-;', 9),\n",
       " (':S', 7),\n",
       " (':))', 6),\n",
       " (':]', 6),\n",
       " ('=]', 5),\n",
       " (':@', 4),\n",
       " ('DX', 4),\n",
       " ('=/', 3),\n",
       " ('^_^', 3),\n",
       " ('Q.Q', 3),\n",
       " (':[', 2),\n",
       " (':b', 2),\n",
       " (':L', 2),\n",
       " (':x', 2),\n",
       " ('o.O', 2),\n",
       " (':}', 1),\n",
       " (':{', 1),\n",
       " ('D;', 1),\n",
       " (':*', 1),\n",
       " (';]', 1),\n",
       " (';^)', 1),\n",
       " (':$', 1),\n",
       " (';n;', 1),\n",
       " ('T.T', 1),\n",
       " ('oO', 1),\n",
       " (':‑)', 0),\n",
       " (':-))', 0),\n",
       " (':-)))', 0),\n",
       " (':-]', 0),\n",
       " (':-3', 0),\n",
       " (':->', 0),\n",
       " (':>', 0),\n",
       " ('8-)', 0),\n",
       " (':o)', 0),\n",
       " (':-}', 0),\n",
       " (':c)', 0),\n",
       " (':‑D', 0),\n",
       " ('8‑D', 0),\n",
       " ('8D', 0),\n",
       " ('X‑D', 0),\n",
       " ('=3', 0),\n",
       " ('B^D', 0),\n",
       " (':‑(', 0),\n",
       " (':‑c', 0),\n",
       " (':‑<', 0),\n",
       " (':<', 0),\n",
       " (':‑[', 0),\n",
       " (':-||', 0),\n",
       " ('>:[', 0),\n",
       " ('>:(', 0),\n",
       " (\":'‑(\", 0),\n",
       " (\":'‑)\", 0),\n",
       " (\"D‑':\", 0),\n",
       " ('D:<', 0),\n",
       " ('D8', 0),\n",
       " ('D=', 0),\n",
       " (':‑O', 0),\n",
       " (':‑o', 0),\n",
       " (':-0', 0),\n",
       " ('8‑0', 0),\n",
       " ('>:O', 0),\n",
       " (':-*', 0),\n",
       " (':X', 0),\n",
       " (';‑)', 0),\n",
       " ('*-)', 0),\n",
       " ('*)', 0),\n",
       " (';‑]', 0),\n",
       " (':‑,', 0),\n",
       " (':‑P', 0),\n",
       " ('X‑P', 0),\n",
       " (':‑Þ', 0),\n",
       " (':Þ', 0),\n",
       " ('d:', 0),\n",
       " ('=p', 0),\n",
       " ('>:P', 0),\n",
       " (':‑/', 0),\n",
       " (':-[.]', 0),\n",
       " ('>:[(\\\\)]', 0),\n",
       " ('>:/', 0),\n",
       " (':[(\\\\)]', 0),\n",
       " ('=[(\\\\)]', 0),\n",
       " ('=L', 0),\n",
       " (':‑|', 0),\n",
       " (':‑x', 0),\n",
       " (':‑#', 0),\n",
       " (':#', 0),\n",
       " (':‑&', 0),\n",
       " (':&', 0),\n",
       " ('O:‑)', 0),\n",
       " ('O:)', 0),\n",
       " ('0:‑3', 0),\n",
       " ('0:3', 0),\n",
       " ('0:‑)', 0),\n",
       " ('0:)', 0),\n",
       " (':‑b', 0),\n",
       " ('0;^)', 0),\n",
       " ('>:‑)', 0),\n",
       " ('>:)', 0),\n",
       " ('}:‑)', 0),\n",
       " ('}:)', 0),\n",
       " ('3:‑)', 0),\n",
       " ('3:)', 0),\n",
       " ('>;)', 0),\n",
       " ('|;‑)', 0),\n",
       " ('|‑O', 0),\n",
       " (':‑J', 0),\n",
       " ('#‑)', 0),\n",
       " ('%‑)', 0),\n",
       " ('%)', 0),\n",
       " (':-###..', 0),\n",
       " (':###..', 0),\n",
       " ('<:‑|', 0),\n",
       " ('(>_<)', 0),\n",
       " ('(>_<)>', 0),\n",
       " (\"(';')\", 0),\n",
       " ('(^^>``', 0),\n",
       " ('(^_^;)', 0),\n",
       " ('(-_-;)', 0),\n",
       " ('(~_~;) (・.・;)', 0),\n",
       " ('(-_-)zzz', 0),\n",
       " ('(^_-)', 0),\n",
       " ('((+_+))', 0),\n",
       " ('(+o+)', 0),\n",
       " ('(o|o)', 0),\n",
       " ('(^_^)/', 0),\n",
       " ('(^O^)／', 0),\n",
       " ('(^o^)／', 0),\n",
       " ('(__)', 0),\n",
       " ('_(._.)_', 0),\n",
       " ('<(_ _)>', 0),\n",
       " ('<m(__)m>', 0),\n",
       " ('m(__)m', 0),\n",
       " ('m(_ _)m', 0),\n",
       " (\"('_')\", 0),\n",
       " ('(/_;)', 0),\n",
       " ('(T_T) (;_;)', 0),\n",
       " ('(;_;', 0),\n",
       " ('(;_:)', 0),\n",
       " ('(;O;)', 0),\n",
       " ('(:_;)', 0),\n",
       " ('(ToT)', 0),\n",
       " (';;', 0),\n",
       " ('Q_Q', 0),\n",
       " ('(-.-)', 0),\n",
       " ('(-_-)', 0),\n",
       " ('(一一)', 0),\n",
       " ('(；一_一)', 0),\n",
       " ('(=_=)', 0),\n",
       " ('(=^·^=)', 0),\n",
       " ('(=^··^=)', 0),\n",
       " ('=_^= ', 0),\n",
       " ('(..)', 0),\n",
       " ('(._.)', 0),\n",
       " ('^m^', 0),\n",
       " ('(・・?', 0),\n",
       " ('(?_?)', 0),\n",
       " ('>^_^<', 0),\n",
       " ('<^!^>', 0),\n",
       " ('^/^', 0),\n",
       " ('（*^_^*）', 0),\n",
       " ('(^<^) (^.^)', 0),\n",
       " ('(^^)', 0),\n",
       " ('(^.^)', 0),\n",
       " ('(^_^.)', 0),\n",
       " ('(^_^)', 0),\n",
       " ('(^J^)', 0),\n",
       " ('(*^.^*)', 0),\n",
       " ('(^—^）', 0),\n",
       " ('(#^.^#)', 0),\n",
       " ('（^—^）', 0),\n",
       " ('(;_;)/~~~', 0),\n",
       " ('(^.^)/~~~', 0),\n",
       " ('(-_-)/~~~ ($··)/~~~', 0),\n",
       " ('(T_T)/~~~', 0),\n",
       " ('(ToT)/~~~', 0),\n",
       " ('(*^0^*)', 0),\n",
       " ('(*_*)', 0),\n",
       " ('(*_*;', 0),\n",
       " ('(+_+) (@_@)', 0),\n",
       " ('(*^^)v', 0),\n",
       " ('(^_^)v', 0),\n",
       " ('((d[-_-]b))', 0),\n",
       " ('(-\"-)', 0),\n",
       " ('(ーー;)', 0),\n",
       " ('(^0_0^)', 0),\n",
       " ('(＾ｖ＾)', 0),\n",
       " ('(＾ｕ＾)', 0),\n",
       " ('(^)o(^)', 0),\n",
       " ('(^O^)', 0),\n",
       " ('(^o^)', 0),\n",
       " (')^o^(', 0),\n",
       " (':O o_O', 0),\n",
       " ('o_0', 0),\n",
       " ('(o.o)', 0),\n",
       " ('(*￣m￣)', 0),\n",
       " ('(‘A`)', 0)]"
      ]
     },
     "execution_count": 42,
     "metadata": {},
     "output_type": "execute_result"
    }
   ],
   "source": [
    "#check most popular emojis used for sarcastic comments\n",
    "emoji_dict = {emoji:0 for emoji in all_emoticons}\n",
    "for comment in df.loc[df['label'] == 1]['og_comment']:\n",
    "    for word in comment.split():\n",
    "        if word in emoji_dict:\n",
    "            emoji_dict[word] += 1\n",
    "            \n",
    "sorted(emoji_dict.items(), key=lambda x: x[1], reverse=True)"
   ]
  },
  {
   "cell_type": "code",
   "execution_count": 43,
   "metadata": {
    "colab": {
     "base_uri": "https://localhost:8080/"
    },
    "executionInfo": {
     "elapsed": 4766,
     "status": "ok",
     "timestamp": 1636304905775,
     "user": {
      "displayName": "Chris Yew",
      "photoUrl": "https://lh3.googleusercontent.com/a/default-user=s64",
      "userId": "09518424203937384471"
     },
     "user_tz": -480
    },
    "id": "0F4bJpE8XLNz",
    "outputId": "d795d62e-3254-490d-9967-3f901c3c1090"
   },
   "outputs": [
    {
     "name": "stderr",
     "output_type": "stream",
     "text": [
      "/usr/local/lib/python3.7/dist-packages/ipykernel_launcher.py:9: SettingWithCopyWarning: \n",
      "A value is trying to be set on a copy of a slice from a DataFrame.\n",
      "Try using .loc[row_indexer,col_indexer] = value instead\n",
      "\n",
      "See the caveats in the documentation: https://pandas.pydata.org/pandas-docs/stable/user_guide/indexing.html#returning-a-view-versus-a-copy\n",
      "  if __name__ == '__main__':\n"
     ]
    }
   ],
   "source": [
    "#8. Extracting exlamation mark\n",
    "def exclaim_counter(sentence):\n",
    "    count = 0\n",
    "    for i in range(len(sentence)):\n",
    "        if sentence[i] == '!':\n",
    "            count += 1\n",
    "    return count\n",
    "\n",
    "df['exclaim_count'] = df['og_comment'].apply(lambda x: exclaim_counter(x))"
   ]
  },
  {
   "cell_type": "code",
   "execution_count": 44,
   "metadata": {
    "colab": {
     "base_uri": "https://localhost:8080/"
    },
    "executionInfo": {
     "elapsed": 4742,
     "status": "ok",
     "timestamp": 1636304910513,
     "user": {
      "displayName": "Chris Yew",
      "photoUrl": "https://lh3.googleusercontent.com/a/default-user=s64",
      "userId": "09518424203937384471"
     },
     "user_tz": -480
    },
    "id": "8mq_nWiuUQo7",
    "outputId": "191fc859-ff6f-4205-9bf8-4568f3287a09"
   },
   "outputs": [
    {
     "name": "stderr",
     "output_type": "stream",
     "text": [
      "/usr/local/lib/python3.7/dist-packages/ipykernel_launcher.py:8: SettingWithCopyWarning: \n",
      "A value is trying to be set on a copy of a slice from a DataFrame.\n",
      "Try using .loc[row_indexer,col_indexer] = value instead\n",
      "\n",
      "See the caveats in the documentation: https://pandas.pydata.org/pandas-docs/stable/user_guide/indexing.html#returning-a-view-versus-a-copy\n",
      "  \n"
     ]
    }
   ],
   "source": [
    "#9. Extracting question mark\n",
    "def qns_mark_counter(sentence):\n",
    "    count = 0\n",
    "    for i in range(len(sentence)):\n",
    "        if sentence[i] == '?':\n",
    "            count += 1\n",
    "    return count\n",
    "df['qns_mark_count'] = df['og_comment'].apply(lambda x: qns_mark_counter(x))"
   ]
  },
  {
   "cell_type": "code",
   "execution_count": 45,
   "metadata": {
    "colab": {
     "base_uri": "https://localhost:8080/"
    },
    "executionInfo": {
     "elapsed": 1868,
     "status": "ok",
     "timestamp": 1636304912377,
     "user": {
      "displayName": "Chris Yew",
      "photoUrl": "https://lh3.googleusercontent.com/a/default-user=s64",
      "userId": "09518424203937384471"
     },
     "user_tz": -480
    },
    "id": "HTCJFd6pUQqn",
    "outputId": "2b6e9bb5-7d44-44f0-bbcc-0ab8669d4a45"
   },
   "outputs": [
    {
     "name": "stderr",
     "output_type": "stream",
     "text": [
      "/usr/local/lib/python3.7/dist-packages/ipykernel_launcher.py:8: SettingWithCopyWarning: \n",
      "A value is trying to be set on a copy of a slice from a DataFrame.\n",
      "Try using .loc[row_indexer,col_indexer] = value instead\n",
      "\n",
      "See the caveats in the documentation: https://pandas.pydata.org/pandas-docs/stable/user_guide/indexing.html#returning-a-view-versus-a-copy\n",
      "  \n"
     ]
    }
   ],
   "source": [
    "#10. Extracting ellipses\n",
    "def ellipses_counter(sentence):\n",
    "    count = 0\n",
    "    for word in sentence.split():\n",
    "        if '...' in word:\n",
    "            count += 1\n",
    "    return count\n",
    "df['ellipses_mark_count'] = df['og_comment'].apply(lambda x: ellipses_counter(x))"
   ]
  },
  {
   "cell_type": "code",
   "execution_count": 46,
   "metadata": {
    "colab": {
     "base_uri": "https://localhost:8080/"
    },
    "executionInfo": {
     "elapsed": 834733,
     "status": "ok",
     "timestamp": 1636305747108,
     "user": {
      "displayName": "Chris Yew",
      "photoUrl": "https://lh3.googleusercontent.com/a/default-user=s64",
      "userId": "09518424203937384471"
     },
     "user_tz": -480
    },
    "id": "GEZSW98ebHaU",
    "outputId": "e305c1fd-2957-41c9-c34a-a7462058df23"
   },
   "outputs": [
    {
     "name": "stderr",
     "output_type": "stream",
     "text": [
      "/usr/local/lib/python3.7/dist-packages/ipykernel_launcher.py:11: SettingWithCopyWarning: \n",
      "A value is trying to be set on a copy of a slice from a DataFrame.\n",
      "Try using .loc[row_indexer,col_indexer] = value instead\n",
      "\n",
      "See the caveats in the documentation: https://pandas.pydata.org/pandas-docs/stable/user_guide/indexing.html#returning-a-view-versus-a-copy\n",
      "  # This is added back by InteractiveShellApp.init_path()\n"
     ]
    }
   ],
   "source": [
    "#11. Extracting interjection\n",
    "from nltk import pos_tag\n",
    "\n",
    "def interjection_counter(sentence):\n",
    "    count = 0\n",
    "    tagged_sentence = pos_tag(word_tokenize(sentence))\n",
    "    for tuples in tagged_sentence:\n",
    "        if tuples[1] == 'UH':\n",
    "            count += 1\n",
    "    return count\n",
    "df['interjection_count'] = df['og_comment'].apply(lambda x: interjection_counter(x))"
   ]
  },
  {
   "cell_type": "code",
   "execution_count": 47,
   "metadata": {
    "colab": {
     "base_uri": "https://localhost:8080/"
    },
    "executionInfo": {
     "elapsed": 10363,
     "status": "ok",
     "timestamp": 1636305757465,
     "user": {
      "displayName": "Chris Yew",
      "photoUrl": "https://lh3.googleusercontent.com/a/default-user=s64",
      "userId": "09518424203937384471"
     },
     "user_tz": -480
    },
    "id": "rLhjCXpMbHb9",
    "outputId": "81b91b43-531a-4bf9-d05c-22f2b617a413"
   },
   "outputs": [
    {
     "name": "stderr",
     "output_type": "stream",
     "text": [
      "/usr/local/lib/python3.7/dist-packages/ipykernel_launcher.py:14: SettingWithCopyWarning: \n",
      "A value is trying to be set on a copy of a slice from a DataFrame.\n",
      "Try using .loc[row_indexer,col_indexer] = value instead\n",
      "\n",
      "See the caveats in the documentation: https://pandas.pydata.org/pandas-docs/stable/user_guide/indexing.html#returning-a-view-versus-a-copy\n",
      "  \n"
     ]
    }
   ],
   "source": [
    "#12. Extracting laughter words\n",
    "import string\n",
    "import re\n",
    "def laughter_num(sentence): \n",
    "    count = 0\n",
    "    sentence = re.sub(r'[^\\w\\s]','',sentence).lower()\n",
    "    laughter_words = ['lol', 'lhh', 'jk', 'wow', 'kidding', 'ha ha', 'haha', 'rofl', 'roflmao', 'lmao', 'wtf']\n",
    "    for word in sentence.split(): \n",
    "        for lword in laughter_words:\n",
    "            if lword in word:\n",
    "                count += 1\n",
    "                break\n",
    "    return count\n",
    "df['laughter_words_count'] = df['og_comment'].apply(lambda x: laughter_num(x))"
   ]
  },
  {
   "cell_type": "code",
   "execution_count": 48,
   "metadata": {
    "colab": {
     "base_uri": "https://localhost:8080/"
    },
    "executionInfo": {
     "elapsed": 4406,
     "status": "ok",
     "timestamp": 1636305761855,
     "user": {
      "displayName": "Chris Yew",
      "photoUrl": "https://lh3.googleusercontent.com/a/default-user=s64",
      "userId": "09518424203937384471"
     },
     "user_tz": -480
    },
    "id": "tU4GWXiebHde",
    "outputId": "f24f84a9-a5e0-4dd1-90a4-93e65ee2a424"
   },
   "outputs": [
    {
     "name": "stderr",
     "output_type": "stream",
     "text": [
      "/usr/local/lib/python3.7/dist-packages/ipykernel_launcher.py:11: SettingWithCopyWarning: \n",
      "A value is trying to be set on a copy of a slice from a DataFrame.\n",
      "Try using .loc[row_indexer,col_indexer] = value instead\n",
      "\n",
      "See the caveats in the documentation: https://pandas.pydata.org/pandas-docs/stable/user_guide/indexing.html#returning-a-view-versus-a-copy\n",
      "  # This is added back by InteractiveShellApp.init_path()\n"
     ]
    }
   ],
   "source": [
    "#13. Extracting fully captilatized word\n",
    "#fully capitalized words\n",
    "def capitalized_word_counter(sentence):\n",
    "    capitalized_word_wount = 0\n",
    "    sentence = re.sub(r'[^\\w\\s]','',sentence)\n",
    "    for word in sentence.split():\n",
    "        if word.isupper() and len(word) > 1:\n",
    "            capitalized_word_wount += 1\n",
    "    return capitalized_word_wount\n",
    "\n",
    "df['capitalized_word_count'] = df['og_comment'].apply(lambda x: capitalized_word_counter(x))"
   ]
  },
  {
   "cell_type": "code",
   "execution_count": 49,
   "metadata": {
    "executionInfo": {
     "elapsed": 16,
     "status": "ok",
     "timestamp": 1636305761855,
     "user": {
      "displayName": "Chris Yew",
      "photoUrl": "https://lh3.googleusercontent.com/a/default-user=s64",
      "userId": "09518424203937384471"
     },
     "user_tz": -480
    },
    "id": "r04wd5gQbHfW"
   },
   "outputs": [],
   "source": [
    "#14. Extracting partially caps words\n",
    "def partial_cap(sentence):\n",
    "    count = 0\n",
    "    sentence = re.sub(r'[^\\w\\s]',' ',sentence)\n",
    "    for word in sentence.split():\n",
    "        if word.isupper():\n",
    "            continue\n",
    "        word_count = 0\n",
    "        for i in range(len(word)):\n",
    "            if i == 0:\n",
    "                continue\n",
    "            if word[i].isupper():\n",
    "                word_count += 1\n",
    "        if (word_count > 1 or word_count >= ((len(word))//2)) and word_count > 0:\n",
    "            count += 1\n",
    "    return count"
   ]
  },
  {
   "cell_type": "code",
   "execution_count": 50,
   "metadata": {
    "colab": {
     "base_uri": "https://localhost:8080/"
    },
    "executionInfo": {
     "elapsed": 14638,
     "status": "ok",
     "timestamp": 1636305776479,
     "user": {
      "displayName": "Chris Yew",
      "photoUrl": "https://lh3.googleusercontent.com/a/default-user=s64",
      "userId": "09518424203937384471"
     },
     "user_tz": -480
    },
    "id": "2qaETAQqo2tL",
    "outputId": "47bc4cba-b13b-4c98-cfa6-959117645934"
   },
   "outputs": [
    {
     "name": "stderr",
     "output_type": "stream",
     "text": [
      "/usr/local/lib/python3.7/dist-packages/ipykernel_launcher.py:1: SettingWithCopyWarning: \n",
      "A value is trying to be set on a copy of a slice from a DataFrame.\n",
      "Try using .loc[row_indexer,col_indexer] = value instead\n",
      "\n",
      "See the caveats in the documentation: https://pandas.pydata.org/pandas-docs/stable/user_guide/indexing.html#returning-a-view-versus-a-copy\n",
      "  \"\"\"Entry point for launching an IPython kernel.\n"
     ]
    }
   ],
   "source": [
    "df['partial_capitalized_word_count'] = df['og_comment'].apply(lambda x: partial_cap(x))"
   ]
  },
  {
   "cell_type": "markdown",
   "metadata": {
    "id": "QK7jrhP5n3dx"
   },
   "source": [
    "## Feature engineering (Sentiment Analysis)"
   ]
  },
  {
   "cell_type": "code",
   "execution_count": 50,
   "metadata": {
    "executionInfo": {
     "elapsed": 20,
     "status": "ok",
     "timestamp": 1636305776480,
     "user": {
      "displayName": "Chris Yew",
      "photoUrl": "https://lh3.googleusercontent.com/a/default-user=s64",
      "userId": "09518424203937384471"
     },
     "user_tz": -480
    },
    "id": "DZq5j5ubuD6b"
   },
   "outputs": [],
   "source": []
  },
  {
   "cell_type": "code",
   "execution_count": 51,
   "metadata": {
    "colab": {
     "base_uri": "https://localhost:8080/"
    },
    "executionInfo": {
     "elapsed": 8576,
     "status": "ok",
     "timestamp": 1636305785037,
     "user": {
      "displayName": "Chris Yew",
      "photoUrl": "https://lh3.googleusercontent.com/a/default-user=s64",
      "userId": "09518424203937384471"
     },
     "user_tz": -480
    },
    "id": "V_oZ46raejl9",
    "outputId": "e00ec335-b9ff-4be4-d1f3-dce8db4f64ac"
   },
   "outputs": [
    {
     "name": "stdout",
     "output_type": "stream",
     "text": [
      "Collecting en_core_web_sm==2.2.5\n",
      "  Downloading https://github.com/explosion/spacy-models/releases/download/en_core_web_sm-2.2.5/en_core_web_sm-2.2.5.tar.gz (12.0 MB)\n",
      "\u001b[K     |████████████████████████████████| 12.0 MB 15.6 MB/s \n",
      "\u001b[?25hRequirement already satisfied: spacy>=2.2.2 in /usr/local/lib/python3.7/dist-packages (from en_core_web_sm==2.2.5) (2.2.4)\n",
      "Requirement already satisfied: tqdm<5.0.0,>=4.38.0 in /usr/local/lib/python3.7/dist-packages (from spacy>=2.2.2->en_core_web_sm==2.2.5) (4.62.3)\n",
      "Requirement already satisfied: cymem<2.1.0,>=2.0.2 in /usr/local/lib/python3.7/dist-packages (from spacy>=2.2.2->en_core_web_sm==2.2.5) (2.0.5)\n",
      "Requirement already satisfied: requests<3.0.0,>=2.13.0 in /usr/local/lib/python3.7/dist-packages (from spacy>=2.2.2->en_core_web_sm==2.2.5) (2.23.0)\n",
      "Requirement already satisfied: blis<0.5.0,>=0.4.0 in /usr/local/lib/python3.7/dist-packages (from spacy>=2.2.2->en_core_web_sm==2.2.5) (0.4.1)\n",
      "Requirement already satisfied: catalogue<1.1.0,>=0.0.7 in /usr/local/lib/python3.7/dist-packages (from spacy>=2.2.2->en_core_web_sm==2.2.5) (1.0.0)\n",
      "Requirement already satisfied: murmurhash<1.1.0,>=0.28.0 in /usr/local/lib/python3.7/dist-packages (from spacy>=2.2.2->en_core_web_sm==2.2.5) (1.0.5)\n",
      "Requirement already satisfied: numpy>=1.15.0 in /usr/local/lib/python3.7/dist-packages (from spacy>=2.2.2->en_core_web_sm==2.2.5) (1.19.5)\n",
      "Requirement already satisfied: srsly<1.1.0,>=1.0.2 in /usr/local/lib/python3.7/dist-packages (from spacy>=2.2.2->en_core_web_sm==2.2.5) (1.0.5)\n",
      "Requirement already satisfied: thinc==7.4.0 in /usr/local/lib/python3.7/dist-packages (from spacy>=2.2.2->en_core_web_sm==2.2.5) (7.4.0)\n",
      "Requirement already satisfied: wasabi<1.1.0,>=0.4.0 in /usr/local/lib/python3.7/dist-packages (from spacy>=2.2.2->en_core_web_sm==2.2.5) (0.8.2)\n",
      "Requirement already satisfied: setuptools in /usr/local/lib/python3.7/dist-packages (from spacy>=2.2.2->en_core_web_sm==2.2.5) (57.4.0)\n",
      "Requirement already satisfied: plac<1.2.0,>=0.9.6 in /usr/local/lib/python3.7/dist-packages (from spacy>=2.2.2->en_core_web_sm==2.2.5) (1.1.3)\n",
      "Requirement already satisfied: preshed<3.1.0,>=3.0.2 in /usr/local/lib/python3.7/dist-packages (from spacy>=2.2.2->en_core_web_sm==2.2.5) (3.0.5)\n",
      "Requirement already satisfied: importlib-metadata>=0.20 in /usr/local/lib/python3.7/dist-packages (from catalogue<1.1.0,>=0.0.7->spacy>=2.2.2->en_core_web_sm==2.2.5) (4.8.1)\n",
      "Requirement already satisfied: zipp>=0.5 in /usr/local/lib/python3.7/dist-packages (from importlib-metadata>=0.20->catalogue<1.1.0,>=0.0.7->spacy>=2.2.2->en_core_web_sm==2.2.5) (3.6.0)\n",
      "Requirement already satisfied: typing-extensions>=3.6.4 in /usr/local/lib/python3.7/dist-packages (from importlib-metadata>=0.20->catalogue<1.1.0,>=0.0.7->spacy>=2.2.2->en_core_web_sm==2.2.5) (3.7.4.3)\n",
      "Requirement already satisfied: idna<3,>=2.5 in /usr/local/lib/python3.7/dist-packages (from requests<3.0.0,>=2.13.0->spacy>=2.2.2->en_core_web_sm==2.2.5) (2.10)\n",
      "Requirement already satisfied: chardet<4,>=3.0.2 in /usr/local/lib/python3.7/dist-packages (from requests<3.0.0,>=2.13.0->spacy>=2.2.2->en_core_web_sm==2.2.5) (3.0.4)\n",
      "Requirement already satisfied: urllib3!=1.25.0,!=1.25.1,<1.26,>=1.21.1 in /usr/local/lib/python3.7/dist-packages (from requests<3.0.0,>=2.13.0->spacy>=2.2.2->en_core_web_sm==2.2.5) (1.24.3)\n",
      "Requirement already satisfied: certifi>=2017.4.17 in /usr/local/lib/python3.7/dist-packages (from requests<3.0.0,>=2.13.0->spacy>=2.2.2->en_core_web_sm==2.2.5) (2021.5.30)\n",
      "\u001b[38;5;2m✔ Download and installation successful\u001b[0m\n",
      "You can now load the model via spacy.load('en_core_web_sm')\n",
      "Collecting vaderSentiment\n",
      "  Downloading vaderSentiment-3.3.2-py2.py3-none-any.whl (125 kB)\n",
      "\u001b[K     |████████████████████████████████| 125 kB 15.2 MB/s \n",
      "\u001b[?25hRequirement already satisfied: requests in /usr/local/lib/python3.7/dist-packages (from vaderSentiment) (2.23.0)\n",
      "Requirement already satisfied: chardet<4,>=3.0.2 in /usr/local/lib/python3.7/dist-packages (from requests->vaderSentiment) (3.0.4)\n",
      "Requirement already satisfied: certifi>=2017.4.17 in /usr/local/lib/python3.7/dist-packages (from requests->vaderSentiment) (2021.5.30)\n",
      "Requirement already satisfied: idna<3,>=2.5 in /usr/local/lib/python3.7/dist-packages (from requests->vaderSentiment) (2.10)\n",
      "Requirement already satisfied: urllib3!=1.25.0,!=1.25.1,<1.26,>=1.21.1 in /usr/local/lib/python3.7/dist-packages (from requests->vaderSentiment) (1.24.3)\n",
      "Installing collected packages: vaderSentiment\n",
      "Successfully installed vaderSentiment-3.3.2\n"
     ]
    }
   ],
   "source": [
    "!python -m spacy download en_core_web_sm\n",
    "!pip install vaderSentiment"
   ]
  },
  {
   "cell_type": "code",
   "execution_count": 52,
   "metadata": {
    "executionInfo": {
     "elapsed": 20,
     "status": "ok",
     "timestamp": 1636305785038,
     "user": {
      "displayName": "Chris Yew",
      "photoUrl": "https://lh3.googleusercontent.com/a/default-user=s64",
      "userId": "09518424203937384471"
     },
     "user_tz": -480
    },
    "id": "tDs-cu6OoFMR"
   },
   "outputs": [],
   "source": [
    "from vaderSentiment.vaderSentiment import SentimentIntensityAnalyzer\n",
    "analyser = SentimentIntensityAnalyzer()"
   ]
  },
  {
   "cell_type": "code",
   "execution_count": 53,
   "metadata": {
    "executionInfo": {
     "elapsed": 19,
     "status": "ok",
     "timestamp": 1636305785038,
     "user": {
      "displayName": "Chris Yew",
      "photoUrl": "https://lh3.googleusercontent.com/a/default-user=s64",
      "userId": "09518424203937384471"
     },
     "user_tz": -480
    },
    "id": "jUop17LyoFON"
   },
   "outputs": [],
   "source": [
    "def sentiment_analyzer_scores(sentence):\n",
    "    score = analyser.polarity_scores(sentence)\n",
    "    print(\"{:-<40} {}\".format(sentence, str(score)))"
   ]
  },
  {
   "cell_type": "code",
   "execution_count": 54,
   "metadata": {
    "executionInfo": {
     "elapsed": 18,
     "status": "ok",
     "timestamp": 1636305785038,
     "user": {
      "displayName": "Chris Yew",
      "photoUrl": "https://lh3.googleusercontent.com/a/default-user=s64",
      "userId": "09518424203937384471"
     },
     "user_tz": -480
    },
    "id": "VcR0PFxkoFQF"
   },
   "outputs": [],
   "source": [
    "def vader(sentence):\n",
    "  score = analyser.polarity_scores(sentence)\n",
    "  comp = score['compound']\n",
    "  if comp>=0.05:\n",
    "    return 'pos'   # positive\n",
    "  elif abs(comp)<0.05:\n",
    "    return 'neu'  # neutral\n",
    "  elif comp<=-0.05:\n",
    "    return 'neg'   #negative"
   ]
  },
  {
   "cell_type": "code",
   "execution_count": 55,
   "metadata": {
    "colab": {
     "base_uri": "https://localhost:8080/"
    },
    "executionInfo": {
     "elapsed": 83437,
     "status": "ok",
     "timestamp": 1636305868458,
     "user": {
      "displayName": "Chris Yew",
      "photoUrl": "https://lh3.googleusercontent.com/a/default-user=s64",
      "userId": "09518424203937384471"
     },
     "user_tz": -480
    },
    "id": "Y_tz4dUwoFRu",
    "outputId": "f7ab8381-6a77-4c61-958f-6bcfc1d802a5"
   },
   "outputs": [
    {
     "name": "stderr",
     "output_type": "stream",
     "text": [
      "/usr/local/lib/python3.7/dist-packages/ipykernel_launcher.py:1: SettingWithCopyWarning: \n",
      "A value is trying to be set on a copy of a slice from a DataFrame.\n",
      "Try using .loc[row_indexer,col_indexer] = value instead\n",
      "\n",
      "See the caveats in the documentation: https://pandas.pydata.org/pandas-docs/stable/user_guide/indexing.html#returning-a-view-versus-a-copy\n",
      "  \"\"\"Entry point for launching an IPython kernel.\n"
     ]
    }
   ],
   "source": [
    "df[\"sentiment\"] = df[\"og_comment\"].apply(vader)"
   ]
  },
  {
   "cell_type": "code",
   "execution_count": 56,
   "metadata": {
    "colab": {
     "base_uri": "https://localhost:8080/",
     "height": 547
    },
    "executionInfo": {
     "elapsed": 35,
     "status": "ok",
     "timestamp": 1636305868459,
     "user": {
      "displayName": "Chris Yew",
      "photoUrl": "https://lh3.googleusercontent.com/a/default-user=s64",
      "userId": "09518424203937384471"
     },
     "user_tz": -480
    },
    "id": "7j87URkDoFTZ",
    "outputId": "532acc97-3620-4d81-8e46-b4a98356dcc6"
   },
   "outputs": [
    {
     "data": {
      "text/html": [
       "<div>\n",
       "<style scoped>\n",
       "    .dataframe tbody tr th:only-of-type {\n",
       "        vertical-align: middle;\n",
       "    }\n",
       "\n",
       "    .dataframe tbody tr th {\n",
       "        vertical-align: top;\n",
       "    }\n",
       "\n",
       "    .dataframe thead th {\n",
       "        text-align: right;\n",
       "    }\n",
       "</style>\n",
       "<table border=\"1\" class=\"dataframe\">\n",
       "  <thead>\n",
       "    <tr style=\"text-align: right;\">\n",
       "      <th></th>\n",
       "      <th>label</th>\n",
       "      <th>comment</th>\n",
       "      <th>author</th>\n",
       "      <th>subreddit</th>\n",
       "      <th>score</th>\n",
       "      <th>ups</th>\n",
       "      <th>downs</th>\n",
       "      <th>date</th>\n",
       "      <th>created_utc</th>\n",
       "      <th>parent_comment</th>\n",
       "      <th>og_comment</th>\n",
       "      <th>og_parentcomment</th>\n",
       "      <th>emoticon_count</th>\n",
       "      <th>exclaim_count</th>\n",
       "      <th>qns_mark_count</th>\n",
       "      <th>ellipses_mark_count</th>\n",
       "      <th>interjection_count</th>\n",
       "      <th>laughter_words_count</th>\n",
       "      <th>capitalized_word_count</th>\n",
       "      <th>partial_capitalized_word_count</th>\n",
       "      <th>sentiment</th>\n",
       "    </tr>\n",
       "  </thead>\n",
       "  <tbody>\n",
       "    <tr>\n",
       "      <th>0</th>\n",
       "      <td>0</td>\n",
       "      <td>nc nh</td>\n",
       "      <td>Trumpbart</td>\n",
       "      <td>politics</td>\n",
       "      <td>2</td>\n",
       "      <td>-1</td>\n",
       "      <td>-1</td>\n",
       "      <td>2016-10</td>\n",
       "      <td>2016-10-16 23:55:23</td>\n",
       "      <td>yeah get argument point id prefer lived nc well</td>\n",
       "      <td>NC and NH.</td>\n",
       "      <td>Yeah, I get that argument. At this point, I'd ...</td>\n",
       "      <td>0</td>\n",
       "      <td>0</td>\n",
       "      <td>0</td>\n",
       "      <td>0</td>\n",
       "      <td>0</td>\n",
       "      <td>0</td>\n",
       "      <td>2</td>\n",
       "      <td>0</td>\n",
       "      <td>neu</td>\n",
       "    </tr>\n",
       "    <tr>\n",
       "      <th>1</th>\n",
       "      <td>0</td>\n",
       "      <td>know west team play west team east team right</td>\n",
       "      <td>Shbshb906</td>\n",
       "      <td>nba</td>\n",
       "      <td>-4</td>\n",
       "      <td>-1</td>\n",
       "      <td>-1</td>\n",
       "      <td>2016-11</td>\n",
       "      <td>2016-11-01 00:24:10</td>\n",
       "      <td>blazer maverick the west 5 6 seed even carry g...</td>\n",
       "      <td>You do know west teams play against west teams...</td>\n",
       "      <td>The blazers and Mavericks (The wests 5 and 6 s...</td>\n",
       "      <td>0</td>\n",
       "      <td>0</td>\n",
       "      <td>1</td>\n",
       "      <td>0</td>\n",
       "      <td>0</td>\n",
       "      <td>0</td>\n",
       "      <td>0</td>\n",
       "      <td>0</td>\n",
       "      <td>pos</td>\n",
       "    </tr>\n",
       "    <tr>\n",
       "      <th>2</th>\n",
       "      <td>0</td>\n",
       "      <td>underdog earlier today since gronks announceme...</td>\n",
       "      <td>Creepeth</td>\n",
       "      <td>nfl</td>\n",
       "      <td>3</td>\n",
       "      <td>3</td>\n",
       "      <td>0</td>\n",
       "      <td>2016-09</td>\n",
       "      <td>2016-09-22 21:45:37</td>\n",
       "      <td>favored win</td>\n",
       "      <td>They were underdogs earlier today, but since G...</td>\n",
       "      <td>They're favored to win.</td>\n",
       "      <td>0</td>\n",
       "      <td>0</td>\n",
       "      <td>0</td>\n",
       "      <td>0</td>\n",
       "      <td>0</td>\n",
       "      <td>0</td>\n",
       "      <td>0</td>\n",
       "      <td>0</td>\n",
       "      <td>neu</td>\n",
       "    </tr>\n",
       "    <tr>\n",
       "      <th>3</th>\n",
       "      <td>0</td>\n",
       "      <td>meme funny none new york nigga one are</td>\n",
       "      <td>icebrotha</td>\n",
       "      <td>BlackPeopleTwitter</td>\n",
       "      <td>-8</td>\n",
       "      <td>-1</td>\n",
       "      <td>-1</td>\n",
       "      <td>2016-10</td>\n",
       "      <td>2016-10-18 21:03:47</td>\n",
       "      <td>deadass kill buzz</td>\n",
       "      <td>This meme isn't funny none of the \"new york ni...</td>\n",
       "      <td>deadass don't kill my buzz</td>\n",
       "      <td>0</td>\n",
       "      <td>0</td>\n",
       "      <td>0</td>\n",
       "      <td>0</td>\n",
       "      <td>0</td>\n",
       "      <td>0</td>\n",
       "      <td>0</td>\n",
       "      <td>0</td>\n",
       "      <td>neg</td>\n",
       "    </tr>\n",
       "    <tr>\n",
       "      <th>4</th>\n",
       "      <td>0</td>\n",
       "      <td>could use one tool</td>\n",
       "      <td>cush2push</td>\n",
       "      <td>MaddenUltimateTeam</td>\n",
       "      <td>6</td>\n",
       "      <td>-1</td>\n",
       "      <td>-1</td>\n",
       "      <td>2016-12</td>\n",
       "      <td>2016-12-30 17:00:13</td>\n",
       "      <td>yep confirm saw tool use that made boy easport...</td>\n",
       "      <td>I could use one of those tools.</td>\n",
       "      <td>Yep can confirm I saw the tool they use for th...</td>\n",
       "      <td>0</td>\n",
       "      <td>0</td>\n",
       "      <td>0</td>\n",
       "      <td>0</td>\n",
       "      <td>0</td>\n",
       "      <td>0</td>\n",
       "      <td>0</td>\n",
       "      <td>0</td>\n",
       "      <td>neu</td>\n",
       "    </tr>\n",
       "  </tbody>\n",
       "</table>\n",
       "</div>"
      ],
      "text/plain": [
       "   label  ... sentiment\n",
       "0      0  ...       neu\n",
       "1      0  ...       pos\n",
       "2      0  ...       neu\n",
       "3      0  ...       neg\n",
       "4      0  ...       neu\n",
       "\n",
       "[5 rows x 21 columns]"
      ]
     },
     "execution_count": 56,
     "metadata": {},
     "output_type": "execute_result"
    }
   ],
   "source": [
    "df.head()"
   ]
  },
  {
   "cell_type": "code",
   "execution_count": 56,
   "metadata": {
    "executionInfo": {
     "elapsed": 21,
     "status": "ok",
     "timestamp": 1636305868461,
     "user": {
      "displayName": "Chris Yew",
      "photoUrl": "https://lh3.googleusercontent.com/a/default-user=s64",
      "userId": "09518424203937384471"
     },
     "user_tz": -480
    },
    "id": "P_h1NDnQuEuw"
   },
   "outputs": [],
   "source": []
  },
  {
   "cell_type": "code",
   "execution_count": 57,
   "metadata": {
    "colab": {
     "base_uri": "https://localhost:8080/",
     "height": 1000
    },
    "executionInfo": {
     "elapsed": 22,
     "status": "ok",
     "timestamp": 1636305868463,
     "user": {
      "displayName": "Chris Yew",
      "photoUrl": "https://lh3.googleusercontent.com/a/default-user=s64",
      "userId": "09518424203937384471"
     },
     "user_tz": -480
    },
    "id": "_iqFr8DHubg9",
    "outputId": "f61fa827-5953-46d8-d1c0-af469c390b70"
   },
   "outputs": [
    {
     "data": {
      "text/html": [
       "<div>\n",
       "<style scoped>\n",
       "    .dataframe tbody tr th:only-of-type {\n",
       "        vertical-align: middle;\n",
       "    }\n",
       "\n",
       "    .dataframe tbody tr th {\n",
       "        vertical-align: top;\n",
       "    }\n",
       "\n",
       "    .dataframe thead th {\n",
       "        text-align: right;\n",
       "    }\n",
       "</style>\n",
       "<table border=\"1\" class=\"dataframe\">\n",
       "  <thead>\n",
       "    <tr style=\"text-align: right;\">\n",
       "      <th></th>\n",
       "      <th>label</th>\n",
       "      <th>comment</th>\n",
       "      <th>author</th>\n",
       "      <th>subreddit</th>\n",
       "      <th>score</th>\n",
       "      <th>ups</th>\n",
       "      <th>downs</th>\n",
       "      <th>date</th>\n",
       "      <th>created_utc</th>\n",
       "      <th>parent_comment</th>\n",
       "      <th>og_comment</th>\n",
       "      <th>og_parentcomment</th>\n",
       "      <th>emoticon_count</th>\n",
       "      <th>exclaim_count</th>\n",
       "      <th>qns_mark_count</th>\n",
       "      <th>ellipses_mark_count</th>\n",
       "      <th>interjection_count</th>\n",
       "      <th>laughter_words_count</th>\n",
       "      <th>capitalized_word_count</th>\n",
       "      <th>partial_capitalized_word_count</th>\n",
       "      <th>sentiment</th>\n",
       "    </tr>\n",
       "  </thead>\n",
       "  <tbody>\n",
       "    <tr>\n",
       "      <th>0</th>\n",
       "      <td>0</td>\n",
       "      <td>nc nh</td>\n",
       "      <td>Trumpbart</td>\n",
       "      <td>politics</td>\n",
       "      <td>2</td>\n",
       "      <td>-1</td>\n",
       "      <td>-1</td>\n",
       "      <td>2016-10</td>\n",
       "      <td>2016-10-16 23:55:23</td>\n",
       "      <td>yeah get argument point id prefer lived nc well</td>\n",
       "      <td>NC and NH.</td>\n",
       "      <td>Yeah, I get that argument. At this point, I'd ...</td>\n",
       "      <td>0</td>\n",
       "      <td>0</td>\n",
       "      <td>0</td>\n",
       "      <td>0</td>\n",
       "      <td>0</td>\n",
       "      <td>0</td>\n",
       "      <td>2</td>\n",
       "      <td>0</td>\n",
       "      <td>neu</td>\n",
       "    </tr>\n",
       "    <tr>\n",
       "      <th>1</th>\n",
       "      <td>0</td>\n",
       "      <td>know west team play west team east team right</td>\n",
       "      <td>Shbshb906</td>\n",
       "      <td>nba</td>\n",
       "      <td>-4</td>\n",
       "      <td>-1</td>\n",
       "      <td>-1</td>\n",
       "      <td>2016-11</td>\n",
       "      <td>2016-11-01 00:24:10</td>\n",
       "      <td>blazer maverick the west 5 6 seed even carry g...</td>\n",
       "      <td>You do know west teams play against west teams...</td>\n",
       "      <td>The blazers and Mavericks (The wests 5 and 6 s...</td>\n",
       "      <td>0</td>\n",
       "      <td>0</td>\n",
       "      <td>1</td>\n",
       "      <td>0</td>\n",
       "      <td>0</td>\n",
       "      <td>0</td>\n",
       "      <td>0</td>\n",
       "      <td>0</td>\n",
       "      <td>pos</td>\n",
       "    </tr>\n",
       "    <tr>\n",
       "      <th>2</th>\n",
       "      <td>0</td>\n",
       "      <td>underdog earlier today since gronks announceme...</td>\n",
       "      <td>Creepeth</td>\n",
       "      <td>nfl</td>\n",
       "      <td>3</td>\n",
       "      <td>3</td>\n",
       "      <td>0</td>\n",
       "      <td>2016-09</td>\n",
       "      <td>2016-09-22 21:45:37</td>\n",
       "      <td>favored win</td>\n",
       "      <td>They were underdogs earlier today, but since G...</td>\n",
       "      <td>They're favored to win.</td>\n",
       "      <td>0</td>\n",
       "      <td>0</td>\n",
       "      <td>0</td>\n",
       "      <td>0</td>\n",
       "      <td>0</td>\n",
       "      <td>0</td>\n",
       "      <td>0</td>\n",
       "      <td>0</td>\n",
       "      <td>neu</td>\n",
       "    </tr>\n",
       "    <tr>\n",
       "      <th>3</th>\n",
       "      <td>0</td>\n",
       "      <td>meme funny none new york nigga one are</td>\n",
       "      <td>icebrotha</td>\n",
       "      <td>BlackPeopleTwitter</td>\n",
       "      <td>-8</td>\n",
       "      <td>-1</td>\n",
       "      <td>-1</td>\n",
       "      <td>2016-10</td>\n",
       "      <td>2016-10-18 21:03:47</td>\n",
       "      <td>deadass kill buzz</td>\n",
       "      <td>This meme isn't funny none of the \"new york ni...</td>\n",
       "      <td>deadass don't kill my buzz</td>\n",
       "      <td>0</td>\n",
       "      <td>0</td>\n",
       "      <td>0</td>\n",
       "      <td>0</td>\n",
       "      <td>0</td>\n",
       "      <td>0</td>\n",
       "      <td>0</td>\n",
       "      <td>0</td>\n",
       "      <td>neg</td>\n",
       "    </tr>\n",
       "    <tr>\n",
       "      <th>4</th>\n",
       "      <td>0</td>\n",
       "      <td>could use one tool</td>\n",
       "      <td>cush2push</td>\n",
       "      <td>MaddenUltimateTeam</td>\n",
       "      <td>6</td>\n",
       "      <td>-1</td>\n",
       "      <td>-1</td>\n",
       "      <td>2016-12</td>\n",
       "      <td>2016-12-30 17:00:13</td>\n",
       "      <td>yep confirm saw tool use that made boy easport...</td>\n",
       "      <td>I could use one of those tools.</td>\n",
       "      <td>Yep can confirm I saw the tool they use for th...</td>\n",
       "      <td>0</td>\n",
       "      <td>0</td>\n",
       "      <td>0</td>\n",
       "      <td>0</td>\n",
       "      <td>0</td>\n",
       "      <td>0</td>\n",
       "      <td>0</td>\n",
       "      <td>0</td>\n",
       "      <td>neu</td>\n",
       "    </tr>\n",
       "    <tr>\n",
       "      <th>...</th>\n",
       "      <td>...</td>\n",
       "      <td>...</td>\n",
       "      <td>...</td>\n",
       "      <td>...</td>\n",
       "      <td>...</td>\n",
       "      <td>...</td>\n",
       "      <td>...</td>\n",
       "      <td>...</td>\n",
       "      <td>...</td>\n",
       "      <td>...</td>\n",
       "      <td>...</td>\n",
       "      <td>...</td>\n",
       "      <td>...</td>\n",
       "      <td>...</td>\n",
       "      <td>...</td>\n",
       "      <td>...</td>\n",
       "      <td>...</td>\n",
       "      <td>...</td>\n",
       "      <td>...</td>\n",
       "      <td>...</td>\n",
       "      <td>...</td>\n",
       "    </tr>\n",
       "    <tr>\n",
       "      <th>1010821</th>\n",
       "      <td>1</td>\n",
       "      <td>im sure iran n korea technology create pigbird...</td>\n",
       "      <td>TwarkMain</td>\n",
       "      <td>reddit.com</td>\n",
       "      <td>2</td>\n",
       "      <td>2</td>\n",
       "      <td>0</td>\n",
       "      <td>2009-04</td>\n",
       "      <td>2009-04-25 00:47:52</td>\n",
       "      <td>one calling engineered pathogen report virus b...</td>\n",
       "      <td>I'm sure that Iran and N. Korea have the techn...</td>\n",
       "      <td>No one is calling this an engineered pathogen,...</td>\n",
       "      <td>0</td>\n",
       "      <td>0</td>\n",
       "      <td>0</td>\n",
       "      <td>0</td>\n",
       "      <td>0</td>\n",
       "      <td>0</td>\n",
       "      <td>0</td>\n",
       "      <td>0</td>\n",
       "      <td>pos</td>\n",
       "    </tr>\n",
       "    <tr>\n",
       "      <th>1010822</th>\n",
       "      <td>1</td>\n",
       "      <td>whatever do vote green</td>\n",
       "      <td>BCHarvey</td>\n",
       "      <td>climate</td>\n",
       "      <td>1</td>\n",
       "      <td>1</td>\n",
       "      <td>0</td>\n",
       "      <td>2009-05</td>\n",
       "      <td>2009-05-14 22:27:40</td>\n",
       "      <td>move typical recent donothing approach co2 emi...</td>\n",
       "      <td>whatever you do, don't vote green!</td>\n",
       "      <td>In a move typical of their recent do-nothing a...</td>\n",
       "      <td>0</td>\n",
       "      <td>1</td>\n",
       "      <td>0</td>\n",
       "      <td>0</td>\n",
       "      <td>0</td>\n",
       "      <td>0</td>\n",
       "      <td>0</td>\n",
       "      <td>0</td>\n",
       "      <td>neu</td>\n",
       "    </tr>\n",
       "    <tr>\n",
       "      <th>1010823</th>\n",
       "      <td>1</td>\n",
       "      <td>perhaps atheist conspiracy make christian look...</td>\n",
       "      <td>rebelcommander</td>\n",
       "      <td>atheism</td>\n",
       "      <td>1</td>\n",
       "      <td>1</td>\n",
       "      <td>0</td>\n",
       "      <td>2009-01</td>\n",
       "      <td>2009-01-11 00:22:57</td>\n",
       "      <td>screw disabledive got get church time</td>\n",
       "      <td>Perhaps this is an atheist conspiracy to make ...</td>\n",
       "      <td>Screw the Disabled--I've got to get to Church ...</td>\n",
       "      <td>0</td>\n",
       "      <td>0</td>\n",
       "      <td>1</td>\n",
       "      <td>0</td>\n",
       "      <td>0</td>\n",
       "      <td>0</td>\n",
       "      <td>0</td>\n",
       "      <td>0</td>\n",
       "      <td>neg</td>\n",
       "    </tr>\n",
       "    <tr>\n",
       "      <th>1010824</th>\n",
       "      <td>1</td>\n",
       "      <td>slav got country called kosovo</td>\n",
       "      <td>catsi</td>\n",
       "      <td>worldnews</td>\n",
       "      <td>1</td>\n",
       "      <td>1</td>\n",
       "      <td>0</td>\n",
       "      <td>2009-01</td>\n",
       "      <td>2009-01-23 21:12:49</td>\n",
       "      <td>ive always unsettled that hear lot jewish peop...</td>\n",
       "      <td>The Slavs got their own country - it is called...</td>\n",
       "      <td>I've always been unsettled by that. I hear a l...</td>\n",
       "      <td>0</td>\n",
       "      <td>0</td>\n",
       "      <td>0</td>\n",
       "      <td>0</td>\n",
       "      <td>0</td>\n",
       "      <td>0</td>\n",
       "      <td>0</td>\n",
       "      <td>0</td>\n",
       "      <td>neu</td>\n",
       "    </tr>\n",
       "    <tr>\n",
       "      <th>1010825</th>\n",
       "      <td>1</td>\n",
       "      <td>value capitalism good money imprisoning people</td>\n",
       "      <td>frogking</td>\n",
       "      <td>politics</td>\n",
       "      <td>2</td>\n",
       "      <td>2</td>\n",
       "      <td>0</td>\n",
       "      <td>2009-01</td>\n",
       "      <td>2009-01-24 06:20:14</td>\n",
       "      <td>people make law seem unable grasp country basi...</td>\n",
       "      <td>values, as in capitalism .. there is good mone...</td>\n",
       "      <td>Why do the people who make our laws seem unabl...</td>\n",
       "      <td>0</td>\n",
       "      <td>0</td>\n",
       "      <td>0</td>\n",
       "      <td>0</td>\n",
       "      <td>0</td>\n",
       "      <td>0</td>\n",
       "      <td>0</td>\n",
       "      <td>0</td>\n",
       "      <td>pos</td>\n",
       "    </tr>\n",
       "  </tbody>\n",
       "</table>\n",
       "<p>1009192 rows × 21 columns</p>\n",
       "</div>"
      ],
      "text/plain": [
       "         label  ... sentiment\n",
       "0            0  ...       neu\n",
       "1            0  ...       pos\n",
       "2            0  ...       neu\n",
       "3            0  ...       neg\n",
       "4            0  ...       neu\n",
       "...        ...  ...       ...\n",
       "1010821      1  ...       pos\n",
       "1010822      1  ...       neu\n",
       "1010823      1  ...       neg\n",
       "1010824      1  ...       neu\n",
       "1010825      1  ...       pos\n",
       "\n",
       "[1009192 rows x 21 columns]"
      ]
     },
     "execution_count": 57,
     "metadata": {},
     "output_type": "execute_result"
    }
   ],
   "source": [
    "df"
   ]
  },
  {
   "cell_type": "code",
   "execution_count": 58,
   "metadata": {
    "executionInfo": {
     "elapsed": 4891,
     "status": "ok",
     "timestamp": 1636305873334,
     "user": {
      "displayName": "Chris Yew",
      "photoUrl": "https://lh3.googleusercontent.com/a/default-user=s64",
      "userId": "09518424203937384471"
     },
     "user_tz": -480
    },
    "id": "gPo-_5vOTfzz"
   },
   "outputs": [],
   "source": [
    "df.to_pickle(\"complete_df3\")"
   ]
  },
  {
   "cell_type": "code",
   "execution_count": 59,
   "metadata": {
    "executionInfo": {
     "elapsed": 13650,
     "status": "ok",
     "timestamp": 1636305886973,
     "user": {
      "displayName": "Chris Yew",
      "photoUrl": "https://lh3.googleusercontent.com/a/default-user=s64",
      "userId": "09518424203937384471"
     },
     "user_tz": -480
    },
    "id": "vN8xmuFXVuoe"
   },
   "outputs": [],
   "source": [
    "df.to_csv(\"cleaned2.csv\")"
   ]
  },
  {
   "cell_type": "code",
   "execution_count": 60,
   "metadata": {
    "colab": {
     "base_uri": "https://localhost:8080/"
    },
    "executionInfo": {
     "elapsed": 851,
     "status": "ok",
     "timestamp": 1636305887812,
     "user": {
      "displayName": "Chris Yew",
      "photoUrl": "https://lh3.googleusercontent.com/a/default-user=s64",
      "userId": "09518424203937384471"
     },
     "user_tz": -480
    },
    "id": "OoY1jsvnVuoe",
    "outputId": "a0e64aea-a0e4-4a9d-8f97-a2fc94850bed"
   },
   "outputs": [
    {
     "name": "stdout",
     "output_type": "stream",
     "text": [
      "0 0\n"
     ]
    }
   ],
   "source": [
    "print(len(df[pd.isna(df[\"comment\"])]),len(df[pd.isna(df[\"parent_comment\"])]))\n"
   ]
  },
  {
   "cell_type": "code",
   "execution_count": 61,
   "metadata": {
    "colab": {
     "base_uri": "https://localhost:8080/",
     "height": 547
    },
    "executionInfo": {
     "elapsed": 15,
     "status": "ok",
     "timestamp": 1636305887813,
     "user": {
      "displayName": "Chris Yew",
      "photoUrl": "https://lh3.googleusercontent.com/a/default-user=s64",
      "userId": "09518424203937384471"
     },
     "user_tz": -480
    },
    "id": "7I9i-f0TVuoe",
    "outputId": "1d9b8974-db98-4de3-c831-6b8daec58baa"
   },
   "outputs": [
    {
     "data": {
      "text/html": [
       "<div>\n",
       "<style scoped>\n",
       "    .dataframe tbody tr th:only-of-type {\n",
       "        vertical-align: middle;\n",
       "    }\n",
       "\n",
       "    .dataframe tbody tr th {\n",
       "        vertical-align: top;\n",
       "    }\n",
       "\n",
       "    .dataframe thead th {\n",
       "        text-align: right;\n",
       "    }\n",
       "</style>\n",
       "<table border=\"1\" class=\"dataframe\">\n",
       "  <thead>\n",
       "    <tr style=\"text-align: right;\">\n",
       "      <th></th>\n",
       "      <th>label</th>\n",
       "      <th>comment</th>\n",
       "      <th>author</th>\n",
       "      <th>subreddit</th>\n",
       "      <th>score</th>\n",
       "      <th>ups</th>\n",
       "      <th>downs</th>\n",
       "      <th>date</th>\n",
       "      <th>created_utc</th>\n",
       "      <th>parent_comment</th>\n",
       "      <th>og_comment</th>\n",
       "      <th>og_parentcomment</th>\n",
       "      <th>emoticon_count</th>\n",
       "      <th>exclaim_count</th>\n",
       "      <th>qns_mark_count</th>\n",
       "      <th>ellipses_mark_count</th>\n",
       "      <th>interjection_count</th>\n",
       "      <th>laughter_words_count</th>\n",
       "      <th>capitalized_word_count</th>\n",
       "      <th>partial_capitalized_word_count</th>\n",
       "      <th>sentiment</th>\n",
       "    </tr>\n",
       "  </thead>\n",
       "  <tbody>\n",
       "    <tr>\n",
       "      <th>0</th>\n",
       "      <td>0</td>\n",
       "      <td>nc nh</td>\n",
       "      <td>Trumpbart</td>\n",
       "      <td>politics</td>\n",
       "      <td>2</td>\n",
       "      <td>-1</td>\n",
       "      <td>-1</td>\n",
       "      <td>2016-10</td>\n",
       "      <td>2016-10-16 23:55:23</td>\n",
       "      <td>yeah get argument point id prefer lived nc well</td>\n",
       "      <td>NC and NH.</td>\n",
       "      <td>Yeah, I get that argument. At this point, I'd ...</td>\n",
       "      <td>0</td>\n",
       "      <td>0</td>\n",
       "      <td>0</td>\n",
       "      <td>0</td>\n",
       "      <td>0</td>\n",
       "      <td>0</td>\n",
       "      <td>2</td>\n",
       "      <td>0</td>\n",
       "      <td>neu</td>\n",
       "    </tr>\n",
       "    <tr>\n",
       "      <th>1</th>\n",
       "      <td>0</td>\n",
       "      <td>know west team play west team east team right</td>\n",
       "      <td>Shbshb906</td>\n",
       "      <td>nba</td>\n",
       "      <td>-4</td>\n",
       "      <td>-1</td>\n",
       "      <td>-1</td>\n",
       "      <td>2016-11</td>\n",
       "      <td>2016-11-01 00:24:10</td>\n",
       "      <td>blazer maverick the west 5 6 seed even carry g...</td>\n",
       "      <td>You do know west teams play against west teams...</td>\n",
       "      <td>The blazers and Mavericks (The wests 5 and 6 s...</td>\n",
       "      <td>0</td>\n",
       "      <td>0</td>\n",
       "      <td>1</td>\n",
       "      <td>0</td>\n",
       "      <td>0</td>\n",
       "      <td>0</td>\n",
       "      <td>0</td>\n",
       "      <td>0</td>\n",
       "      <td>pos</td>\n",
       "    </tr>\n",
       "    <tr>\n",
       "      <th>2</th>\n",
       "      <td>0</td>\n",
       "      <td>underdog earlier today since gronks announceme...</td>\n",
       "      <td>Creepeth</td>\n",
       "      <td>nfl</td>\n",
       "      <td>3</td>\n",
       "      <td>3</td>\n",
       "      <td>0</td>\n",
       "      <td>2016-09</td>\n",
       "      <td>2016-09-22 21:45:37</td>\n",
       "      <td>favored win</td>\n",
       "      <td>They were underdogs earlier today, but since G...</td>\n",
       "      <td>They're favored to win.</td>\n",
       "      <td>0</td>\n",
       "      <td>0</td>\n",
       "      <td>0</td>\n",
       "      <td>0</td>\n",
       "      <td>0</td>\n",
       "      <td>0</td>\n",
       "      <td>0</td>\n",
       "      <td>0</td>\n",
       "      <td>neu</td>\n",
       "    </tr>\n",
       "    <tr>\n",
       "      <th>3</th>\n",
       "      <td>0</td>\n",
       "      <td>meme funny none new york nigga one are</td>\n",
       "      <td>icebrotha</td>\n",
       "      <td>BlackPeopleTwitter</td>\n",
       "      <td>-8</td>\n",
       "      <td>-1</td>\n",
       "      <td>-1</td>\n",
       "      <td>2016-10</td>\n",
       "      <td>2016-10-18 21:03:47</td>\n",
       "      <td>deadass kill buzz</td>\n",
       "      <td>This meme isn't funny none of the \"new york ni...</td>\n",
       "      <td>deadass don't kill my buzz</td>\n",
       "      <td>0</td>\n",
       "      <td>0</td>\n",
       "      <td>0</td>\n",
       "      <td>0</td>\n",
       "      <td>0</td>\n",
       "      <td>0</td>\n",
       "      <td>0</td>\n",
       "      <td>0</td>\n",
       "      <td>neg</td>\n",
       "    </tr>\n",
       "    <tr>\n",
       "      <th>4</th>\n",
       "      <td>0</td>\n",
       "      <td>could use one tool</td>\n",
       "      <td>cush2push</td>\n",
       "      <td>MaddenUltimateTeam</td>\n",
       "      <td>6</td>\n",
       "      <td>-1</td>\n",
       "      <td>-1</td>\n",
       "      <td>2016-12</td>\n",
       "      <td>2016-12-30 17:00:13</td>\n",
       "      <td>yep confirm saw tool use that made boy easport...</td>\n",
       "      <td>I could use one of those tools.</td>\n",
       "      <td>Yep can confirm I saw the tool they use for th...</td>\n",
       "      <td>0</td>\n",
       "      <td>0</td>\n",
       "      <td>0</td>\n",
       "      <td>0</td>\n",
       "      <td>0</td>\n",
       "      <td>0</td>\n",
       "      <td>0</td>\n",
       "      <td>0</td>\n",
       "      <td>neu</td>\n",
       "    </tr>\n",
       "  </tbody>\n",
       "</table>\n",
       "</div>"
      ],
      "text/plain": [
       "   label  ... sentiment\n",
       "0      0  ...       neu\n",
       "1      0  ...       pos\n",
       "2      0  ...       neu\n",
       "3      0  ...       neg\n",
       "4      0  ...       neu\n",
       "\n",
       "[5 rows x 21 columns]"
      ]
     },
     "execution_count": 61,
     "metadata": {},
     "output_type": "execute_result"
    }
   ],
   "source": [
    "df.head()"
   ]
  }
 ],
 "metadata": {
  "colab": {
   "name": "4. Cleaned (updated).ipynb",
   "provenance": []
  },
  "kernelspec": {
   "display_name": "Python 3 (ipykernel)",
   "language": "python",
   "name": "python3"
  },
  "language_info": {
   "codemirror_mode": {
    "name": "ipython",
    "version": 3
   },
   "file_extension": ".py",
   "mimetype": "text/x-python",
   "name": "python",
   "nbconvert_exporter": "python",
   "pygments_lexer": "ipython3",
   "version": "3.8.2"
  }
 },
 "nbformat": 4,
 "nbformat_minor": 1
}
